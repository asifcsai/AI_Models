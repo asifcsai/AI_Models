{
  "nbformat": 4,
  "nbformat_minor": 0,
  "metadata": {
    "colab": {
      "provenance": [],
      "gpuType": "T4"
    },
    "kernelspec": {
      "name": "python3",
      "display_name": "Python 3"
    },
    "language_info": {
      "name": "python"
    },
    "accelerator": "GPU",
    "widgets": {
      "application/vnd.jupyter.widget-state+json": {
        "ec2520fec07d4771a368241b2ba4e17f": {
          "model_module": "@jupyter-widgets/controls",
          "model_name": "HBoxModel",
          "model_module_version": "1.5.0",
          "state": {
            "_dom_classes": [],
            "_model_module": "@jupyter-widgets/controls",
            "_model_module_version": "1.5.0",
            "_model_name": "HBoxModel",
            "_view_count": null,
            "_view_module": "@jupyter-widgets/controls",
            "_view_module_version": "1.5.0",
            "_view_name": "HBoxView",
            "box_style": "",
            "children": [
              "IPY_MODEL_c20d54aad9a24e1b8ca72fef9548afa2",
              "IPY_MODEL_e6625f8274e04802b5984195f592f846",
              "IPY_MODEL_272250cafb884915a5f1e53b15f61753"
            ],
            "layout": "IPY_MODEL_22995e47e61747b6a211b44583c51473"
          }
        },
        "c20d54aad9a24e1b8ca72fef9548afa2": {
          "model_module": "@jupyter-widgets/controls",
          "model_name": "HTMLModel",
          "model_module_version": "1.5.0",
          "state": {
            "_dom_classes": [],
            "_model_module": "@jupyter-widgets/controls",
            "_model_module_version": "1.5.0",
            "_model_name": "HTMLModel",
            "_view_count": null,
            "_view_module": "@jupyter-widgets/controls",
            "_view_module_version": "1.5.0",
            "_view_name": "HTMLView",
            "description": "",
            "description_tooltip": null,
            "layout": "IPY_MODEL_5ef5b7070a8e4a579c11114b8c27c208",
            "placeholder": "​",
            "style": "IPY_MODEL_43f8438ae309413b9f1fb7a3c458fcf7",
            "value": "Map: 100%"
          }
        },
        "e6625f8274e04802b5984195f592f846": {
          "model_module": "@jupyter-widgets/controls",
          "model_name": "FloatProgressModel",
          "model_module_version": "1.5.0",
          "state": {
            "_dom_classes": [],
            "_model_module": "@jupyter-widgets/controls",
            "_model_module_version": "1.5.0",
            "_model_name": "FloatProgressModel",
            "_view_count": null,
            "_view_module": "@jupyter-widgets/controls",
            "_view_module_version": "1.5.0",
            "_view_name": "ProgressView",
            "bar_style": "success",
            "description": "",
            "description_tooltip": null,
            "layout": "IPY_MODEL_e03512ae707a443aa49b549e490140b1",
            "max": 1066,
            "min": 0,
            "orientation": "horizontal",
            "style": "IPY_MODEL_3e4f64fce6734701a3d4e9101812a3a3",
            "value": 1066
          }
        },
        "272250cafb884915a5f1e53b15f61753": {
          "model_module": "@jupyter-widgets/controls",
          "model_name": "HTMLModel",
          "model_module_version": "1.5.0",
          "state": {
            "_dom_classes": [],
            "_model_module": "@jupyter-widgets/controls",
            "_model_module_version": "1.5.0",
            "_model_name": "HTMLModel",
            "_view_count": null,
            "_view_module": "@jupyter-widgets/controls",
            "_view_module_version": "1.5.0",
            "_view_name": "HTMLView",
            "description": "",
            "description_tooltip": null,
            "layout": "IPY_MODEL_aa6265be64784ec8ab10697d1859ae4e",
            "placeholder": "​",
            "style": "IPY_MODEL_e5d5a7c158be4ca6abd3213e87fb6e32",
            "value": " 1066/1066 [00:00&lt;00:00, 2968.90 examples/s]"
          }
        },
        "22995e47e61747b6a211b44583c51473": {
          "model_module": "@jupyter-widgets/base",
          "model_name": "LayoutModel",
          "model_module_version": "1.2.0",
          "state": {
            "_model_module": "@jupyter-widgets/base",
            "_model_module_version": "1.2.0",
            "_model_name": "LayoutModel",
            "_view_count": null,
            "_view_module": "@jupyter-widgets/base",
            "_view_module_version": "1.2.0",
            "_view_name": "LayoutView",
            "align_content": null,
            "align_items": null,
            "align_self": null,
            "border": null,
            "bottom": null,
            "display": null,
            "flex": null,
            "flex_flow": null,
            "grid_area": null,
            "grid_auto_columns": null,
            "grid_auto_flow": null,
            "grid_auto_rows": null,
            "grid_column": null,
            "grid_gap": null,
            "grid_row": null,
            "grid_template_areas": null,
            "grid_template_columns": null,
            "grid_template_rows": null,
            "height": null,
            "justify_content": null,
            "justify_items": null,
            "left": null,
            "margin": null,
            "max_height": null,
            "max_width": null,
            "min_height": null,
            "min_width": null,
            "object_fit": null,
            "object_position": null,
            "order": null,
            "overflow": null,
            "overflow_x": null,
            "overflow_y": null,
            "padding": null,
            "right": null,
            "top": null,
            "visibility": null,
            "width": null
          }
        },
        "5ef5b7070a8e4a579c11114b8c27c208": {
          "model_module": "@jupyter-widgets/base",
          "model_name": "LayoutModel",
          "model_module_version": "1.2.0",
          "state": {
            "_model_module": "@jupyter-widgets/base",
            "_model_module_version": "1.2.0",
            "_model_name": "LayoutModel",
            "_view_count": null,
            "_view_module": "@jupyter-widgets/base",
            "_view_module_version": "1.2.0",
            "_view_name": "LayoutView",
            "align_content": null,
            "align_items": null,
            "align_self": null,
            "border": null,
            "bottom": null,
            "display": null,
            "flex": null,
            "flex_flow": null,
            "grid_area": null,
            "grid_auto_columns": null,
            "grid_auto_flow": null,
            "grid_auto_rows": null,
            "grid_column": null,
            "grid_gap": null,
            "grid_row": null,
            "grid_template_areas": null,
            "grid_template_columns": null,
            "grid_template_rows": null,
            "height": null,
            "justify_content": null,
            "justify_items": null,
            "left": null,
            "margin": null,
            "max_height": null,
            "max_width": null,
            "min_height": null,
            "min_width": null,
            "object_fit": null,
            "object_position": null,
            "order": null,
            "overflow": null,
            "overflow_x": null,
            "overflow_y": null,
            "padding": null,
            "right": null,
            "top": null,
            "visibility": null,
            "width": null
          }
        },
        "43f8438ae309413b9f1fb7a3c458fcf7": {
          "model_module": "@jupyter-widgets/controls",
          "model_name": "DescriptionStyleModel",
          "model_module_version": "1.5.0",
          "state": {
            "_model_module": "@jupyter-widgets/controls",
            "_model_module_version": "1.5.0",
            "_model_name": "DescriptionStyleModel",
            "_view_count": null,
            "_view_module": "@jupyter-widgets/base",
            "_view_module_version": "1.2.0",
            "_view_name": "StyleView",
            "description_width": ""
          }
        },
        "e03512ae707a443aa49b549e490140b1": {
          "model_module": "@jupyter-widgets/base",
          "model_name": "LayoutModel",
          "model_module_version": "1.2.0",
          "state": {
            "_model_module": "@jupyter-widgets/base",
            "_model_module_version": "1.2.0",
            "_model_name": "LayoutModel",
            "_view_count": null,
            "_view_module": "@jupyter-widgets/base",
            "_view_module_version": "1.2.0",
            "_view_name": "LayoutView",
            "align_content": null,
            "align_items": null,
            "align_self": null,
            "border": null,
            "bottom": null,
            "display": null,
            "flex": null,
            "flex_flow": null,
            "grid_area": null,
            "grid_auto_columns": null,
            "grid_auto_flow": null,
            "grid_auto_rows": null,
            "grid_column": null,
            "grid_gap": null,
            "grid_row": null,
            "grid_template_areas": null,
            "grid_template_columns": null,
            "grid_template_rows": null,
            "height": null,
            "justify_content": null,
            "justify_items": null,
            "left": null,
            "margin": null,
            "max_height": null,
            "max_width": null,
            "min_height": null,
            "min_width": null,
            "object_fit": null,
            "object_position": null,
            "order": null,
            "overflow": null,
            "overflow_x": null,
            "overflow_y": null,
            "padding": null,
            "right": null,
            "top": null,
            "visibility": null,
            "width": null
          }
        },
        "3e4f64fce6734701a3d4e9101812a3a3": {
          "model_module": "@jupyter-widgets/controls",
          "model_name": "ProgressStyleModel",
          "model_module_version": "1.5.0",
          "state": {
            "_model_module": "@jupyter-widgets/controls",
            "_model_module_version": "1.5.0",
            "_model_name": "ProgressStyleModel",
            "_view_count": null,
            "_view_module": "@jupyter-widgets/base",
            "_view_module_version": "1.2.0",
            "_view_name": "StyleView",
            "bar_color": null,
            "description_width": ""
          }
        },
        "aa6265be64784ec8ab10697d1859ae4e": {
          "model_module": "@jupyter-widgets/base",
          "model_name": "LayoutModel",
          "model_module_version": "1.2.0",
          "state": {
            "_model_module": "@jupyter-widgets/base",
            "_model_module_version": "1.2.0",
            "_model_name": "LayoutModel",
            "_view_count": null,
            "_view_module": "@jupyter-widgets/base",
            "_view_module_version": "1.2.0",
            "_view_name": "LayoutView",
            "align_content": null,
            "align_items": null,
            "align_self": null,
            "border": null,
            "bottom": null,
            "display": null,
            "flex": null,
            "flex_flow": null,
            "grid_area": null,
            "grid_auto_columns": null,
            "grid_auto_flow": null,
            "grid_auto_rows": null,
            "grid_column": null,
            "grid_gap": null,
            "grid_row": null,
            "grid_template_areas": null,
            "grid_template_columns": null,
            "grid_template_rows": null,
            "height": null,
            "justify_content": null,
            "justify_items": null,
            "left": null,
            "margin": null,
            "max_height": null,
            "max_width": null,
            "min_height": null,
            "min_width": null,
            "object_fit": null,
            "object_position": null,
            "order": null,
            "overflow": null,
            "overflow_x": null,
            "overflow_y": null,
            "padding": null,
            "right": null,
            "top": null,
            "visibility": null,
            "width": null
          }
        },
        "e5d5a7c158be4ca6abd3213e87fb6e32": {
          "model_module": "@jupyter-widgets/controls",
          "model_name": "DescriptionStyleModel",
          "model_module_version": "1.5.0",
          "state": {
            "_model_module": "@jupyter-widgets/controls",
            "_model_module_version": "1.5.0",
            "_model_name": "DescriptionStyleModel",
            "_view_count": null,
            "_view_module": "@jupyter-widgets/base",
            "_view_module_version": "1.2.0",
            "_view_name": "StyleView",
            "description_width": ""
          }
        }
      }
    }
  },
  "cells": [
    {
      "cell_type": "code",
      "source": [
        "\n",
        "from datasets import load_dataset"
      ],
      "metadata": {
        "id": "s62L9qoiUCYx"
      },
      "execution_count": 1,
      "outputs": []
    },
    {
      "cell_type": "code",
      "source": [
        "# !pip install --upgrade transformers\n",
        "# !pip install -U datasets fsspec"
      ],
      "metadata": {
        "id": "RsfXflHWjbsa"
      },
      "execution_count": 2,
      "outputs": []
    },
    {
      "cell_type": "code",
      "source": [
        "dataset = load_dataset(\"rotten_tomatoes\")"
      ],
      "metadata": {
        "colab": {
          "base_uri": "https://localhost:8080/"
        },
        "id": "Y40mEbz8UOmB",
        "outputId": "fb6fabea-d6f3-455f-83fc-d555ba94365d"
      },
      "execution_count": 3,
      "outputs": [
        {
          "output_type": "stream",
          "name": "stderr",
          "text": [
            "/usr/local/lib/python3.11/dist-packages/huggingface_hub/utils/_auth.py:94: UserWarning: \n",
            "The secret `HF_TOKEN` does not exist in your Colab secrets.\n",
            "To authenticate with the Hugging Face Hub, create a token in your settings tab (https://huggingface.co/settings/tokens), set it as secret in your Google Colab and restart your session.\n",
            "You will be able to reuse this secret in all of your notebooks.\n",
            "Please note that authentication is recommended but still optional to access public models or datasets.\n",
            "  warnings.warn(\n"
          ]
        }
      ]
    },
    {
      "cell_type": "code",
      "source": [
        "dataset"
      ],
      "metadata": {
        "colab": {
          "base_uri": "https://localhost:8080/"
        },
        "id": "FskXftWpUsXy",
        "outputId": "13438fd5-8ef8-4ee2-b611-aedeb1945a9b"
      },
      "execution_count": 4,
      "outputs": [
        {
          "output_type": "execute_result",
          "data": {
            "text/plain": [
              "DatasetDict({\n",
              "    train: Dataset({\n",
              "        features: ['text', 'label'],\n",
              "        num_rows: 8530\n",
              "    })\n",
              "    validation: Dataset({\n",
              "        features: ['text', 'label'],\n",
              "        num_rows: 1066\n",
              "    })\n",
              "    test: Dataset({\n",
              "        features: ['text', 'label'],\n",
              "        num_rows: 1066\n",
              "    })\n",
              "})"
            ]
          },
          "metadata": {},
          "execution_count": 4
        }
      ]
    },
    {
      "cell_type": "code",
      "source": [
        "from transformers import(\n",
        "    AutoTokenizer,\n",
        "    AutoModelForSequenceClassification,\n",
        "    TrainingArguments,\n",
        "    Trainer\n",
        ")"
      ],
      "metadata": {
        "id": "5m9w7GxKW-V-"
      },
      "execution_count": 5,
      "outputs": []
    },
    {
      "cell_type": "code",
      "source": [
        "model_name = 'distilbert-base-uncased'\n",
        "model = AutoModelForSequenceClassification.from_pretrained(model_name, num_labels =  2)\n",
        "tokenizer = AutoTokenizer.from_pretrained(model_name)"
      ],
      "metadata": {
        "colab": {
          "base_uri": "https://localhost:8080/"
        },
        "id": "VWzfyvwyX6fm",
        "outputId": "cd4ffa43-dadb-4a2b-d45c-a72ad74f9738"
      },
      "execution_count": 6,
      "outputs": [
        {
          "output_type": "stream",
          "name": "stderr",
          "text": [
            "Some weights of DistilBertForSequenceClassification were not initialized from the model checkpoint at distilbert-base-uncased and are newly initialized: ['classifier.bias', 'classifier.weight', 'pre_classifier.bias', 'pre_classifier.weight']\n",
            "You should probably TRAIN this model on a down-stream task to be able to use it for predictions and inference.\n"
          ]
        }
      ]
    },
    {
      "cell_type": "code",
      "source": [
        "if tokenizer.pad_token is None:\n",
        "  tokenizer.add_special_tokens({'pad_token': ['pad']})\n",
        "  model.resize_token_embeddings(len(tokenizer))\n",
        "else:\n",
        "  print('pad')"
      ],
      "metadata": {
        "colab": {
          "base_uri": "https://localhost:8080/"
        },
        "id": "Vi2A3vZAZUp2",
        "outputId": "39854f01-8f06-40d2-deb8-7c7ea0493ae6"
      },
      "execution_count": 7,
      "outputs": [
        {
          "output_type": "stream",
          "name": "stdout",
          "text": [
            "pad\n"
          ]
        }
      ]
    },
    {
      "cell_type": "code",
      "source": [
        "def fun(example):\n",
        "  tokenizer.truncattion_side = 'left'\n",
        "\n",
        "  text = example['text']\n",
        "  return tokenizer(text, return_tensors='np', truncation=True, max_length=512)\n"
      ],
      "metadata": {
        "id": "pdBCgGpXaKtx"
      },
      "execution_count": 8,
      "outputs": []
    },
    {
      "cell_type": "code",
      "source": [
        "tokenized_data = dataset.map(fun, batched=True)"
      ],
      "metadata": {
        "colab": {
          "base_uri": "https://localhost:8080/",
          "height": 49,
          "referenced_widgets": [
            "ec2520fec07d4771a368241b2ba4e17f",
            "c20d54aad9a24e1b8ca72fef9548afa2",
            "e6625f8274e04802b5984195f592f846",
            "272250cafb884915a5f1e53b15f61753",
            "22995e47e61747b6a211b44583c51473",
            "5ef5b7070a8e4a579c11114b8c27c208",
            "43f8438ae309413b9f1fb7a3c458fcf7",
            "e03512ae707a443aa49b549e490140b1",
            "3e4f64fce6734701a3d4e9101812a3a3",
            "aa6265be64784ec8ab10697d1859ae4e",
            "e5d5a7c158be4ca6abd3213e87fb6e32"
          ]
        },
        "id": "ymS7WW7ydWcq",
        "outputId": "c126b672-ee33-4820-8fdc-b166c07b0577"
      },
      "execution_count": 9,
      "outputs": [
        {
          "output_type": "display_data",
          "data": {
            "text/plain": [
              "Map:   0%|          | 0/1066 [00:00<?, ? examples/s]"
            ],
            "application/vnd.jupyter.widget-view+json": {
              "version_major": 2,
              "version_minor": 0,
              "model_id": "ec2520fec07d4771a368241b2ba4e17f"
            }
          },
          "metadata": {}
        }
      ]
    },
    {
      "cell_type": "code",
      "source": [
        "tokenized_data"
      ],
      "metadata": {
        "colab": {
          "base_uri": "https://localhost:8080/"
        },
        "id": "C5Y6ZD9Kd1Yk",
        "outputId": "174945a3-d7e7-480b-fedd-c99a3d140267"
      },
      "execution_count": 10,
      "outputs": [
        {
          "output_type": "execute_result",
          "data": {
            "text/plain": [
              "DatasetDict({\n",
              "    train: Dataset({\n",
              "        features: ['text', 'label', 'input_ids', 'attention_mask'],\n",
              "        num_rows: 8530\n",
              "    })\n",
              "    validation: Dataset({\n",
              "        features: ['text', 'label', 'input_ids', 'attention_mask'],\n",
              "        num_rows: 1066\n",
              "    })\n",
              "    test: Dataset({\n",
              "        features: ['text', 'label', 'input_ids', 'attention_mask'],\n",
              "        num_rows: 1066\n",
              "    })\n",
              "})"
            ]
          },
          "metadata": {},
          "execution_count": 10
        }
      ]
    },
    {
      "cell_type": "code",
      "source": [
        "from transformers import DataCollatorWithPadding"
      ],
      "metadata": {
        "id": "HbVpd59teKDu"
      },
      "execution_count": 11,
      "outputs": []
    },
    {
      "cell_type": "code",
      "source": [
        "data_collator = DataCollatorWithPadding(tokenizer=tokenizer)"
      ],
      "metadata": {
        "id": "M1V_eWJse73E"
      },
      "execution_count": 12,
      "outputs": []
    },
    {
      "cell_type": "code",
      "source": [
        "!pip install evaluate"
      ],
      "metadata": {
        "colab": {
          "base_uri": "https://localhost:8080/"
        },
        "id": "j9XiYUh_ny4b",
        "outputId": "8eb29dd0-11d4-468d-f046-172e76e877b8"
      },
      "execution_count": 13,
      "outputs": [
        {
          "output_type": "stream",
          "name": "stdout",
          "text": [
            "Requirement already satisfied: evaluate in /usr/local/lib/python3.11/dist-packages (0.4.4)\n",
            "Requirement already satisfied: datasets>=2.0.0 in /usr/local/lib/python3.11/dist-packages (from evaluate) (3.6.0)\n",
            "Requirement already satisfied: numpy>=1.17 in /usr/local/lib/python3.11/dist-packages (from evaluate) (2.0.2)\n",
            "Requirement already satisfied: dill in /usr/local/lib/python3.11/dist-packages (from evaluate) (0.3.7)\n",
            "Requirement already satisfied: pandas in /usr/local/lib/python3.11/dist-packages (from evaluate) (2.2.2)\n",
            "Requirement already satisfied: requests>=2.19.0 in /usr/local/lib/python3.11/dist-packages (from evaluate) (2.32.3)\n",
            "Requirement already satisfied: tqdm>=4.62.1 in /usr/local/lib/python3.11/dist-packages (from evaluate) (4.67.1)\n",
            "Requirement already satisfied: xxhash in /usr/local/lib/python3.11/dist-packages (from evaluate) (3.5.0)\n",
            "Requirement already satisfied: multiprocess in /usr/local/lib/python3.11/dist-packages (from evaluate) (0.70.15)\n",
            "Requirement already satisfied: fsspec>=2021.05.0 in /usr/local/lib/python3.11/dist-packages (from fsspec[http]>=2021.05.0->evaluate) (2025.3.0)\n",
            "Requirement already satisfied: huggingface-hub>=0.7.0 in /usr/local/lib/python3.11/dist-packages (from evaluate) (0.33.0)\n",
            "Requirement already satisfied: packaging in /usr/local/lib/python3.11/dist-packages (from evaluate) (24.2)\n",
            "Requirement already satisfied: filelock in /usr/local/lib/python3.11/dist-packages (from datasets>=2.0.0->evaluate) (3.18.0)\n",
            "Requirement already satisfied: pyarrow>=15.0.0 in /usr/local/lib/python3.11/dist-packages (from datasets>=2.0.0->evaluate) (18.1.0)\n",
            "Requirement already satisfied: pyyaml>=5.1 in /usr/local/lib/python3.11/dist-packages (from datasets>=2.0.0->evaluate) (6.0.2)\n",
            "Requirement already satisfied: aiohttp!=4.0.0a0,!=4.0.0a1 in /usr/local/lib/python3.11/dist-packages (from fsspec[http]>=2021.05.0->evaluate) (3.11.15)\n",
            "Requirement already satisfied: typing-extensions>=3.7.4.3 in /usr/local/lib/python3.11/dist-packages (from huggingface-hub>=0.7.0->evaluate) (4.14.0)\n",
            "Requirement already satisfied: hf-xet<2.0.0,>=1.1.2 in /usr/local/lib/python3.11/dist-packages (from huggingface-hub>=0.7.0->evaluate) (1.1.5)\n",
            "Requirement already satisfied: charset-normalizer<4,>=2 in /usr/local/lib/python3.11/dist-packages (from requests>=2.19.0->evaluate) (3.4.2)\n",
            "Requirement already satisfied: idna<4,>=2.5 in /usr/local/lib/python3.11/dist-packages (from requests>=2.19.0->evaluate) (3.10)\n",
            "Requirement already satisfied: urllib3<3,>=1.21.1 in /usr/local/lib/python3.11/dist-packages (from requests>=2.19.0->evaluate) (2.4.0)\n",
            "Requirement already satisfied: certifi>=2017.4.17 in /usr/local/lib/python3.11/dist-packages (from requests>=2.19.0->evaluate) (2025.6.15)\n",
            "Requirement already satisfied: python-dateutil>=2.8.2 in /usr/local/lib/python3.11/dist-packages (from pandas->evaluate) (2.9.0.post0)\n",
            "Requirement already satisfied: pytz>=2020.1 in /usr/local/lib/python3.11/dist-packages (from pandas->evaluate) (2025.2)\n",
            "Requirement already satisfied: tzdata>=2022.7 in /usr/local/lib/python3.11/dist-packages (from pandas->evaluate) (2025.2)\n",
            "Requirement already satisfied: aiohappyeyeballs>=2.3.0 in /usr/local/lib/python3.11/dist-packages (from aiohttp!=4.0.0a0,!=4.0.0a1->fsspec[http]>=2021.05.0->evaluate) (2.6.1)\n",
            "Requirement already satisfied: aiosignal>=1.1.2 in /usr/local/lib/python3.11/dist-packages (from aiohttp!=4.0.0a0,!=4.0.0a1->fsspec[http]>=2021.05.0->evaluate) (1.3.2)\n",
            "Requirement already satisfied: attrs>=17.3.0 in /usr/local/lib/python3.11/dist-packages (from aiohttp!=4.0.0a0,!=4.0.0a1->fsspec[http]>=2021.05.0->evaluate) (25.3.0)\n",
            "Requirement already satisfied: frozenlist>=1.1.1 in /usr/local/lib/python3.11/dist-packages (from aiohttp!=4.0.0a0,!=4.0.0a1->fsspec[http]>=2021.05.0->evaluate) (1.7.0)\n",
            "Requirement already satisfied: multidict<7.0,>=4.5 in /usr/local/lib/python3.11/dist-packages (from aiohttp!=4.0.0a0,!=4.0.0a1->fsspec[http]>=2021.05.0->evaluate) (6.5.0)\n",
            "Requirement already satisfied: propcache>=0.2.0 in /usr/local/lib/python3.11/dist-packages (from aiohttp!=4.0.0a0,!=4.0.0a1->fsspec[http]>=2021.05.0->evaluate) (0.3.2)\n",
            "Requirement already satisfied: yarl<2.0,>=1.17.0 in /usr/local/lib/python3.11/dist-packages (from aiohttp!=4.0.0a0,!=4.0.0a1->fsspec[http]>=2021.05.0->evaluate) (1.20.1)\n",
            "Requirement already satisfied: six>=1.5 in /usr/local/lib/python3.11/dist-packages (from python-dateutil>=2.8.2->pandas->evaluate) (1.17.0)\n"
          ]
        }
      ]
    },
    {
      "cell_type": "code",
      "source": [
        "\n",
        "import evaluate\n",
        "accuracy = evaluate.load('accuracy')"
      ],
      "metadata": {
        "id": "0zCBaxZ7fHjc"
      },
      "execution_count": 14,
      "outputs": []
    },
    {
      "cell_type": "code",
      "source": [
        "from peft import LoraConfig, get_peft_model\n",
        "peft_config =  LoraConfig(\n",
        "    task_type='SEQ_CLS',\n",
        "    r =4,\n",
        "    lora_alpha=32,\n",
        "    lora_dropout=0.05,\n",
        "    target_modules=['q_lin']  #query for bert model and q_lin for distilbert\n",
        ")\n",
        "peft_config"
      ],
      "metadata": {
        "colab": {
          "base_uri": "https://localhost:8080/"
        },
        "id": "NGEs0ICQpjb0",
        "outputId": "0ce7f190-593e-4d03-eb0b-01fe030fe418"
      },
      "execution_count": 15,
      "outputs": [
        {
          "output_type": "execute_result",
          "data": {
            "text/plain": [
              "LoraConfig(task_type='SEQ_CLS', peft_type=<PeftType.LORA: 'LORA'>, auto_mapping=None, base_model_name_or_path=None, revision=None, inference_mode=False, r=4, target_modules={'q_lin'}, exclude_modules=None, lora_alpha=32, lora_dropout=0.05, fan_in_fan_out=False, bias='none', use_rslora=False, modules_to_save=None, init_lora_weights=True, layers_to_transform=None, layers_pattern=None, rank_pattern={}, alpha_pattern={}, megatron_config=None, megatron_core='megatron.core', trainable_token_indices=None, loftq_config={}, eva_config=None, corda_config=None, use_dora=False, layer_replication=None, runtime_config=LoraRuntimeConfig(ephemeral_gpu_offload=False), lora_bias=False)"
            ]
          },
          "metadata": {},
          "execution_count": 15
        }
      ]
    },
    {
      "cell_type": "code",
      "source": [
        "# model.print_trainable_parameters()\n",
        "model = get_peft_model(model,peft_config)\n",
        "model.print_trainable_parameters()"
      ],
      "metadata": {
        "colab": {
          "base_uri": "https://localhost:8080/"
        },
        "id": "OOMBNA8VqBmC",
        "outputId": "546e274a-5411-4c42-e104-6ada55e20647"
      },
      "execution_count": 16,
      "outputs": [
        {
          "output_type": "stream",
          "name": "stdout",
          "text": [
            "trainable params: 628,994 || all params: 67,584,004 || trainable%: 0.9307\n"
          ]
        }
      ]
    },
    {
      "cell_type": "code",
      "source": [
        "def compute_matrics(p):\n",
        "  predictions, labels = p\n",
        "  predictions = np.argmax(predictions, axis = 1)\n",
        "  return {'accuracy': accuracy.compute(predictions=predictions, references=labels)}"
      ],
      "metadata": {
        "id": "_0o11_F_fev4"
      },
      "execution_count": 17,
      "outputs": []
    },
    {
      "cell_type": "code",
      "source": [
        "\n",
        "training_arguments = TrainingArguments(\n",
        "    output_dir=model_name + '-lora',\n",
        "    learning_rate= 1e-3,\n",
        "    per_device_train_batch_size=16,\n",
        "    per_device_eval_batch_size=16,\n",
        "    num_train_epochs=10,\n",
        "    weight_decay=0.01,\n",
        "    # evaluation_strategy=\"epoch\",\n",
        "    # save_strategy='epoch',\n",
        "    # load_best_model=True\n",
        ")"
      ],
      "metadata": {
        "id": "7ihZR0NgghUv"
      },
      "execution_count": 18,
      "outputs": []
    },
    {
      "cell_type": "code",
      "source": [
        "trainer = Trainer(\n",
        "    model=model,\n",
        "    args=training_arguments,\n",
        "    train_dataset=tokenized_data['train'],\n",
        "    eval_dataset=tokenized_data['test'],\n",
        "    tokenizer=tokenizer,\n",
        "    data_collator=data_collator,\n",
        "    compute_metrics=compute_matrics\n",
        ")"
      ],
      "metadata": {
        "colab": {
          "base_uri": "https://localhost:8080/"
        },
        "id": "woxNsfwDivZm",
        "outputId": "35d0ea87-3353-409e-80dd-98de6f573825"
      },
      "execution_count": 19,
      "outputs": [
        {
          "output_type": "stream",
          "name": "stderr",
          "text": [
            "/tmp/ipython-input-19-2061676659.py:1: FutureWarning: `tokenizer` is deprecated and will be removed in version 5.0.0 for `Trainer.__init__`. Use `processing_class` instead.\n",
            "  trainer = Trainer(\n",
            "No label_names provided for model class `PeftModelForSequenceClassification`. Since `PeftModel` hides base models input arguments, if label_names is not given, label_names can't be set automatically within `Trainer`. Note that empty label_names list will be used instead.\n"
          ]
        }
      ]
    },
    {
      "cell_type": "code",
      "source": [
        "trainer.train()"
      ],
      "metadata": {
        "colab": {
          "base_uri": "https://localhost:8080/",
          "height": 582
        },
        "id": "TA3_X4tglFjM",
        "outputId": "d2a2d3d0-74b0-421b-b3a3-b41fca04b494"
      },
      "execution_count": 20,
      "outputs": [
        {
          "output_type": "stream",
          "name": "stderr",
          "text": [
            "\u001b[34m\u001b[1mwandb\u001b[0m: \u001b[33mWARNING\u001b[0m The `run_name` is currently set to the same value as `TrainingArguments.output_dir`. If this was not intended, please specify a different run name by setting the `TrainingArguments.run_name` parameter.\n",
            "\u001b[34m\u001b[1mwandb\u001b[0m: Currently logged in as: \u001b[33masif-cs-ai\u001b[0m (\u001b[33masif-cs-ai-north-south-university\u001b[0m) to \u001b[32mhttps://api.wandb.ai\u001b[0m. Use \u001b[1m`wandb login --relogin`\u001b[0m to force relogin\n"
          ]
        },
        {
          "output_type": "display_data",
          "data": {
            "text/plain": [
              "<IPython.core.display.HTML object>"
            ],
            "text/html": [
              "Tracking run with wandb version 0.20.1"
            ]
          },
          "metadata": {}
        },
        {
          "output_type": "display_data",
          "data": {
            "text/plain": [
              "<IPython.core.display.HTML object>"
            ],
            "text/html": [
              "Run data is saved locally in <code>/content/wandb/run-20250626_213811-r9hfgnnz</code>"
            ]
          },
          "metadata": {}
        },
        {
          "output_type": "display_data",
          "data": {
            "text/plain": [
              "<IPython.core.display.HTML object>"
            ],
            "text/html": [
              "Syncing run <strong><a href='https://wandb.ai/asif-cs-ai-north-south-university/huggingface/runs/r9hfgnnz' target=\"_blank\">distilbert-base-uncased-lora</a></strong> to <a href='https://wandb.ai/asif-cs-ai-north-south-university/huggingface' target=\"_blank\">Weights & Biases</a> (<a href='https://wandb.me/developer-guide' target=\"_blank\">docs</a>)<br>"
            ]
          },
          "metadata": {}
        },
        {
          "output_type": "display_data",
          "data": {
            "text/plain": [
              "<IPython.core.display.HTML object>"
            ],
            "text/html": [
              " View project at <a href='https://wandb.ai/asif-cs-ai-north-south-university/huggingface' target=\"_blank\">https://wandb.ai/asif-cs-ai-north-south-university/huggingface</a>"
            ]
          },
          "metadata": {}
        },
        {
          "output_type": "display_data",
          "data": {
            "text/plain": [
              "<IPython.core.display.HTML object>"
            ],
            "text/html": [
              " View run at <a href='https://wandb.ai/asif-cs-ai-north-south-university/huggingface/runs/r9hfgnnz' target=\"_blank\">https://wandb.ai/asif-cs-ai-north-south-university/huggingface/runs/r9hfgnnz</a>"
            ]
          },
          "metadata": {}
        },
        {
          "output_type": "display_data",
          "data": {
            "text/plain": [
              "<IPython.core.display.HTML object>"
            ],
            "text/html": [
              "\n",
              "    <div>\n",
              "      \n",
              "      <progress value='5340' max='5340' style='width:300px; height:20px; vertical-align: middle;'></progress>\n",
              "      [5340/5340 04:35, Epoch 10/10]\n",
              "    </div>\n",
              "    <table border=\"1\" class=\"dataframe\">\n",
              "  <thead>\n",
              " <tr style=\"text-align: left;\">\n",
              "      <th>Step</th>\n",
              "      <th>Training Loss</th>\n",
              "    </tr>\n",
              "  </thead>\n",
              "  <tbody>\n",
              "    <tr>\n",
              "      <td>500</td>\n",
              "      <td>0.425300</td>\n",
              "    </tr>\n",
              "    <tr>\n",
              "      <td>1000</td>\n",
              "      <td>0.361900</td>\n",
              "    </tr>\n",
              "    <tr>\n",
              "      <td>1500</td>\n",
              "      <td>0.313600</td>\n",
              "    </tr>\n",
              "    <tr>\n",
              "      <td>2000</td>\n",
              "      <td>0.269200</td>\n",
              "    </tr>\n",
              "    <tr>\n",
              "      <td>2500</td>\n",
              "      <td>0.247500</td>\n",
              "    </tr>\n",
              "    <tr>\n",
              "      <td>3000</td>\n",
              "      <td>0.214700</td>\n",
              "    </tr>\n",
              "    <tr>\n",
              "      <td>3500</td>\n",
              "      <td>0.195900</td>\n",
              "    </tr>\n",
              "    <tr>\n",
              "      <td>4000</td>\n",
              "      <td>0.166700</td>\n",
              "    </tr>\n",
              "    <tr>\n",
              "      <td>4500</td>\n",
              "      <td>0.144200</td>\n",
              "    </tr>\n",
              "    <tr>\n",
              "      <td>5000</td>\n",
              "      <td>0.127500</td>\n",
              "    </tr>\n",
              "  </tbody>\n",
              "</table><p>"
            ]
          },
          "metadata": {}
        },
        {
          "output_type": "execute_result",
          "data": {
            "text/plain": [
              "TrainOutput(global_step=5340, training_loss=0.2393012214689219, metrics={'train_runtime': 279.1545, 'train_samples_per_second': 305.566, 'train_steps_per_second': 19.129, 'total_flos': 1092417303283200.0, 'train_loss': 0.2393012214689219, 'epoch': 10.0})"
            ]
          },
          "metadata": {},
          "execution_count": 20
        }
      ]
    },
    {
      "cell_type": "code",
      "source": [
        "import torch\n",
        "import numpy as np # Import numpy for argmax\n",
        "\n",
        "# Define id2label based on the dataset labels\n",
        "# Assuming label 0 is negative and label 1 is positive based on common sentiment datasets\n",
        "id2label = {0: \"NEGATIVE\", 1: \"POSITIVE\"}\n",
        "\n",
        "\n",
        "# Get the device of the model\n",
        "device = model.device\n",
        "print(f\"Model is on device: {device}\")\n",
        "\n",
        "# define list of examples\n",
        "text_list = [\"It was good.\", \"Not a fan, don't recommed.\", \"Better than the first one.\", \"This is not worth watching even once.\", \"This one is a pass.\"]\n",
        "\n",
        "print(\"trained model predictions:\")\n",
        "print(\"----------------------------\")\n",
        "for text in text_list:\n",
        "    # tokenize text and move to the model's device\n",
        "    inputs = tokenizer.encode(text, return_tensors=\"pt\").to(device)\n",
        "    # compute logits\n",
        "    with torch.no_grad(): # Use no_grad for inference to save memory and speed up\n",
        "        logits = model(inputs).logits\n",
        "    # convert logits to label on the model's device, then move to cpu for printing\n",
        "    predictions = torch.argmax(logits, dim=-1).cpu().tolist()\n",
        "\n",
        "\n",
        "    print(text + \" - \" + id2label[predictions[0]])"
      ],
      "metadata": {
        "colab": {
          "base_uri": "https://localhost:8080/"
        },
        "id": "racrwV3-lJ1p",
        "outputId": "7f49467a-f42a-4649-e8ba-821feb9e875c"
      },
      "execution_count": 21,
      "outputs": [
        {
          "output_type": "stream",
          "name": "stdout",
          "text": [
            "Model is on device: cuda:0\n",
            "trained model predictions:\n",
            "----------------------------\n",
            "It was good. - POSITIVE\n",
            "Not a fan, don't recommed. - NEGATIVE\n",
            "Better than the first one. - NEGATIVE\n",
            "This is not worth watching even once. - NEGATIVE\n",
            "This one is a pass. - POSITIVE\n"
          ]
        }
      ]
    },
    {
      "cell_type": "code",
      "source": [
        "for name, param in model.named_parameters():\n",
        "    print(name)"
      ],
      "metadata": {
        "colab": {
          "base_uri": "https://localhost:8080/"
        },
        "id": "JfexRq58xh7g",
        "outputId": "8186a838-2268-4150-ef84-88112a681de2"
      },
      "execution_count": 22,
      "outputs": [
        {
          "output_type": "stream",
          "name": "stdout",
          "text": [
            "base_model.model.distilbert.embeddings.word_embeddings.weight\n",
            "base_model.model.distilbert.embeddings.position_embeddings.weight\n",
            "base_model.model.distilbert.embeddings.LayerNorm.weight\n",
            "base_model.model.distilbert.embeddings.LayerNorm.bias\n",
            "base_model.model.distilbert.transformer.layer.0.attention.q_lin.base_layer.weight\n",
            "base_model.model.distilbert.transformer.layer.0.attention.q_lin.base_layer.bias\n",
            "base_model.model.distilbert.transformer.layer.0.attention.q_lin.lora_A.default.weight\n",
            "base_model.model.distilbert.transformer.layer.0.attention.q_lin.lora_B.default.weight\n",
            "base_model.model.distilbert.transformer.layer.0.attention.k_lin.weight\n",
            "base_model.model.distilbert.transformer.layer.0.attention.k_lin.bias\n",
            "base_model.model.distilbert.transformer.layer.0.attention.v_lin.weight\n",
            "base_model.model.distilbert.transformer.layer.0.attention.v_lin.bias\n",
            "base_model.model.distilbert.transformer.layer.0.attention.out_lin.weight\n",
            "base_model.model.distilbert.transformer.layer.0.attention.out_lin.bias\n",
            "base_model.model.distilbert.transformer.layer.0.sa_layer_norm.weight\n",
            "base_model.model.distilbert.transformer.layer.0.sa_layer_norm.bias\n",
            "base_model.model.distilbert.transformer.layer.0.ffn.lin1.weight\n",
            "base_model.model.distilbert.transformer.layer.0.ffn.lin1.bias\n",
            "base_model.model.distilbert.transformer.layer.0.ffn.lin2.weight\n",
            "base_model.model.distilbert.transformer.layer.0.ffn.lin2.bias\n",
            "base_model.model.distilbert.transformer.layer.0.output_layer_norm.weight\n",
            "base_model.model.distilbert.transformer.layer.0.output_layer_norm.bias\n",
            "base_model.model.distilbert.transformer.layer.1.attention.q_lin.base_layer.weight\n",
            "base_model.model.distilbert.transformer.layer.1.attention.q_lin.base_layer.bias\n",
            "base_model.model.distilbert.transformer.layer.1.attention.q_lin.lora_A.default.weight\n",
            "base_model.model.distilbert.transformer.layer.1.attention.q_lin.lora_B.default.weight\n",
            "base_model.model.distilbert.transformer.layer.1.attention.k_lin.weight\n",
            "base_model.model.distilbert.transformer.layer.1.attention.k_lin.bias\n",
            "base_model.model.distilbert.transformer.layer.1.attention.v_lin.weight\n",
            "base_model.model.distilbert.transformer.layer.1.attention.v_lin.bias\n",
            "base_model.model.distilbert.transformer.layer.1.attention.out_lin.weight\n",
            "base_model.model.distilbert.transformer.layer.1.attention.out_lin.bias\n",
            "base_model.model.distilbert.transformer.layer.1.sa_layer_norm.weight\n",
            "base_model.model.distilbert.transformer.layer.1.sa_layer_norm.bias\n",
            "base_model.model.distilbert.transformer.layer.1.ffn.lin1.weight\n",
            "base_model.model.distilbert.transformer.layer.1.ffn.lin1.bias\n",
            "base_model.model.distilbert.transformer.layer.1.ffn.lin2.weight\n",
            "base_model.model.distilbert.transformer.layer.1.ffn.lin2.bias\n",
            "base_model.model.distilbert.transformer.layer.1.output_layer_norm.weight\n",
            "base_model.model.distilbert.transformer.layer.1.output_layer_norm.bias\n",
            "base_model.model.distilbert.transformer.layer.2.attention.q_lin.base_layer.weight\n",
            "base_model.model.distilbert.transformer.layer.2.attention.q_lin.base_layer.bias\n",
            "base_model.model.distilbert.transformer.layer.2.attention.q_lin.lora_A.default.weight\n",
            "base_model.model.distilbert.transformer.layer.2.attention.q_lin.lora_B.default.weight\n",
            "base_model.model.distilbert.transformer.layer.2.attention.k_lin.weight\n",
            "base_model.model.distilbert.transformer.layer.2.attention.k_lin.bias\n",
            "base_model.model.distilbert.transformer.layer.2.attention.v_lin.weight\n",
            "base_model.model.distilbert.transformer.layer.2.attention.v_lin.bias\n",
            "base_model.model.distilbert.transformer.layer.2.attention.out_lin.weight\n",
            "base_model.model.distilbert.transformer.layer.2.attention.out_lin.bias\n",
            "base_model.model.distilbert.transformer.layer.2.sa_layer_norm.weight\n",
            "base_model.model.distilbert.transformer.layer.2.sa_layer_norm.bias\n",
            "base_model.model.distilbert.transformer.layer.2.ffn.lin1.weight\n",
            "base_model.model.distilbert.transformer.layer.2.ffn.lin1.bias\n",
            "base_model.model.distilbert.transformer.layer.2.ffn.lin2.weight\n",
            "base_model.model.distilbert.transformer.layer.2.ffn.lin2.bias\n",
            "base_model.model.distilbert.transformer.layer.2.output_layer_norm.weight\n",
            "base_model.model.distilbert.transformer.layer.2.output_layer_norm.bias\n",
            "base_model.model.distilbert.transformer.layer.3.attention.q_lin.base_layer.weight\n",
            "base_model.model.distilbert.transformer.layer.3.attention.q_lin.base_layer.bias\n",
            "base_model.model.distilbert.transformer.layer.3.attention.q_lin.lora_A.default.weight\n",
            "base_model.model.distilbert.transformer.layer.3.attention.q_lin.lora_B.default.weight\n",
            "base_model.model.distilbert.transformer.layer.3.attention.k_lin.weight\n",
            "base_model.model.distilbert.transformer.layer.3.attention.k_lin.bias\n",
            "base_model.model.distilbert.transformer.layer.3.attention.v_lin.weight\n",
            "base_model.model.distilbert.transformer.layer.3.attention.v_lin.bias\n",
            "base_model.model.distilbert.transformer.layer.3.attention.out_lin.weight\n",
            "base_model.model.distilbert.transformer.layer.3.attention.out_lin.bias\n",
            "base_model.model.distilbert.transformer.layer.3.sa_layer_norm.weight\n",
            "base_model.model.distilbert.transformer.layer.3.sa_layer_norm.bias\n",
            "base_model.model.distilbert.transformer.layer.3.ffn.lin1.weight\n",
            "base_model.model.distilbert.transformer.layer.3.ffn.lin1.bias\n",
            "base_model.model.distilbert.transformer.layer.3.ffn.lin2.weight\n",
            "base_model.model.distilbert.transformer.layer.3.ffn.lin2.bias\n",
            "base_model.model.distilbert.transformer.layer.3.output_layer_norm.weight\n",
            "base_model.model.distilbert.transformer.layer.3.output_layer_norm.bias\n",
            "base_model.model.distilbert.transformer.layer.4.attention.q_lin.base_layer.weight\n",
            "base_model.model.distilbert.transformer.layer.4.attention.q_lin.base_layer.bias\n",
            "base_model.model.distilbert.transformer.layer.4.attention.q_lin.lora_A.default.weight\n",
            "base_model.model.distilbert.transformer.layer.4.attention.q_lin.lora_B.default.weight\n",
            "base_model.model.distilbert.transformer.layer.4.attention.k_lin.weight\n",
            "base_model.model.distilbert.transformer.layer.4.attention.k_lin.bias\n",
            "base_model.model.distilbert.transformer.layer.4.attention.v_lin.weight\n",
            "base_model.model.distilbert.transformer.layer.4.attention.v_lin.bias\n",
            "base_model.model.distilbert.transformer.layer.4.attention.out_lin.weight\n",
            "base_model.model.distilbert.transformer.layer.4.attention.out_lin.bias\n",
            "base_model.model.distilbert.transformer.layer.4.sa_layer_norm.weight\n",
            "base_model.model.distilbert.transformer.layer.4.sa_layer_norm.bias\n",
            "base_model.model.distilbert.transformer.layer.4.ffn.lin1.weight\n",
            "base_model.model.distilbert.transformer.layer.4.ffn.lin1.bias\n",
            "base_model.model.distilbert.transformer.layer.4.ffn.lin2.weight\n",
            "base_model.model.distilbert.transformer.layer.4.ffn.lin2.bias\n",
            "base_model.model.distilbert.transformer.layer.4.output_layer_norm.weight\n",
            "base_model.model.distilbert.transformer.layer.4.output_layer_norm.bias\n",
            "base_model.model.distilbert.transformer.layer.5.attention.q_lin.base_layer.weight\n",
            "base_model.model.distilbert.transformer.layer.5.attention.q_lin.base_layer.bias\n",
            "base_model.model.distilbert.transformer.layer.5.attention.q_lin.lora_A.default.weight\n",
            "base_model.model.distilbert.transformer.layer.5.attention.q_lin.lora_B.default.weight\n",
            "base_model.model.distilbert.transformer.layer.5.attention.k_lin.weight\n",
            "base_model.model.distilbert.transformer.layer.5.attention.k_lin.bias\n",
            "base_model.model.distilbert.transformer.layer.5.attention.v_lin.weight\n",
            "base_model.model.distilbert.transformer.layer.5.attention.v_lin.bias\n",
            "base_model.model.distilbert.transformer.layer.5.attention.out_lin.weight\n",
            "base_model.model.distilbert.transformer.layer.5.attention.out_lin.bias\n",
            "base_model.model.distilbert.transformer.layer.5.sa_layer_norm.weight\n",
            "base_model.model.distilbert.transformer.layer.5.sa_layer_norm.bias\n",
            "base_model.model.distilbert.transformer.layer.5.ffn.lin1.weight\n",
            "base_model.model.distilbert.transformer.layer.5.ffn.lin1.bias\n",
            "base_model.model.distilbert.transformer.layer.5.ffn.lin2.weight\n",
            "base_model.model.distilbert.transformer.layer.5.ffn.lin2.bias\n",
            "base_model.model.distilbert.transformer.layer.5.output_layer_norm.weight\n",
            "base_model.model.distilbert.transformer.layer.5.output_layer_norm.bias\n",
            "base_model.model.pre_classifier.original_module.weight\n",
            "base_model.model.pre_classifier.original_module.bias\n",
            "base_model.model.pre_classifier.modules_to_save.default.weight\n",
            "base_model.model.pre_classifier.modules_to_save.default.bias\n",
            "base_model.model.classifier.original_module.weight\n",
            "base_model.model.classifier.original_module.bias\n",
            "base_model.model.classifier.modules_to_save.default.weight\n",
            "base_model.model.classifier.modules_to_save.default.bias\n"
          ]
        }
      ]
    },
    {
      "cell_type": "code",
      "source": [],
      "metadata": {
        "id": "bhektX5byV1j"
      },
      "execution_count": 22,
      "outputs": []
    }
  ]
}