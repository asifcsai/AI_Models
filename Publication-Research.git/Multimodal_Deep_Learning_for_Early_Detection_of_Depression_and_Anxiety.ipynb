{
  "cells": [
    {
      "cell_type": "markdown",
      "metadata": {
        "id": "view-in-github",
        "colab_type": "text"
      },
      "source": [
        "<a href=\"https://colab.research.google.com/github/AsifMiah-CS/AI_Models/blob/main/Publication-Research.git/Multimodal_Deep_Learning_for_Early_Detection_of_Depression_and_Anxiety.ipynb\" target=\"_parent\"><img src=\"https://colab.research.google.com/assets/colab-badge.svg\" alt=\"Open In Colab\"/></a>"
      ]
    },
    {
      "cell_type": "code",
      "execution_count": 1,
      "id": "cU_aBBc2sIbB",
      "metadata": {
        "colab": {
          "base_uri": "https://localhost:8080/"
        },
        "id": "cU_aBBc2sIbB",
        "outputId": "335b3f55-a9c3-4750-f131-9f5b7f03eb0d"
      },
      "outputs": [
        {
          "output_type": "stream",
          "name": "stdout",
          "text": [
            "Drive already mounted at /content/drive; to attempt to forcibly remount, call drive.mount(\"/content/drive\", force_remount=True).\n"
          ]
        }
      ],
      "source": [
        "from google.colab import drive\n",
        "drive.mount('/content/drive')"
      ]
    },
    {
      "cell_type": "markdown",
      "source": [],
      "metadata": {
        "id": "-Ylk5OTdK0ve"
      },
      "id": "-Ylk5OTdK0ve"
    },
    {
      "cell_type": "markdown",
      "source": [],
      "metadata": {
        "id": "nzvI0YieK2IT"
      },
      "id": "nzvI0YieK2IT"
    },
    {
      "cell_type": "code",
      "execution_count": 2,
      "id": "KS32k7CusIRa",
      "metadata": {
        "colab": {
          "base_uri": "https://localhost:8080/"
        },
        "id": "KS32k7CusIRa",
        "outputId": "91765c88-2ba6-4454-9394-5f1af4ce7188"
      },
      "outputs": [
        {
          "output_type": "stream",
          "name": "stdout",
          "text": [
            "/content\n"
          ]
        }
      ],
      "source": [
        "import os\n",
        "current_dir = os.getcwd()\n",
        "print(current_dir)"
      ]
    },
    {
      "cell_type": "code",
      "execution_count": 3,
      "id": "63e18037-386b-4bda-95b0-fcbd6e49e1fc",
      "metadata": {
        "id": "63e18037-386b-4bda-95b0-fcbd6e49e1fc"
      },
      "outputs": [],
      "source": [
        "import os\n",
        "import gc\n",
        "import pandas as pd\n",
        "import numpy as np\n",
        "from sklearn.preprocessing import StandardScaler\n",
        "import torch\n",
        "from torch import nn as nn\n",
        "from torch.utils.data import Dataset, DataLoader\n",
        "from torch.nn.utils.rnn import pad_sequence\n",
        "from transformers import AutoTokenizer, AutoModel\n",
        "from torch.optim.lr_scheduler import StepLR\n",
        "from torch.optim.lr_scheduler import ReduceLROnPlateau"
      ]
    },
    {
      "cell_type": "code",
      "execution_count": 4,
      "id": "pdGFtisvNkk1",
      "metadata": {
        "colab": {
          "base_uri": "https://localhost:8080/"
        },
        "id": "pdGFtisvNkk1",
        "outputId": "fd685c82-63b2-44d5-fda6-5ec122444503"
      },
      "outputs": [
        {
          "output_type": "stream",
          "name": "stdout",
          "text": [
            "Using device: cpu\n"
          ]
        }
      ],
      "source": [
        "device = torch.device(\"cuda\" if torch.cuda.is_available() else \"cpu\")\n",
        "print(\"Using device:\", device)"
      ]
    },
    {
      "cell_type": "code",
      "execution_count": 5,
      "id": "7f830f40-70c3-46c5-9987-ed08516b1b6e",
      "metadata": {
        "id": "7f830f40-70c3-46c5-9987-ed08516b1b6e",
        "scrolled": true
      },
      "outputs": [],
      "source": [
        "daic_woz_dir = '/content/drive/MyDrive/Datasets/Multimodal Anxiety and Depression Detection/DAIC-WOZ'\n",
        "train_dir = os.path.join(daic_woz_dir, 'train')\n",
        "test_dir = os.path.join(daic_woz_dir, 'test')\n",
        "validation_or_development_dir = os.path.join(daic_woz_dir,'validation_or_development')\n",
        "\n",
        "# Load the train_split and test_split CSV file\n",
        "train_split_path = os.path.join(daic_woz_dir, 'train_split_Depression_AVEC2017.csv')\n",
        "train_split_df = pd.read_csv(train_split_path)\n",
        "test_split_path = os.path.join(daic_woz_dir, 'test_split_Depression_AVEC2017.csv')\n",
        "test_split_df = pd.read_csv(test_split_path)\n",
        "validation_or_development_path = os.path.join(daic_woz_dir, 'dev_split_Depression_AVEC2017.csv')\n",
        "validation_or_development_split_df = pd.read_csv(validation_or_development_path)\n",
        "\n",
        "\n",
        "# Convert Participant_ID to string and remove '.0' if present\n",
        "train_split_df['Participant_ID'] = train_split_df['Participant_ID'].astype(str).str.replace(r'\\.0$', '', regex=True)\n",
        "train_split_df = train_split_df.iloc[:107, :]\n",
        "test_split_df['Participant_ID'] = test_split_df['Participant_ID'].astype(str).str.replace(r'\\.0$', '', regex=True)\n",
        "test_split_df = test_split_df.iloc[:10, :]\n",
        "validation_or_development_split_df['Participant_ID'] = validation_or_development_split_df['Participant_ID'].astype(str).str.replace(r'\\.0$', '', regex=True)\n",
        "validation_or_development_split_df = validation_or_development_split_df.iloc[:19, :]\n",
        "\n",
        "\n",
        "\n",
        "\n",
        "# # Initialize data structures\n",
        "# train_multimodal_data = {\n",
        "#     'participants': [],\n",
        "#     'text': [],\n",
        "#     'audio': [],\n",
        "#     'visual': [],\n",
        "#     'phq8_scores': []\n",
        "# }\n",
        "\n",
        "# test_multimodal_data = {\n",
        "#     'participants': [],\n",
        "#     'text': [],\n",
        "#     'audio': [],\n",
        "#     'visual': [],\n",
        "#     'phq8_scores': []\n",
        "# }\n",
        "\n",
        "# validation_or_development_multimodal_data = {\n",
        "#     'participants': [],\n",
        "#     'text': [],\n",
        "#     'audio': [],\n",
        "#     'visual': [],\n",
        "#     'phq8_scores': []\n",
        "# }\n",
        "\n",
        "\n",
        "\n",
        "def load_text_modality(transcript_path):\n",
        "    \"\"\"Load and process text transcript\"\"\"\n",
        "    try:\n",
        "        print(\"Loading transcript...\")\n",
        "        df = pd.read_csv(transcript_path)\n",
        "        print(\"Transcript loaded successfully\")\n",
        "        return df\n",
        "    except FileNotFoundError:\n",
        "        print(f\"⚠️ Transcript not found at {transcript_path}\")\n",
        "        return pd.DataFrame() # Return empty DataFrame on File Not Found\n",
        "    except Exception as e:\n",
        "        print(f\"❌ Error loading transcript: {str(e)}\")\n",
        "        return pd.DataFrame() # Return empty DataFrame on other errors\n",
        "\n",
        "\n",
        "def load_audio_modality(covarep_path):\n",
        "    \"\"\"Load COVAREP audio features\"\"\"\n",
        "    try:\n",
        "        df = pd.read_csv(covarep_path)\n",
        "        return df.values\n",
        "    except FileNotFoundError:\n",
        "        print(f\"⚠️ COVAREP file not found at {covarep_path}\")\n",
        "        return np.array([]) # Return empty array on File Not Found\n",
        "    except Exception as e:\n",
        "        print(f\"❌ Error loading COVAREP file: {str(e)}\")\n",
        "        return np.array([]) # Return empty array on other errors\n",
        "\n",
        "\n",
        "def combine_visual_features(au_path, gaze_path, pose_path):\n",
        "    \"\"\"Combine the three visual modality files with proper cleaning\"\"\"\n",
        "    try:\n",
        "        def safe_read(file_path):\n",
        "            try:\n",
        "                df = pd.read_csv(file_path, delim_whitespace=True, header=0)\n",
        "                df.columns = df.columns.str.strip().str.rstrip(',')\n",
        "                df = df.applymap(lambda x: str(x).strip().rstrip(','))\n",
        "                df = df.apply(pd.to_numeric, errors='coerce')\n",
        "                return df\n",
        "            except FileNotFoundError:\n",
        "                print(f\"⚠️ Visual file not found at {file_path}\")\n",
        "                return pd.DataFrame() # Return empty DataFrame on File Not Found\n",
        "            except Exception as e:\n",
        "                print(f\"❌ Error reading visual file {file_path}: {str(e)}\")\n",
        "                return pd.DataFrame() # Return empty DataFrame on other errors\n",
        "\n",
        "\n",
        "        au = safe_read(au_path)\n",
        "        gaze = safe_read(gaze_path)\n",
        "        pose = safe_read(pose_path)\n",
        "\n",
        "        # Check if any dataframe is empty\n",
        "        if au.empty or gaze.empty or pose.empty:\n",
        "             print(\"Skipping visual feature combination due to missing or empty files.\")\n",
        "             return np.array([])\n",
        "\n",
        "\n",
        "        # Filter rows with success >= 1.0 if available\n",
        "        if 'success' in au.columns:\n",
        "            au = au[au['success'] >= 1.0]\n",
        "        if 'success' in gaze.columns:\n",
        "            gaze = gaze[gaze['success'] >= 1.0]\n",
        "        if 'success' in pose.columns:\n",
        "            pose = pose[pose['success'] >= 1.0]\n",
        "\n",
        "        # Trim to smallest length to match shapes\n",
        "        min_len = min(len(au), len(gaze), len(pose))\n",
        "        au, gaze, pose = au.iloc[:min_len], gaze.iloc[:min_len], pose.iloc[:min_len]\n",
        "\n",
        "        # Return numerical array\n",
        "        return np.hstack([au.values, gaze.values, pose.values])\n",
        "\n",
        "    except Exception as e:\n",
        "        print(f\"❌ Error combining visual features: {str(e)}\")\n",
        "        return np.array([]) # Return empty array on error\n",
        "\n",
        "\n",
        "\n",
        "# Data Loader Main function\n",
        "def data_loader(data_dir, data_split_df, multimodal_data):\n",
        "    \"\"\"\n",
        "    Load multimodal data for a given set of participants and append to multimodal_data dict.\n",
        "    If multimodal_data is empty, it initializes required keys.\n",
        "    \"\"\"\n",
        "\n",
        "    # Ensure multimodal_data has the necessary keys\n",
        "    if 'participants' not in multimodal_data: multimodal_data['participants'] = []\n",
        "    if 'text' not in multimodal_data: multimodal_data['text'] = []\n",
        "    if 'audio' not in multimodal_data: multimodal_data['audio'] = []\n",
        "    if 'visual' not in multimodal_data: multimodal_data['visual'] = []\n",
        "    if 'phq8_scores' not in multimodal_data: multimodal_data['phq8_scores'] = []\n",
        "    if 'phq8_binary' not in multimodal_data: multimodal_data['phq8_binary'] = []\n",
        "\n",
        "\n",
        "    print(\"\\nStarting data loading process...\")\n",
        "    print(f\"Found {len(data_split_df)} participants in CSV\")\n",
        "\n",
        "    for index, row in data_split_df.iterrows():\n",
        "        participant_id = str(row['Participant_ID']).strip()\n",
        "        folder_name = f\"{participant_id}_P\"\n",
        "        participant_dir = os.path.join(data_dir, folder_name)\n",
        "\n",
        "        print(f\"\\nProcessing participant {participant_id}\")\n",
        "        if not os.path.exists(participant_dir):\n",
        "            print(f\"⚠️ Directory not found: {participant_dir}\")\n",
        "            multimodal_data['participants'].append(participant_id) # Still add participant ID even if directory is missing\n",
        "            multimodal_data['text'].append(pd.DataFrame()) # Append empty DataFrame\n",
        "            multimodal_data['audio'].append(np.array([])) # Append empty array\n",
        "            multimodal_data['visual'].append(np.array([])) # Append empty array\n",
        "            multimodal_data['phq8_scores'].append(row.get('PHQ8_Score', None) )   # Append label or None\n",
        "            multimodal_data['phq8_binary'].append(row.get('PHQ8_Binary', None))\n",
        "\n",
        "            continue\n",
        "\n",
        "        try:\n",
        "            # Load text\n",
        "            transcript_path = os.path.join(participant_dir, f\"{participant_id}_TRANSCRIPT.csv\")\n",
        "            text_data = load_text_modality(transcript_path)\n",
        "            multimodal_data['text'].append(text_data)\n",
        "\n",
        "\n",
        "            # Load audio\n",
        "            covarep_path = os.path.join(participant_dir, f\"{participant_id}_COVAREP.csv\")\n",
        "            audio_data = load_audio_modality(covarep_path)\n",
        "            multimodal_data['audio'].append(audio_data)\n",
        "\n",
        "\n",
        "            # Load visual\n",
        "            au_path = os.path.join(participant_dir, f\"{participant_id}_CLNF_AUs.txt\")\n",
        "            gaze_path = os.path.join(participant_dir, f\"{participant_id}_CLNF_gaze.txt\")\n",
        "            pose_path = os.path.join(participant_dir, f\"{participant_id}_CLNF_pose.txt\")\n",
        "            visual_data = combine_visual_features(au_path, gaze_path, pose_path)\n",
        "            multimodal_data['visual'].append(visual_data)\n",
        "\n",
        "\n",
        "            # Append participant ID and score\n",
        "            multimodal_data['participants'].append(participant_id)\n",
        "            multimodal_data['phq8_scores'].append(row.get('PHQ8_Score', None))\n",
        "            multimodal_data['phq8_binary'].append(row.get('PHQ8_Binary', None))\n",
        "\n",
        "            if text_data.empty or audio_data.size == 0 or visual_data.size == 0:\n",
        "                 print(f\"⚠️ Warning: Partial data loaded for participant {participant_id}\")\n",
        "            else:\n",
        "                print(f\"✔ Successfully loaded data for participant {participant_id}\")\n",
        "\n",
        "\n",
        "        except Exception as e:\n",
        "            print(f\"❌ Error processing participant {participant_id}: {str(e)}\")\n",
        "            # Append empty data structures in case of an unexpected error\n",
        "            multimodal_data['text'].append(pd.DataFrame())\n",
        "            multimodal_data['audio'].append(np.array([]))\n",
        "            multimodal_data['visual'].append(np.array([]))\n",
        "            multimodal_data['participants'].append(participant_id) # Still add participant ID\n",
        "            multimodal_data['phq8_scores'].append(row.get('PHQ8_Score', None)) # Append label or None\n",
        "            multimodal_data['phq8_binary'].append(row.get('PHQ8_Binary', None))\n",
        "\n",
        "    print(f\"\\nAttempted to load data for {len(data_split_df)} participants. Loaded structures for {len(multimodal_data['participants'])}.\")"
      ]
    },
    {
      "cell_type": "code",
      "execution_count": 5,
      "id": "0bc8d7b7-30c0-4d1c-9387-3c4d1d063884",
      "metadata": {
        "id": "0bc8d7b7-30c0-4d1c-9387-3c4d1d063884"
      },
      "outputs": [],
      "source": []
    },
    {
      "cell_type": "code",
      "execution_count": 5,
      "id": "f508f1c2-7738-4356-9af4-4dcb42dba857",
      "metadata": {
        "id": "f508f1c2-7738-4356-9af4-4dcb42dba857"
      },
      "outputs": [],
      "source": []
    },
    {
      "cell_type": "markdown",
      "id": "57bfa673-2fbc-4e39-8b7f-d5139770df2a",
      "metadata": {
        "id": "57bfa673-2fbc-4e39-8b7f-d5139770df2a"
      },
      "source": [
        "# Processing and features extraction\n"
      ]
    },
    {
      "cell_type": "code",
      "execution_count": 6,
      "id": "7025c45d-8def-4e0e-800f-141473600391",
      "metadata": {
        "id": "7025c45d-8def-4e0e-800f-141473600391"
      },
      "outputs": [],
      "source": [
        "\n",
        "# --- Lightweight TCN Feature Extractor ---\n",
        "class VisualTCNFeatureExtractor(nn.Module):\n",
        "    def __init__(self, input_dim, output_dim=256):\n",
        "        super(VisualTCNFeatureExtractor, self).__init__()\n",
        "        self.tcn = nn.Sequential(\n",
        "            nn.Conv1d(input_dim, 64, kernel_size=3, padding=1),\n",
        "            nn.ReLU(),\n",
        "            nn.Conv1d(64, 128, kernel_size=3, padding=1),\n",
        "            nn.ReLU(),\n",
        "            nn.Conv1d(128, output_dim, kernel_size=3, padding=1),\n",
        "            nn.AdaptiveAvgPool1d(1),  # Global average pooling over time\n",
        "        )\n",
        "\n",
        "    def forward(self, x):\n",
        "        x = x.permute(0, 2, 1)  # (batch, seq_len, feat_dim) → (batch, feat_dim, seq_len)\n",
        "        x = self.tcn(x)         # (batch, output_dim, 1)\n",
        "        return x.squeeze(-1)    # (batch, output_dim)\n"
      ]
    },
    {
      "cell_type": "code",
      "execution_count": 7,
      "id": "24f200eb-6c95-4fc6-9e46-3b83bd1cb0b7",
      "metadata": {
        "id": "24f200eb-6c95-4fc6-9e46-3b83bd1cb0b7"
      },
      "outputs": [],
      "source": [
        "# Lightweight TCN for audio (can reuse same as visual)\n",
        "class AudioTCNFeatureExtractor(nn.Module):\n",
        "    def __init__(self, input_dim, output_dim=256):\n",
        "        super(AudioTCNFeatureExtractor, self).__init__()\n",
        "        self.tcn = nn.Sequential(\n",
        "            nn.Conv1d(input_dim, 64, kernel_size=3, padding=1),\n",
        "            nn.ReLU(),\n",
        "            nn.Conv1d(64, 128, kernel_size=3, padding=1),\n",
        "            nn.ReLU(),\n",
        "            nn.Conv1d(128, output_dim, kernel_size=3, padding=1),\n",
        "            nn.AdaptiveAvgPool1d(1),\n",
        "        )\n",
        "\n",
        "    def forward(self, x):\n",
        "        x = x.permute(0, 2, 1)  # (batch, seq_len, feat_dim) → (batch, feat_dim, seq_len)\n",
        "        x = self.tcn(x)         # (batch, output_dim, 1)\n",
        "        return x.squeeze(-1)    # (batch, output_dim)\n",
        "\n",
        "\n",
        "\n"
      ]
    },
    {
      "cell_type": "code",
      "execution_count": 8,
      "id": "adf271eb-a7ee-4625-b1a1-936e6ba386b5",
      "metadata": {
        "colab": {
          "base_uri": "https://localhost:8080/",
          "height": 336,
          "referenced_widgets": [
            "0bfb92c5fa7248c6b3c53429a4dcc995",
            "90b081db13b94ffc9a3ca409a5dfd79c",
            "85ccc12f047749aa97e9d86688d42ee3",
            "db3a460def9749fa829146929f74cbe1",
            "1030f3e8c7a44e6cb7affc6c6093cd82",
            "f403ed5dd9fc4064b5fd92026583e3ac",
            "1d369a48c8de4ce39fe610b357cf986f",
            "efc073a14e614bbb974890be8b921fba",
            "009d8508c2d24773bc9db10730c63639",
            "3e2d8d7f4db54d6fb3d2b691c4b20a4c",
            "b23990956aa340f68cbfacf8cd3e8c5d",
            "2cc3aed964f64e22b9eb03124fda815d",
            "ac9c12b2d666419691fb2a241a030b55",
            "ff939a9e35e24818a4d9e76a4a17205b",
            "eac6bb43d16946f09ff723e24f87646f",
            "a053046e6e194dd3b85c18627635c46f",
            "af020875ac664238bea848818e19a38b",
            "ac62ad60fffe42dfbe7156f5d93b587b",
            "80769b795f7b4176b6ad548f0f05e0a3",
            "a4bd359951674416be123e5941cc90fb",
            "ff3929fb1bef45b5a508226d1f804024",
            "fcd04c2b579f40e389a1ed19842c2273",
            "917e538b6b9b4ea1b189e066784195bb",
            "2f06c775acbd4e4fafdd8ed0cdab31c6",
            "1352a53c281d4aa38bc2a6100f37cf28",
            "14bced7b52ff4a60b47808fa26289e3d",
            "9e77bda42bdd40669281c3ab5f2d048c",
            "733eec62afe143978de3f656b5f11df0",
            "7e292b95029947ac887f1759e1215ecb",
            "530c703689224bafaf073064fbb0420d",
            "bc82bf9421804d4c8a0ea1dc7c3505a7",
            "b24a5041b38c4db982455ac4d0f0d361",
            "3dff08cfaaac472e9d784090d0a5a73f",
            "26b078c633974740b7dfee1ca00024f2",
            "823545b34298432d8a57d45a91316316",
            "4c12c0b7768f493592145dc638768dcb",
            "1f55f08f0e644ad7a05ff2329c472e35",
            "0d96b59f365e42978e976e73bedf874f",
            "b65652d5d33b47aebb5ffcdbe9336a87",
            "f30bd0f1d680456287b3a67eab120554",
            "ff1be170b1424afc887cb7a03e988ba5",
            "2e6ed1340ca348448b7366573a046070",
            "4e8ddf0ed7f845969685c3420f5a9181",
            "f56d5e8d79a24827bbcc3bee3a2f7f7e",
            "aa3abb057459410e84d8640abec0b933",
            "0a704a356cb1413cb94783341ee5155c",
            "1a50e8b5bb6348c8ac11cf705938c025",
            "5666fab3cc42448cab90e785fe8539f0",
            "07d6d012b71a4e4c91f532ac799f7d71",
            "0e291ed3d74d4d63a8b31e423db82d2c",
            "df38df3408ac45e09cc197ac6e4dded3",
            "b171dee079de4313b9b2ca266b468c67",
            "4fd238f2561046b3ae989f7e04333c49",
            "dcbfb834a435426eb65751e3485a46dd",
            "3bb771b1b7004ceea97efe3ae8b6d300"
          ]
        },
        "id": "adf271eb-a7ee-4625-b1a1-936e6ba386b5",
        "outputId": "8b47fbdd-f38e-4073-c80c-ed2ff8ec2940"
      },
      "outputs": [
        {
          "output_type": "stream",
          "name": "stderr",
          "text": [
            "/usr/local/lib/python3.11/dist-packages/huggingface_hub/utils/_auth.py:94: UserWarning: \n",
            "The secret `HF_TOKEN` does not exist in your Colab secrets.\n",
            "To authenticate with the Hugging Face Hub, create a token in your settings tab (https://huggingface.co/settings/tokens), set it as secret in your Google Colab and restart your session.\n",
            "You will be able to reuse this secret in all of your notebooks.\n",
            "Please note that authentication is recommended but still optional to access public models or datasets.\n",
            "  warnings.warn(\n"
          ]
        },
        {
          "output_type": "display_data",
          "data": {
            "text/plain": [
              "tokenizer_config.json:   0%|          | 0.00/48.0 [00:00<?, ?B/s]"
            ],
            "application/vnd.jupyter.widget-view+json": {
              "version_major": 2,
              "version_minor": 0,
              "model_id": "0bfb92c5fa7248c6b3c53429a4dcc995"
            }
          },
          "metadata": {}
        },
        {
          "output_type": "display_data",
          "data": {
            "text/plain": [
              "config.json:   0%|          | 0.00/570 [00:00<?, ?B/s]"
            ],
            "application/vnd.jupyter.widget-view+json": {
              "version_major": 2,
              "version_minor": 0,
              "model_id": "2cc3aed964f64e22b9eb03124fda815d"
            }
          },
          "metadata": {}
        },
        {
          "output_type": "display_data",
          "data": {
            "text/plain": [
              "vocab.txt:   0%|          | 0.00/232k [00:00<?, ?B/s]"
            ],
            "application/vnd.jupyter.widget-view+json": {
              "version_major": 2,
              "version_minor": 0,
              "model_id": "917e538b6b9b4ea1b189e066784195bb"
            }
          },
          "metadata": {}
        },
        {
          "output_type": "display_data",
          "data": {
            "text/plain": [
              "tokenizer.json:   0%|          | 0.00/466k [00:00<?, ?B/s]"
            ],
            "application/vnd.jupyter.widget-view+json": {
              "version_major": 2,
              "version_minor": 0,
              "model_id": "26b078c633974740b7dfee1ca00024f2"
            }
          },
          "metadata": {}
        },
        {
          "output_type": "stream",
          "name": "stderr",
          "text": [
            "Xet Storage is enabled for this repo, but the 'hf_xet' package is not installed. Falling back to regular HTTP download. For better performance, install the package with: `pip install huggingface_hub[hf_xet]` or `pip install hf_xet`\n",
            "WARNING:huggingface_hub.file_download:Xet Storage is enabled for this repo, but the 'hf_xet' package is not installed. Falling back to regular HTTP download. For better performance, install the package with: `pip install huggingface_hub[hf_xet]` or `pip install hf_xet`\n"
          ]
        },
        {
          "output_type": "display_data",
          "data": {
            "text/plain": [
              "model.safetensors:   0%|          | 0.00/440M [00:00<?, ?B/s]"
            ],
            "application/vnd.jupyter.widget-view+json": {
              "version_major": 2,
              "version_minor": 0,
              "model_id": "aa3abb057459410e84d8640abec0b933"
            }
          },
          "metadata": {}
        }
      ],
      "source": [
        "class EmbeddingReducer(nn.Module):\n",
        "    def __init__(self, input_dim=768, output_dim=256):\n",
        "        super().__init__()\n",
        "        self.linear = nn.Linear(input_dim, output_dim)\n",
        "\n",
        "    def forward(self, x):\n",
        "        return self.linear(x)\n",
        "\n",
        "\n",
        "\n",
        "\n",
        "bert_tokenizer = AutoTokenizer.from_pretrained('bert-base-uncased')\n",
        "bert_model = AutoModel.from_pretrained('bert-base-uncased').to(device)\n",
        "bert_model.eval()  # Set to evaluation mode\n",
        "\n",
        "@torch.no_grad()\n",
        "def get_bert_embedding(text_list, max_utt=100):\n",
        "    \"\"\"\n",
        "    text_list: List of utterances (strings) from one participant\n",
        "    Returns a tensor: (max_utt, 256)\n",
        "    \"\"\"\n",
        "    tokenized = bert_tokenizer(\n",
        "    text_list,\n",
        "    return_tensors='pt',\n",
        "    padding=True,\n",
        "    truncation=True,\n",
        "    max_length=64\n",
        "    ).to(device)\n",
        "\n",
        "\n",
        "    outputs = bert_model(**tokenized)\n",
        "    embeddings = outputs.last_hidden_state[:, 0, :]  # [CLS] token embeddings → shape: (N, 768)\n",
        "\n",
        "    reducer = EmbeddingReducer().to(device)\n",
        "    embeddings = reducer(embeddings)  # embeddings: [N, 768] → new_embeddings: [N, 256]\n",
        "\n",
        "    # Pad or truncate to max_utt\n",
        "    if embeddings.size(0) > max_utt:\n",
        "        embeddings = embeddings[:max_utt, :]\n",
        "    elif embeddings.size(0) < max_utt:\n",
        "        pad_len = max_utt - embeddings.size(0)\n",
        "        pad_tensor = torch.zeros((pad_len, 256), device = device)\n",
        "        embeddings = torch.cat([embeddings, pad_tensor], dim=0)\n",
        "\n",
        "    return embeddings  # (max_utt, 258)\n"
      ]
    },
    {
      "cell_type": "code",
      "execution_count": 9,
      "id": "5b4bba58-0cdb-48e4-bfb9-f0056bc306a9",
      "metadata": {
        "id": "5b4bba58-0cdb-48e4-bfb9-f0056bc306a9"
      },
      "outputs": [],
      "source": [
        "# --- Process Visual Features ---\n",
        "def process_visual_features(visual_data_list):\n",
        "\n",
        "    #max_len = max(f.shape[0] for f in visual_data_list)\n",
        "    max_len = 22000\n",
        "\n",
        "    feat_dim = visual_data_list[0].shape[1]\n",
        "\n",
        "    # Stack all data first\n",
        "    stacked = []\n",
        "    for features in visual_data_list:\n",
        "        # Truncate or pad\n",
        "        if features.shape[0] > max_len:\n",
        "            features = features[:max_len]\n",
        "        elif features.shape[0] < max_len:\n",
        "            pad_len = max_len - features.shape[0]\n",
        "            features = np.vstack([features, np.zeros((pad_len, feat_dim))])\n",
        "\n",
        "        stacked.append(features)\n",
        "\n",
        "    # Convert to tensor early to offload from CPU\n",
        "    stacked_tensor = torch.tensor(np.array(stacked), dtype=torch.float32).to(device)\n",
        "\n",
        "    # Fit scaler on full dataset before transform\n",
        "    scaler = StandardScaler()\n",
        "    B, T, D = stacked_tensor.shape\n",
        "    scaled_flat = scaler.fit_transform(stacked_tensor.view(-1, D).cpu().numpy())\n",
        "    scaled_tensor = torch.tensor(scaled_flat, dtype=torch.float32, device=device).view(B, T, D)\n",
        "\n",
        "    # Feature extractor\n",
        "    feature_extractor = VisualTCNFeatureExtractor(input_dim=D, output_dim=256).to(device)\n",
        "    for param in feature_extractor.parameters():\n",
        "        param.requires_grad = False\n",
        "\n",
        "    with torch.no_grad():\n",
        "        visual_features = feature_extractor(scaled_tensor)  # Shape: (batch, 256)\n",
        "\n",
        "    del stacked, stacked_tensor, scaled_tensor\n",
        "    gc.collect()\n",
        "\n",
        "    return visual_features\n",
        "\n",
        "\n",
        "\n",
        "def process_audio_features(audio_data_list):\n",
        "\n",
        "    # max_len = max(f.shape[0] for f in audio_data_list)\n",
        "    max_len = 65000\n",
        "\n",
        "    feat_dim = audio_data_list[0].shape[1]\n",
        "\n",
        "    stacked = []\n",
        "    for features in audio_data_list:\n",
        "        # Replace inf/nan values\n",
        "        features = np.nan_to_num(features, nan=0.0, posinf=0.0, neginf=0.0)\n",
        "\n",
        "        # Truncate or pad\n",
        "        if features.shape[0] > max_len:\n",
        "            features = features[:max_len]\n",
        "        elif features.shape[0] < max_len:\n",
        "            pad = np.zeros((max_len - features.shape[0], feat_dim))\n",
        "            features = np.vstack([features, pad])\n",
        "\n",
        "        stacked.append(features)\n",
        "\n",
        "    # Convert to tensor early\n",
        "    stacked_tensor = torch.tensor(np.array(stacked), dtype=torch.float32).to(device)\n",
        "\n",
        "    # Batch scaling\n",
        "    scaler = StandardScaler()\n",
        "    B, T, D = stacked_tensor.shape\n",
        "    scaled_flat = scaler.fit_transform(stacked_tensor.view(-1, D).cpu().numpy())\n",
        "    scaled_tensor = torch.tensor(scaled_flat, dtype=torch.float32, device=device).view(B, T, D)\n",
        "\n",
        "    # Feature extractor\n",
        "    feature_extractor = AudioTCNFeatureExtractor(input_dim=D, output_dim=256).to(device)\n",
        "    for param in feature_extractor.parameters():\n",
        "        param.requires_grad = False\n",
        "\n",
        "    with torch.no_grad():\n",
        "        audio_features = feature_extractor(scaled_tensor)\n",
        "\n",
        "    del stacked, stacked_tensor, scaled_tensor\n",
        "    gc.collect()\n",
        "\n",
        "    return audio_features\n",
        "\n",
        "\n",
        "\n",
        "def process_text_features(text_data_list):\n",
        "    \"\"\"\n",
        "    text_data_list: List of Pandas DataFrames (each transcript.csv)\n",
        "    Returns: Tensor (num_samples, max_seq_len, 768)\n",
        "    \"\"\"\n",
        "\n",
        "    max_utt = max(\n",
        "    sum(\n",
        "        1 for row in df.itertuples(index=False)\n",
        "        if (len(row[0].split(\"\\t\")) == 4 and row[0].split(\"\\t\")[2].lower() == 'participant' and row[0].split(\"\\t\")[3].strip())\n",
        "    )\n",
        "    for df in text_data_list\n",
        "    )\n",
        "\n",
        "\n",
        "\n",
        "    all_participant_features = []\n",
        "\n",
        "    for df in text_data_list:\n",
        "        utterances = []\n",
        "\n",
        "        for row in df.itertuples(index=False):\n",
        "            try:\n",
        "                split = row[0].split(\"\\t\")  # whole line in one string\n",
        "                if len(split) == 4:\n",
        "                    speaker, text = split[2], split[3]\n",
        "                    if speaker.lower() == 'participant' and text.strip():\n",
        "                        utterances.append(text.strip())\n",
        "            except Exception as e:\n",
        "                print(f\"Error parsing row: {row} -> {e}\")\n",
        "\n",
        "        if not utterances:\n",
        "            # If no valid utterances, fill with zeros\n",
        "            features = torch.zeros((256,), device=device)\n",
        "        else:\n",
        "            embeddings = get_bert_embedding(utterances, max_utt= max_utt)  # (T, 768)\n",
        "            features = embeddings.mean(dim=0)  # (768,) → mean pooling\n",
        "\n",
        "        all_participant_features.append(features)\n",
        "\n",
        "    # Stack into a 3D tensor\n",
        "    text_features_tensor = torch.stack(all_participant_features).to(device)  # (batch_size, max_seq_len, 768)\n",
        "    return text_features_tensor"
      ]
    },
    {
      "cell_type": "code",
      "execution_count": 10,
      "id": "6c622607-93cd-4d77-8c41-4cb6f8ebe928",
      "metadata": {
        "colab": {
          "base_uri": "https://localhost:8080/"
        },
        "id": "6c622607-93cd-4d77-8c41-4cb6f8ebe928",
        "outputId": "6562a1a2-8209-4c2e-e49b-8792acd9150e"
      },
      "outputs": [
        {
          "output_type": "stream",
          "name": "stdout",
          "text": [
            "Processing train data in batches...\n",
            "\n",
            "Starting data loading process...\n",
            "Found 8 participants in CSV\n",
            "\n",
            "Processing participant 303\n",
            "Loading transcript...\n",
            "Transcript loaded successfully\n"
          ]
        },
        {
          "output_type": "stream",
          "name": "stderr",
          "text": [
            "<ipython-input-5-4d9a30422eb1>:86: FutureWarning: The 'delim_whitespace' keyword in pd.read_csv is deprecated and will be removed in a future version. Use ``sep='\\s+'`` instead\n",
            "  df = pd.read_csv(file_path, delim_whitespace=True, header=0)\n",
            "<ipython-input-5-4d9a30422eb1>:88: FutureWarning: DataFrame.applymap has been deprecated. Use DataFrame.map instead.\n",
            "  df = df.applymap(lambda x: str(x).strip().rstrip(','))\n",
            "<ipython-input-5-4d9a30422eb1>:86: FutureWarning: The 'delim_whitespace' keyword in pd.read_csv is deprecated and will be removed in a future version. Use ``sep='\\s+'`` instead\n",
            "  df = pd.read_csv(file_path, delim_whitespace=True, header=0)\n",
            "<ipython-input-5-4d9a30422eb1>:88: FutureWarning: DataFrame.applymap has been deprecated. Use DataFrame.map instead.\n",
            "  df = df.applymap(lambda x: str(x).strip().rstrip(','))\n",
            "<ipython-input-5-4d9a30422eb1>:86: FutureWarning: The 'delim_whitespace' keyword in pd.read_csv is deprecated and will be removed in a future version. Use ``sep='\\s+'`` instead\n",
            "  df = pd.read_csv(file_path, delim_whitespace=True, header=0)\n",
            "<ipython-input-5-4d9a30422eb1>:88: FutureWarning: DataFrame.applymap has been deprecated. Use DataFrame.map instead.\n",
            "  df = df.applymap(lambda x: str(x).strip().rstrip(','))\n"
          ]
        },
        {
          "output_type": "stream",
          "name": "stdout",
          "text": [
            "✔ Successfully loaded data for participant 303\n",
            "\n",
            "Processing participant 304\n",
            "Loading transcript...\n",
            "Transcript loaded successfully\n"
          ]
        },
        {
          "output_type": "stream",
          "name": "stderr",
          "text": [
            "<ipython-input-5-4d9a30422eb1>:86: FutureWarning: The 'delim_whitespace' keyword in pd.read_csv is deprecated and will be removed in a future version. Use ``sep='\\s+'`` instead\n",
            "  df = pd.read_csv(file_path, delim_whitespace=True, header=0)\n",
            "<ipython-input-5-4d9a30422eb1>:88: FutureWarning: DataFrame.applymap has been deprecated. Use DataFrame.map instead.\n",
            "  df = df.applymap(lambda x: str(x).strip().rstrip(','))\n",
            "<ipython-input-5-4d9a30422eb1>:86: FutureWarning: The 'delim_whitespace' keyword in pd.read_csv is deprecated and will be removed in a future version. Use ``sep='\\s+'`` instead\n",
            "  df = pd.read_csv(file_path, delim_whitespace=True, header=0)\n",
            "<ipython-input-5-4d9a30422eb1>:88: FutureWarning: DataFrame.applymap has been deprecated. Use DataFrame.map instead.\n",
            "  df = df.applymap(lambda x: str(x).strip().rstrip(','))\n",
            "<ipython-input-5-4d9a30422eb1>:86: FutureWarning: The 'delim_whitespace' keyword in pd.read_csv is deprecated and will be removed in a future version. Use ``sep='\\s+'`` instead\n",
            "  df = pd.read_csv(file_path, delim_whitespace=True, header=0)\n",
            "<ipython-input-5-4d9a30422eb1>:88: FutureWarning: DataFrame.applymap has been deprecated. Use DataFrame.map instead.\n",
            "  df = df.applymap(lambda x: str(x).strip().rstrip(','))\n"
          ]
        },
        {
          "output_type": "stream",
          "name": "stdout",
          "text": [
            "✔ Successfully loaded data for participant 304\n",
            "\n",
            "Processing participant 305\n",
            "Loading transcript...\n",
            "Transcript loaded successfully\n"
          ]
        },
        {
          "output_type": "stream",
          "name": "stderr",
          "text": [
            "<ipython-input-5-4d9a30422eb1>:86: FutureWarning: The 'delim_whitespace' keyword in pd.read_csv is deprecated and will be removed in a future version. Use ``sep='\\s+'`` instead\n",
            "  df = pd.read_csv(file_path, delim_whitespace=True, header=0)\n",
            "<ipython-input-5-4d9a30422eb1>:88: FutureWarning: DataFrame.applymap has been deprecated. Use DataFrame.map instead.\n",
            "  df = df.applymap(lambda x: str(x).strip().rstrip(','))\n",
            "<ipython-input-5-4d9a30422eb1>:86: FutureWarning: The 'delim_whitespace' keyword in pd.read_csv is deprecated and will be removed in a future version. Use ``sep='\\s+'`` instead\n",
            "  df = pd.read_csv(file_path, delim_whitespace=True, header=0)\n",
            "<ipython-input-5-4d9a30422eb1>:88: FutureWarning: DataFrame.applymap has been deprecated. Use DataFrame.map instead.\n",
            "  df = df.applymap(lambda x: str(x).strip().rstrip(','))\n",
            "<ipython-input-5-4d9a30422eb1>:86: FutureWarning: The 'delim_whitespace' keyword in pd.read_csv is deprecated and will be removed in a future version. Use ``sep='\\s+'`` instead\n",
            "  df = pd.read_csv(file_path, delim_whitespace=True, header=0)\n",
            "<ipython-input-5-4d9a30422eb1>:88: FutureWarning: DataFrame.applymap has been deprecated. Use DataFrame.map instead.\n",
            "  df = df.applymap(lambda x: str(x).strip().rstrip(','))\n"
          ]
        },
        {
          "output_type": "stream",
          "name": "stdout",
          "text": [
            "✔ Successfully loaded data for participant 305\n",
            "\n",
            "Processing participant 310\n",
            "Loading transcript...\n",
            "Transcript loaded successfully\n"
          ]
        },
        {
          "output_type": "stream",
          "name": "stderr",
          "text": [
            "<ipython-input-5-4d9a30422eb1>:86: FutureWarning: The 'delim_whitespace' keyword in pd.read_csv is deprecated and will be removed in a future version. Use ``sep='\\s+'`` instead\n",
            "  df = pd.read_csv(file_path, delim_whitespace=True, header=0)\n",
            "<ipython-input-5-4d9a30422eb1>:88: FutureWarning: DataFrame.applymap has been deprecated. Use DataFrame.map instead.\n",
            "  df = df.applymap(lambda x: str(x).strip().rstrip(','))\n",
            "<ipython-input-5-4d9a30422eb1>:86: FutureWarning: The 'delim_whitespace' keyword in pd.read_csv is deprecated and will be removed in a future version. Use ``sep='\\s+'`` instead\n",
            "  df = pd.read_csv(file_path, delim_whitespace=True, header=0)\n",
            "<ipython-input-5-4d9a30422eb1>:88: FutureWarning: DataFrame.applymap has been deprecated. Use DataFrame.map instead.\n",
            "  df = df.applymap(lambda x: str(x).strip().rstrip(','))\n",
            "<ipython-input-5-4d9a30422eb1>:86: FutureWarning: The 'delim_whitespace' keyword in pd.read_csv is deprecated and will be removed in a future version. Use ``sep='\\s+'`` instead\n",
            "  df = pd.read_csv(file_path, delim_whitespace=True, header=0)\n",
            "<ipython-input-5-4d9a30422eb1>:88: FutureWarning: DataFrame.applymap has been deprecated. Use DataFrame.map instead.\n",
            "  df = df.applymap(lambda x: str(x).strip().rstrip(','))\n"
          ]
        },
        {
          "output_type": "stream",
          "name": "stdout",
          "text": [
            "✔ Successfully loaded data for participant 310\n",
            "\n",
            "Processing participant 312\n",
            "Loading transcript...\n",
            "Transcript loaded successfully\n"
          ]
        },
        {
          "output_type": "stream",
          "name": "stderr",
          "text": [
            "<ipython-input-5-4d9a30422eb1>:86: FutureWarning: The 'delim_whitespace' keyword in pd.read_csv is deprecated and will be removed in a future version. Use ``sep='\\s+'`` instead\n",
            "  df = pd.read_csv(file_path, delim_whitespace=True, header=0)\n",
            "<ipython-input-5-4d9a30422eb1>:88: FutureWarning: DataFrame.applymap has been deprecated. Use DataFrame.map instead.\n",
            "  df = df.applymap(lambda x: str(x).strip().rstrip(','))\n",
            "<ipython-input-5-4d9a30422eb1>:86: FutureWarning: The 'delim_whitespace' keyword in pd.read_csv is deprecated and will be removed in a future version. Use ``sep='\\s+'`` instead\n",
            "  df = pd.read_csv(file_path, delim_whitespace=True, header=0)\n",
            "<ipython-input-5-4d9a30422eb1>:88: FutureWarning: DataFrame.applymap has been deprecated. Use DataFrame.map instead.\n",
            "  df = df.applymap(lambda x: str(x).strip().rstrip(','))\n",
            "<ipython-input-5-4d9a30422eb1>:86: FutureWarning: The 'delim_whitespace' keyword in pd.read_csv is deprecated and will be removed in a future version. Use ``sep='\\s+'`` instead\n",
            "  df = pd.read_csv(file_path, delim_whitespace=True, header=0)\n",
            "<ipython-input-5-4d9a30422eb1>:88: FutureWarning: DataFrame.applymap has been deprecated. Use DataFrame.map instead.\n",
            "  df = df.applymap(lambda x: str(x).strip().rstrip(','))\n"
          ]
        },
        {
          "output_type": "stream",
          "name": "stdout",
          "text": [
            "✔ Successfully loaded data for participant 312\n",
            "\n",
            "Processing participant 313\n",
            "Loading transcript...\n",
            "Transcript loaded successfully\n"
          ]
        },
        {
          "output_type": "stream",
          "name": "stderr",
          "text": [
            "<ipython-input-5-4d9a30422eb1>:86: FutureWarning: The 'delim_whitespace' keyword in pd.read_csv is deprecated and will be removed in a future version. Use ``sep='\\s+'`` instead\n",
            "  df = pd.read_csv(file_path, delim_whitespace=True, header=0)\n",
            "<ipython-input-5-4d9a30422eb1>:88: FutureWarning: DataFrame.applymap has been deprecated. Use DataFrame.map instead.\n",
            "  df = df.applymap(lambda x: str(x).strip().rstrip(','))\n",
            "<ipython-input-5-4d9a30422eb1>:86: FutureWarning: The 'delim_whitespace' keyword in pd.read_csv is deprecated and will be removed in a future version. Use ``sep='\\s+'`` instead\n",
            "  df = pd.read_csv(file_path, delim_whitespace=True, header=0)\n",
            "<ipython-input-5-4d9a30422eb1>:88: FutureWarning: DataFrame.applymap has been deprecated. Use DataFrame.map instead.\n",
            "  df = df.applymap(lambda x: str(x).strip().rstrip(','))\n",
            "<ipython-input-5-4d9a30422eb1>:86: FutureWarning: The 'delim_whitespace' keyword in pd.read_csv is deprecated and will be removed in a future version. Use ``sep='\\s+'`` instead\n",
            "  df = pd.read_csv(file_path, delim_whitespace=True, header=0)\n",
            "<ipython-input-5-4d9a30422eb1>:88: FutureWarning: DataFrame.applymap has been deprecated. Use DataFrame.map instead.\n",
            "  df = df.applymap(lambda x: str(x).strip().rstrip(','))\n"
          ]
        },
        {
          "output_type": "stream",
          "name": "stdout",
          "text": [
            "✔ Successfully loaded data for participant 313\n",
            "\n",
            "Processing participant 315\n",
            "Loading transcript...\n",
            "Transcript loaded successfully\n"
          ]
        },
        {
          "output_type": "stream",
          "name": "stderr",
          "text": [
            "<ipython-input-5-4d9a30422eb1>:86: FutureWarning: The 'delim_whitespace' keyword in pd.read_csv is deprecated and will be removed in a future version. Use ``sep='\\s+'`` instead\n",
            "  df = pd.read_csv(file_path, delim_whitespace=True, header=0)\n",
            "<ipython-input-5-4d9a30422eb1>:88: FutureWarning: DataFrame.applymap has been deprecated. Use DataFrame.map instead.\n",
            "  df = df.applymap(lambda x: str(x).strip().rstrip(','))\n",
            "<ipython-input-5-4d9a30422eb1>:86: FutureWarning: The 'delim_whitespace' keyword in pd.read_csv is deprecated and will be removed in a future version. Use ``sep='\\s+'`` instead\n",
            "  df = pd.read_csv(file_path, delim_whitespace=True, header=0)\n",
            "<ipython-input-5-4d9a30422eb1>:88: FutureWarning: DataFrame.applymap has been deprecated. Use DataFrame.map instead.\n",
            "  df = df.applymap(lambda x: str(x).strip().rstrip(','))\n",
            "<ipython-input-5-4d9a30422eb1>:86: FutureWarning: The 'delim_whitespace' keyword in pd.read_csv is deprecated and will be removed in a future version. Use ``sep='\\s+'`` instead\n",
            "  df = pd.read_csv(file_path, delim_whitespace=True, header=0)\n",
            "<ipython-input-5-4d9a30422eb1>:88: FutureWarning: DataFrame.applymap has been deprecated. Use DataFrame.map instead.\n",
            "  df = df.applymap(lambda x: str(x).strip().rstrip(','))\n"
          ]
        },
        {
          "output_type": "stream",
          "name": "stdout",
          "text": [
            "✔ Successfully loaded data for participant 315\n",
            "\n",
            "Processing participant 316\n",
            "Loading transcript...\n",
            "Transcript loaded successfully\n"
          ]
        },
        {
          "output_type": "stream",
          "name": "stderr",
          "text": [
            "<ipython-input-5-4d9a30422eb1>:86: FutureWarning: The 'delim_whitespace' keyword in pd.read_csv is deprecated and will be removed in a future version. Use ``sep='\\s+'`` instead\n",
            "  df = pd.read_csv(file_path, delim_whitespace=True, header=0)\n",
            "<ipython-input-5-4d9a30422eb1>:88: FutureWarning: DataFrame.applymap has been deprecated. Use DataFrame.map instead.\n",
            "  df = df.applymap(lambda x: str(x).strip().rstrip(','))\n",
            "<ipython-input-5-4d9a30422eb1>:86: FutureWarning: The 'delim_whitespace' keyword in pd.read_csv is deprecated and will be removed in a future version. Use ``sep='\\s+'`` instead\n",
            "  df = pd.read_csv(file_path, delim_whitespace=True, header=0)\n",
            "<ipython-input-5-4d9a30422eb1>:88: FutureWarning: DataFrame.applymap has been deprecated. Use DataFrame.map instead.\n",
            "  df = df.applymap(lambda x: str(x).strip().rstrip(','))\n",
            "<ipython-input-5-4d9a30422eb1>:86: FutureWarning: The 'delim_whitespace' keyword in pd.read_csv is deprecated and will be removed in a future version. Use ``sep='\\s+'`` instead\n",
            "  df = pd.read_csv(file_path, delim_whitespace=True, header=0)\n",
            "<ipython-input-5-4d9a30422eb1>:88: FutureWarning: DataFrame.applymap has been deprecated. Use DataFrame.map instead.\n",
            "  df = df.applymap(lambda x: str(x).strip().rstrip(','))\n"
          ]
        },
        {
          "output_type": "stream",
          "name": "stdout",
          "text": [
            "✔ Successfully loaded data for participant 316\n",
            "\n",
            "Attempted to load data for 8 participants. Loaded structures for 8.\n",
            "\n",
            "Starting data loading process...\n",
            "Found 8 participants in CSV\n",
            "\n",
            "Processing participant 317\n",
            "Loading transcript...\n",
            "Transcript loaded successfully\n"
          ]
        },
        {
          "output_type": "stream",
          "name": "stderr",
          "text": [
            "<ipython-input-5-4d9a30422eb1>:86: FutureWarning: The 'delim_whitespace' keyword in pd.read_csv is deprecated and will be removed in a future version. Use ``sep='\\s+'`` instead\n",
            "  df = pd.read_csv(file_path, delim_whitespace=True, header=0)\n",
            "<ipython-input-5-4d9a30422eb1>:88: FutureWarning: DataFrame.applymap has been deprecated. Use DataFrame.map instead.\n",
            "  df = df.applymap(lambda x: str(x).strip().rstrip(','))\n",
            "<ipython-input-5-4d9a30422eb1>:86: FutureWarning: The 'delim_whitespace' keyword in pd.read_csv is deprecated and will be removed in a future version. Use ``sep='\\s+'`` instead\n",
            "  df = pd.read_csv(file_path, delim_whitespace=True, header=0)\n",
            "<ipython-input-5-4d9a30422eb1>:88: FutureWarning: DataFrame.applymap has been deprecated. Use DataFrame.map instead.\n",
            "  df = df.applymap(lambda x: str(x).strip().rstrip(','))\n",
            "<ipython-input-5-4d9a30422eb1>:86: FutureWarning: The 'delim_whitespace' keyword in pd.read_csv is deprecated and will be removed in a future version. Use ``sep='\\s+'`` instead\n",
            "  df = pd.read_csv(file_path, delim_whitespace=True, header=0)\n",
            "<ipython-input-5-4d9a30422eb1>:88: FutureWarning: DataFrame.applymap has been deprecated. Use DataFrame.map instead.\n",
            "  df = df.applymap(lambda x: str(x).strip().rstrip(','))\n"
          ]
        },
        {
          "output_type": "stream",
          "name": "stdout",
          "text": [
            "✔ Successfully loaded data for participant 317\n",
            "\n",
            "Processing participant 318\n",
            "Loading transcript...\n",
            "Transcript loaded successfully\n"
          ]
        },
        {
          "output_type": "stream",
          "name": "stderr",
          "text": [
            "<ipython-input-5-4d9a30422eb1>:86: FutureWarning: The 'delim_whitespace' keyword in pd.read_csv is deprecated and will be removed in a future version. Use ``sep='\\s+'`` instead\n",
            "  df = pd.read_csv(file_path, delim_whitespace=True, header=0)\n",
            "<ipython-input-5-4d9a30422eb1>:88: FutureWarning: DataFrame.applymap has been deprecated. Use DataFrame.map instead.\n",
            "  df = df.applymap(lambda x: str(x).strip().rstrip(','))\n",
            "<ipython-input-5-4d9a30422eb1>:86: FutureWarning: The 'delim_whitespace' keyword in pd.read_csv is deprecated and will be removed in a future version. Use ``sep='\\s+'`` instead\n",
            "  df = pd.read_csv(file_path, delim_whitespace=True, header=0)\n",
            "<ipython-input-5-4d9a30422eb1>:88: FutureWarning: DataFrame.applymap has been deprecated. Use DataFrame.map instead.\n",
            "  df = df.applymap(lambda x: str(x).strip().rstrip(','))\n",
            "<ipython-input-5-4d9a30422eb1>:86: FutureWarning: The 'delim_whitespace' keyword in pd.read_csv is deprecated and will be removed in a future version. Use ``sep='\\s+'`` instead\n",
            "  df = pd.read_csv(file_path, delim_whitespace=True, header=0)\n",
            "<ipython-input-5-4d9a30422eb1>:88: FutureWarning: DataFrame.applymap has been deprecated. Use DataFrame.map instead.\n",
            "  df = df.applymap(lambda x: str(x).strip().rstrip(','))\n"
          ]
        },
        {
          "output_type": "stream",
          "name": "stdout",
          "text": [
            "✔ Successfully loaded data for participant 318\n",
            "\n",
            "Processing participant 319\n",
            "Loading transcript...\n",
            "Transcript loaded successfully\n"
          ]
        },
        {
          "output_type": "stream",
          "name": "stderr",
          "text": [
            "<ipython-input-5-4d9a30422eb1>:86: FutureWarning: The 'delim_whitespace' keyword in pd.read_csv is deprecated and will be removed in a future version. Use ``sep='\\s+'`` instead\n",
            "  df = pd.read_csv(file_path, delim_whitespace=True, header=0)\n",
            "<ipython-input-5-4d9a30422eb1>:88: FutureWarning: DataFrame.applymap has been deprecated. Use DataFrame.map instead.\n",
            "  df = df.applymap(lambda x: str(x).strip().rstrip(','))\n",
            "<ipython-input-5-4d9a30422eb1>:86: FutureWarning: The 'delim_whitespace' keyword in pd.read_csv is deprecated and will be removed in a future version. Use ``sep='\\s+'`` instead\n",
            "  df = pd.read_csv(file_path, delim_whitespace=True, header=0)\n",
            "<ipython-input-5-4d9a30422eb1>:88: FutureWarning: DataFrame.applymap has been deprecated. Use DataFrame.map instead.\n",
            "  df = df.applymap(lambda x: str(x).strip().rstrip(','))\n",
            "<ipython-input-5-4d9a30422eb1>:86: FutureWarning: The 'delim_whitespace' keyword in pd.read_csv is deprecated and will be removed in a future version. Use ``sep='\\s+'`` instead\n",
            "  df = pd.read_csv(file_path, delim_whitespace=True, header=0)\n",
            "<ipython-input-5-4d9a30422eb1>:88: FutureWarning: DataFrame.applymap has been deprecated. Use DataFrame.map instead.\n",
            "  df = df.applymap(lambda x: str(x).strip().rstrip(','))\n"
          ]
        },
        {
          "output_type": "stream",
          "name": "stdout",
          "text": [
            "✔ Successfully loaded data for participant 319\n",
            "\n",
            "Processing participant 320\n",
            "Loading transcript...\n",
            "Transcript loaded successfully\n"
          ]
        },
        {
          "output_type": "stream",
          "name": "stderr",
          "text": [
            "<ipython-input-5-4d9a30422eb1>:86: FutureWarning: The 'delim_whitespace' keyword in pd.read_csv is deprecated and will be removed in a future version. Use ``sep='\\s+'`` instead\n",
            "  df = pd.read_csv(file_path, delim_whitespace=True, header=0)\n",
            "<ipython-input-5-4d9a30422eb1>:88: FutureWarning: DataFrame.applymap has been deprecated. Use DataFrame.map instead.\n",
            "  df = df.applymap(lambda x: str(x).strip().rstrip(','))\n",
            "<ipython-input-5-4d9a30422eb1>:86: FutureWarning: The 'delim_whitespace' keyword in pd.read_csv is deprecated and will be removed in a future version. Use ``sep='\\s+'`` instead\n",
            "  df = pd.read_csv(file_path, delim_whitespace=True, header=0)\n",
            "<ipython-input-5-4d9a30422eb1>:88: FutureWarning: DataFrame.applymap has been deprecated. Use DataFrame.map instead.\n",
            "  df = df.applymap(lambda x: str(x).strip().rstrip(','))\n",
            "<ipython-input-5-4d9a30422eb1>:86: FutureWarning: The 'delim_whitespace' keyword in pd.read_csv is deprecated and will be removed in a future version. Use ``sep='\\s+'`` instead\n",
            "  df = pd.read_csv(file_path, delim_whitespace=True, header=0)\n",
            "<ipython-input-5-4d9a30422eb1>:88: FutureWarning: DataFrame.applymap has been deprecated. Use DataFrame.map instead.\n",
            "  df = df.applymap(lambda x: str(x).strip().rstrip(','))\n"
          ]
        },
        {
          "output_type": "stream",
          "name": "stdout",
          "text": [
            "✔ Successfully loaded data for participant 320\n",
            "\n",
            "Processing participant 321\n",
            "Loading transcript...\n",
            "Transcript loaded successfully\n"
          ]
        },
        {
          "output_type": "stream",
          "name": "stderr",
          "text": [
            "<ipython-input-5-4d9a30422eb1>:86: FutureWarning: The 'delim_whitespace' keyword in pd.read_csv is deprecated and will be removed in a future version. Use ``sep='\\s+'`` instead\n",
            "  df = pd.read_csv(file_path, delim_whitespace=True, header=0)\n",
            "<ipython-input-5-4d9a30422eb1>:88: FutureWarning: DataFrame.applymap has been deprecated. Use DataFrame.map instead.\n",
            "  df = df.applymap(lambda x: str(x).strip().rstrip(','))\n",
            "<ipython-input-5-4d9a30422eb1>:86: FutureWarning: The 'delim_whitespace' keyword in pd.read_csv is deprecated and will be removed in a future version. Use ``sep='\\s+'`` instead\n",
            "  df = pd.read_csv(file_path, delim_whitespace=True, header=0)\n",
            "<ipython-input-5-4d9a30422eb1>:88: FutureWarning: DataFrame.applymap has been deprecated. Use DataFrame.map instead.\n",
            "  df = df.applymap(lambda x: str(x).strip().rstrip(','))\n",
            "<ipython-input-5-4d9a30422eb1>:86: FutureWarning: The 'delim_whitespace' keyword in pd.read_csv is deprecated and will be removed in a future version. Use ``sep='\\s+'`` instead\n",
            "  df = pd.read_csv(file_path, delim_whitespace=True, header=0)\n",
            "<ipython-input-5-4d9a30422eb1>:88: FutureWarning: DataFrame.applymap has been deprecated. Use DataFrame.map instead.\n",
            "  df = df.applymap(lambda x: str(x).strip().rstrip(','))\n"
          ]
        },
        {
          "output_type": "stream",
          "name": "stdout",
          "text": [
            "✔ Successfully loaded data for participant 321\n",
            "\n",
            "Processing participant 322\n",
            "Loading transcript...\n",
            "Transcript loaded successfully\n"
          ]
        },
        {
          "output_type": "stream",
          "name": "stderr",
          "text": [
            "<ipython-input-5-4d9a30422eb1>:86: FutureWarning: The 'delim_whitespace' keyword in pd.read_csv is deprecated and will be removed in a future version. Use ``sep='\\s+'`` instead\n",
            "  df = pd.read_csv(file_path, delim_whitespace=True, header=0)\n",
            "<ipython-input-5-4d9a30422eb1>:88: FutureWarning: DataFrame.applymap has been deprecated. Use DataFrame.map instead.\n",
            "  df = df.applymap(lambda x: str(x).strip().rstrip(','))\n",
            "<ipython-input-5-4d9a30422eb1>:86: FutureWarning: The 'delim_whitespace' keyword in pd.read_csv is deprecated and will be removed in a future version. Use ``sep='\\s+'`` instead\n",
            "  df = pd.read_csv(file_path, delim_whitespace=True, header=0)\n",
            "<ipython-input-5-4d9a30422eb1>:88: FutureWarning: DataFrame.applymap has been deprecated. Use DataFrame.map instead.\n",
            "  df = df.applymap(lambda x: str(x).strip().rstrip(','))\n",
            "<ipython-input-5-4d9a30422eb1>:86: FutureWarning: The 'delim_whitespace' keyword in pd.read_csv is deprecated and will be removed in a future version. Use ``sep='\\s+'`` instead\n",
            "  df = pd.read_csv(file_path, delim_whitespace=True, header=0)\n",
            "<ipython-input-5-4d9a30422eb1>:88: FutureWarning: DataFrame.applymap has been deprecated. Use DataFrame.map instead.\n",
            "  df = df.applymap(lambda x: str(x).strip().rstrip(','))\n"
          ]
        },
        {
          "output_type": "stream",
          "name": "stdout",
          "text": [
            "✔ Successfully loaded data for participant 322\n",
            "\n",
            "Processing participant 324\n",
            "Loading transcript...\n",
            "Transcript loaded successfully\n"
          ]
        },
        {
          "output_type": "stream",
          "name": "stderr",
          "text": [
            "<ipython-input-5-4d9a30422eb1>:86: FutureWarning: The 'delim_whitespace' keyword in pd.read_csv is deprecated and will be removed in a future version. Use ``sep='\\s+'`` instead\n",
            "  df = pd.read_csv(file_path, delim_whitespace=True, header=0)\n",
            "<ipython-input-5-4d9a30422eb1>:88: FutureWarning: DataFrame.applymap has been deprecated. Use DataFrame.map instead.\n",
            "  df = df.applymap(lambda x: str(x).strip().rstrip(','))\n",
            "<ipython-input-5-4d9a30422eb1>:86: FutureWarning: The 'delim_whitespace' keyword in pd.read_csv is deprecated and will be removed in a future version. Use ``sep='\\s+'`` instead\n",
            "  df = pd.read_csv(file_path, delim_whitespace=True, header=0)\n",
            "<ipython-input-5-4d9a30422eb1>:88: FutureWarning: DataFrame.applymap has been deprecated. Use DataFrame.map instead.\n",
            "  df = df.applymap(lambda x: str(x).strip().rstrip(','))\n",
            "<ipython-input-5-4d9a30422eb1>:86: FutureWarning: The 'delim_whitespace' keyword in pd.read_csv is deprecated and will be removed in a future version. Use ``sep='\\s+'`` instead\n",
            "  df = pd.read_csv(file_path, delim_whitespace=True, header=0)\n",
            "<ipython-input-5-4d9a30422eb1>:88: FutureWarning: DataFrame.applymap has been deprecated. Use DataFrame.map instead.\n",
            "  df = df.applymap(lambda x: str(x).strip().rstrip(','))\n"
          ]
        },
        {
          "output_type": "stream",
          "name": "stdout",
          "text": [
            "✔ Successfully loaded data for participant 324\n",
            "\n",
            "Processing participant 325\n",
            "Loading transcript...\n",
            "Transcript loaded successfully\n"
          ]
        },
        {
          "output_type": "stream",
          "name": "stderr",
          "text": [
            "<ipython-input-5-4d9a30422eb1>:86: FutureWarning: The 'delim_whitespace' keyword in pd.read_csv is deprecated and will be removed in a future version. Use ``sep='\\s+'`` instead\n",
            "  df = pd.read_csv(file_path, delim_whitespace=True, header=0)\n",
            "<ipython-input-5-4d9a30422eb1>:88: FutureWarning: DataFrame.applymap has been deprecated. Use DataFrame.map instead.\n",
            "  df = df.applymap(lambda x: str(x).strip().rstrip(','))\n",
            "<ipython-input-5-4d9a30422eb1>:86: FutureWarning: The 'delim_whitespace' keyword in pd.read_csv is deprecated and will be removed in a future version. Use ``sep='\\s+'`` instead\n",
            "  df = pd.read_csv(file_path, delim_whitespace=True, header=0)\n",
            "<ipython-input-5-4d9a30422eb1>:88: FutureWarning: DataFrame.applymap has been deprecated. Use DataFrame.map instead.\n",
            "  df = df.applymap(lambda x: str(x).strip().rstrip(','))\n",
            "<ipython-input-5-4d9a30422eb1>:86: FutureWarning: The 'delim_whitespace' keyword in pd.read_csv is deprecated and will be removed in a future version. Use ``sep='\\s+'`` instead\n",
            "  df = pd.read_csv(file_path, delim_whitespace=True, header=0)\n",
            "<ipython-input-5-4d9a30422eb1>:88: FutureWarning: DataFrame.applymap has been deprecated. Use DataFrame.map instead.\n",
            "  df = df.applymap(lambda x: str(x).strip().rstrip(','))\n"
          ]
        },
        {
          "output_type": "stream",
          "name": "stdout",
          "text": [
            "✔ Successfully loaded data for participant 325\n",
            "\n",
            "Attempted to load data for 8 participants. Loaded structures for 8.\n",
            "\n",
            "Starting data loading process...\n",
            "Found 8 participants in CSV\n",
            "\n",
            "Processing participant 326\n",
            "Loading transcript...\n",
            "Transcript loaded successfully\n"
          ]
        },
        {
          "output_type": "stream",
          "name": "stderr",
          "text": [
            "<ipython-input-5-4d9a30422eb1>:86: FutureWarning: The 'delim_whitespace' keyword in pd.read_csv is deprecated and will be removed in a future version. Use ``sep='\\s+'`` instead\n",
            "  df = pd.read_csv(file_path, delim_whitespace=True, header=0)\n",
            "<ipython-input-5-4d9a30422eb1>:88: FutureWarning: DataFrame.applymap has been deprecated. Use DataFrame.map instead.\n",
            "  df = df.applymap(lambda x: str(x).strip().rstrip(','))\n",
            "<ipython-input-5-4d9a30422eb1>:86: FutureWarning: The 'delim_whitespace' keyword in pd.read_csv is deprecated and will be removed in a future version. Use ``sep='\\s+'`` instead\n",
            "  df = pd.read_csv(file_path, delim_whitespace=True, header=0)\n",
            "<ipython-input-5-4d9a30422eb1>:88: FutureWarning: DataFrame.applymap has been deprecated. Use DataFrame.map instead.\n",
            "  df = df.applymap(lambda x: str(x).strip().rstrip(','))\n",
            "<ipython-input-5-4d9a30422eb1>:86: FutureWarning: The 'delim_whitespace' keyword in pd.read_csv is deprecated and will be removed in a future version. Use ``sep='\\s+'`` instead\n",
            "  df = pd.read_csv(file_path, delim_whitespace=True, header=0)\n",
            "<ipython-input-5-4d9a30422eb1>:88: FutureWarning: DataFrame.applymap has been deprecated. Use DataFrame.map instead.\n",
            "  df = df.applymap(lambda x: str(x).strip().rstrip(','))\n"
          ]
        },
        {
          "output_type": "stream",
          "name": "stdout",
          "text": [
            "✔ Successfully loaded data for participant 326\n",
            "\n",
            "Processing participant 327\n",
            "Loading transcript...\n",
            "Transcript loaded successfully\n"
          ]
        },
        {
          "output_type": "stream",
          "name": "stderr",
          "text": [
            "<ipython-input-5-4d9a30422eb1>:86: FutureWarning: The 'delim_whitespace' keyword in pd.read_csv is deprecated and will be removed in a future version. Use ``sep='\\s+'`` instead\n",
            "  df = pd.read_csv(file_path, delim_whitespace=True, header=0)\n",
            "<ipython-input-5-4d9a30422eb1>:88: FutureWarning: DataFrame.applymap has been deprecated. Use DataFrame.map instead.\n",
            "  df = df.applymap(lambda x: str(x).strip().rstrip(','))\n",
            "<ipython-input-5-4d9a30422eb1>:86: FutureWarning: The 'delim_whitespace' keyword in pd.read_csv is deprecated and will be removed in a future version. Use ``sep='\\s+'`` instead\n",
            "  df = pd.read_csv(file_path, delim_whitespace=True, header=0)\n",
            "<ipython-input-5-4d9a30422eb1>:88: FutureWarning: DataFrame.applymap has been deprecated. Use DataFrame.map instead.\n",
            "  df = df.applymap(lambda x: str(x).strip().rstrip(','))\n",
            "<ipython-input-5-4d9a30422eb1>:86: FutureWarning: The 'delim_whitespace' keyword in pd.read_csv is deprecated and will be removed in a future version. Use ``sep='\\s+'`` instead\n",
            "  df = pd.read_csv(file_path, delim_whitespace=True, header=0)\n",
            "<ipython-input-5-4d9a30422eb1>:88: FutureWarning: DataFrame.applymap has been deprecated. Use DataFrame.map instead.\n",
            "  df = df.applymap(lambda x: str(x).strip().rstrip(','))\n"
          ]
        },
        {
          "output_type": "stream",
          "name": "stdout",
          "text": [
            "✔ Successfully loaded data for participant 327\n",
            "\n",
            "Processing participant 328\n",
            "Loading transcript...\n",
            "Transcript loaded successfully\n"
          ]
        },
        {
          "output_type": "stream",
          "name": "stderr",
          "text": [
            "<ipython-input-5-4d9a30422eb1>:86: FutureWarning: The 'delim_whitespace' keyword in pd.read_csv is deprecated and will be removed in a future version. Use ``sep='\\s+'`` instead\n",
            "  df = pd.read_csv(file_path, delim_whitespace=True, header=0)\n",
            "<ipython-input-5-4d9a30422eb1>:88: FutureWarning: DataFrame.applymap has been deprecated. Use DataFrame.map instead.\n",
            "  df = df.applymap(lambda x: str(x).strip().rstrip(','))\n",
            "<ipython-input-5-4d9a30422eb1>:86: FutureWarning: The 'delim_whitespace' keyword in pd.read_csv is deprecated and will be removed in a future version. Use ``sep='\\s+'`` instead\n",
            "  df = pd.read_csv(file_path, delim_whitespace=True, header=0)\n",
            "<ipython-input-5-4d9a30422eb1>:88: FutureWarning: DataFrame.applymap has been deprecated. Use DataFrame.map instead.\n",
            "  df = df.applymap(lambda x: str(x).strip().rstrip(','))\n",
            "<ipython-input-5-4d9a30422eb1>:86: FutureWarning: The 'delim_whitespace' keyword in pd.read_csv is deprecated and will be removed in a future version. Use ``sep='\\s+'`` instead\n",
            "  df = pd.read_csv(file_path, delim_whitespace=True, header=0)\n",
            "<ipython-input-5-4d9a30422eb1>:88: FutureWarning: DataFrame.applymap has been deprecated. Use DataFrame.map instead.\n",
            "  df = df.applymap(lambda x: str(x).strip().rstrip(','))\n"
          ]
        },
        {
          "output_type": "stream",
          "name": "stdout",
          "text": [
            "✔ Successfully loaded data for participant 328\n",
            "\n",
            "Processing participant 330\n",
            "Loading transcript...\n",
            "Transcript loaded successfully\n"
          ]
        },
        {
          "output_type": "stream",
          "name": "stderr",
          "text": [
            "<ipython-input-5-4d9a30422eb1>:86: FutureWarning: The 'delim_whitespace' keyword in pd.read_csv is deprecated and will be removed in a future version. Use ``sep='\\s+'`` instead\n",
            "  df = pd.read_csv(file_path, delim_whitespace=True, header=0)\n",
            "<ipython-input-5-4d9a30422eb1>:88: FutureWarning: DataFrame.applymap has been deprecated. Use DataFrame.map instead.\n",
            "  df = df.applymap(lambda x: str(x).strip().rstrip(','))\n",
            "<ipython-input-5-4d9a30422eb1>:86: FutureWarning: The 'delim_whitespace' keyword in pd.read_csv is deprecated and will be removed in a future version. Use ``sep='\\s+'`` instead\n",
            "  df = pd.read_csv(file_path, delim_whitespace=True, header=0)\n",
            "<ipython-input-5-4d9a30422eb1>:88: FutureWarning: DataFrame.applymap has been deprecated. Use DataFrame.map instead.\n",
            "  df = df.applymap(lambda x: str(x).strip().rstrip(','))\n",
            "<ipython-input-5-4d9a30422eb1>:86: FutureWarning: The 'delim_whitespace' keyword in pd.read_csv is deprecated and will be removed in a future version. Use ``sep='\\s+'`` instead\n",
            "  df = pd.read_csv(file_path, delim_whitespace=True, header=0)\n",
            "<ipython-input-5-4d9a30422eb1>:88: FutureWarning: DataFrame.applymap has been deprecated. Use DataFrame.map instead.\n",
            "  df = df.applymap(lambda x: str(x).strip().rstrip(','))\n"
          ]
        },
        {
          "output_type": "stream",
          "name": "stdout",
          "text": [
            "✔ Successfully loaded data for participant 330\n",
            "\n",
            "Processing participant 333\n",
            "Loading transcript...\n",
            "Transcript loaded successfully\n"
          ]
        },
        {
          "output_type": "stream",
          "name": "stderr",
          "text": [
            "<ipython-input-5-4d9a30422eb1>:86: FutureWarning: The 'delim_whitespace' keyword in pd.read_csv is deprecated and will be removed in a future version. Use ``sep='\\s+'`` instead\n",
            "  df = pd.read_csv(file_path, delim_whitespace=True, header=0)\n",
            "<ipython-input-5-4d9a30422eb1>:88: FutureWarning: DataFrame.applymap has been deprecated. Use DataFrame.map instead.\n",
            "  df = df.applymap(lambda x: str(x).strip().rstrip(','))\n",
            "<ipython-input-5-4d9a30422eb1>:86: FutureWarning: The 'delim_whitespace' keyword in pd.read_csv is deprecated and will be removed in a future version. Use ``sep='\\s+'`` instead\n",
            "  df = pd.read_csv(file_path, delim_whitespace=True, header=0)\n",
            "<ipython-input-5-4d9a30422eb1>:88: FutureWarning: DataFrame.applymap has been deprecated. Use DataFrame.map instead.\n",
            "  df = df.applymap(lambda x: str(x).strip().rstrip(','))\n",
            "<ipython-input-5-4d9a30422eb1>:86: FutureWarning: The 'delim_whitespace' keyword in pd.read_csv is deprecated and will be removed in a future version. Use ``sep='\\s+'`` instead\n",
            "  df = pd.read_csv(file_path, delim_whitespace=True, header=0)\n",
            "<ipython-input-5-4d9a30422eb1>:88: FutureWarning: DataFrame.applymap has been deprecated. Use DataFrame.map instead.\n",
            "  df = df.applymap(lambda x: str(x).strip().rstrip(','))\n"
          ]
        },
        {
          "output_type": "stream",
          "name": "stdout",
          "text": [
            "✔ Successfully loaded data for participant 333\n",
            "\n",
            "Processing participant 336\n",
            "Loading transcript...\n",
            "Transcript loaded successfully\n"
          ]
        },
        {
          "output_type": "stream",
          "name": "stderr",
          "text": [
            "<ipython-input-5-4d9a30422eb1>:86: FutureWarning: The 'delim_whitespace' keyword in pd.read_csv is deprecated and will be removed in a future version. Use ``sep='\\s+'`` instead\n",
            "  df = pd.read_csv(file_path, delim_whitespace=True, header=0)\n",
            "<ipython-input-5-4d9a30422eb1>:88: FutureWarning: DataFrame.applymap has been deprecated. Use DataFrame.map instead.\n",
            "  df = df.applymap(lambda x: str(x).strip().rstrip(','))\n",
            "<ipython-input-5-4d9a30422eb1>:86: FutureWarning: The 'delim_whitespace' keyword in pd.read_csv is deprecated and will be removed in a future version. Use ``sep='\\s+'`` instead\n",
            "  df = pd.read_csv(file_path, delim_whitespace=True, header=0)\n",
            "<ipython-input-5-4d9a30422eb1>:88: FutureWarning: DataFrame.applymap has been deprecated. Use DataFrame.map instead.\n",
            "  df = df.applymap(lambda x: str(x).strip().rstrip(','))\n",
            "<ipython-input-5-4d9a30422eb1>:86: FutureWarning: The 'delim_whitespace' keyword in pd.read_csv is deprecated and will be removed in a future version. Use ``sep='\\s+'`` instead\n",
            "  df = pd.read_csv(file_path, delim_whitespace=True, header=0)\n",
            "<ipython-input-5-4d9a30422eb1>:88: FutureWarning: DataFrame.applymap has been deprecated. Use DataFrame.map instead.\n",
            "  df = df.applymap(lambda x: str(x).strip().rstrip(','))\n"
          ]
        },
        {
          "output_type": "stream",
          "name": "stdout",
          "text": [
            "✔ Successfully loaded data for participant 336\n",
            "\n",
            "Processing participant 338\n",
            "Loading transcript...\n",
            "Transcript loaded successfully\n"
          ]
        },
        {
          "output_type": "stream",
          "name": "stderr",
          "text": [
            "<ipython-input-5-4d9a30422eb1>:86: FutureWarning: The 'delim_whitespace' keyword in pd.read_csv is deprecated and will be removed in a future version. Use ``sep='\\s+'`` instead\n",
            "  df = pd.read_csv(file_path, delim_whitespace=True, header=0)\n",
            "<ipython-input-5-4d9a30422eb1>:88: FutureWarning: DataFrame.applymap has been deprecated. Use DataFrame.map instead.\n",
            "  df = df.applymap(lambda x: str(x).strip().rstrip(','))\n",
            "<ipython-input-5-4d9a30422eb1>:86: FutureWarning: The 'delim_whitespace' keyword in pd.read_csv is deprecated and will be removed in a future version. Use ``sep='\\s+'`` instead\n",
            "  df = pd.read_csv(file_path, delim_whitespace=True, header=0)\n",
            "<ipython-input-5-4d9a30422eb1>:88: FutureWarning: DataFrame.applymap has been deprecated. Use DataFrame.map instead.\n",
            "  df = df.applymap(lambda x: str(x).strip().rstrip(','))\n",
            "<ipython-input-5-4d9a30422eb1>:86: FutureWarning: The 'delim_whitespace' keyword in pd.read_csv is deprecated and will be removed in a future version. Use ``sep='\\s+'`` instead\n",
            "  df = pd.read_csv(file_path, delim_whitespace=True, header=0)\n",
            "<ipython-input-5-4d9a30422eb1>:88: FutureWarning: DataFrame.applymap has been deprecated. Use DataFrame.map instead.\n",
            "  df = df.applymap(lambda x: str(x).strip().rstrip(','))\n"
          ]
        },
        {
          "output_type": "stream",
          "name": "stdout",
          "text": [
            "✔ Successfully loaded data for participant 338\n",
            "\n",
            "Processing participant 339\n",
            "Loading transcript...\n",
            "Transcript loaded successfully\n"
          ]
        },
        {
          "output_type": "stream",
          "name": "stderr",
          "text": [
            "<ipython-input-5-4d9a30422eb1>:86: FutureWarning: The 'delim_whitespace' keyword in pd.read_csv is deprecated and will be removed in a future version. Use ``sep='\\s+'`` instead\n",
            "  df = pd.read_csv(file_path, delim_whitespace=True, header=0)\n",
            "<ipython-input-5-4d9a30422eb1>:88: FutureWarning: DataFrame.applymap has been deprecated. Use DataFrame.map instead.\n",
            "  df = df.applymap(lambda x: str(x).strip().rstrip(','))\n",
            "<ipython-input-5-4d9a30422eb1>:86: FutureWarning: The 'delim_whitespace' keyword in pd.read_csv is deprecated and will be removed in a future version. Use ``sep='\\s+'`` instead\n",
            "  df = pd.read_csv(file_path, delim_whitespace=True, header=0)\n",
            "<ipython-input-5-4d9a30422eb1>:88: FutureWarning: DataFrame.applymap has been deprecated. Use DataFrame.map instead.\n",
            "  df = df.applymap(lambda x: str(x).strip().rstrip(','))\n",
            "<ipython-input-5-4d9a30422eb1>:86: FutureWarning: The 'delim_whitespace' keyword in pd.read_csv is deprecated and will be removed in a future version. Use ``sep='\\s+'`` instead\n",
            "  df = pd.read_csv(file_path, delim_whitespace=True, header=0)\n",
            "<ipython-input-5-4d9a30422eb1>:88: FutureWarning: DataFrame.applymap has been deprecated. Use DataFrame.map instead.\n",
            "  df = df.applymap(lambda x: str(x).strip().rstrip(','))\n"
          ]
        },
        {
          "output_type": "stream",
          "name": "stdout",
          "text": [
            "✔ Successfully loaded data for participant 339\n",
            "\n",
            "Attempted to load data for 8 participants. Loaded structures for 8.\n",
            "\n",
            "Starting data loading process...\n",
            "Found 8 participants in CSV\n",
            "\n",
            "Processing participant 340\n",
            "Loading transcript...\n",
            "Transcript loaded successfully\n"
          ]
        },
        {
          "output_type": "stream",
          "name": "stderr",
          "text": [
            "<ipython-input-5-4d9a30422eb1>:86: FutureWarning: The 'delim_whitespace' keyword in pd.read_csv is deprecated and will be removed in a future version. Use ``sep='\\s+'`` instead\n",
            "  df = pd.read_csv(file_path, delim_whitespace=True, header=0)\n",
            "<ipython-input-5-4d9a30422eb1>:88: FutureWarning: DataFrame.applymap has been deprecated. Use DataFrame.map instead.\n",
            "  df = df.applymap(lambda x: str(x).strip().rstrip(','))\n",
            "<ipython-input-5-4d9a30422eb1>:86: FutureWarning: The 'delim_whitespace' keyword in pd.read_csv is deprecated and will be removed in a future version. Use ``sep='\\s+'`` instead\n",
            "  df = pd.read_csv(file_path, delim_whitespace=True, header=0)\n",
            "<ipython-input-5-4d9a30422eb1>:88: FutureWarning: DataFrame.applymap has been deprecated. Use DataFrame.map instead.\n",
            "  df = df.applymap(lambda x: str(x).strip().rstrip(','))\n",
            "<ipython-input-5-4d9a30422eb1>:86: FutureWarning: The 'delim_whitespace' keyword in pd.read_csv is deprecated and will be removed in a future version. Use ``sep='\\s+'`` instead\n",
            "  df = pd.read_csv(file_path, delim_whitespace=True, header=0)\n",
            "<ipython-input-5-4d9a30422eb1>:88: FutureWarning: DataFrame.applymap has been deprecated. Use DataFrame.map instead.\n",
            "  df = df.applymap(lambda x: str(x).strip().rstrip(','))\n"
          ]
        },
        {
          "output_type": "stream",
          "name": "stdout",
          "text": [
            "✔ Successfully loaded data for participant 340\n",
            "\n",
            "Processing participant 341\n",
            "Loading transcript...\n",
            "Transcript loaded successfully\n"
          ]
        },
        {
          "output_type": "stream",
          "name": "stderr",
          "text": [
            "<ipython-input-5-4d9a30422eb1>:86: FutureWarning: The 'delim_whitespace' keyword in pd.read_csv is deprecated and will be removed in a future version. Use ``sep='\\s+'`` instead\n",
            "  df = pd.read_csv(file_path, delim_whitespace=True, header=0)\n",
            "<ipython-input-5-4d9a30422eb1>:88: FutureWarning: DataFrame.applymap has been deprecated. Use DataFrame.map instead.\n",
            "  df = df.applymap(lambda x: str(x).strip().rstrip(','))\n",
            "<ipython-input-5-4d9a30422eb1>:86: FutureWarning: The 'delim_whitespace' keyword in pd.read_csv is deprecated and will be removed in a future version. Use ``sep='\\s+'`` instead\n",
            "  df = pd.read_csv(file_path, delim_whitespace=True, header=0)\n",
            "<ipython-input-5-4d9a30422eb1>:88: FutureWarning: DataFrame.applymap has been deprecated. Use DataFrame.map instead.\n",
            "  df = df.applymap(lambda x: str(x).strip().rstrip(','))\n",
            "<ipython-input-5-4d9a30422eb1>:86: FutureWarning: The 'delim_whitespace' keyword in pd.read_csv is deprecated and will be removed in a future version. Use ``sep='\\s+'`` instead\n",
            "  df = pd.read_csv(file_path, delim_whitespace=True, header=0)\n",
            "<ipython-input-5-4d9a30422eb1>:88: FutureWarning: DataFrame.applymap has been deprecated. Use DataFrame.map instead.\n",
            "  df = df.applymap(lambda x: str(x).strip().rstrip(','))\n"
          ]
        },
        {
          "output_type": "stream",
          "name": "stdout",
          "text": [
            "✔ Successfully loaded data for participant 341\n",
            "\n",
            "Processing participant 343\n",
            "Loading transcript...\n",
            "Transcript loaded successfully\n"
          ]
        },
        {
          "output_type": "stream",
          "name": "stderr",
          "text": [
            "<ipython-input-5-4d9a30422eb1>:86: FutureWarning: The 'delim_whitespace' keyword in pd.read_csv is deprecated and will be removed in a future version. Use ``sep='\\s+'`` instead\n",
            "  df = pd.read_csv(file_path, delim_whitespace=True, header=0)\n",
            "<ipython-input-5-4d9a30422eb1>:88: FutureWarning: DataFrame.applymap has been deprecated. Use DataFrame.map instead.\n",
            "  df = df.applymap(lambda x: str(x).strip().rstrip(','))\n",
            "<ipython-input-5-4d9a30422eb1>:86: FutureWarning: The 'delim_whitespace' keyword in pd.read_csv is deprecated and will be removed in a future version. Use ``sep='\\s+'`` instead\n",
            "  df = pd.read_csv(file_path, delim_whitespace=True, header=0)\n",
            "<ipython-input-5-4d9a30422eb1>:88: FutureWarning: DataFrame.applymap has been deprecated. Use DataFrame.map instead.\n",
            "  df = df.applymap(lambda x: str(x).strip().rstrip(','))\n",
            "<ipython-input-5-4d9a30422eb1>:86: FutureWarning: The 'delim_whitespace' keyword in pd.read_csv is deprecated and will be removed in a future version. Use ``sep='\\s+'`` instead\n",
            "  df = pd.read_csv(file_path, delim_whitespace=True, header=0)\n",
            "<ipython-input-5-4d9a30422eb1>:88: FutureWarning: DataFrame.applymap has been deprecated. Use DataFrame.map instead.\n",
            "  df = df.applymap(lambda x: str(x).strip().rstrip(','))\n"
          ]
        },
        {
          "output_type": "stream",
          "name": "stdout",
          "text": [
            "✔ Successfully loaded data for participant 343\n",
            "\n",
            "Processing participant 344\n",
            "Loading transcript...\n",
            "Transcript loaded successfully\n"
          ]
        },
        {
          "output_type": "stream",
          "name": "stderr",
          "text": [
            "<ipython-input-5-4d9a30422eb1>:86: FutureWarning: The 'delim_whitespace' keyword in pd.read_csv is deprecated and will be removed in a future version. Use ``sep='\\s+'`` instead\n",
            "  df = pd.read_csv(file_path, delim_whitespace=True, header=0)\n",
            "<ipython-input-5-4d9a30422eb1>:88: FutureWarning: DataFrame.applymap has been deprecated. Use DataFrame.map instead.\n",
            "  df = df.applymap(lambda x: str(x).strip().rstrip(','))\n",
            "<ipython-input-5-4d9a30422eb1>:86: FutureWarning: The 'delim_whitespace' keyword in pd.read_csv is deprecated and will be removed in a future version. Use ``sep='\\s+'`` instead\n",
            "  df = pd.read_csv(file_path, delim_whitespace=True, header=0)\n",
            "<ipython-input-5-4d9a30422eb1>:88: FutureWarning: DataFrame.applymap has been deprecated. Use DataFrame.map instead.\n",
            "  df = df.applymap(lambda x: str(x).strip().rstrip(','))\n",
            "<ipython-input-5-4d9a30422eb1>:86: FutureWarning: The 'delim_whitespace' keyword in pd.read_csv is deprecated and will be removed in a future version. Use ``sep='\\s+'`` instead\n",
            "  df = pd.read_csv(file_path, delim_whitespace=True, header=0)\n",
            "<ipython-input-5-4d9a30422eb1>:88: FutureWarning: DataFrame.applymap has been deprecated. Use DataFrame.map instead.\n",
            "  df = df.applymap(lambda x: str(x).strip().rstrip(','))\n"
          ]
        },
        {
          "output_type": "stream",
          "name": "stdout",
          "text": [
            "✔ Successfully loaded data for participant 344\n",
            "\n",
            "Processing participant 345\n",
            "Loading transcript...\n",
            "Transcript loaded successfully\n"
          ]
        },
        {
          "output_type": "stream",
          "name": "stderr",
          "text": [
            "<ipython-input-5-4d9a30422eb1>:86: FutureWarning: The 'delim_whitespace' keyword in pd.read_csv is deprecated and will be removed in a future version. Use ``sep='\\s+'`` instead\n",
            "  df = pd.read_csv(file_path, delim_whitespace=True, header=0)\n",
            "<ipython-input-5-4d9a30422eb1>:88: FutureWarning: DataFrame.applymap has been deprecated. Use DataFrame.map instead.\n",
            "  df = df.applymap(lambda x: str(x).strip().rstrip(','))\n",
            "<ipython-input-5-4d9a30422eb1>:86: FutureWarning: The 'delim_whitespace' keyword in pd.read_csv is deprecated and will be removed in a future version. Use ``sep='\\s+'`` instead\n",
            "  df = pd.read_csv(file_path, delim_whitespace=True, header=0)\n",
            "<ipython-input-5-4d9a30422eb1>:88: FutureWarning: DataFrame.applymap has been deprecated. Use DataFrame.map instead.\n",
            "  df = df.applymap(lambda x: str(x).strip().rstrip(','))\n",
            "<ipython-input-5-4d9a30422eb1>:86: FutureWarning: The 'delim_whitespace' keyword in pd.read_csv is deprecated and will be removed in a future version. Use ``sep='\\s+'`` instead\n",
            "  df = pd.read_csv(file_path, delim_whitespace=True, header=0)\n"
          ]
        },
        {
          "output_type": "stream",
          "name": "stdout",
          "text": [
            "✔ Successfully loaded data for participant 345\n",
            "\n",
            "Processing participant 347\n",
            "Loading transcript...\n",
            "Transcript loaded successfully\n"
          ]
        },
        {
          "output_type": "stream",
          "name": "stderr",
          "text": [
            "<ipython-input-5-4d9a30422eb1>:86: FutureWarning: The 'delim_whitespace' keyword in pd.read_csv is deprecated and will be removed in a future version. Use ``sep='\\s+'`` instead\n",
            "  df = pd.read_csv(file_path, delim_whitespace=True, header=0)\n",
            "<ipython-input-5-4d9a30422eb1>:88: FutureWarning: DataFrame.applymap has been deprecated. Use DataFrame.map instead.\n",
            "  df = df.applymap(lambda x: str(x).strip().rstrip(','))\n",
            "<ipython-input-5-4d9a30422eb1>:86: FutureWarning: The 'delim_whitespace' keyword in pd.read_csv is deprecated and will be removed in a future version. Use ``sep='\\s+'`` instead\n",
            "  df = pd.read_csv(file_path, delim_whitespace=True, header=0)\n",
            "<ipython-input-5-4d9a30422eb1>:88: FutureWarning: DataFrame.applymap has been deprecated. Use DataFrame.map instead.\n",
            "  df = df.applymap(lambda x: str(x).strip().rstrip(','))\n",
            "<ipython-input-5-4d9a30422eb1>:86: FutureWarning: The 'delim_whitespace' keyword in pd.read_csv is deprecated and will be removed in a future version. Use ``sep='\\s+'`` instead\n",
            "  df = pd.read_csv(file_path, delim_whitespace=True, header=0)\n",
            "<ipython-input-5-4d9a30422eb1>:88: FutureWarning: DataFrame.applymap has been deprecated. Use DataFrame.map instead.\n",
            "  df = df.applymap(lambda x: str(x).strip().rstrip(','))\n"
          ]
        },
        {
          "output_type": "stream",
          "name": "stdout",
          "text": [
            "✔ Successfully loaded data for participant 347\n",
            "\n",
            "Processing participant 348\n",
            "Loading transcript...\n",
            "Transcript loaded successfully\n"
          ]
        },
        {
          "output_type": "stream",
          "name": "stderr",
          "text": [
            "<ipython-input-5-4d9a30422eb1>:86: FutureWarning: The 'delim_whitespace' keyword in pd.read_csv is deprecated and will be removed in a future version. Use ``sep='\\s+'`` instead\n",
            "  df = pd.read_csv(file_path, delim_whitespace=True, header=0)\n",
            "<ipython-input-5-4d9a30422eb1>:88: FutureWarning: DataFrame.applymap has been deprecated. Use DataFrame.map instead.\n",
            "  df = df.applymap(lambda x: str(x).strip().rstrip(','))\n",
            "<ipython-input-5-4d9a30422eb1>:86: FutureWarning: The 'delim_whitespace' keyword in pd.read_csv is deprecated and will be removed in a future version. Use ``sep='\\s+'`` instead\n",
            "  df = pd.read_csv(file_path, delim_whitespace=True, header=0)\n",
            "<ipython-input-5-4d9a30422eb1>:88: FutureWarning: DataFrame.applymap has been deprecated. Use DataFrame.map instead.\n",
            "  df = df.applymap(lambda x: str(x).strip().rstrip(','))\n",
            "<ipython-input-5-4d9a30422eb1>:86: FutureWarning: The 'delim_whitespace' keyword in pd.read_csv is deprecated and will be removed in a future version. Use ``sep='\\s+'`` instead\n",
            "  df = pd.read_csv(file_path, delim_whitespace=True, header=0)\n",
            "<ipython-input-5-4d9a30422eb1>:88: FutureWarning: DataFrame.applymap has been deprecated. Use DataFrame.map instead.\n",
            "  df = df.applymap(lambda x: str(x).strip().rstrip(','))\n"
          ]
        },
        {
          "output_type": "stream",
          "name": "stdout",
          "text": [
            "✔ Successfully loaded data for participant 348\n",
            "\n",
            "Processing participant 350\n",
            "Loading transcript...\n",
            "Transcript loaded successfully\n"
          ]
        },
        {
          "output_type": "stream",
          "name": "stderr",
          "text": [
            "<ipython-input-5-4d9a30422eb1>:86: FutureWarning: The 'delim_whitespace' keyword in pd.read_csv is deprecated and will be removed in a future version. Use ``sep='\\s+'`` instead\n",
            "  df = pd.read_csv(file_path, delim_whitespace=True, header=0)\n",
            "<ipython-input-5-4d9a30422eb1>:88: FutureWarning: DataFrame.applymap has been deprecated. Use DataFrame.map instead.\n",
            "  df = df.applymap(lambda x: str(x).strip().rstrip(','))\n",
            "<ipython-input-5-4d9a30422eb1>:86: FutureWarning: The 'delim_whitespace' keyword in pd.read_csv is deprecated and will be removed in a future version. Use ``sep='\\s+'`` instead\n",
            "  df = pd.read_csv(file_path, delim_whitespace=True, header=0)\n",
            "<ipython-input-5-4d9a30422eb1>:88: FutureWarning: DataFrame.applymap has been deprecated. Use DataFrame.map instead.\n",
            "  df = df.applymap(lambda x: str(x).strip().rstrip(','))\n",
            "<ipython-input-5-4d9a30422eb1>:86: FutureWarning: The 'delim_whitespace' keyword in pd.read_csv is deprecated and will be removed in a future version. Use ``sep='\\s+'`` instead\n",
            "  df = pd.read_csv(file_path, delim_whitespace=True, header=0)\n",
            "<ipython-input-5-4d9a30422eb1>:88: FutureWarning: DataFrame.applymap has been deprecated. Use DataFrame.map instead.\n",
            "  df = df.applymap(lambda x: str(x).strip().rstrip(','))\n"
          ]
        },
        {
          "output_type": "stream",
          "name": "stdout",
          "text": [
            "✔ Successfully loaded data for participant 350\n",
            "\n",
            "Attempted to load data for 8 participants. Loaded structures for 8.\n",
            "\n",
            "Starting data loading process...\n",
            "Found 8 participants in CSV\n",
            "\n",
            "Processing participant 351\n",
            "Loading transcript...\n",
            "Transcript loaded successfully\n"
          ]
        },
        {
          "output_type": "stream",
          "name": "stderr",
          "text": [
            "<ipython-input-5-4d9a30422eb1>:86: FutureWarning: The 'delim_whitespace' keyword in pd.read_csv is deprecated and will be removed in a future version. Use ``sep='\\s+'`` instead\n",
            "  df = pd.read_csv(file_path, delim_whitespace=True, header=0)\n",
            "<ipython-input-5-4d9a30422eb1>:88: FutureWarning: DataFrame.applymap has been deprecated. Use DataFrame.map instead.\n",
            "  df = df.applymap(lambda x: str(x).strip().rstrip(','))\n",
            "<ipython-input-5-4d9a30422eb1>:86: FutureWarning: The 'delim_whitespace' keyword in pd.read_csv is deprecated and will be removed in a future version. Use ``sep='\\s+'`` instead\n",
            "  df = pd.read_csv(file_path, delim_whitespace=True, header=0)\n",
            "<ipython-input-5-4d9a30422eb1>:88: FutureWarning: DataFrame.applymap has been deprecated. Use DataFrame.map instead.\n",
            "  df = df.applymap(lambda x: str(x).strip().rstrip(','))\n",
            "<ipython-input-5-4d9a30422eb1>:86: FutureWarning: The 'delim_whitespace' keyword in pd.read_csv is deprecated and will be removed in a future version. Use ``sep='\\s+'`` instead\n",
            "  df = pd.read_csv(file_path, delim_whitespace=True, header=0)\n",
            "<ipython-input-5-4d9a30422eb1>:88: FutureWarning: DataFrame.applymap has been deprecated. Use DataFrame.map instead.\n",
            "  df = df.applymap(lambda x: str(x).strip().rstrip(','))\n"
          ]
        },
        {
          "output_type": "stream",
          "name": "stdout",
          "text": [
            "✔ Successfully loaded data for participant 351\n",
            "\n",
            "Processing participant 352\n",
            "Loading transcript...\n",
            "Transcript loaded successfully\n"
          ]
        },
        {
          "output_type": "stream",
          "name": "stderr",
          "text": [
            "<ipython-input-5-4d9a30422eb1>:86: FutureWarning: The 'delim_whitespace' keyword in pd.read_csv is deprecated and will be removed in a future version. Use ``sep='\\s+'`` instead\n",
            "  df = pd.read_csv(file_path, delim_whitespace=True, header=0)\n",
            "<ipython-input-5-4d9a30422eb1>:88: FutureWarning: DataFrame.applymap has been deprecated. Use DataFrame.map instead.\n",
            "  df = df.applymap(lambda x: str(x).strip().rstrip(','))\n",
            "<ipython-input-5-4d9a30422eb1>:86: FutureWarning: The 'delim_whitespace' keyword in pd.read_csv is deprecated and will be removed in a future version. Use ``sep='\\s+'`` instead\n",
            "  df = pd.read_csv(file_path, delim_whitespace=True, header=0)\n",
            "<ipython-input-5-4d9a30422eb1>:88: FutureWarning: DataFrame.applymap has been deprecated. Use DataFrame.map instead.\n",
            "  df = df.applymap(lambda x: str(x).strip().rstrip(','))\n",
            "<ipython-input-5-4d9a30422eb1>:86: FutureWarning: The 'delim_whitespace' keyword in pd.read_csv is deprecated and will be removed in a future version. Use ``sep='\\s+'`` instead\n",
            "  df = pd.read_csv(file_path, delim_whitespace=True, header=0)\n",
            "<ipython-input-5-4d9a30422eb1>:88: FutureWarning: DataFrame.applymap has been deprecated. Use DataFrame.map instead.\n",
            "  df = df.applymap(lambda x: str(x).strip().rstrip(','))\n"
          ]
        },
        {
          "output_type": "stream",
          "name": "stdout",
          "text": [
            "✔ Successfully loaded data for participant 352\n",
            "\n",
            "Processing participant 353\n",
            "Loading transcript...\n",
            "Transcript loaded successfully\n"
          ]
        },
        {
          "output_type": "stream",
          "name": "stderr",
          "text": [
            "<ipython-input-5-4d9a30422eb1>:86: FutureWarning: The 'delim_whitespace' keyword in pd.read_csv is deprecated and will be removed in a future version. Use ``sep='\\s+'`` instead\n",
            "  df = pd.read_csv(file_path, delim_whitespace=True, header=0)\n",
            "<ipython-input-5-4d9a30422eb1>:88: FutureWarning: DataFrame.applymap has been deprecated. Use DataFrame.map instead.\n",
            "  df = df.applymap(lambda x: str(x).strip().rstrip(','))\n",
            "<ipython-input-5-4d9a30422eb1>:86: FutureWarning: The 'delim_whitespace' keyword in pd.read_csv is deprecated and will be removed in a future version. Use ``sep='\\s+'`` instead\n",
            "  df = pd.read_csv(file_path, delim_whitespace=True, header=0)\n",
            "<ipython-input-5-4d9a30422eb1>:88: FutureWarning: DataFrame.applymap has been deprecated. Use DataFrame.map instead.\n",
            "  df = df.applymap(lambda x: str(x).strip().rstrip(','))\n",
            "<ipython-input-5-4d9a30422eb1>:86: FutureWarning: The 'delim_whitespace' keyword in pd.read_csv is deprecated and will be removed in a future version. Use ``sep='\\s+'`` instead\n",
            "  df = pd.read_csv(file_path, delim_whitespace=True, header=0)\n",
            "<ipython-input-5-4d9a30422eb1>:88: FutureWarning: DataFrame.applymap has been deprecated. Use DataFrame.map instead.\n",
            "  df = df.applymap(lambda x: str(x).strip().rstrip(','))\n"
          ]
        },
        {
          "output_type": "stream",
          "name": "stdout",
          "text": [
            "✔ Successfully loaded data for participant 353\n",
            "\n",
            "Processing participant 355\n",
            "Loading transcript...\n",
            "Transcript loaded successfully\n"
          ]
        },
        {
          "output_type": "stream",
          "name": "stderr",
          "text": [
            "<ipython-input-5-4d9a30422eb1>:86: FutureWarning: The 'delim_whitespace' keyword in pd.read_csv is deprecated and will be removed in a future version. Use ``sep='\\s+'`` instead\n",
            "  df = pd.read_csv(file_path, delim_whitespace=True, header=0)\n",
            "<ipython-input-5-4d9a30422eb1>:88: FutureWarning: DataFrame.applymap has been deprecated. Use DataFrame.map instead.\n",
            "  df = df.applymap(lambda x: str(x).strip().rstrip(','))\n",
            "<ipython-input-5-4d9a30422eb1>:86: FutureWarning: The 'delim_whitespace' keyword in pd.read_csv is deprecated and will be removed in a future version. Use ``sep='\\s+'`` instead\n",
            "  df = pd.read_csv(file_path, delim_whitespace=True, header=0)\n",
            "<ipython-input-5-4d9a30422eb1>:88: FutureWarning: DataFrame.applymap has been deprecated. Use DataFrame.map instead.\n",
            "  df = df.applymap(lambda x: str(x).strip().rstrip(','))\n",
            "<ipython-input-5-4d9a30422eb1>:86: FutureWarning: The 'delim_whitespace' keyword in pd.read_csv is deprecated and will be removed in a future version. Use ``sep='\\s+'`` instead\n",
            "  df = pd.read_csv(file_path, delim_whitespace=True, header=0)\n",
            "<ipython-input-5-4d9a30422eb1>:88: FutureWarning: DataFrame.applymap has been deprecated. Use DataFrame.map instead.\n",
            "  df = df.applymap(lambda x: str(x).strip().rstrip(','))\n"
          ]
        },
        {
          "output_type": "stream",
          "name": "stdout",
          "text": [
            "✔ Successfully loaded data for participant 355\n",
            "\n",
            "Processing participant 356\n",
            "Loading transcript...\n",
            "Transcript loaded successfully\n"
          ]
        },
        {
          "output_type": "stream",
          "name": "stderr",
          "text": [
            "<ipython-input-5-4d9a30422eb1>:86: FutureWarning: The 'delim_whitespace' keyword in pd.read_csv is deprecated and will be removed in a future version. Use ``sep='\\s+'`` instead\n",
            "  df = pd.read_csv(file_path, delim_whitespace=True, header=0)\n",
            "<ipython-input-5-4d9a30422eb1>:88: FutureWarning: DataFrame.applymap has been deprecated. Use DataFrame.map instead.\n",
            "  df = df.applymap(lambda x: str(x).strip().rstrip(','))\n",
            "<ipython-input-5-4d9a30422eb1>:86: FutureWarning: The 'delim_whitespace' keyword in pd.read_csv is deprecated and will be removed in a future version. Use ``sep='\\s+'`` instead\n",
            "  df = pd.read_csv(file_path, delim_whitespace=True, header=0)\n",
            "<ipython-input-5-4d9a30422eb1>:88: FutureWarning: DataFrame.applymap has been deprecated. Use DataFrame.map instead.\n",
            "  df = df.applymap(lambda x: str(x).strip().rstrip(','))\n",
            "<ipython-input-5-4d9a30422eb1>:86: FutureWarning: The 'delim_whitespace' keyword in pd.read_csv is deprecated and will be removed in a future version. Use ``sep='\\s+'`` instead\n",
            "  df = pd.read_csv(file_path, delim_whitespace=True, header=0)\n",
            "<ipython-input-5-4d9a30422eb1>:88: FutureWarning: DataFrame.applymap has been deprecated. Use DataFrame.map instead.\n",
            "  df = df.applymap(lambda x: str(x).strip().rstrip(','))\n"
          ]
        },
        {
          "output_type": "stream",
          "name": "stdout",
          "text": [
            "✔ Successfully loaded data for participant 356\n",
            "\n",
            "Processing participant 357\n",
            "Loading transcript...\n",
            "Transcript loaded successfully\n"
          ]
        },
        {
          "output_type": "stream",
          "name": "stderr",
          "text": [
            "<ipython-input-5-4d9a30422eb1>:86: FutureWarning: The 'delim_whitespace' keyword in pd.read_csv is deprecated and will be removed in a future version. Use ``sep='\\s+'`` instead\n",
            "  df = pd.read_csv(file_path, delim_whitespace=True, header=0)\n",
            "<ipython-input-5-4d9a30422eb1>:88: FutureWarning: DataFrame.applymap has been deprecated. Use DataFrame.map instead.\n",
            "  df = df.applymap(lambda x: str(x).strip().rstrip(','))\n",
            "<ipython-input-5-4d9a30422eb1>:86: FutureWarning: The 'delim_whitespace' keyword in pd.read_csv is deprecated and will be removed in a future version. Use ``sep='\\s+'`` instead\n",
            "  df = pd.read_csv(file_path, delim_whitespace=True, header=0)\n",
            "<ipython-input-5-4d9a30422eb1>:88: FutureWarning: DataFrame.applymap has been deprecated. Use DataFrame.map instead.\n",
            "  df = df.applymap(lambda x: str(x).strip().rstrip(','))\n",
            "<ipython-input-5-4d9a30422eb1>:86: FutureWarning: The 'delim_whitespace' keyword in pd.read_csv is deprecated and will be removed in a future version. Use ``sep='\\s+'`` instead\n",
            "  df = pd.read_csv(file_path, delim_whitespace=True, header=0)\n",
            "<ipython-input-5-4d9a30422eb1>:88: FutureWarning: DataFrame.applymap has been deprecated. Use DataFrame.map instead.\n",
            "  df = df.applymap(lambda x: str(x).strip().rstrip(','))\n"
          ]
        },
        {
          "output_type": "stream",
          "name": "stdout",
          "text": [
            "✔ Successfully loaded data for participant 357\n",
            "\n",
            "Processing participant 358\n",
            "Loading transcript...\n",
            "Transcript loaded successfully\n"
          ]
        },
        {
          "output_type": "stream",
          "name": "stderr",
          "text": [
            "<ipython-input-5-4d9a30422eb1>:86: FutureWarning: The 'delim_whitespace' keyword in pd.read_csv is deprecated and will be removed in a future version. Use ``sep='\\s+'`` instead\n",
            "  df = pd.read_csv(file_path, delim_whitespace=True, header=0)\n",
            "<ipython-input-5-4d9a30422eb1>:88: FutureWarning: DataFrame.applymap has been deprecated. Use DataFrame.map instead.\n",
            "  df = df.applymap(lambda x: str(x).strip().rstrip(','))\n",
            "<ipython-input-5-4d9a30422eb1>:86: FutureWarning: The 'delim_whitespace' keyword in pd.read_csv is deprecated and will be removed in a future version. Use ``sep='\\s+'`` instead\n",
            "  df = pd.read_csv(file_path, delim_whitespace=True, header=0)\n",
            "<ipython-input-5-4d9a30422eb1>:88: FutureWarning: DataFrame.applymap has been deprecated. Use DataFrame.map instead.\n",
            "  df = df.applymap(lambda x: str(x).strip().rstrip(','))\n",
            "<ipython-input-5-4d9a30422eb1>:86: FutureWarning: The 'delim_whitespace' keyword in pd.read_csv is deprecated and will be removed in a future version. Use ``sep='\\s+'`` instead\n",
            "  df = pd.read_csv(file_path, delim_whitespace=True, header=0)\n",
            "<ipython-input-5-4d9a30422eb1>:88: FutureWarning: DataFrame.applymap has been deprecated. Use DataFrame.map instead.\n",
            "  df = df.applymap(lambda x: str(x).strip().rstrip(','))\n"
          ]
        },
        {
          "output_type": "stream",
          "name": "stdout",
          "text": [
            "✔ Successfully loaded data for participant 358\n",
            "\n",
            "Processing participant 360\n",
            "Loading transcript...\n",
            "Transcript loaded successfully\n"
          ]
        },
        {
          "output_type": "stream",
          "name": "stderr",
          "text": [
            "<ipython-input-5-4d9a30422eb1>:86: FutureWarning: The 'delim_whitespace' keyword in pd.read_csv is deprecated and will be removed in a future version. Use ``sep='\\s+'`` instead\n",
            "  df = pd.read_csv(file_path, delim_whitespace=True, header=0)\n",
            "<ipython-input-5-4d9a30422eb1>:88: FutureWarning: DataFrame.applymap has been deprecated. Use DataFrame.map instead.\n",
            "  df = df.applymap(lambda x: str(x).strip().rstrip(','))\n",
            "<ipython-input-5-4d9a30422eb1>:86: FutureWarning: The 'delim_whitespace' keyword in pd.read_csv is deprecated and will be removed in a future version. Use ``sep='\\s+'`` instead\n",
            "  df = pd.read_csv(file_path, delim_whitespace=True, header=0)\n",
            "<ipython-input-5-4d9a30422eb1>:88: FutureWarning: DataFrame.applymap has been deprecated. Use DataFrame.map instead.\n",
            "  df = df.applymap(lambda x: str(x).strip().rstrip(','))\n",
            "<ipython-input-5-4d9a30422eb1>:86: FutureWarning: The 'delim_whitespace' keyword in pd.read_csv is deprecated and will be removed in a future version. Use ``sep='\\s+'`` instead\n",
            "  df = pd.read_csv(file_path, delim_whitespace=True, header=0)\n",
            "<ipython-input-5-4d9a30422eb1>:88: FutureWarning: DataFrame.applymap has been deprecated. Use DataFrame.map instead.\n",
            "  df = df.applymap(lambda x: str(x).strip().rstrip(','))\n"
          ]
        },
        {
          "output_type": "stream",
          "name": "stdout",
          "text": [
            "✔ Successfully loaded data for participant 360\n",
            "\n",
            "Attempted to load data for 8 participants. Loaded structures for 8.\n",
            "\n",
            "Starting data loading process...\n",
            "Found 8 participants in CSV\n",
            "\n",
            "Processing participant 362\n",
            "Loading transcript...\n",
            "Transcript loaded successfully\n"
          ]
        },
        {
          "output_type": "stream",
          "name": "stderr",
          "text": [
            "<ipython-input-5-4d9a30422eb1>:86: FutureWarning: The 'delim_whitespace' keyword in pd.read_csv is deprecated and will be removed in a future version. Use ``sep='\\s+'`` instead\n",
            "  df = pd.read_csv(file_path, delim_whitespace=True, header=0)\n",
            "<ipython-input-5-4d9a30422eb1>:88: FutureWarning: DataFrame.applymap has been deprecated. Use DataFrame.map instead.\n",
            "  df = df.applymap(lambda x: str(x).strip().rstrip(','))\n",
            "<ipython-input-5-4d9a30422eb1>:86: FutureWarning: The 'delim_whitespace' keyword in pd.read_csv is deprecated and will be removed in a future version. Use ``sep='\\s+'`` instead\n",
            "  df = pd.read_csv(file_path, delim_whitespace=True, header=0)\n",
            "<ipython-input-5-4d9a30422eb1>:88: FutureWarning: DataFrame.applymap has been deprecated. Use DataFrame.map instead.\n",
            "  df = df.applymap(lambda x: str(x).strip().rstrip(','))\n",
            "<ipython-input-5-4d9a30422eb1>:86: FutureWarning: The 'delim_whitespace' keyword in pd.read_csv is deprecated and will be removed in a future version. Use ``sep='\\s+'`` instead\n",
            "  df = pd.read_csv(file_path, delim_whitespace=True, header=0)\n",
            "<ipython-input-5-4d9a30422eb1>:88: FutureWarning: DataFrame.applymap has been deprecated. Use DataFrame.map instead.\n",
            "  df = df.applymap(lambda x: str(x).strip().rstrip(','))\n"
          ]
        },
        {
          "output_type": "stream",
          "name": "stdout",
          "text": [
            "✔ Successfully loaded data for participant 362\n",
            "\n",
            "Processing participant 363\n",
            "Loading transcript...\n",
            "Transcript loaded successfully\n"
          ]
        },
        {
          "output_type": "stream",
          "name": "stderr",
          "text": [
            "<ipython-input-5-4d9a30422eb1>:86: FutureWarning: The 'delim_whitespace' keyword in pd.read_csv is deprecated and will be removed in a future version. Use ``sep='\\s+'`` instead\n",
            "  df = pd.read_csv(file_path, delim_whitespace=True, header=0)\n",
            "<ipython-input-5-4d9a30422eb1>:88: FutureWarning: DataFrame.applymap has been deprecated. Use DataFrame.map instead.\n",
            "  df = df.applymap(lambda x: str(x).strip().rstrip(','))\n",
            "<ipython-input-5-4d9a30422eb1>:86: FutureWarning: The 'delim_whitespace' keyword in pd.read_csv is deprecated and will be removed in a future version. Use ``sep='\\s+'`` instead\n",
            "  df = pd.read_csv(file_path, delim_whitespace=True, header=0)\n",
            "<ipython-input-5-4d9a30422eb1>:88: FutureWarning: DataFrame.applymap has been deprecated. Use DataFrame.map instead.\n",
            "  df = df.applymap(lambda x: str(x).strip().rstrip(','))\n",
            "<ipython-input-5-4d9a30422eb1>:86: FutureWarning: The 'delim_whitespace' keyword in pd.read_csv is deprecated and will be removed in a future version. Use ``sep='\\s+'`` instead\n",
            "  df = pd.read_csv(file_path, delim_whitespace=True, header=0)\n",
            "<ipython-input-5-4d9a30422eb1>:88: FutureWarning: DataFrame.applymap has been deprecated. Use DataFrame.map instead.\n",
            "  df = df.applymap(lambda x: str(x).strip().rstrip(','))\n"
          ]
        },
        {
          "output_type": "stream",
          "name": "stdout",
          "text": [
            "✔ Successfully loaded data for participant 363\n",
            "\n",
            "Processing participant 364\n",
            "Loading transcript...\n",
            "Transcript loaded successfully\n"
          ]
        },
        {
          "output_type": "stream",
          "name": "stderr",
          "text": [
            "<ipython-input-5-4d9a30422eb1>:86: FutureWarning: The 'delim_whitespace' keyword in pd.read_csv is deprecated and will be removed in a future version. Use ``sep='\\s+'`` instead\n",
            "  df = pd.read_csv(file_path, delim_whitespace=True, header=0)\n",
            "<ipython-input-5-4d9a30422eb1>:88: FutureWarning: DataFrame.applymap has been deprecated. Use DataFrame.map instead.\n",
            "  df = df.applymap(lambda x: str(x).strip().rstrip(','))\n",
            "<ipython-input-5-4d9a30422eb1>:86: FutureWarning: The 'delim_whitespace' keyword in pd.read_csv is deprecated and will be removed in a future version. Use ``sep='\\s+'`` instead\n",
            "  df = pd.read_csv(file_path, delim_whitespace=True, header=0)\n",
            "<ipython-input-5-4d9a30422eb1>:88: FutureWarning: DataFrame.applymap has been deprecated. Use DataFrame.map instead.\n",
            "  df = df.applymap(lambda x: str(x).strip().rstrip(','))\n",
            "<ipython-input-5-4d9a30422eb1>:86: FutureWarning: The 'delim_whitespace' keyword in pd.read_csv is deprecated and will be removed in a future version. Use ``sep='\\s+'`` instead\n",
            "  df = pd.read_csv(file_path, delim_whitespace=True, header=0)\n",
            "<ipython-input-5-4d9a30422eb1>:88: FutureWarning: DataFrame.applymap has been deprecated. Use DataFrame.map instead.\n",
            "  df = df.applymap(lambda x: str(x).strip().rstrip(','))\n"
          ]
        },
        {
          "output_type": "stream",
          "name": "stdout",
          "text": [
            "✔ Successfully loaded data for participant 364\n",
            "\n",
            "Processing participant 366\n",
            "Loading transcript...\n",
            "Transcript loaded successfully\n"
          ]
        },
        {
          "output_type": "stream",
          "name": "stderr",
          "text": [
            "<ipython-input-5-4d9a30422eb1>:86: FutureWarning: The 'delim_whitespace' keyword in pd.read_csv is deprecated and will be removed in a future version. Use ``sep='\\s+'`` instead\n",
            "  df = pd.read_csv(file_path, delim_whitespace=True, header=0)\n",
            "<ipython-input-5-4d9a30422eb1>:88: FutureWarning: DataFrame.applymap has been deprecated. Use DataFrame.map instead.\n",
            "  df = df.applymap(lambda x: str(x).strip().rstrip(','))\n",
            "<ipython-input-5-4d9a30422eb1>:86: FutureWarning: The 'delim_whitespace' keyword in pd.read_csv is deprecated and will be removed in a future version. Use ``sep='\\s+'`` instead\n",
            "  df = pd.read_csv(file_path, delim_whitespace=True, header=0)\n",
            "<ipython-input-5-4d9a30422eb1>:88: FutureWarning: DataFrame.applymap has been deprecated. Use DataFrame.map instead.\n",
            "  df = df.applymap(lambda x: str(x).strip().rstrip(','))\n",
            "<ipython-input-5-4d9a30422eb1>:86: FutureWarning: The 'delim_whitespace' keyword in pd.read_csv is deprecated and will be removed in a future version. Use ``sep='\\s+'`` instead\n",
            "  df = pd.read_csv(file_path, delim_whitespace=True, header=0)\n",
            "<ipython-input-5-4d9a30422eb1>:88: FutureWarning: DataFrame.applymap has been deprecated. Use DataFrame.map instead.\n",
            "  df = df.applymap(lambda x: str(x).strip().rstrip(','))\n"
          ]
        },
        {
          "output_type": "stream",
          "name": "stdout",
          "text": [
            "✔ Successfully loaded data for participant 366\n",
            "\n",
            "Processing participant 368\n",
            "Loading transcript...\n",
            "Transcript loaded successfully\n"
          ]
        },
        {
          "output_type": "stream",
          "name": "stderr",
          "text": [
            "<ipython-input-5-4d9a30422eb1>:86: FutureWarning: The 'delim_whitespace' keyword in pd.read_csv is deprecated and will be removed in a future version. Use ``sep='\\s+'`` instead\n",
            "  df = pd.read_csv(file_path, delim_whitespace=True, header=0)\n",
            "<ipython-input-5-4d9a30422eb1>:88: FutureWarning: DataFrame.applymap has been deprecated. Use DataFrame.map instead.\n",
            "  df = df.applymap(lambda x: str(x).strip().rstrip(','))\n",
            "<ipython-input-5-4d9a30422eb1>:86: FutureWarning: The 'delim_whitespace' keyword in pd.read_csv is deprecated and will be removed in a future version. Use ``sep='\\s+'`` instead\n",
            "  df = pd.read_csv(file_path, delim_whitespace=True, header=0)\n",
            "<ipython-input-5-4d9a30422eb1>:88: FutureWarning: DataFrame.applymap has been deprecated. Use DataFrame.map instead.\n",
            "  df = df.applymap(lambda x: str(x).strip().rstrip(','))\n",
            "<ipython-input-5-4d9a30422eb1>:86: FutureWarning: The 'delim_whitespace' keyword in pd.read_csv is deprecated and will be removed in a future version. Use ``sep='\\s+'`` instead\n",
            "  df = pd.read_csv(file_path, delim_whitespace=True, header=0)\n",
            "<ipython-input-5-4d9a30422eb1>:88: FutureWarning: DataFrame.applymap has been deprecated. Use DataFrame.map instead.\n",
            "  df = df.applymap(lambda x: str(x).strip().rstrip(','))\n"
          ]
        },
        {
          "output_type": "stream",
          "name": "stdout",
          "text": [
            "✔ Successfully loaded data for participant 368\n",
            "\n",
            "Processing participant 369\n",
            "Loading transcript...\n",
            "Transcript loaded successfully\n"
          ]
        },
        {
          "output_type": "stream",
          "name": "stderr",
          "text": [
            "<ipython-input-5-4d9a30422eb1>:86: FutureWarning: The 'delim_whitespace' keyword in pd.read_csv is deprecated and will be removed in a future version. Use ``sep='\\s+'`` instead\n",
            "  df = pd.read_csv(file_path, delim_whitespace=True, header=0)\n",
            "<ipython-input-5-4d9a30422eb1>:88: FutureWarning: DataFrame.applymap has been deprecated. Use DataFrame.map instead.\n",
            "  df = df.applymap(lambda x: str(x).strip().rstrip(','))\n",
            "<ipython-input-5-4d9a30422eb1>:86: FutureWarning: The 'delim_whitespace' keyword in pd.read_csv is deprecated and will be removed in a future version. Use ``sep='\\s+'`` instead\n",
            "  df = pd.read_csv(file_path, delim_whitespace=True, header=0)\n",
            "<ipython-input-5-4d9a30422eb1>:88: FutureWarning: DataFrame.applymap has been deprecated. Use DataFrame.map instead.\n",
            "  df = df.applymap(lambda x: str(x).strip().rstrip(','))\n",
            "<ipython-input-5-4d9a30422eb1>:86: FutureWarning: The 'delim_whitespace' keyword in pd.read_csv is deprecated and will be removed in a future version. Use ``sep='\\s+'`` instead\n",
            "  df = pd.read_csv(file_path, delim_whitespace=True, header=0)\n",
            "<ipython-input-5-4d9a30422eb1>:88: FutureWarning: DataFrame.applymap has been deprecated. Use DataFrame.map instead.\n",
            "  df = df.applymap(lambda x: str(x).strip().rstrip(','))\n"
          ]
        },
        {
          "output_type": "stream",
          "name": "stdout",
          "text": [
            "✔ Successfully loaded data for participant 369\n",
            "\n",
            "Processing participant 370\n",
            "Loading transcript...\n",
            "Transcript loaded successfully\n"
          ]
        },
        {
          "output_type": "stream",
          "name": "stderr",
          "text": [
            "<ipython-input-5-4d9a30422eb1>:86: FutureWarning: The 'delim_whitespace' keyword in pd.read_csv is deprecated and will be removed in a future version. Use ``sep='\\s+'`` instead\n",
            "  df = pd.read_csv(file_path, delim_whitespace=True, header=0)\n",
            "<ipython-input-5-4d9a30422eb1>:88: FutureWarning: DataFrame.applymap has been deprecated. Use DataFrame.map instead.\n",
            "  df = df.applymap(lambda x: str(x).strip().rstrip(','))\n",
            "<ipython-input-5-4d9a30422eb1>:86: FutureWarning: The 'delim_whitespace' keyword in pd.read_csv is deprecated and will be removed in a future version. Use ``sep='\\s+'`` instead\n",
            "  df = pd.read_csv(file_path, delim_whitespace=True, header=0)\n",
            "<ipython-input-5-4d9a30422eb1>:88: FutureWarning: DataFrame.applymap has been deprecated. Use DataFrame.map instead.\n",
            "  df = df.applymap(lambda x: str(x).strip().rstrip(','))\n",
            "<ipython-input-5-4d9a30422eb1>:86: FutureWarning: The 'delim_whitespace' keyword in pd.read_csv is deprecated and will be removed in a future version. Use ``sep='\\s+'`` instead\n",
            "  df = pd.read_csv(file_path, delim_whitespace=True, header=0)\n",
            "<ipython-input-5-4d9a30422eb1>:88: FutureWarning: DataFrame.applymap has been deprecated. Use DataFrame.map instead.\n",
            "  df = df.applymap(lambda x: str(x).strip().rstrip(','))\n"
          ]
        },
        {
          "output_type": "stream",
          "name": "stdout",
          "text": [
            "✔ Successfully loaded data for participant 370\n",
            "\n",
            "Processing participant 371\n",
            "Loading transcript...\n",
            "Transcript loaded successfully\n"
          ]
        },
        {
          "output_type": "stream",
          "name": "stderr",
          "text": [
            "<ipython-input-5-4d9a30422eb1>:86: FutureWarning: The 'delim_whitespace' keyword in pd.read_csv is deprecated and will be removed in a future version. Use ``sep='\\s+'`` instead\n",
            "  df = pd.read_csv(file_path, delim_whitespace=True, header=0)\n",
            "<ipython-input-5-4d9a30422eb1>:88: FutureWarning: DataFrame.applymap has been deprecated. Use DataFrame.map instead.\n",
            "  df = df.applymap(lambda x: str(x).strip().rstrip(','))\n",
            "<ipython-input-5-4d9a30422eb1>:86: FutureWarning: The 'delim_whitespace' keyword in pd.read_csv is deprecated and will be removed in a future version. Use ``sep='\\s+'`` instead\n",
            "  df = pd.read_csv(file_path, delim_whitespace=True, header=0)\n",
            "<ipython-input-5-4d9a30422eb1>:88: FutureWarning: DataFrame.applymap has been deprecated. Use DataFrame.map instead.\n",
            "  df = df.applymap(lambda x: str(x).strip().rstrip(','))\n",
            "<ipython-input-5-4d9a30422eb1>:86: FutureWarning: The 'delim_whitespace' keyword in pd.read_csv is deprecated and will be removed in a future version. Use ``sep='\\s+'`` instead\n",
            "  df = pd.read_csv(file_path, delim_whitespace=True, header=0)\n",
            "<ipython-input-5-4d9a30422eb1>:88: FutureWarning: DataFrame.applymap has been deprecated. Use DataFrame.map instead.\n",
            "  df = df.applymap(lambda x: str(x).strip().rstrip(','))\n"
          ]
        },
        {
          "output_type": "stream",
          "name": "stdout",
          "text": [
            "✔ Successfully loaded data for participant 371\n",
            "\n",
            "Attempted to load data for 8 participants. Loaded structures for 8.\n",
            "\n",
            "Starting data loading process...\n",
            "Found 8 participants in CSV\n",
            "\n",
            "Processing participant 372\n",
            "Loading transcript...\n",
            "Transcript loaded successfully\n"
          ]
        },
        {
          "output_type": "stream",
          "name": "stderr",
          "text": [
            "<ipython-input-5-4d9a30422eb1>:86: FutureWarning: The 'delim_whitespace' keyword in pd.read_csv is deprecated and will be removed in a future version. Use ``sep='\\s+'`` instead\n",
            "  df = pd.read_csv(file_path, delim_whitespace=True, header=0)\n",
            "<ipython-input-5-4d9a30422eb1>:88: FutureWarning: DataFrame.applymap has been deprecated. Use DataFrame.map instead.\n",
            "  df = df.applymap(lambda x: str(x).strip().rstrip(','))\n",
            "<ipython-input-5-4d9a30422eb1>:86: FutureWarning: The 'delim_whitespace' keyword in pd.read_csv is deprecated and will be removed in a future version. Use ``sep='\\s+'`` instead\n",
            "  df = pd.read_csv(file_path, delim_whitespace=True, header=0)\n",
            "<ipython-input-5-4d9a30422eb1>:88: FutureWarning: DataFrame.applymap has been deprecated. Use DataFrame.map instead.\n",
            "  df = df.applymap(lambda x: str(x).strip().rstrip(','))\n",
            "<ipython-input-5-4d9a30422eb1>:86: FutureWarning: The 'delim_whitespace' keyword in pd.read_csv is deprecated and will be removed in a future version. Use ``sep='\\s+'`` instead\n",
            "  df = pd.read_csv(file_path, delim_whitespace=True, header=0)\n",
            "<ipython-input-5-4d9a30422eb1>:88: FutureWarning: DataFrame.applymap has been deprecated. Use DataFrame.map instead.\n",
            "  df = df.applymap(lambda x: str(x).strip().rstrip(','))\n"
          ]
        },
        {
          "output_type": "stream",
          "name": "stdout",
          "text": [
            "✔ Successfully loaded data for participant 372\n",
            "\n",
            "Processing participant 374\n",
            "Loading transcript...\n",
            "Transcript loaded successfully\n"
          ]
        },
        {
          "output_type": "stream",
          "name": "stderr",
          "text": [
            "<ipython-input-5-4d9a30422eb1>:86: FutureWarning: The 'delim_whitespace' keyword in pd.read_csv is deprecated and will be removed in a future version. Use ``sep='\\s+'`` instead\n",
            "  df = pd.read_csv(file_path, delim_whitespace=True, header=0)\n",
            "<ipython-input-5-4d9a30422eb1>:88: FutureWarning: DataFrame.applymap has been deprecated. Use DataFrame.map instead.\n",
            "  df = df.applymap(lambda x: str(x).strip().rstrip(','))\n",
            "<ipython-input-5-4d9a30422eb1>:86: FutureWarning: The 'delim_whitespace' keyword in pd.read_csv is deprecated and will be removed in a future version. Use ``sep='\\s+'`` instead\n",
            "  df = pd.read_csv(file_path, delim_whitespace=True, header=0)\n",
            "<ipython-input-5-4d9a30422eb1>:88: FutureWarning: DataFrame.applymap has been deprecated. Use DataFrame.map instead.\n",
            "  df = df.applymap(lambda x: str(x).strip().rstrip(','))\n",
            "<ipython-input-5-4d9a30422eb1>:86: FutureWarning: The 'delim_whitespace' keyword in pd.read_csv is deprecated and will be removed in a future version. Use ``sep='\\s+'`` instead\n",
            "  df = pd.read_csv(file_path, delim_whitespace=True, header=0)\n",
            "<ipython-input-5-4d9a30422eb1>:88: FutureWarning: DataFrame.applymap has been deprecated. Use DataFrame.map instead.\n",
            "  df = df.applymap(lambda x: str(x).strip().rstrip(','))\n"
          ]
        },
        {
          "output_type": "stream",
          "name": "stdout",
          "text": [
            "✔ Successfully loaded data for participant 374\n",
            "\n",
            "Processing participant 375\n",
            "Loading transcript...\n",
            "Transcript loaded successfully\n"
          ]
        },
        {
          "output_type": "stream",
          "name": "stderr",
          "text": [
            "<ipython-input-5-4d9a30422eb1>:86: FutureWarning: The 'delim_whitespace' keyword in pd.read_csv is deprecated and will be removed in a future version. Use ``sep='\\s+'`` instead\n",
            "  df = pd.read_csv(file_path, delim_whitespace=True, header=0)\n",
            "<ipython-input-5-4d9a30422eb1>:88: FutureWarning: DataFrame.applymap has been deprecated. Use DataFrame.map instead.\n",
            "  df = df.applymap(lambda x: str(x).strip().rstrip(','))\n",
            "<ipython-input-5-4d9a30422eb1>:86: FutureWarning: The 'delim_whitespace' keyword in pd.read_csv is deprecated and will be removed in a future version. Use ``sep='\\s+'`` instead\n",
            "  df = pd.read_csv(file_path, delim_whitespace=True, header=0)\n",
            "<ipython-input-5-4d9a30422eb1>:88: FutureWarning: DataFrame.applymap has been deprecated. Use DataFrame.map instead.\n",
            "  df = df.applymap(lambda x: str(x).strip().rstrip(','))\n",
            "<ipython-input-5-4d9a30422eb1>:86: FutureWarning: The 'delim_whitespace' keyword in pd.read_csv is deprecated and will be removed in a future version. Use ``sep='\\s+'`` instead\n",
            "  df = pd.read_csv(file_path, delim_whitespace=True, header=0)\n",
            "<ipython-input-5-4d9a30422eb1>:88: FutureWarning: DataFrame.applymap has been deprecated. Use DataFrame.map instead.\n",
            "  df = df.applymap(lambda x: str(x).strip().rstrip(','))\n"
          ]
        },
        {
          "output_type": "stream",
          "name": "stdout",
          "text": [
            "✔ Successfully loaded data for participant 375\n",
            "\n",
            "Processing participant 376\n",
            "Loading transcript...\n",
            "Transcript loaded successfully\n"
          ]
        },
        {
          "output_type": "stream",
          "name": "stderr",
          "text": [
            "<ipython-input-5-4d9a30422eb1>:86: FutureWarning: The 'delim_whitespace' keyword in pd.read_csv is deprecated and will be removed in a future version. Use ``sep='\\s+'`` instead\n",
            "  df = pd.read_csv(file_path, delim_whitespace=True, header=0)\n",
            "<ipython-input-5-4d9a30422eb1>:88: FutureWarning: DataFrame.applymap has been deprecated. Use DataFrame.map instead.\n",
            "  df = df.applymap(lambda x: str(x).strip().rstrip(','))\n",
            "<ipython-input-5-4d9a30422eb1>:86: FutureWarning: The 'delim_whitespace' keyword in pd.read_csv is deprecated and will be removed in a future version. Use ``sep='\\s+'`` instead\n",
            "  df = pd.read_csv(file_path, delim_whitespace=True, header=0)\n",
            "<ipython-input-5-4d9a30422eb1>:88: FutureWarning: DataFrame.applymap has been deprecated. Use DataFrame.map instead.\n",
            "  df = df.applymap(lambda x: str(x).strip().rstrip(','))\n",
            "<ipython-input-5-4d9a30422eb1>:86: FutureWarning: The 'delim_whitespace' keyword in pd.read_csv is deprecated and will be removed in a future version. Use ``sep='\\s+'`` instead\n",
            "  df = pd.read_csv(file_path, delim_whitespace=True, header=0)\n",
            "<ipython-input-5-4d9a30422eb1>:88: FutureWarning: DataFrame.applymap has been deprecated. Use DataFrame.map instead.\n",
            "  df = df.applymap(lambda x: str(x).strip().rstrip(','))\n"
          ]
        },
        {
          "output_type": "stream",
          "name": "stdout",
          "text": [
            "✔ Successfully loaded data for participant 376\n",
            "\n",
            "Processing participant 379\n",
            "Loading transcript...\n",
            "Transcript loaded successfully\n"
          ]
        },
        {
          "output_type": "stream",
          "name": "stderr",
          "text": [
            "<ipython-input-5-4d9a30422eb1>:86: FutureWarning: The 'delim_whitespace' keyword in pd.read_csv is deprecated and will be removed in a future version. Use ``sep='\\s+'`` instead\n",
            "  df = pd.read_csv(file_path, delim_whitespace=True, header=0)\n",
            "<ipython-input-5-4d9a30422eb1>:88: FutureWarning: DataFrame.applymap has been deprecated. Use DataFrame.map instead.\n",
            "  df = df.applymap(lambda x: str(x).strip().rstrip(','))\n",
            "<ipython-input-5-4d9a30422eb1>:86: FutureWarning: The 'delim_whitespace' keyword in pd.read_csv is deprecated and will be removed in a future version. Use ``sep='\\s+'`` instead\n",
            "  df = pd.read_csv(file_path, delim_whitespace=True, header=0)\n",
            "<ipython-input-5-4d9a30422eb1>:88: FutureWarning: DataFrame.applymap has been deprecated. Use DataFrame.map instead.\n",
            "  df = df.applymap(lambda x: str(x).strip().rstrip(','))\n",
            "<ipython-input-5-4d9a30422eb1>:86: FutureWarning: The 'delim_whitespace' keyword in pd.read_csv is deprecated and will be removed in a future version. Use ``sep='\\s+'`` instead\n",
            "  df = pd.read_csv(file_path, delim_whitespace=True, header=0)\n",
            "<ipython-input-5-4d9a30422eb1>:88: FutureWarning: DataFrame.applymap has been deprecated. Use DataFrame.map instead.\n",
            "  df = df.applymap(lambda x: str(x).strip().rstrip(','))\n"
          ]
        },
        {
          "output_type": "stream",
          "name": "stdout",
          "text": [
            "✔ Successfully loaded data for participant 379\n",
            "\n",
            "Processing participant 380\n",
            "Loading transcript...\n",
            "Transcript loaded successfully\n"
          ]
        },
        {
          "output_type": "stream",
          "name": "stderr",
          "text": [
            "<ipython-input-5-4d9a30422eb1>:86: FutureWarning: The 'delim_whitespace' keyword in pd.read_csv is deprecated and will be removed in a future version. Use ``sep='\\s+'`` instead\n",
            "  df = pd.read_csv(file_path, delim_whitespace=True, header=0)\n",
            "<ipython-input-5-4d9a30422eb1>:88: FutureWarning: DataFrame.applymap has been deprecated. Use DataFrame.map instead.\n",
            "  df = df.applymap(lambda x: str(x).strip().rstrip(','))\n",
            "<ipython-input-5-4d9a30422eb1>:86: FutureWarning: The 'delim_whitespace' keyword in pd.read_csv is deprecated and will be removed in a future version. Use ``sep='\\s+'`` instead\n",
            "  df = pd.read_csv(file_path, delim_whitespace=True, header=0)\n",
            "<ipython-input-5-4d9a30422eb1>:88: FutureWarning: DataFrame.applymap has been deprecated. Use DataFrame.map instead.\n",
            "  df = df.applymap(lambda x: str(x).strip().rstrip(','))\n",
            "<ipython-input-5-4d9a30422eb1>:86: FutureWarning: The 'delim_whitespace' keyword in pd.read_csv is deprecated and will be removed in a future version. Use ``sep='\\s+'`` instead\n",
            "  df = pd.read_csv(file_path, delim_whitespace=True, header=0)\n",
            "<ipython-input-5-4d9a30422eb1>:88: FutureWarning: DataFrame.applymap has been deprecated. Use DataFrame.map instead.\n",
            "  df = df.applymap(lambda x: str(x).strip().rstrip(','))\n"
          ]
        },
        {
          "output_type": "stream",
          "name": "stdout",
          "text": [
            "✔ Successfully loaded data for participant 380\n",
            "\n",
            "Processing participant 383\n",
            "Loading transcript...\n",
            "Transcript loaded successfully\n"
          ]
        },
        {
          "output_type": "stream",
          "name": "stderr",
          "text": [
            "<ipython-input-5-4d9a30422eb1>:86: FutureWarning: The 'delim_whitespace' keyword in pd.read_csv is deprecated and will be removed in a future version. Use ``sep='\\s+'`` instead\n",
            "  df = pd.read_csv(file_path, delim_whitespace=True, header=0)\n",
            "<ipython-input-5-4d9a30422eb1>:88: FutureWarning: DataFrame.applymap has been deprecated. Use DataFrame.map instead.\n",
            "  df = df.applymap(lambda x: str(x).strip().rstrip(','))\n",
            "<ipython-input-5-4d9a30422eb1>:86: FutureWarning: The 'delim_whitespace' keyword in pd.read_csv is deprecated and will be removed in a future version. Use ``sep='\\s+'`` instead\n",
            "  df = pd.read_csv(file_path, delim_whitespace=True, header=0)\n",
            "<ipython-input-5-4d9a30422eb1>:88: FutureWarning: DataFrame.applymap has been deprecated. Use DataFrame.map instead.\n",
            "  df = df.applymap(lambda x: str(x).strip().rstrip(','))\n",
            "<ipython-input-5-4d9a30422eb1>:86: FutureWarning: The 'delim_whitespace' keyword in pd.read_csv is deprecated and will be removed in a future version. Use ``sep='\\s+'`` instead\n",
            "  df = pd.read_csv(file_path, delim_whitespace=True, header=0)\n",
            "<ipython-input-5-4d9a30422eb1>:88: FutureWarning: DataFrame.applymap has been deprecated. Use DataFrame.map instead.\n",
            "  df = df.applymap(lambda x: str(x).strip().rstrip(','))\n"
          ]
        },
        {
          "output_type": "stream",
          "name": "stdout",
          "text": [
            "✔ Successfully loaded data for participant 383\n",
            "\n",
            "Processing participant 385\n",
            "Loading transcript...\n",
            "Transcript loaded successfully\n"
          ]
        },
        {
          "output_type": "stream",
          "name": "stderr",
          "text": [
            "<ipython-input-5-4d9a30422eb1>:86: FutureWarning: The 'delim_whitespace' keyword in pd.read_csv is deprecated and will be removed in a future version. Use ``sep='\\s+'`` instead\n",
            "  df = pd.read_csv(file_path, delim_whitespace=True, header=0)\n",
            "<ipython-input-5-4d9a30422eb1>:88: FutureWarning: DataFrame.applymap has been deprecated. Use DataFrame.map instead.\n",
            "  df = df.applymap(lambda x: str(x).strip().rstrip(','))\n",
            "<ipython-input-5-4d9a30422eb1>:86: FutureWarning: The 'delim_whitespace' keyword in pd.read_csv is deprecated and will be removed in a future version. Use ``sep='\\s+'`` instead\n",
            "  df = pd.read_csv(file_path, delim_whitespace=True, header=0)\n",
            "<ipython-input-5-4d9a30422eb1>:88: FutureWarning: DataFrame.applymap has been deprecated. Use DataFrame.map instead.\n",
            "  df = df.applymap(lambda x: str(x).strip().rstrip(','))\n",
            "<ipython-input-5-4d9a30422eb1>:86: FutureWarning: The 'delim_whitespace' keyword in pd.read_csv is deprecated and will be removed in a future version. Use ``sep='\\s+'`` instead\n",
            "  df = pd.read_csv(file_path, delim_whitespace=True, header=0)\n",
            "<ipython-input-5-4d9a30422eb1>:88: FutureWarning: DataFrame.applymap has been deprecated. Use DataFrame.map instead.\n",
            "  df = df.applymap(lambda x: str(x).strip().rstrip(','))\n"
          ]
        },
        {
          "output_type": "stream",
          "name": "stdout",
          "text": [
            "✔ Successfully loaded data for participant 385\n",
            "\n",
            "Attempted to load data for 8 participants. Loaded structures for 8.\n",
            "\n",
            "Starting data loading process...\n",
            "Found 8 participants in CSV\n",
            "\n",
            "Processing participant 386\n",
            "Loading transcript...\n",
            "Transcript loaded successfully\n"
          ]
        },
        {
          "output_type": "stream",
          "name": "stderr",
          "text": [
            "<ipython-input-5-4d9a30422eb1>:86: FutureWarning: The 'delim_whitespace' keyword in pd.read_csv is deprecated and will be removed in a future version. Use ``sep='\\s+'`` instead\n",
            "  df = pd.read_csv(file_path, delim_whitespace=True, header=0)\n",
            "<ipython-input-5-4d9a30422eb1>:88: FutureWarning: DataFrame.applymap has been deprecated. Use DataFrame.map instead.\n",
            "  df = df.applymap(lambda x: str(x).strip().rstrip(','))\n",
            "<ipython-input-5-4d9a30422eb1>:86: FutureWarning: The 'delim_whitespace' keyword in pd.read_csv is deprecated and will be removed in a future version. Use ``sep='\\s+'`` instead\n",
            "  df = pd.read_csv(file_path, delim_whitespace=True, header=0)\n",
            "<ipython-input-5-4d9a30422eb1>:88: FutureWarning: DataFrame.applymap has been deprecated. Use DataFrame.map instead.\n",
            "  df = df.applymap(lambda x: str(x).strip().rstrip(','))\n",
            "<ipython-input-5-4d9a30422eb1>:86: FutureWarning: The 'delim_whitespace' keyword in pd.read_csv is deprecated and will be removed in a future version. Use ``sep='\\s+'`` instead\n",
            "  df = pd.read_csv(file_path, delim_whitespace=True, header=0)\n",
            "<ipython-input-5-4d9a30422eb1>:88: FutureWarning: DataFrame.applymap has been deprecated. Use DataFrame.map instead.\n",
            "  df = df.applymap(lambda x: str(x).strip().rstrip(','))\n"
          ]
        },
        {
          "output_type": "stream",
          "name": "stdout",
          "text": [
            "✔ Successfully loaded data for participant 386\n",
            "\n",
            "Processing participant 391\n",
            "Loading transcript...\n",
            "Transcript loaded successfully\n"
          ]
        },
        {
          "output_type": "stream",
          "name": "stderr",
          "text": [
            "<ipython-input-5-4d9a30422eb1>:86: FutureWarning: The 'delim_whitespace' keyword in pd.read_csv is deprecated and will be removed in a future version. Use ``sep='\\s+'`` instead\n",
            "  df = pd.read_csv(file_path, delim_whitespace=True, header=0)\n",
            "<ipython-input-5-4d9a30422eb1>:88: FutureWarning: DataFrame.applymap has been deprecated. Use DataFrame.map instead.\n",
            "  df = df.applymap(lambda x: str(x).strip().rstrip(','))\n",
            "<ipython-input-5-4d9a30422eb1>:86: FutureWarning: The 'delim_whitespace' keyword in pd.read_csv is deprecated and will be removed in a future version. Use ``sep='\\s+'`` instead\n",
            "  df = pd.read_csv(file_path, delim_whitespace=True, header=0)\n",
            "<ipython-input-5-4d9a30422eb1>:88: FutureWarning: DataFrame.applymap has been deprecated. Use DataFrame.map instead.\n",
            "  df = df.applymap(lambda x: str(x).strip().rstrip(','))\n",
            "<ipython-input-5-4d9a30422eb1>:86: FutureWarning: The 'delim_whitespace' keyword in pd.read_csv is deprecated and will be removed in a future version. Use ``sep='\\s+'`` instead\n",
            "  df = pd.read_csv(file_path, delim_whitespace=True, header=0)\n",
            "<ipython-input-5-4d9a30422eb1>:88: FutureWarning: DataFrame.applymap has been deprecated. Use DataFrame.map instead.\n",
            "  df = df.applymap(lambda x: str(x).strip().rstrip(','))\n"
          ]
        },
        {
          "output_type": "stream",
          "name": "stdout",
          "text": [
            "✔ Successfully loaded data for participant 391\n",
            "\n",
            "Processing participant 392\n",
            "Loading transcript...\n",
            "Transcript loaded successfully\n"
          ]
        },
        {
          "output_type": "stream",
          "name": "stderr",
          "text": [
            "<ipython-input-5-4d9a30422eb1>:86: FutureWarning: The 'delim_whitespace' keyword in pd.read_csv is deprecated and will be removed in a future version. Use ``sep='\\s+'`` instead\n",
            "  df = pd.read_csv(file_path, delim_whitespace=True, header=0)\n",
            "<ipython-input-5-4d9a30422eb1>:88: FutureWarning: DataFrame.applymap has been deprecated. Use DataFrame.map instead.\n",
            "  df = df.applymap(lambda x: str(x).strip().rstrip(','))\n",
            "<ipython-input-5-4d9a30422eb1>:86: FutureWarning: The 'delim_whitespace' keyword in pd.read_csv is deprecated and will be removed in a future version. Use ``sep='\\s+'`` instead\n",
            "  df = pd.read_csv(file_path, delim_whitespace=True, header=0)\n",
            "<ipython-input-5-4d9a30422eb1>:88: FutureWarning: DataFrame.applymap has been deprecated. Use DataFrame.map instead.\n",
            "  df = df.applymap(lambda x: str(x).strip().rstrip(','))\n",
            "<ipython-input-5-4d9a30422eb1>:86: FutureWarning: The 'delim_whitespace' keyword in pd.read_csv is deprecated and will be removed in a future version. Use ``sep='\\s+'`` instead\n",
            "  df = pd.read_csv(file_path, delim_whitespace=True, header=0)\n",
            "<ipython-input-5-4d9a30422eb1>:88: FutureWarning: DataFrame.applymap has been deprecated. Use DataFrame.map instead.\n",
            "  df = df.applymap(lambda x: str(x).strip().rstrip(','))\n"
          ]
        },
        {
          "output_type": "stream",
          "name": "stdout",
          "text": [
            "✔ Successfully loaded data for participant 392\n",
            "\n",
            "Processing participant 393\n",
            "Loading transcript...\n",
            "Transcript loaded successfully\n"
          ]
        },
        {
          "output_type": "stream",
          "name": "stderr",
          "text": [
            "<ipython-input-5-4d9a30422eb1>:86: FutureWarning: The 'delim_whitespace' keyword in pd.read_csv is deprecated and will be removed in a future version. Use ``sep='\\s+'`` instead\n",
            "  df = pd.read_csv(file_path, delim_whitespace=True, header=0)\n",
            "<ipython-input-5-4d9a30422eb1>:88: FutureWarning: DataFrame.applymap has been deprecated. Use DataFrame.map instead.\n",
            "  df = df.applymap(lambda x: str(x).strip().rstrip(','))\n",
            "<ipython-input-5-4d9a30422eb1>:86: FutureWarning: The 'delim_whitespace' keyword in pd.read_csv is deprecated and will be removed in a future version. Use ``sep='\\s+'`` instead\n",
            "  df = pd.read_csv(file_path, delim_whitespace=True, header=0)\n",
            "<ipython-input-5-4d9a30422eb1>:88: FutureWarning: DataFrame.applymap has been deprecated. Use DataFrame.map instead.\n",
            "  df = df.applymap(lambda x: str(x).strip().rstrip(','))\n",
            "<ipython-input-5-4d9a30422eb1>:86: FutureWarning: The 'delim_whitespace' keyword in pd.read_csv is deprecated and will be removed in a future version. Use ``sep='\\s+'`` instead\n",
            "  df = pd.read_csv(file_path, delim_whitespace=True, header=0)\n",
            "<ipython-input-5-4d9a30422eb1>:88: FutureWarning: DataFrame.applymap has been deprecated. Use DataFrame.map instead.\n",
            "  df = df.applymap(lambda x: str(x).strip().rstrip(','))\n"
          ]
        },
        {
          "output_type": "stream",
          "name": "stdout",
          "text": [
            "✔ Successfully loaded data for participant 393\n",
            "\n",
            "Processing participant 397\n",
            "Loading transcript...\n",
            "Transcript loaded successfully\n"
          ]
        },
        {
          "output_type": "stream",
          "name": "stderr",
          "text": [
            "<ipython-input-5-4d9a30422eb1>:86: FutureWarning: The 'delim_whitespace' keyword in pd.read_csv is deprecated and will be removed in a future version. Use ``sep='\\s+'`` instead\n",
            "  df = pd.read_csv(file_path, delim_whitespace=True, header=0)\n",
            "<ipython-input-5-4d9a30422eb1>:88: FutureWarning: DataFrame.applymap has been deprecated. Use DataFrame.map instead.\n",
            "  df = df.applymap(lambda x: str(x).strip().rstrip(','))\n",
            "<ipython-input-5-4d9a30422eb1>:86: FutureWarning: The 'delim_whitespace' keyword in pd.read_csv is deprecated and will be removed in a future version. Use ``sep='\\s+'`` instead\n",
            "  df = pd.read_csv(file_path, delim_whitespace=True, header=0)\n",
            "<ipython-input-5-4d9a30422eb1>:88: FutureWarning: DataFrame.applymap has been deprecated. Use DataFrame.map instead.\n",
            "  df = df.applymap(lambda x: str(x).strip().rstrip(','))\n",
            "<ipython-input-5-4d9a30422eb1>:86: FutureWarning: The 'delim_whitespace' keyword in pd.read_csv is deprecated and will be removed in a future version. Use ``sep='\\s+'`` instead\n",
            "  df = pd.read_csv(file_path, delim_whitespace=True, header=0)\n",
            "<ipython-input-5-4d9a30422eb1>:88: FutureWarning: DataFrame.applymap has been deprecated. Use DataFrame.map instead.\n",
            "  df = df.applymap(lambda x: str(x).strip().rstrip(','))\n"
          ]
        },
        {
          "output_type": "stream",
          "name": "stdout",
          "text": [
            "✔ Successfully loaded data for participant 397\n",
            "\n",
            "Processing participant 400\n",
            "Loading transcript...\n",
            "Transcript loaded successfully\n"
          ]
        },
        {
          "output_type": "stream",
          "name": "stderr",
          "text": [
            "<ipython-input-5-4d9a30422eb1>:86: FutureWarning: The 'delim_whitespace' keyword in pd.read_csv is deprecated and will be removed in a future version. Use ``sep='\\s+'`` instead\n",
            "  df = pd.read_csv(file_path, delim_whitespace=True, header=0)\n",
            "<ipython-input-5-4d9a30422eb1>:88: FutureWarning: DataFrame.applymap has been deprecated. Use DataFrame.map instead.\n",
            "  df = df.applymap(lambda x: str(x).strip().rstrip(','))\n",
            "<ipython-input-5-4d9a30422eb1>:86: FutureWarning: The 'delim_whitespace' keyword in pd.read_csv is deprecated and will be removed in a future version. Use ``sep='\\s+'`` instead\n",
            "  df = pd.read_csv(file_path, delim_whitespace=True, header=0)\n",
            "<ipython-input-5-4d9a30422eb1>:88: FutureWarning: DataFrame.applymap has been deprecated. Use DataFrame.map instead.\n",
            "  df = df.applymap(lambda x: str(x).strip().rstrip(','))\n",
            "<ipython-input-5-4d9a30422eb1>:86: FutureWarning: The 'delim_whitespace' keyword in pd.read_csv is deprecated and will be removed in a future version. Use ``sep='\\s+'`` instead\n",
            "  df = pd.read_csv(file_path, delim_whitespace=True, header=0)\n",
            "<ipython-input-5-4d9a30422eb1>:88: FutureWarning: DataFrame.applymap has been deprecated. Use DataFrame.map instead.\n",
            "  df = df.applymap(lambda x: str(x).strip().rstrip(','))\n"
          ]
        },
        {
          "output_type": "stream",
          "name": "stdout",
          "text": [
            "✔ Successfully loaded data for participant 400\n",
            "\n",
            "Processing participant 401\n",
            "Loading transcript...\n",
            "Transcript loaded successfully\n"
          ]
        },
        {
          "output_type": "stream",
          "name": "stderr",
          "text": [
            "<ipython-input-5-4d9a30422eb1>:86: FutureWarning: The 'delim_whitespace' keyword in pd.read_csv is deprecated and will be removed in a future version. Use ``sep='\\s+'`` instead\n",
            "  df = pd.read_csv(file_path, delim_whitespace=True, header=0)\n",
            "<ipython-input-5-4d9a30422eb1>:88: FutureWarning: DataFrame.applymap has been deprecated. Use DataFrame.map instead.\n",
            "  df = df.applymap(lambda x: str(x).strip().rstrip(','))\n",
            "<ipython-input-5-4d9a30422eb1>:86: FutureWarning: The 'delim_whitespace' keyword in pd.read_csv is deprecated and will be removed in a future version. Use ``sep='\\s+'`` instead\n",
            "  df = pd.read_csv(file_path, delim_whitespace=True, header=0)\n",
            "<ipython-input-5-4d9a30422eb1>:88: FutureWarning: DataFrame.applymap has been deprecated. Use DataFrame.map instead.\n",
            "  df = df.applymap(lambda x: str(x).strip().rstrip(','))\n",
            "<ipython-input-5-4d9a30422eb1>:86: FutureWarning: The 'delim_whitespace' keyword in pd.read_csv is deprecated and will be removed in a future version. Use ``sep='\\s+'`` instead\n",
            "  df = pd.read_csv(file_path, delim_whitespace=True, header=0)\n",
            "<ipython-input-5-4d9a30422eb1>:88: FutureWarning: DataFrame.applymap has been deprecated. Use DataFrame.map instead.\n",
            "  df = df.applymap(lambda x: str(x).strip().rstrip(','))\n"
          ]
        },
        {
          "output_type": "stream",
          "name": "stdout",
          "text": [
            "✔ Successfully loaded data for participant 401\n",
            "\n",
            "Processing participant 402\n",
            "Loading transcript...\n",
            "Transcript loaded successfully\n"
          ]
        },
        {
          "output_type": "stream",
          "name": "stderr",
          "text": [
            "<ipython-input-5-4d9a30422eb1>:86: FutureWarning: The 'delim_whitespace' keyword in pd.read_csv is deprecated and will be removed in a future version. Use ``sep='\\s+'`` instead\n",
            "  df = pd.read_csv(file_path, delim_whitespace=True, header=0)\n",
            "<ipython-input-5-4d9a30422eb1>:88: FutureWarning: DataFrame.applymap has been deprecated. Use DataFrame.map instead.\n",
            "  df = df.applymap(lambda x: str(x).strip().rstrip(','))\n",
            "<ipython-input-5-4d9a30422eb1>:86: FutureWarning: The 'delim_whitespace' keyword in pd.read_csv is deprecated and will be removed in a future version. Use ``sep='\\s+'`` instead\n",
            "  df = pd.read_csv(file_path, delim_whitespace=True, header=0)\n",
            "<ipython-input-5-4d9a30422eb1>:88: FutureWarning: DataFrame.applymap has been deprecated. Use DataFrame.map instead.\n",
            "  df = df.applymap(lambda x: str(x).strip().rstrip(','))\n",
            "<ipython-input-5-4d9a30422eb1>:86: FutureWarning: The 'delim_whitespace' keyword in pd.read_csv is deprecated and will be removed in a future version. Use ``sep='\\s+'`` instead\n",
            "  df = pd.read_csv(file_path, delim_whitespace=True, header=0)\n",
            "<ipython-input-5-4d9a30422eb1>:88: FutureWarning: DataFrame.applymap has been deprecated. Use DataFrame.map instead.\n",
            "  df = df.applymap(lambda x: str(x).strip().rstrip(','))\n"
          ]
        },
        {
          "output_type": "stream",
          "name": "stdout",
          "text": [
            "✔ Successfully loaded data for participant 402\n",
            "\n",
            "Attempted to load data for 8 participants. Loaded structures for 8.\n",
            "\n",
            "Starting data loading process...\n",
            "Found 8 participants in CSV\n",
            "\n",
            "Processing participant 409\n",
            "Loading transcript...\n",
            "Transcript loaded successfully\n"
          ]
        },
        {
          "output_type": "stream",
          "name": "stderr",
          "text": [
            "<ipython-input-5-4d9a30422eb1>:86: FutureWarning: The 'delim_whitespace' keyword in pd.read_csv is deprecated and will be removed in a future version. Use ``sep='\\s+'`` instead\n",
            "  df = pd.read_csv(file_path, delim_whitespace=True, header=0)\n",
            "<ipython-input-5-4d9a30422eb1>:88: FutureWarning: DataFrame.applymap has been deprecated. Use DataFrame.map instead.\n",
            "  df = df.applymap(lambda x: str(x).strip().rstrip(','))\n",
            "<ipython-input-5-4d9a30422eb1>:86: FutureWarning: The 'delim_whitespace' keyword in pd.read_csv is deprecated and will be removed in a future version. Use ``sep='\\s+'`` instead\n",
            "  df = pd.read_csv(file_path, delim_whitespace=True, header=0)\n",
            "<ipython-input-5-4d9a30422eb1>:88: FutureWarning: DataFrame.applymap has been deprecated. Use DataFrame.map instead.\n",
            "  df = df.applymap(lambda x: str(x).strip().rstrip(','))\n",
            "<ipython-input-5-4d9a30422eb1>:86: FutureWarning: The 'delim_whitespace' keyword in pd.read_csv is deprecated and will be removed in a future version. Use ``sep='\\s+'`` instead\n",
            "  df = pd.read_csv(file_path, delim_whitespace=True, header=0)\n",
            "<ipython-input-5-4d9a30422eb1>:88: FutureWarning: DataFrame.applymap has been deprecated. Use DataFrame.map instead.\n",
            "  df = df.applymap(lambda x: str(x).strip().rstrip(','))\n"
          ]
        },
        {
          "output_type": "stream",
          "name": "stdout",
          "text": [
            "✔ Successfully loaded data for participant 409\n",
            "\n",
            "Processing participant 412\n",
            "Loading transcript...\n",
            "Transcript loaded successfully\n"
          ]
        },
        {
          "output_type": "stream",
          "name": "stderr",
          "text": [
            "<ipython-input-5-4d9a30422eb1>:86: FutureWarning: The 'delim_whitespace' keyword in pd.read_csv is deprecated and will be removed in a future version. Use ``sep='\\s+'`` instead\n",
            "  df = pd.read_csv(file_path, delim_whitespace=True, header=0)\n",
            "<ipython-input-5-4d9a30422eb1>:88: FutureWarning: DataFrame.applymap has been deprecated. Use DataFrame.map instead.\n",
            "  df = df.applymap(lambda x: str(x).strip().rstrip(','))\n",
            "<ipython-input-5-4d9a30422eb1>:86: FutureWarning: The 'delim_whitespace' keyword in pd.read_csv is deprecated and will be removed in a future version. Use ``sep='\\s+'`` instead\n",
            "  df = pd.read_csv(file_path, delim_whitespace=True, header=0)\n",
            "<ipython-input-5-4d9a30422eb1>:88: FutureWarning: DataFrame.applymap has been deprecated. Use DataFrame.map instead.\n",
            "  df = df.applymap(lambda x: str(x).strip().rstrip(','))\n",
            "<ipython-input-5-4d9a30422eb1>:86: FutureWarning: The 'delim_whitespace' keyword in pd.read_csv is deprecated and will be removed in a future version. Use ``sep='\\s+'`` instead\n",
            "  df = pd.read_csv(file_path, delim_whitespace=True, header=0)\n",
            "<ipython-input-5-4d9a30422eb1>:88: FutureWarning: DataFrame.applymap has been deprecated. Use DataFrame.map instead.\n",
            "  df = df.applymap(lambda x: str(x).strip().rstrip(','))\n"
          ]
        },
        {
          "output_type": "stream",
          "name": "stdout",
          "text": [
            "✔ Successfully loaded data for participant 412\n",
            "\n",
            "Processing participant 414\n",
            "Loading transcript...\n",
            "Transcript loaded successfully\n"
          ]
        },
        {
          "output_type": "stream",
          "name": "stderr",
          "text": [
            "<ipython-input-5-4d9a30422eb1>:86: FutureWarning: The 'delim_whitespace' keyword in pd.read_csv is deprecated and will be removed in a future version. Use ``sep='\\s+'`` instead\n",
            "  df = pd.read_csv(file_path, delim_whitespace=True, header=0)\n",
            "<ipython-input-5-4d9a30422eb1>:88: FutureWarning: DataFrame.applymap has been deprecated. Use DataFrame.map instead.\n",
            "  df = df.applymap(lambda x: str(x).strip().rstrip(','))\n",
            "<ipython-input-5-4d9a30422eb1>:86: FutureWarning: The 'delim_whitespace' keyword in pd.read_csv is deprecated and will be removed in a future version. Use ``sep='\\s+'`` instead\n",
            "  df = pd.read_csv(file_path, delim_whitespace=True, header=0)\n",
            "<ipython-input-5-4d9a30422eb1>:88: FutureWarning: DataFrame.applymap has been deprecated. Use DataFrame.map instead.\n",
            "  df = df.applymap(lambda x: str(x).strip().rstrip(','))\n",
            "<ipython-input-5-4d9a30422eb1>:86: FutureWarning: The 'delim_whitespace' keyword in pd.read_csv is deprecated and will be removed in a future version. Use ``sep='\\s+'`` instead\n",
            "  df = pd.read_csv(file_path, delim_whitespace=True, header=0)\n",
            "<ipython-input-5-4d9a30422eb1>:88: FutureWarning: DataFrame.applymap has been deprecated. Use DataFrame.map instead.\n",
            "  df = df.applymap(lambda x: str(x).strip().rstrip(','))\n"
          ]
        },
        {
          "output_type": "stream",
          "name": "stdout",
          "text": [
            "✔ Successfully loaded data for participant 414\n",
            "\n",
            "Processing participant 415\n",
            "Loading transcript...\n",
            "Transcript loaded successfully\n"
          ]
        },
        {
          "output_type": "stream",
          "name": "stderr",
          "text": [
            "<ipython-input-5-4d9a30422eb1>:86: FutureWarning: The 'delim_whitespace' keyword in pd.read_csv is deprecated and will be removed in a future version. Use ``sep='\\s+'`` instead\n",
            "  df = pd.read_csv(file_path, delim_whitespace=True, header=0)\n",
            "<ipython-input-5-4d9a30422eb1>:88: FutureWarning: DataFrame.applymap has been deprecated. Use DataFrame.map instead.\n",
            "  df = df.applymap(lambda x: str(x).strip().rstrip(','))\n",
            "<ipython-input-5-4d9a30422eb1>:86: FutureWarning: The 'delim_whitespace' keyword in pd.read_csv is deprecated and will be removed in a future version. Use ``sep='\\s+'`` instead\n",
            "  df = pd.read_csv(file_path, delim_whitespace=True, header=0)\n",
            "<ipython-input-5-4d9a30422eb1>:88: FutureWarning: DataFrame.applymap has been deprecated. Use DataFrame.map instead.\n",
            "  df = df.applymap(lambda x: str(x).strip().rstrip(','))\n",
            "<ipython-input-5-4d9a30422eb1>:86: FutureWarning: The 'delim_whitespace' keyword in pd.read_csv is deprecated and will be removed in a future version. Use ``sep='\\s+'`` instead\n",
            "  df = pd.read_csv(file_path, delim_whitespace=True, header=0)\n",
            "<ipython-input-5-4d9a30422eb1>:88: FutureWarning: DataFrame.applymap has been deprecated. Use DataFrame.map instead.\n",
            "  df = df.applymap(lambda x: str(x).strip().rstrip(','))\n"
          ]
        },
        {
          "output_type": "stream",
          "name": "stdout",
          "text": [
            "✔ Successfully loaded data for participant 415\n",
            "\n",
            "Processing participant 416\n",
            "Loading transcript...\n",
            "Transcript loaded successfully\n"
          ]
        },
        {
          "output_type": "stream",
          "name": "stderr",
          "text": [
            "<ipython-input-5-4d9a30422eb1>:86: FutureWarning: The 'delim_whitespace' keyword in pd.read_csv is deprecated and will be removed in a future version. Use ``sep='\\s+'`` instead\n",
            "  df = pd.read_csv(file_path, delim_whitespace=True, header=0)\n",
            "<ipython-input-5-4d9a30422eb1>:88: FutureWarning: DataFrame.applymap has been deprecated. Use DataFrame.map instead.\n",
            "  df = df.applymap(lambda x: str(x).strip().rstrip(','))\n",
            "<ipython-input-5-4d9a30422eb1>:86: FutureWarning: The 'delim_whitespace' keyword in pd.read_csv is deprecated and will be removed in a future version. Use ``sep='\\s+'`` instead\n",
            "  df = pd.read_csv(file_path, delim_whitespace=True, header=0)\n",
            "<ipython-input-5-4d9a30422eb1>:88: FutureWarning: DataFrame.applymap has been deprecated. Use DataFrame.map instead.\n",
            "  df = df.applymap(lambda x: str(x).strip().rstrip(','))\n",
            "<ipython-input-5-4d9a30422eb1>:86: FutureWarning: The 'delim_whitespace' keyword in pd.read_csv is deprecated and will be removed in a future version. Use ``sep='\\s+'`` instead\n",
            "  df = pd.read_csv(file_path, delim_whitespace=True, header=0)\n",
            "<ipython-input-5-4d9a30422eb1>:88: FutureWarning: DataFrame.applymap has been deprecated. Use DataFrame.map instead.\n",
            "  df = df.applymap(lambda x: str(x).strip().rstrip(','))\n"
          ]
        },
        {
          "output_type": "stream",
          "name": "stdout",
          "text": [
            "✔ Successfully loaded data for participant 416\n",
            "\n",
            "Processing participant 419\n",
            "Loading transcript...\n",
            "Transcript loaded successfully\n"
          ]
        },
        {
          "output_type": "stream",
          "name": "stderr",
          "text": [
            "<ipython-input-5-4d9a30422eb1>:86: FutureWarning: The 'delim_whitespace' keyword in pd.read_csv is deprecated and will be removed in a future version. Use ``sep='\\s+'`` instead\n",
            "  df = pd.read_csv(file_path, delim_whitespace=True, header=0)\n",
            "<ipython-input-5-4d9a30422eb1>:88: FutureWarning: DataFrame.applymap has been deprecated. Use DataFrame.map instead.\n",
            "  df = df.applymap(lambda x: str(x).strip().rstrip(','))\n",
            "<ipython-input-5-4d9a30422eb1>:86: FutureWarning: The 'delim_whitespace' keyword in pd.read_csv is deprecated and will be removed in a future version. Use ``sep='\\s+'`` instead\n",
            "  df = pd.read_csv(file_path, delim_whitespace=True, header=0)\n",
            "<ipython-input-5-4d9a30422eb1>:88: FutureWarning: DataFrame.applymap has been deprecated. Use DataFrame.map instead.\n",
            "  df = df.applymap(lambda x: str(x).strip().rstrip(','))\n",
            "<ipython-input-5-4d9a30422eb1>:86: FutureWarning: The 'delim_whitespace' keyword in pd.read_csv is deprecated and will be removed in a future version. Use ``sep='\\s+'`` instead\n",
            "  df = pd.read_csv(file_path, delim_whitespace=True, header=0)\n",
            "<ipython-input-5-4d9a30422eb1>:88: FutureWarning: DataFrame.applymap has been deprecated. Use DataFrame.map instead.\n",
            "  df = df.applymap(lambda x: str(x).strip().rstrip(','))\n"
          ]
        },
        {
          "output_type": "stream",
          "name": "stdout",
          "text": [
            "✔ Successfully loaded data for participant 419\n",
            "\n",
            "Processing participant 423\n",
            "Loading transcript...\n",
            "Transcript loaded successfully\n"
          ]
        },
        {
          "output_type": "stream",
          "name": "stderr",
          "text": [
            "<ipython-input-5-4d9a30422eb1>:86: FutureWarning: The 'delim_whitespace' keyword in pd.read_csv is deprecated and will be removed in a future version. Use ``sep='\\s+'`` instead\n",
            "  df = pd.read_csv(file_path, delim_whitespace=True, header=0)\n",
            "<ipython-input-5-4d9a30422eb1>:88: FutureWarning: DataFrame.applymap has been deprecated. Use DataFrame.map instead.\n",
            "  df = df.applymap(lambda x: str(x).strip().rstrip(','))\n",
            "<ipython-input-5-4d9a30422eb1>:86: FutureWarning: The 'delim_whitespace' keyword in pd.read_csv is deprecated and will be removed in a future version. Use ``sep='\\s+'`` instead\n",
            "  df = pd.read_csv(file_path, delim_whitespace=True, header=0)\n",
            "<ipython-input-5-4d9a30422eb1>:88: FutureWarning: DataFrame.applymap has been deprecated. Use DataFrame.map instead.\n",
            "  df = df.applymap(lambda x: str(x).strip().rstrip(','))\n",
            "<ipython-input-5-4d9a30422eb1>:86: FutureWarning: The 'delim_whitespace' keyword in pd.read_csv is deprecated and will be removed in a future version. Use ``sep='\\s+'`` instead\n",
            "  df = pd.read_csv(file_path, delim_whitespace=True, header=0)\n",
            "<ipython-input-5-4d9a30422eb1>:88: FutureWarning: DataFrame.applymap has been deprecated. Use DataFrame.map instead.\n",
            "  df = df.applymap(lambda x: str(x).strip().rstrip(','))\n"
          ]
        },
        {
          "output_type": "stream",
          "name": "stdout",
          "text": [
            "✔ Successfully loaded data for participant 423\n",
            "\n",
            "Processing participant 425\n",
            "Loading transcript...\n",
            "Transcript loaded successfully\n"
          ]
        },
        {
          "output_type": "stream",
          "name": "stderr",
          "text": [
            "<ipython-input-5-4d9a30422eb1>:86: FutureWarning: The 'delim_whitespace' keyword in pd.read_csv is deprecated and will be removed in a future version. Use ``sep='\\s+'`` instead\n",
            "  df = pd.read_csv(file_path, delim_whitespace=True, header=0)\n",
            "<ipython-input-5-4d9a30422eb1>:88: FutureWarning: DataFrame.applymap has been deprecated. Use DataFrame.map instead.\n",
            "  df = df.applymap(lambda x: str(x).strip().rstrip(','))\n",
            "<ipython-input-5-4d9a30422eb1>:86: FutureWarning: The 'delim_whitespace' keyword in pd.read_csv is deprecated and will be removed in a future version. Use ``sep='\\s+'`` instead\n",
            "  df = pd.read_csv(file_path, delim_whitespace=True, header=0)\n",
            "<ipython-input-5-4d9a30422eb1>:88: FutureWarning: DataFrame.applymap has been deprecated. Use DataFrame.map instead.\n",
            "  df = df.applymap(lambda x: str(x).strip().rstrip(','))\n",
            "<ipython-input-5-4d9a30422eb1>:86: FutureWarning: The 'delim_whitespace' keyword in pd.read_csv is deprecated and will be removed in a future version. Use ``sep='\\s+'`` instead\n",
            "  df = pd.read_csv(file_path, delim_whitespace=True, header=0)\n",
            "<ipython-input-5-4d9a30422eb1>:88: FutureWarning: DataFrame.applymap has been deprecated. Use DataFrame.map instead.\n",
            "  df = df.applymap(lambda x: str(x).strip().rstrip(','))\n"
          ]
        },
        {
          "output_type": "stream",
          "name": "stdout",
          "text": [
            "✔ Successfully loaded data for participant 425\n",
            "\n",
            "Attempted to load data for 8 participants. Loaded structures for 8.\n",
            "\n",
            "Starting data loading process...\n",
            "Found 8 participants in CSV\n",
            "\n",
            "Processing participant 426\n",
            "Loading transcript...\n",
            "Transcript loaded successfully\n"
          ]
        },
        {
          "output_type": "stream",
          "name": "stderr",
          "text": [
            "<ipython-input-5-4d9a30422eb1>:86: FutureWarning: The 'delim_whitespace' keyword in pd.read_csv is deprecated and will be removed in a future version. Use ``sep='\\s+'`` instead\n",
            "  df = pd.read_csv(file_path, delim_whitespace=True, header=0)\n",
            "<ipython-input-5-4d9a30422eb1>:88: FutureWarning: DataFrame.applymap has been deprecated. Use DataFrame.map instead.\n",
            "  df = df.applymap(lambda x: str(x).strip().rstrip(','))\n",
            "<ipython-input-5-4d9a30422eb1>:86: FutureWarning: The 'delim_whitespace' keyword in pd.read_csv is deprecated and will be removed in a future version. Use ``sep='\\s+'`` instead\n",
            "  df = pd.read_csv(file_path, delim_whitespace=True, header=0)\n",
            "<ipython-input-5-4d9a30422eb1>:88: FutureWarning: DataFrame.applymap has been deprecated. Use DataFrame.map instead.\n",
            "  df = df.applymap(lambda x: str(x).strip().rstrip(','))\n",
            "<ipython-input-5-4d9a30422eb1>:86: FutureWarning: The 'delim_whitespace' keyword in pd.read_csv is deprecated and will be removed in a future version. Use ``sep='\\s+'`` instead\n",
            "  df = pd.read_csv(file_path, delim_whitespace=True, header=0)\n",
            "<ipython-input-5-4d9a30422eb1>:88: FutureWarning: DataFrame.applymap has been deprecated. Use DataFrame.map instead.\n",
            "  df = df.applymap(lambda x: str(x).strip().rstrip(','))\n"
          ]
        },
        {
          "output_type": "stream",
          "name": "stdout",
          "text": [
            "✔ Successfully loaded data for participant 426\n",
            "\n",
            "Processing participant 427\n",
            "Loading transcript...\n",
            "Transcript loaded successfully\n"
          ]
        },
        {
          "output_type": "stream",
          "name": "stderr",
          "text": [
            "<ipython-input-5-4d9a30422eb1>:86: FutureWarning: The 'delim_whitespace' keyword in pd.read_csv is deprecated and will be removed in a future version. Use ``sep='\\s+'`` instead\n",
            "  df = pd.read_csv(file_path, delim_whitespace=True, header=0)\n",
            "<ipython-input-5-4d9a30422eb1>:88: FutureWarning: DataFrame.applymap has been deprecated. Use DataFrame.map instead.\n",
            "  df = df.applymap(lambda x: str(x).strip().rstrip(','))\n",
            "<ipython-input-5-4d9a30422eb1>:86: FutureWarning: The 'delim_whitespace' keyword in pd.read_csv is deprecated and will be removed in a future version. Use ``sep='\\s+'`` instead\n",
            "  df = pd.read_csv(file_path, delim_whitespace=True, header=0)\n",
            "<ipython-input-5-4d9a30422eb1>:88: FutureWarning: DataFrame.applymap has been deprecated. Use DataFrame.map instead.\n",
            "  df = df.applymap(lambda x: str(x).strip().rstrip(','))\n",
            "<ipython-input-5-4d9a30422eb1>:86: FutureWarning: The 'delim_whitespace' keyword in pd.read_csv is deprecated and will be removed in a future version. Use ``sep='\\s+'`` instead\n",
            "  df = pd.read_csv(file_path, delim_whitespace=True, header=0)\n",
            "<ipython-input-5-4d9a30422eb1>:88: FutureWarning: DataFrame.applymap has been deprecated. Use DataFrame.map instead.\n",
            "  df = df.applymap(lambda x: str(x).strip().rstrip(','))\n"
          ]
        },
        {
          "output_type": "stream",
          "name": "stdout",
          "text": [
            "✔ Successfully loaded data for participant 427\n",
            "\n",
            "Processing participant 428\n",
            "Loading transcript...\n",
            "Transcript loaded successfully\n"
          ]
        },
        {
          "output_type": "stream",
          "name": "stderr",
          "text": [
            "<ipython-input-5-4d9a30422eb1>:86: FutureWarning: The 'delim_whitespace' keyword in pd.read_csv is deprecated and will be removed in a future version. Use ``sep='\\s+'`` instead\n",
            "  df = pd.read_csv(file_path, delim_whitespace=True, header=0)\n",
            "<ipython-input-5-4d9a30422eb1>:88: FutureWarning: DataFrame.applymap has been deprecated. Use DataFrame.map instead.\n",
            "  df = df.applymap(lambda x: str(x).strip().rstrip(','))\n",
            "<ipython-input-5-4d9a30422eb1>:86: FutureWarning: The 'delim_whitespace' keyword in pd.read_csv is deprecated and will be removed in a future version. Use ``sep='\\s+'`` instead\n",
            "  df = pd.read_csv(file_path, delim_whitespace=True, header=0)\n",
            "<ipython-input-5-4d9a30422eb1>:88: FutureWarning: DataFrame.applymap has been deprecated. Use DataFrame.map instead.\n",
            "  df = df.applymap(lambda x: str(x).strip().rstrip(','))\n",
            "<ipython-input-5-4d9a30422eb1>:86: FutureWarning: The 'delim_whitespace' keyword in pd.read_csv is deprecated and will be removed in a future version. Use ``sep='\\s+'`` instead\n",
            "  df = pd.read_csv(file_path, delim_whitespace=True, header=0)\n",
            "<ipython-input-5-4d9a30422eb1>:88: FutureWarning: DataFrame.applymap has been deprecated. Use DataFrame.map instead.\n",
            "  df = df.applymap(lambda x: str(x).strip().rstrip(','))\n"
          ]
        },
        {
          "output_type": "stream",
          "name": "stdout",
          "text": [
            "✔ Successfully loaded data for participant 428\n",
            "\n",
            "Processing participant 429\n",
            "Loading transcript...\n",
            "Transcript loaded successfully\n"
          ]
        },
        {
          "output_type": "stream",
          "name": "stderr",
          "text": [
            "<ipython-input-5-4d9a30422eb1>:86: FutureWarning: The 'delim_whitespace' keyword in pd.read_csv is deprecated and will be removed in a future version. Use ``sep='\\s+'`` instead\n",
            "  df = pd.read_csv(file_path, delim_whitespace=True, header=0)\n",
            "<ipython-input-5-4d9a30422eb1>:88: FutureWarning: DataFrame.applymap has been deprecated. Use DataFrame.map instead.\n",
            "  df = df.applymap(lambda x: str(x).strip().rstrip(','))\n",
            "<ipython-input-5-4d9a30422eb1>:86: FutureWarning: The 'delim_whitespace' keyword in pd.read_csv is deprecated and will be removed in a future version. Use ``sep='\\s+'`` instead\n",
            "  df = pd.read_csv(file_path, delim_whitespace=True, header=0)\n",
            "<ipython-input-5-4d9a30422eb1>:88: FutureWarning: DataFrame.applymap has been deprecated. Use DataFrame.map instead.\n",
            "  df = df.applymap(lambda x: str(x).strip().rstrip(','))\n",
            "<ipython-input-5-4d9a30422eb1>:86: FutureWarning: The 'delim_whitespace' keyword in pd.read_csv is deprecated and will be removed in a future version. Use ``sep='\\s+'`` instead\n",
            "  df = pd.read_csv(file_path, delim_whitespace=True, header=0)\n",
            "<ipython-input-5-4d9a30422eb1>:88: FutureWarning: DataFrame.applymap has been deprecated. Use DataFrame.map instead.\n",
            "  df = df.applymap(lambda x: str(x).strip().rstrip(','))\n"
          ]
        },
        {
          "output_type": "stream",
          "name": "stdout",
          "text": [
            "✔ Successfully loaded data for participant 429\n",
            "\n",
            "Processing participant 430\n",
            "Loading transcript...\n",
            "Transcript loaded successfully\n"
          ]
        },
        {
          "output_type": "stream",
          "name": "stderr",
          "text": [
            "<ipython-input-5-4d9a30422eb1>:86: FutureWarning: The 'delim_whitespace' keyword in pd.read_csv is deprecated and will be removed in a future version. Use ``sep='\\s+'`` instead\n",
            "  df = pd.read_csv(file_path, delim_whitespace=True, header=0)\n",
            "<ipython-input-5-4d9a30422eb1>:88: FutureWarning: DataFrame.applymap has been deprecated. Use DataFrame.map instead.\n",
            "  df = df.applymap(lambda x: str(x).strip().rstrip(','))\n",
            "<ipython-input-5-4d9a30422eb1>:86: FutureWarning: The 'delim_whitespace' keyword in pd.read_csv is deprecated and will be removed in a future version. Use ``sep='\\s+'`` instead\n",
            "  df = pd.read_csv(file_path, delim_whitespace=True, header=0)\n",
            "<ipython-input-5-4d9a30422eb1>:88: FutureWarning: DataFrame.applymap has been deprecated. Use DataFrame.map instead.\n",
            "  df = df.applymap(lambda x: str(x).strip().rstrip(','))\n",
            "<ipython-input-5-4d9a30422eb1>:86: FutureWarning: The 'delim_whitespace' keyword in pd.read_csv is deprecated and will be removed in a future version. Use ``sep='\\s+'`` instead\n",
            "  df = pd.read_csv(file_path, delim_whitespace=True, header=0)\n",
            "<ipython-input-5-4d9a30422eb1>:88: FutureWarning: DataFrame.applymap has been deprecated. Use DataFrame.map instead.\n",
            "  df = df.applymap(lambda x: str(x).strip().rstrip(','))\n"
          ]
        },
        {
          "output_type": "stream",
          "name": "stdout",
          "text": [
            "✔ Successfully loaded data for participant 430\n",
            "\n",
            "Processing participant 433\n",
            "Loading transcript...\n",
            "Transcript loaded successfully\n"
          ]
        },
        {
          "output_type": "stream",
          "name": "stderr",
          "text": [
            "<ipython-input-5-4d9a30422eb1>:86: FutureWarning: The 'delim_whitespace' keyword in pd.read_csv is deprecated and will be removed in a future version. Use ``sep='\\s+'`` instead\n",
            "  df = pd.read_csv(file_path, delim_whitespace=True, header=0)\n",
            "<ipython-input-5-4d9a30422eb1>:88: FutureWarning: DataFrame.applymap has been deprecated. Use DataFrame.map instead.\n",
            "  df = df.applymap(lambda x: str(x).strip().rstrip(','))\n",
            "<ipython-input-5-4d9a30422eb1>:86: FutureWarning: The 'delim_whitespace' keyword in pd.read_csv is deprecated and will be removed in a future version. Use ``sep='\\s+'`` instead\n",
            "  df = pd.read_csv(file_path, delim_whitespace=True, header=0)\n",
            "<ipython-input-5-4d9a30422eb1>:88: FutureWarning: DataFrame.applymap has been deprecated. Use DataFrame.map instead.\n",
            "  df = df.applymap(lambda x: str(x).strip().rstrip(','))\n",
            "<ipython-input-5-4d9a30422eb1>:86: FutureWarning: The 'delim_whitespace' keyword in pd.read_csv is deprecated and will be removed in a future version. Use ``sep='\\s+'`` instead\n",
            "  df = pd.read_csv(file_path, delim_whitespace=True, header=0)\n",
            "<ipython-input-5-4d9a30422eb1>:88: FutureWarning: DataFrame.applymap has been deprecated. Use DataFrame.map instead.\n",
            "  df = df.applymap(lambda x: str(x).strip().rstrip(','))\n"
          ]
        },
        {
          "output_type": "stream",
          "name": "stdout",
          "text": [
            "✔ Successfully loaded data for participant 433\n",
            "\n",
            "Processing participant 434\n",
            "Loading transcript...\n",
            "Transcript loaded successfully\n"
          ]
        },
        {
          "output_type": "stream",
          "name": "stderr",
          "text": [
            "<ipython-input-5-4d9a30422eb1>:86: FutureWarning: The 'delim_whitespace' keyword in pd.read_csv is deprecated and will be removed in a future version. Use ``sep='\\s+'`` instead\n",
            "  df = pd.read_csv(file_path, delim_whitespace=True, header=0)\n",
            "<ipython-input-5-4d9a30422eb1>:88: FutureWarning: DataFrame.applymap has been deprecated. Use DataFrame.map instead.\n",
            "  df = df.applymap(lambda x: str(x).strip().rstrip(','))\n",
            "<ipython-input-5-4d9a30422eb1>:86: FutureWarning: The 'delim_whitespace' keyword in pd.read_csv is deprecated and will be removed in a future version. Use ``sep='\\s+'`` instead\n",
            "  df = pd.read_csv(file_path, delim_whitespace=True, header=0)\n",
            "<ipython-input-5-4d9a30422eb1>:88: FutureWarning: DataFrame.applymap has been deprecated. Use DataFrame.map instead.\n",
            "  df = df.applymap(lambda x: str(x).strip().rstrip(','))\n",
            "<ipython-input-5-4d9a30422eb1>:86: FutureWarning: The 'delim_whitespace' keyword in pd.read_csv is deprecated and will be removed in a future version. Use ``sep='\\s+'`` instead\n",
            "  df = pd.read_csv(file_path, delim_whitespace=True, header=0)\n",
            "<ipython-input-5-4d9a30422eb1>:88: FutureWarning: DataFrame.applymap has been deprecated. Use DataFrame.map instead.\n",
            "  df = df.applymap(lambda x: str(x).strip().rstrip(','))\n"
          ]
        },
        {
          "output_type": "stream",
          "name": "stdout",
          "text": [
            "✔ Successfully loaded data for participant 434\n",
            "\n",
            "Processing participant 437\n",
            "Loading transcript...\n",
            "Transcript loaded successfully\n"
          ]
        },
        {
          "output_type": "stream",
          "name": "stderr",
          "text": [
            "<ipython-input-5-4d9a30422eb1>:86: FutureWarning: The 'delim_whitespace' keyword in pd.read_csv is deprecated and will be removed in a future version. Use ``sep='\\s+'`` instead\n",
            "  df = pd.read_csv(file_path, delim_whitespace=True, header=0)\n",
            "<ipython-input-5-4d9a30422eb1>:88: FutureWarning: DataFrame.applymap has been deprecated. Use DataFrame.map instead.\n",
            "  df = df.applymap(lambda x: str(x).strip().rstrip(','))\n",
            "<ipython-input-5-4d9a30422eb1>:86: FutureWarning: The 'delim_whitespace' keyword in pd.read_csv is deprecated and will be removed in a future version. Use ``sep='\\s+'`` instead\n",
            "  df = pd.read_csv(file_path, delim_whitespace=True, header=0)\n",
            "<ipython-input-5-4d9a30422eb1>:88: FutureWarning: DataFrame.applymap has been deprecated. Use DataFrame.map instead.\n",
            "  df = df.applymap(lambda x: str(x).strip().rstrip(','))\n",
            "<ipython-input-5-4d9a30422eb1>:86: FutureWarning: The 'delim_whitespace' keyword in pd.read_csv is deprecated and will be removed in a future version. Use ``sep='\\s+'`` instead\n",
            "  df = pd.read_csv(file_path, delim_whitespace=True, header=0)\n",
            "<ipython-input-5-4d9a30422eb1>:88: FutureWarning: DataFrame.applymap has been deprecated. Use DataFrame.map instead.\n",
            "  df = df.applymap(lambda x: str(x).strip().rstrip(','))\n"
          ]
        },
        {
          "output_type": "stream",
          "name": "stdout",
          "text": [
            "✔ Successfully loaded data for participant 437\n",
            "\n",
            "Attempted to load data for 8 participants. Loaded structures for 8.\n",
            "\n",
            "Starting data loading process...\n",
            "Found 8 participants in CSV\n",
            "\n",
            "Processing participant 441\n",
            "Loading transcript...\n",
            "Transcript loaded successfully\n"
          ]
        },
        {
          "output_type": "stream",
          "name": "stderr",
          "text": [
            "<ipython-input-5-4d9a30422eb1>:86: FutureWarning: The 'delim_whitespace' keyword in pd.read_csv is deprecated and will be removed in a future version. Use ``sep='\\s+'`` instead\n",
            "  df = pd.read_csv(file_path, delim_whitespace=True, header=0)\n",
            "<ipython-input-5-4d9a30422eb1>:88: FutureWarning: DataFrame.applymap has been deprecated. Use DataFrame.map instead.\n",
            "  df = df.applymap(lambda x: str(x).strip().rstrip(','))\n",
            "<ipython-input-5-4d9a30422eb1>:86: FutureWarning: The 'delim_whitespace' keyword in pd.read_csv is deprecated and will be removed in a future version. Use ``sep='\\s+'`` instead\n",
            "  df = pd.read_csv(file_path, delim_whitespace=True, header=0)\n",
            "<ipython-input-5-4d9a30422eb1>:88: FutureWarning: DataFrame.applymap has been deprecated. Use DataFrame.map instead.\n",
            "  df = df.applymap(lambda x: str(x).strip().rstrip(','))\n",
            "<ipython-input-5-4d9a30422eb1>:86: FutureWarning: The 'delim_whitespace' keyword in pd.read_csv is deprecated and will be removed in a future version. Use ``sep='\\s+'`` instead\n",
            "  df = pd.read_csv(file_path, delim_whitespace=True, header=0)\n",
            "<ipython-input-5-4d9a30422eb1>:88: FutureWarning: DataFrame.applymap has been deprecated. Use DataFrame.map instead.\n",
            "  df = df.applymap(lambda x: str(x).strip().rstrip(','))\n"
          ]
        },
        {
          "output_type": "stream",
          "name": "stdout",
          "text": [
            "✔ Successfully loaded data for participant 441\n",
            "\n",
            "Processing participant 443\n",
            "Loading transcript...\n",
            "Transcript loaded successfully\n"
          ]
        },
        {
          "output_type": "stream",
          "name": "stderr",
          "text": [
            "<ipython-input-5-4d9a30422eb1>:86: FutureWarning: The 'delim_whitespace' keyword in pd.read_csv is deprecated and will be removed in a future version. Use ``sep='\\s+'`` instead\n",
            "  df = pd.read_csv(file_path, delim_whitespace=True, header=0)\n",
            "<ipython-input-5-4d9a30422eb1>:88: FutureWarning: DataFrame.applymap has been deprecated. Use DataFrame.map instead.\n",
            "  df = df.applymap(lambda x: str(x).strip().rstrip(','))\n",
            "<ipython-input-5-4d9a30422eb1>:86: FutureWarning: The 'delim_whitespace' keyword in pd.read_csv is deprecated and will be removed in a future version. Use ``sep='\\s+'`` instead\n",
            "  df = pd.read_csv(file_path, delim_whitespace=True, header=0)\n",
            "<ipython-input-5-4d9a30422eb1>:88: FutureWarning: DataFrame.applymap has been deprecated. Use DataFrame.map instead.\n",
            "  df = df.applymap(lambda x: str(x).strip().rstrip(','))\n",
            "<ipython-input-5-4d9a30422eb1>:86: FutureWarning: The 'delim_whitespace' keyword in pd.read_csv is deprecated and will be removed in a future version. Use ``sep='\\s+'`` instead\n",
            "  df = pd.read_csv(file_path, delim_whitespace=True, header=0)\n",
            "<ipython-input-5-4d9a30422eb1>:88: FutureWarning: DataFrame.applymap has been deprecated. Use DataFrame.map instead.\n",
            "  df = df.applymap(lambda x: str(x).strip().rstrip(','))\n"
          ]
        },
        {
          "output_type": "stream",
          "name": "stdout",
          "text": [
            "✔ Successfully loaded data for participant 443\n",
            "\n",
            "Processing participant 444\n",
            "Loading transcript...\n",
            "Transcript loaded successfully\n"
          ]
        },
        {
          "output_type": "stream",
          "name": "stderr",
          "text": [
            "<ipython-input-5-4d9a30422eb1>:86: FutureWarning: The 'delim_whitespace' keyword in pd.read_csv is deprecated and will be removed in a future version. Use ``sep='\\s+'`` instead\n",
            "  df = pd.read_csv(file_path, delim_whitespace=True, header=0)\n",
            "<ipython-input-5-4d9a30422eb1>:88: FutureWarning: DataFrame.applymap has been deprecated. Use DataFrame.map instead.\n",
            "  df = df.applymap(lambda x: str(x).strip().rstrip(','))\n",
            "<ipython-input-5-4d9a30422eb1>:86: FutureWarning: The 'delim_whitespace' keyword in pd.read_csv is deprecated and will be removed in a future version. Use ``sep='\\s+'`` instead\n",
            "  df = pd.read_csv(file_path, delim_whitespace=True, header=0)\n",
            "<ipython-input-5-4d9a30422eb1>:88: FutureWarning: DataFrame.applymap has been deprecated. Use DataFrame.map instead.\n",
            "  df = df.applymap(lambda x: str(x).strip().rstrip(','))\n",
            "<ipython-input-5-4d9a30422eb1>:86: FutureWarning: The 'delim_whitespace' keyword in pd.read_csv is deprecated and will be removed in a future version. Use ``sep='\\s+'`` instead\n",
            "  df = pd.read_csv(file_path, delim_whitespace=True, header=0)\n",
            "<ipython-input-5-4d9a30422eb1>:88: FutureWarning: DataFrame.applymap has been deprecated. Use DataFrame.map instead.\n",
            "  df = df.applymap(lambda x: str(x).strip().rstrip(','))\n"
          ]
        },
        {
          "output_type": "stream",
          "name": "stdout",
          "text": [
            "✔ Successfully loaded data for participant 444\n",
            "\n",
            "Processing participant 445\n",
            "Loading transcript...\n",
            "Transcript loaded successfully\n"
          ]
        },
        {
          "output_type": "stream",
          "name": "stderr",
          "text": [
            "<ipython-input-5-4d9a30422eb1>:86: FutureWarning: The 'delim_whitespace' keyword in pd.read_csv is deprecated and will be removed in a future version. Use ``sep='\\s+'`` instead\n",
            "  df = pd.read_csv(file_path, delim_whitespace=True, header=0)\n",
            "<ipython-input-5-4d9a30422eb1>:88: FutureWarning: DataFrame.applymap has been deprecated. Use DataFrame.map instead.\n",
            "  df = df.applymap(lambda x: str(x).strip().rstrip(','))\n",
            "<ipython-input-5-4d9a30422eb1>:86: FutureWarning: The 'delim_whitespace' keyword in pd.read_csv is deprecated and will be removed in a future version. Use ``sep='\\s+'`` instead\n",
            "  df = pd.read_csv(file_path, delim_whitespace=True, header=0)\n",
            "<ipython-input-5-4d9a30422eb1>:88: FutureWarning: DataFrame.applymap has been deprecated. Use DataFrame.map instead.\n",
            "  df = df.applymap(lambda x: str(x).strip().rstrip(','))\n",
            "<ipython-input-5-4d9a30422eb1>:86: FutureWarning: The 'delim_whitespace' keyword in pd.read_csv is deprecated and will be removed in a future version. Use ``sep='\\s+'`` instead\n",
            "  df = pd.read_csv(file_path, delim_whitespace=True, header=0)\n",
            "<ipython-input-5-4d9a30422eb1>:88: FutureWarning: DataFrame.applymap has been deprecated. Use DataFrame.map instead.\n",
            "  df = df.applymap(lambda x: str(x).strip().rstrip(','))\n"
          ]
        },
        {
          "output_type": "stream",
          "name": "stdout",
          "text": [
            "✔ Successfully loaded data for participant 445\n",
            "\n",
            "Processing participant 446\n",
            "Loading transcript...\n",
            "Transcript loaded successfully\n"
          ]
        },
        {
          "output_type": "stream",
          "name": "stderr",
          "text": [
            "<ipython-input-5-4d9a30422eb1>:86: FutureWarning: The 'delim_whitespace' keyword in pd.read_csv is deprecated and will be removed in a future version. Use ``sep='\\s+'`` instead\n",
            "  df = pd.read_csv(file_path, delim_whitespace=True, header=0)\n",
            "<ipython-input-5-4d9a30422eb1>:88: FutureWarning: DataFrame.applymap has been deprecated. Use DataFrame.map instead.\n",
            "  df = df.applymap(lambda x: str(x).strip().rstrip(','))\n",
            "<ipython-input-5-4d9a30422eb1>:86: FutureWarning: The 'delim_whitespace' keyword in pd.read_csv is deprecated and will be removed in a future version. Use ``sep='\\s+'`` instead\n",
            "  df = pd.read_csv(file_path, delim_whitespace=True, header=0)\n",
            "<ipython-input-5-4d9a30422eb1>:88: FutureWarning: DataFrame.applymap has been deprecated. Use DataFrame.map instead.\n",
            "  df = df.applymap(lambda x: str(x).strip().rstrip(','))\n",
            "<ipython-input-5-4d9a30422eb1>:86: FutureWarning: The 'delim_whitespace' keyword in pd.read_csv is deprecated and will be removed in a future version. Use ``sep='\\s+'`` instead\n",
            "  df = pd.read_csv(file_path, delim_whitespace=True, header=0)\n",
            "<ipython-input-5-4d9a30422eb1>:88: FutureWarning: DataFrame.applymap has been deprecated. Use DataFrame.map instead.\n",
            "  df = df.applymap(lambda x: str(x).strip().rstrip(','))\n"
          ]
        },
        {
          "output_type": "stream",
          "name": "stdout",
          "text": [
            "✔ Successfully loaded data for participant 446\n",
            "\n",
            "Processing participant 447\n",
            "Loading transcript...\n",
            "Transcript loaded successfully\n"
          ]
        },
        {
          "output_type": "stream",
          "name": "stderr",
          "text": [
            "<ipython-input-5-4d9a30422eb1>:86: FutureWarning: The 'delim_whitespace' keyword in pd.read_csv is deprecated and will be removed in a future version. Use ``sep='\\s+'`` instead\n",
            "  df = pd.read_csv(file_path, delim_whitespace=True, header=0)\n",
            "<ipython-input-5-4d9a30422eb1>:88: FutureWarning: DataFrame.applymap has been deprecated. Use DataFrame.map instead.\n",
            "  df = df.applymap(lambda x: str(x).strip().rstrip(','))\n",
            "<ipython-input-5-4d9a30422eb1>:86: FutureWarning: The 'delim_whitespace' keyword in pd.read_csv is deprecated and will be removed in a future version. Use ``sep='\\s+'`` instead\n",
            "  df = pd.read_csv(file_path, delim_whitespace=True, header=0)\n",
            "<ipython-input-5-4d9a30422eb1>:88: FutureWarning: DataFrame.applymap has been deprecated. Use DataFrame.map instead.\n",
            "  df = df.applymap(lambda x: str(x).strip().rstrip(','))\n",
            "<ipython-input-5-4d9a30422eb1>:86: FutureWarning: The 'delim_whitespace' keyword in pd.read_csv is deprecated and will be removed in a future version. Use ``sep='\\s+'`` instead\n",
            "  df = pd.read_csv(file_path, delim_whitespace=True, header=0)\n",
            "<ipython-input-5-4d9a30422eb1>:88: FutureWarning: DataFrame.applymap has been deprecated. Use DataFrame.map instead.\n",
            "  df = df.applymap(lambda x: str(x).strip().rstrip(','))\n"
          ]
        },
        {
          "output_type": "stream",
          "name": "stdout",
          "text": [
            "✔ Successfully loaded data for participant 447\n",
            "\n",
            "Processing participant 448\n",
            "Loading transcript...\n",
            "Transcript loaded successfully\n"
          ]
        },
        {
          "output_type": "stream",
          "name": "stderr",
          "text": [
            "<ipython-input-5-4d9a30422eb1>:86: FutureWarning: The 'delim_whitespace' keyword in pd.read_csv is deprecated and will be removed in a future version. Use ``sep='\\s+'`` instead\n",
            "  df = pd.read_csv(file_path, delim_whitespace=True, header=0)\n",
            "<ipython-input-5-4d9a30422eb1>:88: FutureWarning: DataFrame.applymap has been deprecated. Use DataFrame.map instead.\n",
            "  df = df.applymap(lambda x: str(x).strip().rstrip(','))\n",
            "<ipython-input-5-4d9a30422eb1>:86: FutureWarning: The 'delim_whitespace' keyword in pd.read_csv is deprecated and will be removed in a future version. Use ``sep='\\s+'`` instead\n",
            "  df = pd.read_csv(file_path, delim_whitespace=True, header=0)\n",
            "<ipython-input-5-4d9a30422eb1>:88: FutureWarning: DataFrame.applymap has been deprecated. Use DataFrame.map instead.\n",
            "  df = df.applymap(lambda x: str(x).strip().rstrip(','))\n",
            "<ipython-input-5-4d9a30422eb1>:88: FutureWarning: DataFrame.applymap has been deprecated. Use DataFrame.map instead.\n",
            "  df = df.applymap(lambda x: str(x).strip().rstrip(','))\n"
          ]
        },
        {
          "output_type": "stream",
          "name": "stdout",
          "text": [
            "✔ Successfully loaded data for participant 448\n",
            "\n",
            "Processing participant 449\n",
            "Loading transcript...\n",
            "Transcript loaded successfully\n"
          ]
        },
        {
          "output_type": "stream",
          "name": "stderr",
          "text": [
            "<ipython-input-5-4d9a30422eb1>:86: FutureWarning: The 'delim_whitespace' keyword in pd.read_csv is deprecated and will be removed in a future version. Use ``sep='\\s+'`` instead\n",
            "  df = pd.read_csv(file_path, delim_whitespace=True, header=0)\n",
            "<ipython-input-5-4d9a30422eb1>:88: FutureWarning: DataFrame.applymap has been deprecated. Use DataFrame.map instead.\n",
            "  df = df.applymap(lambda x: str(x).strip().rstrip(','))\n",
            "<ipython-input-5-4d9a30422eb1>:86: FutureWarning: The 'delim_whitespace' keyword in pd.read_csv is deprecated and will be removed in a future version. Use ``sep='\\s+'`` instead\n",
            "  df = pd.read_csv(file_path, delim_whitespace=True, header=0)\n",
            "<ipython-input-5-4d9a30422eb1>:88: FutureWarning: DataFrame.applymap has been deprecated. Use DataFrame.map instead.\n",
            "  df = df.applymap(lambda x: str(x).strip().rstrip(','))\n",
            "<ipython-input-5-4d9a30422eb1>:86: FutureWarning: The 'delim_whitespace' keyword in pd.read_csv is deprecated and will be removed in a future version. Use ``sep='\\s+'`` instead\n",
            "  df = pd.read_csv(file_path, delim_whitespace=True, header=0)\n",
            "<ipython-input-5-4d9a30422eb1>:88: FutureWarning: DataFrame.applymap has been deprecated. Use DataFrame.map instead.\n",
            "  df = df.applymap(lambda x: str(x).strip().rstrip(','))\n"
          ]
        },
        {
          "output_type": "stream",
          "name": "stdout",
          "text": [
            "✔ Successfully loaded data for participant 449\n",
            "\n",
            "Attempted to load data for 8 participants. Loaded structures for 8.\n",
            "\n",
            "Starting data loading process...\n",
            "Found 8 participants in CSV\n",
            "\n",
            "Processing participant 454\n",
            "Loading transcript...\n",
            "Transcript loaded successfully\n"
          ]
        },
        {
          "output_type": "stream",
          "name": "stderr",
          "text": [
            "<ipython-input-5-4d9a30422eb1>:86: FutureWarning: The 'delim_whitespace' keyword in pd.read_csv is deprecated and will be removed in a future version. Use ``sep='\\s+'`` instead\n",
            "  df = pd.read_csv(file_path, delim_whitespace=True, header=0)\n",
            "<ipython-input-5-4d9a30422eb1>:88: FutureWarning: DataFrame.applymap has been deprecated. Use DataFrame.map instead.\n",
            "  df = df.applymap(lambda x: str(x).strip().rstrip(','))\n",
            "<ipython-input-5-4d9a30422eb1>:86: FutureWarning: The 'delim_whitespace' keyword in pd.read_csv is deprecated and will be removed in a future version. Use ``sep='\\s+'`` instead\n",
            "  df = pd.read_csv(file_path, delim_whitespace=True, header=0)\n",
            "<ipython-input-5-4d9a30422eb1>:88: FutureWarning: DataFrame.applymap has been deprecated. Use DataFrame.map instead.\n",
            "  df = df.applymap(lambda x: str(x).strip().rstrip(','))\n",
            "<ipython-input-5-4d9a30422eb1>:86: FutureWarning: The 'delim_whitespace' keyword in pd.read_csv is deprecated and will be removed in a future version. Use ``sep='\\s+'`` instead\n",
            "  df = pd.read_csv(file_path, delim_whitespace=True, header=0)\n",
            "<ipython-input-5-4d9a30422eb1>:88: FutureWarning: DataFrame.applymap has been deprecated. Use DataFrame.map instead.\n",
            "  df = df.applymap(lambda x: str(x).strip().rstrip(','))\n"
          ]
        },
        {
          "output_type": "stream",
          "name": "stdout",
          "text": [
            "✔ Successfully loaded data for participant 454\n",
            "\n",
            "Processing participant 455\n",
            "Loading transcript...\n",
            "Transcript loaded successfully\n"
          ]
        },
        {
          "output_type": "stream",
          "name": "stderr",
          "text": [
            "<ipython-input-5-4d9a30422eb1>:86: FutureWarning: The 'delim_whitespace' keyword in pd.read_csv is deprecated and will be removed in a future version. Use ``sep='\\s+'`` instead\n",
            "  df = pd.read_csv(file_path, delim_whitespace=True, header=0)\n",
            "<ipython-input-5-4d9a30422eb1>:88: FutureWarning: DataFrame.applymap has been deprecated. Use DataFrame.map instead.\n",
            "  df = df.applymap(lambda x: str(x).strip().rstrip(','))\n",
            "<ipython-input-5-4d9a30422eb1>:86: FutureWarning: The 'delim_whitespace' keyword in pd.read_csv is deprecated and will be removed in a future version. Use ``sep='\\s+'`` instead\n",
            "  df = pd.read_csv(file_path, delim_whitespace=True, header=0)\n",
            "<ipython-input-5-4d9a30422eb1>:88: FutureWarning: DataFrame.applymap has been deprecated. Use DataFrame.map instead.\n",
            "  df = df.applymap(lambda x: str(x).strip().rstrip(','))\n",
            "<ipython-input-5-4d9a30422eb1>:86: FutureWarning: The 'delim_whitespace' keyword in pd.read_csv is deprecated and will be removed in a future version. Use ``sep='\\s+'`` instead\n",
            "  df = pd.read_csv(file_path, delim_whitespace=True, header=0)\n",
            "<ipython-input-5-4d9a30422eb1>:88: FutureWarning: DataFrame.applymap has been deprecated. Use DataFrame.map instead.\n",
            "  df = df.applymap(lambda x: str(x).strip().rstrip(','))\n"
          ]
        },
        {
          "output_type": "stream",
          "name": "stdout",
          "text": [
            "✔ Successfully loaded data for participant 455\n",
            "\n",
            "Processing participant 456\n",
            "Loading transcript...\n",
            "Transcript loaded successfully\n"
          ]
        },
        {
          "output_type": "stream",
          "name": "stderr",
          "text": [
            "<ipython-input-5-4d9a30422eb1>:86: FutureWarning: The 'delim_whitespace' keyword in pd.read_csv is deprecated and will be removed in a future version. Use ``sep='\\s+'`` instead\n",
            "  df = pd.read_csv(file_path, delim_whitespace=True, header=0)\n",
            "<ipython-input-5-4d9a30422eb1>:88: FutureWarning: DataFrame.applymap has been deprecated. Use DataFrame.map instead.\n",
            "  df = df.applymap(lambda x: str(x).strip().rstrip(','))\n",
            "<ipython-input-5-4d9a30422eb1>:86: FutureWarning: The 'delim_whitespace' keyword in pd.read_csv is deprecated and will be removed in a future version. Use ``sep='\\s+'`` instead\n",
            "  df = pd.read_csv(file_path, delim_whitespace=True, header=0)\n",
            "<ipython-input-5-4d9a30422eb1>:88: FutureWarning: DataFrame.applymap has been deprecated. Use DataFrame.map instead.\n",
            "  df = df.applymap(lambda x: str(x).strip().rstrip(','))\n",
            "<ipython-input-5-4d9a30422eb1>:86: FutureWarning: The 'delim_whitespace' keyword in pd.read_csv is deprecated and will be removed in a future version. Use ``sep='\\s+'`` instead\n",
            "  df = pd.read_csv(file_path, delim_whitespace=True, header=0)\n",
            "<ipython-input-5-4d9a30422eb1>:88: FutureWarning: DataFrame.applymap has been deprecated. Use DataFrame.map instead.\n",
            "  df = df.applymap(lambda x: str(x).strip().rstrip(','))\n"
          ]
        },
        {
          "output_type": "stream",
          "name": "stdout",
          "text": [
            "✔ Successfully loaded data for participant 456\n",
            "\n",
            "Processing participant 457\n",
            "Loading transcript...\n",
            "Transcript loaded successfully\n"
          ]
        },
        {
          "output_type": "stream",
          "name": "stderr",
          "text": [
            "<ipython-input-5-4d9a30422eb1>:86: FutureWarning: The 'delim_whitespace' keyword in pd.read_csv is deprecated and will be removed in a future version. Use ``sep='\\s+'`` instead\n",
            "  df = pd.read_csv(file_path, delim_whitespace=True, header=0)\n",
            "<ipython-input-5-4d9a30422eb1>:88: FutureWarning: DataFrame.applymap has been deprecated. Use DataFrame.map instead.\n",
            "  df = df.applymap(lambda x: str(x).strip().rstrip(','))\n",
            "<ipython-input-5-4d9a30422eb1>:86: FutureWarning: The 'delim_whitespace' keyword in pd.read_csv is deprecated and will be removed in a future version. Use ``sep='\\s+'`` instead\n",
            "  df = pd.read_csv(file_path, delim_whitespace=True, header=0)\n",
            "<ipython-input-5-4d9a30422eb1>:88: FutureWarning: DataFrame.applymap has been deprecated. Use DataFrame.map instead.\n",
            "  df = df.applymap(lambda x: str(x).strip().rstrip(','))\n",
            "<ipython-input-5-4d9a30422eb1>:86: FutureWarning: The 'delim_whitespace' keyword in pd.read_csv is deprecated and will be removed in a future version. Use ``sep='\\s+'`` instead\n",
            "  df = pd.read_csv(file_path, delim_whitespace=True, header=0)\n",
            "<ipython-input-5-4d9a30422eb1>:88: FutureWarning: DataFrame.applymap has been deprecated. Use DataFrame.map instead.\n",
            "  df = df.applymap(lambda x: str(x).strip().rstrip(','))\n"
          ]
        },
        {
          "output_type": "stream",
          "name": "stdout",
          "text": [
            "✔ Successfully loaded data for participant 457\n",
            "\n",
            "Processing participant 459\n",
            "Loading transcript...\n",
            "Transcript loaded successfully\n"
          ]
        },
        {
          "output_type": "stream",
          "name": "stderr",
          "text": [
            "<ipython-input-5-4d9a30422eb1>:86: FutureWarning: The 'delim_whitespace' keyword in pd.read_csv is deprecated and will be removed in a future version. Use ``sep='\\s+'`` instead\n",
            "  df = pd.read_csv(file_path, delim_whitespace=True, header=0)\n",
            "<ipython-input-5-4d9a30422eb1>:88: FutureWarning: DataFrame.applymap has been deprecated. Use DataFrame.map instead.\n",
            "  df = df.applymap(lambda x: str(x).strip().rstrip(','))\n",
            "<ipython-input-5-4d9a30422eb1>:86: FutureWarning: The 'delim_whitespace' keyword in pd.read_csv is deprecated and will be removed in a future version. Use ``sep='\\s+'`` instead\n",
            "  df = pd.read_csv(file_path, delim_whitespace=True, header=0)\n",
            "<ipython-input-5-4d9a30422eb1>:88: FutureWarning: DataFrame.applymap has been deprecated. Use DataFrame.map instead.\n",
            "  df = df.applymap(lambda x: str(x).strip().rstrip(','))\n",
            "<ipython-input-5-4d9a30422eb1>:86: FutureWarning: The 'delim_whitespace' keyword in pd.read_csv is deprecated and will be removed in a future version. Use ``sep='\\s+'`` instead\n",
            "  df = pd.read_csv(file_path, delim_whitespace=True, header=0)\n",
            "<ipython-input-5-4d9a30422eb1>:88: FutureWarning: DataFrame.applymap has been deprecated. Use DataFrame.map instead.\n",
            "  df = df.applymap(lambda x: str(x).strip().rstrip(','))\n"
          ]
        },
        {
          "output_type": "stream",
          "name": "stdout",
          "text": [
            "✔ Successfully loaded data for participant 459\n",
            "\n",
            "Processing participant 463\n",
            "Loading transcript...\n",
            "Transcript loaded successfully\n"
          ]
        },
        {
          "output_type": "stream",
          "name": "stderr",
          "text": [
            "<ipython-input-5-4d9a30422eb1>:86: FutureWarning: The 'delim_whitespace' keyword in pd.read_csv is deprecated and will be removed in a future version. Use ``sep='\\s+'`` instead\n",
            "  df = pd.read_csv(file_path, delim_whitespace=True, header=0)\n",
            "<ipython-input-5-4d9a30422eb1>:88: FutureWarning: DataFrame.applymap has been deprecated. Use DataFrame.map instead.\n",
            "  df = df.applymap(lambda x: str(x).strip().rstrip(','))\n",
            "<ipython-input-5-4d9a30422eb1>:86: FutureWarning: The 'delim_whitespace' keyword in pd.read_csv is deprecated and will be removed in a future version. Use ``sep='\\s+'`` instead\n",
            "  df = pd.read_csv(file_path, delim_whitespace=True, header=0)\n",
            "<ipython-input-5-4d9a30422eb1>:88: FutureWarning: DataFrame.applymap has been deprecated. Use DataFrame.map instead.\n",
            "  df = df.applymap(lambda x: str(x).strip().rstrip(','))\n",
            "<ipython-input-5-4d9a30422eb1>:86: FutureWarning: The 'delim_whitespace' keyword in pd.read_csv is deprecated and will be removed in a future version. Use ``sep='\\s+'`` instead\n",
            "  df = pd.read_csv(file_path, delim_whitespace=True, header=0)\n",
            "<ipython-input-5-4d9a30422eb1>:88: FutureWarning: DataFrame.applymap has been deprecated. Use DataFrame.map instead.\n",
            "  df = df.applymap(lambda x: str(x).strip().rstrip(','))\n"
          ]
        },
        {
          "output_type": "stream",
          "name": "stdout",
          "text": [
            "✔ Successfully loaded data for participant 463\n",
            "\n",
            "Processing participant 464\n",
            "Loading transcript...\n",
            "Transcript loaded successfully\n"
          ]
        },
        {
          "output_type": "stream",
          "name": "stderr",
          "text": [
            "<ipython-input-5-4d9a30422eb1>:86: FutureWarning: The 'delim_whitespace' keyword in pd.read_csv is deprecated and will be removed in a future version. Use ``sep='\\s+'`` instead\n",
            "  df = pd.read_csv(file_path, delim_whitespace=True, header=0)\n",
            "<ipython-input-5-4d9a30422eb1>:88: FutureWarning: DataFrame.applymap has been deprecated. Use DataFrame.map instead.\n",
            "  df = df.applymap(lambda x: str(x).strip().rstrip(','))\n",
            "<ipython-input-5-4d9a30422eb1>:86: FutureWarning: The 'delim_whitespace' keyword in pd.read_csv is deprecated and will be removed in a future version. Use ``sep='\\s+'`` instead\n",
            "  df = pd.read_csv(file_path, delim_whitespace=True, header=0)\n",
            "<ipython-input-5-4d9a30422eb1>:88: FutureWarning: DataFrame.applymap has been deprecated. Use DataFrame.map instead.\n",
            "  df = df.applymap(lambda x: str(x).strip().rstrip(','))\n",
            "<ipython-input-5-4d9a30422eb1>:86: FutureWarning: The 'delim_whitespace' keyword in pd.read_csv is deprecated and will be removed in a future version. Use ``sep='\\s+'`` instead\n",
            "  df = pd.read_csv(file_path, delim_whitespace=True, header=0)\n"
          ]
        },
        {
          "output_type": "stream",
          "name": "stdout",
          "text": [
            "✔ Successfully loaded data for participant 464\n",
            "\n",
            "Processing participant 468\n",
            "Loading transcript...\n",
            "Transcript loaded successfully\n"
          ]
        },
        {
          "output_type": "stream",
          "name": "stderr",
          "text": [
            "<ipython-input-5-4d9a30422eb1>:86: FutureWarning: The 'delim_whitespace' keyword in pd.read_csv is deprecated and will be removed in a future version. Use ``sep='\\s+'`` instead\n",
            "  df = pd.read_csv(file_path, delim_whitespace=True, header=0)\n",
            "<ipython-input-5-4d9a30422eb1>:88: FutureWarning: DataFrame.applymap has been deprecated. Use DataFrame.map instead.\n",
            "  df = df.applymap(lambda x: str(x).strip().rstrip(','))\n",
            "<ipython-input-5-4d9a30422eb1>:86: FutureWarning: The 'delim_whitespace' keyword in pd.read_csv is deprecated and will be removed in a future version. Use ``sep='\\s+'`` instead\n",
            "  df = pd.read_csv(file_path, delim_whitespace=True, header=0)\n",
            "<ipython-input-5-4d9a30422eb1>:88: FutureWarning: DataFrame.applymap has been deprecated. Use DataFrame.map instead.\n",
            "  df = df.applymap(lambda x: str(x).strip().rstrip(','))\n",
            "<ipython-input-5-4d9a30422eb1>:86: FutureWarning: The 'delim_whitespace' keyword in pd.read_csv is deprecated and will be removed in a future version. Use ``sep='\\s+'`` instead\n",
            "  df = pd.read_csv(file_path, delim_whitespace=True, header=0)\n",
            "<ipython-input-5-4d9a30422eb1>:88: FutureWarning: DataFrame.applymap has been deprecated. Use DataFrame.map instead.\n",
            "  df = df.applymap(lambda x: str(x).strip().rstrip(','))\n"
          ]
        },
        {
          "output_type": "stream",
          "name": "stdout",
          "text": [
            "✔ Successfully loaded data for participant 468\n",
            "\n",
            "Attempted to load data for 8 participants. Loaded structures for 8.\n",
            "\n",
            "Starting data loading process...\n",
            "Found 8 participants in CSV\n",
            "\n",
            "Processing participant 471\n",
            "Loading transcript...\n",
            "Transcript loaded successfully\n"
          ]
        },
        {
          "output_type": "stream",
          "name": "stderr",
          "text": [
            "<ipython-input-5-4d9a30422eb1>:86: FutureWarning: The 'delim_whitespace' keyword in pd.read_csv is deprecated and will be removed in a future version. Use ``sep='\\s+'`` instead\n",
            "  df = pd.read_csv(file_path, delim_whitespace=True, header=0)\n",
            "<ipython-input-5-4d9a30422eb1>:88: FutureWarning: DataFrame.applymap has been deprecated. Use DataFrame.map instead.\n",
            "  df = df.applymap(lambda x: str(x).strip().rstrip(','))\n",
            "<ipython-input-5-4d9a30422eb1>:86: FutureWarning: The 'delim_whitespace' keyword in pd.read_csv is deprecated and will be removed in a future version. Use ``sep='\\s+'`` instead\n",
            "  df = pd.read_csv(file_path, delim_whitespace=True, header=0)\n",
            "<ipython-input-5-4d9a30422eb1>:88: FutureWarning: DataFrame.applymap has been deprecated. Use DataFrame.map instead.\n",
            "  df = df.applymap(lambda x: str(x).strip().rstrip(','))\n",
            "<ipython-input-5-4d9a30422eb1>:86: FutureWarning: The 'delim_whitespace' keyword in pd.read_csv is deprecated and will be removed in a future version. Use ``sep='\\s+'`` instead\n",
            "  df = pd.read_csv(file_path, delim_whitespace=True, header=0)\n",
            "<ipython-input-5-4d9a30422eb1>:88: FutureWarning: DataFrame.applymap has been deprecated. Use DataFrame.map instead.\n",
            "  df = df.applymap(lambda x: str(x).strip().rstrip(','))\n"
          ]
        },
        {
          "output_type": "stream",
          "name": "stdout",
          "text": [
            "✔ Successfully loaded data for participant 471\n",
            "\n",
            "Processing participant 473\n",
            "Loading transcript...\n",
            "Transcript loaded successfully\n"
          ]
        },
        {
          "output_type": "stream",
          "name": "stderr",
          "text": [
            "<ipython-input-5-4d9a30422eb1>:86: FutureWarning: The 'delim_whitespace' keyword in pd.read_csv is deprecated and will be removed in a future version. Use ``sep='\\s+'`` instead\n",
            "  df = pd.read_csv(file_path, delim_whitespace=True, header=0)\n",
            "<ipython-input-5-4d9a30422eb1>:88: FutureWarning: DataFrame.applymap has been deprecated. Use DataFrame.map instead.\n",
            "  df = df.applymap(lambda x: str(x).strip().rstrip(','))\n",
            "<ipython-input-5-4d9a30422eb1>:86: FutureWarning: The 'delim_whitespace' keyword in pd.read_csv is deprecated and will be removed in a future version. Use ``sep='\\s+'`` instead\n",
            "  df = pd.read_csv(file_path, delim_whitespace=True, header=0)\n",
            "<ipython-input-5-4d9a30422eb1>:88: FutureWarning: DataFrame.applymap has been deprecated. Use DataFrame.map instead.\n",
            "  df = df.applymap(lambda x: str(x).strip().rstrip(','))\n",
            "<ipython-input-5-4d9a30422eb1>:86: FutureWarning: The 'delim_whitespace' keyword in pd.read_csv is deprecated and will be removed in a future version. Use ``sep='\\s+'`` instead\n",
            "  df = pd.read_csv(file_path, delim_whitespace=True, header=0)\n"
          ]
        },
        {
          "output_type": "stream",
          "name": "stdout",
          "text": [
            "✔ Successfully loaded data for participant 473\n",
            "\n",
            "Processing participant 474\n",
            "Loading transcript...\n",
            "Transcript loaded successfully\n"
          ]
        },
        {
          "output_type": "stream",
          "name": "stderr",
          "text": [
            "<ipython-input-5-4d9a30422eb1>:86: FutureWarning: The 'delim_whitespace' keyword in pd.read_csv is deprecated and will be removed in a future version. Use ``sep='\\s+'`` instead\n",
            "  df = pd.read_csv(file_path, delim_whitespace=True, header=0)\n",
            "<ipython-input-5-4d9a30422eb1>:88: FutureWarning: DataFrame.applymap has been deprecated. Use DataFrame.map instead.\n",
            "  df = df.applymap(lambda x: str(x).strip().rstrip(','))\n",
            "<ipython-input-5-4d9a30422eb1>:86: FutureWarning: The 'delim_whitespace' keyword in pd.read_csv is deprecated and will be removed in a future version. Use ``sep='\\s+'`` instead\n",
            "  df = pd.read_csv(file_path, delim_whitespace=True, header=0)\n",
            "<ipython-input-5-4d9a30422eb1>:88: FutureWarning: DataFrame.applymap has been deprecated. Use DataFrame.map instead.\n",
            "  df = df.applymap(lambda x: str(x).strip().rstrip(','))\n",
            "<ipython-input-5-4d9a30422eb1>:86: FutureWarning: The 'delim_whitespace' keyword in pd.read_csv is deprecated and will be removed in a future version. Use ``sep='\\s+'`` instead\n",
            "  df = pd.read_csv(file_path, delim_whitespace=True, header=0)\n",
            "<ipython-input-5-4d9a30422eb1>:88: FutureWarning: DataFrame.applymap has been deprecated. Use DataFrame.map instead.\n",
            "  df = df.applymap(lambda x: str(x).strip().rstrip(','))\n"
          ]
        },
        {
          "output_type": "stream",
          "name": "stdout",
          "text": [
            "✔ Successfully loaded data for participant 474\n",
            "\n",
            "Processing participant 475\n",
            "Loading transcript...\n",
            "Transcript loaded successfully\n"
          ]
        },
        {
          "output_type": "stream",
          "name": "stderr",
          "text": [
            "<ipython-input-5-4d9a30422eb1>:86: FutureWarning: The 'delim_whitespace' keyword in pd.read_csv is deprecated and will be removed in a future version. Use ``sep='\\s+'`` instead\n",
            "  df = pd.read_csv(file_path, delim_whitespace=True, header=0)\n",
            "<ipython-input-5-4d9a30422eb1>:88: FutureWarning: DataFrame.applymap has been deprecated. Use DataFrame.map instead.\n",
            "  df = df.applymap(lambda x: str(x).strip().rstrip(','))\n",
            "<ipython-input-5-4d9a30422eb1>:86: FutureWarning: The 'delim_whitespace' keyword in pd.read_csv is deprecated and will be removed in a future version. Use ``sep='\\s+'`` instead\n",
            "  df = pd.read_csv(file_path, delim_whitespace=True, header=0)\n",
            "<ipython-input-5-4d9a30422eb1>:88: FutureWarning: DataFrame.applymap has been deprecated. Use DataFrame.map instead.\n",
            "  df = df.applymap(lambda x: str(x).strip().rstrip(','))\n",
            "<ipython-input-5-4d9a30422eb1>:86: FutureWarning: The 'delim_whitespace' keyword in pd.read_csv is deprecated and will be removed in a future version. Use ``sep='\\s+'`` instead\n",
            "  df = pd.read_csv(file_path, delim_whitespace=True, header=0)\n",
            "<ipython-input-5-4d9a30422eb1>:88: FutureWarning: DataFrame.applymap has been deprecated. Use DataFrame.map instead.\n",
            "  df = df.applymap(lambda x: str(x).strip().rstrip(','))\n"
          ]
        },
        {
          "output_type": "stream",
          "name": "stdout",
          "text": [
            "✔ Successfully loaded data for participant 475\n",
            "\n",
            "Processing participant 478\n",
            "Loading transcript...\n",
            "Transcript loaded successfully\n"
          ]
        },
        {
          "output_type": "stream",
          "name": "stderr",
          "text": [
            "<ipython-input-5-4d9a30422eb1>:86: FutureWarning: The 'delim_whitespace' keyword in pd.read_csv is deprecated and will be removed in a future version. Use ``sep='\\s+'`` instead\n",
            "  df = pd.read_csv(file_path, delim_whitespace=True, header=0)\n",
            "<ipython-input-5-4d9a30422eb1>:88: FutureWarning: DataFrame.applymap has been deprecated. Use DataFrame.map instead.\n",
            "  df = df.applymap(lambda x: str(x).strip().rstrip(','))\n",
            "<ipython-input-5-4d9a30422eb1>:86: FutureWarning: The 'delim_whitespace' keyword in pd.read_csv is deprecated and will be removed in a future version. Use ``sep='\\s+'`` instead\n",
            "  df = pd.read_csv(file_path, delim_whitespace=True, header=0)\n",
            "<ipython-input-5-4d9a30422eb1>:86: FutureWarning: The 'delim_whitespace' keyword in pd.read_csv is deprecated and will be removed in a future version. Use ``sep='\\s+'`` instead\n",
            "  df = pd.read_csv(file_path, delim_whitespace=True, header=0)\n",
            "<ipython-input-5-4d9a30422eb1>:88: FutureWarning: DataFrame.applymap has been deprecated. Use DataFrame.map instead.\n",
            "  df = df.applymap(lambda x: str(x).strip().rstrip(','))\n"
          ]
        },
        {
          "output_type": "stream",
          "name": "stdout",
          "text": [
            "✔ Successfully loaded data for participant 478\n",
            "\n",
            "Processing participant 479\n",
            "Loading transcript...\n",
            "Transcript loaded successfully\n"
          ]
        },
        {
          "output_type": "stream",
          "name": "stderr",
          "text": [
            "<ipython-input-5-4d9a30422eb1>:86: FutureWarning: The 'delim_whitespace' keyword in pd.read_csv is deprecated and will be removed in a future version. Use ``sep='\\s+'`` instead\n",
            "  df = pd.read_csv(file_path, delim_whitespace=True, header=0)\n",
            "<ipython-input-5-4d9a30422eb1>:88: FutureWarning: DataFrame.applymap has been deprecated. Use DataFrame.map instead.\n",
            "  df = df.applymap(lambda x: str(x).strip().rstrip(','))\n",
            "<ipython-input-5-4d9a30422eb1>:86: FutureWarning: The 'delim_whitespace' keyword in pd.read_csv is deprecated and will be removed in a future version. Use ``sep='\\s+'`` instead\n",
            "  df = pd.read_csv(file_path, delim_whitespace=True, header=0)\n",
            "<ipython-input-5-4d9a30422eb1>:88: FutureWarning: DataFrame.applymap has been deprecated. Use DataFrame.map instead.\n",
            "  df = df.applymap(lambda x: str(x).strip().rstrip(','))\n",
            "<ipython-input-5-4d9a30422eb1>:86: FutureWarning: The 'delim_whitespace' keyword in pd.read_csv is deprecated and will be removed in a future version. Use ``sep='\\s+'`` instead\n",
            "  df = pd.read_csv(file_path, delim_whitespace=True, header=0)\n",
            "<ipython-input-5-4d9a30422eb1>:88: FutureWarning: DataFrame.applymap has been deprecated. Use DataFrame.map instead.\n",
            "  df = df.applymap(lambda x: str(x).strip().rstrip(','))\n"
          ]
        },
        {
          "output_type": "stream",
          "name": "stdout",
          "text": [
            "✔ Successfully loaded data for participant 479\n",
            "\n",
            "Processing participant 485\n",
            "Loading transcript...\n",
            "Transcript loaded successfully\n"
          ]
        },
        {
          "output_type": "stream",
          "name": "stderr",
          "text": [
            "<ipython-input-5-4d9a30422eb1>:86: FutureWarning: The 'delim_whitespace' keyword in pd.read_csv is deprecated and will be removed in a future version. Use ``sep='\\s+'`` instead\n",
            "  df = pd.read_csv(file_path, delim_whitespace=True, header=0)\n",
            "<ipython-input-5-4d9a30422eb1>:86: FutureWarning: The 'delim_whitespace' keyword in pd.read_csv is deprecated and will be removed in a future version. Use ``sep='\\s+'`` instead\n",
            "  df = pd.read_csv(file_path, delim_whitespace=True, header=0)\n",
            "<ipython-input-5-4d9a30422eb1>:88: FutureWarning: DataFrame.applymap has been deprecated. Use DataFrame.map instead.\n",
            "  df = df.applymap(lambda x: str(x).strip().rstrip(','))\n",
            "<ipython-input-5-4d9a30422eb1>:86: FutureWarning: The 'delim_whitespace' keyword in pd.read_csv is deprecated and will be removed in a future version. Use ``sep='\\s+'`` instead\n",
            "  df = pd.read_csv(file_path, delim_whitespace=True, header=0)\n",
            "<ipython-input-5-4d9a30422eb1>:88: FutureWarning: DataFrame.applymap has been deprecated. Use DataFrame.map instead.\n",
            "  df = df.applymap(lambda x: str(x).strip().rstrip(','))\n"
          ]
        },
        {
          "output_type": "stream",
          "name": "stdout",
          "text": [
            "✔ Successfully loaded data for participant 485\n",
            "\n",
            "Processing participant 486\n",
            "Loading transcript...\n",
            "Transcript loaded successfully\n"
          ]
        },
        {
          "output_type": "stream",
          "name": "stderr",
          "text": [
            "<ipython-input-5-4d9a30422eb1>:86: FutureWarning: The 'delim_whitespace' keyword in pd.read_csv is deprecated and will be removed in a future version. Use ``sep='\\s+'`` instead\n",
            "  df = pd.read_csv(file_path, delim_whitespace=True, header=0)\n",
            "<ipython-input-5-4d9a30422eb1>:88: FutureWarning: DataFrame.applymap has been deprecated. Use DataFrame.map instead.\n",
            "  df = df.applymap(lambda x: str(x).strip().rstrip(','))\n",
            "<ipython-input-5-4d9a30422eb1>:86: FutureWarning: The 'delim_whitespace' keyword in pd.read_csv is deprecated and will be removed in a future version. Use ``sep='\\s+'`` instead\n",
            "  df = pd.read_csv(file_path, delim_whitespace=True, header=0)\n",
            "<ipython-input-5-4d9a30422eb1>:88: FutureWarning: DataFrame.applymap has been deprecated. Use DataFrame.map instead.\n",
            "  df = df.applymap(lambda x: str(x).strip().rstrip(','))\n",
            "<ipython-input-5-4d9a30422eb1>:86: FutureWarning: The 'delim_whitespace' keyword in pd.read_csv is deprecated and will be removed in a future version. Use ``sep='\\s+'`` instead\n",
            "  df = pd.read_csv(file_path, delim_whitespace=True, header=0)\n",
            "<ipython-input-5-4d9a30422eb1>:88: FutureWarning: DataFrame.applymap has been deprecated. Use DataFrame.map instead.\n",
            "  df = df.applymap(lambda x: str(x).strip().rstrip(','))\n"
          ]
        },
        {
          "output_type": "stream",
          "name": "stdout",
          "text": [
            "✔ Successfully loaded data for participant 486\n",
            "\n",
            "Attempted to load data for 8 participants. Loaded structures for 8.\n",
            "\n",
            "Starting data loading process...\n",
            "Found 3 participants in CSV\n",
            "\n",
            "Processing participant 487\n",
            "Loading transcript...\n",
            "Transcript loaded successfully\n"
          ]
        },
        {
          "output_type": "stream",
          "name": "stderr",
          "text": [
            "<ipython-input-5-4d9a30422eb1>:86: FutureWarning: The 'delim_whitespace' keyword in pd.read_csv is deprecated and will be removed in a future version. Use ``sep='\\s+'`` instead\n",
            "  df = pd.read_csv(file_path, delim_whitespace=True, header=0)\n",
            "<ipython-input-5-4d9a30422eb1>:88: FutureWarning: DataFrame.applymap has been deprecated. Use DataFrame.map instead.\n",
            "  df = df.applymap(lambda x: str(x).strip().rstrip(','))\n",
            "<ipython-input-5-4d9a30422eb1>:86: FutureWarning: The 'delim_whitespace' keyword in pd.read_csv is deprecated and will be removed in a future version. Use ``sep='\\s+'`` instead\n",
            "  df = pd.read_csv(file_path, delim_whitespace=True, header=0)\n",
            "<ipython-input-5-4d9a30422eb1>:88: FutureWarning: DataFrame.applymap has been deprecated. Use DataFrame.map instead.\n",
            "  df = df.applymap(lambda x: str(x).strip().rstrip(','))\n",
            "<ipython-input-5-4d9a30422eb1>:86: FutureWarning: The 'delim_whitespace' keyword in pd.read_csv is deprecated and will be removed in a future version. Use ``sep='\\s+'`` instead\n",
            "  df = pd.read_csv(file_path, delim_whitespace=True, header=0)\n",
            "<ipython-input-5-4d9a30422eb1>:88: FutureWarning: DataFrame.applymap has been deprecated. Use DataFrame.map instead.\n",
            "  df = df.applymap(lambda x: str(x).strip().rstrip(','))\n"
          ]
        },
        {
          "output_type": "stream",
          "name": "stdout",
          "text": [
            "✔ Successfully loaded data for participant 487\n",
            "\n",
            "Processing participant 488\n",
            "Loading transcript...\n",
            "Transcript loaded successfully\n"
          ]
        },
        {
          "output_type": "stream",
          "name": "stderr",
          "text": [
            "<ipython-input-5-4d9a30422eb1>:86: FutureWarning: The 'delim_whitespace' keyword in pd.read_csv is deprecated and will be removed in a future version. Use ``sep='\\s+'`` instead\n",
            "  df = pd.read_csv(file_path, delim_whitespace=True, header=0)\n",
            "<ipython-input-5-4d9a30422eb1>:88: FutureWarning: DataFrame.applymap has been deprecated. Use DataFrame.map instead.\n",
            "  df = df.applymap(lambda x: str(x).strip().rstrip(','))\n",
            "<ipython-input-5-4d9a30422eb1>:86: FutureWarning: The 'delim_whitespace' keyword in pd.read_csv is deprecated and will be removed in a future version. Use ``sep='\\s+'`` instead\n",
            "  df = pd.read_csv(file_path, delim_whitespace=True, header=0)\n",
            "<ipython-input-5-4d9a30422eb1>:88: FutureWarning: DataFrame.applymap has been deprecated. Use DataFrame.map instead.\n",
            "  df = df.applymap(lambda x: str(x).strip().rstrip(','))\n",
            "<ipython-input-5-4d9a30422eb1>:86: FutureWarning: The 'delim_whitespace' keyword in pd.read_csv is deprecated and will be removed in a future version. Use ``sep='\\s+'`` instead\n",
            "  df = pd.read_csv(file_path, delim_whitespace=True, header=0)\n",
            "<ipython-input-5-4d9a30422eb1>:88: FutureWarning: DataFrame.applymap has been deprecated. Use DataFrame.map instead.\n",
            "  df = df.applymap(lambda x: str(x).strip().rstrip(','))\n"
          ]
        },
        {
          "output_type": "stream",
          "name": "stdout",
          "text": [
            "✔ Successfully loaded data for participant 488\n",
            "\n",
            "Processing participant 491\n",
            "Loading transcript...\n",
            "Transcript loaded successfully\n"
          ]
        },
        {
          "output_type": "stream",
          "name": "stderr",
          "text": [
            "<ipython-input-5-4d9a30422eb1>:86: FutureWarning: The 'delim_whitespace' keyword in pd.read_csv is deprecated and will be removed in a future version. Use ``sep='\\s+'`` instead\n",
            "  df = pd.read_csv(file_path, delim_whitespace=True, header=0)\n",
            "<ipython-input-5-4d9a30422eb1>:88: FutureWarning: DataFrame.applymap has been deprecated. Use DataFrame.map instead.\n",
            "  df = df.applymap(lambda x: str(x).strip().rstrip(','))\n",
            "<ipython-input-5-4d9a30422eb1>:86: FutureWarning: The 'delim_whitespace' keyword in pd.read_csv is deprecated and will be removed in a future version. Use ``sep='\\s+'`` instead\n",
            "  df = pd.read_csv(file_path, delim_whitespace=True, header=0)\n",
            "<ipython-input-5-4d9a30422eb1>:88: FutureWarning: DataFrame.applymap has been deprecated. Use DataFrame.map instead.\n",
            "  df = df.applymap(lambda x: str(x).strip().rstrip(','))\n",
            "<ipython-input-5-4d9a30422eb1>:86: FutureWarning: The 'delim_whitespace' keyword in pd.read_csv is deprecated and will be removed in a future version. Use ``sep='\\s+'`` instead\n",
            "  df = pd.read_csv(file_path, delim_whitespace=True, header=0)\n",
            "<ipython-input-5-4d9a30422eb1>:88: FutureWarning: DataFrame.applymap has been deprecated. Use DataFrame.map instead.\n",
            "  df = df.applymap(lambda x: str(x).strip().rstrip(','))\n"
          ]
        },
        {
          "output_type": "stream",
          "name": "stdout",
          "text": [
            "✔ Successfully loaded data for participant 491\n",
            "\n",
            "Attempted to load data for 3 participants. Loaded structures for 3.\n",
            "Processing validation data in batches...\n",
            "\n",
            "Starting data loading process...\n",
            "Found 8 participants in CSV\n",
            "\n",
            "Processing participant 302\n",
            "Loading transcript...\n",
            "Transcript loaded successfully\n"
          ]
        },
        {
          "output_type": "stream",
          "name": "stderr",
          "text": [
            "<ipython-input-5-4d9a30422eb1>:86: FutureWarning: The 'delim_whitespace' keyword in pd.read_csv is deprecated and will be removed in a future version. Use ``sep='\\s+'`` instead\n",
            "  df = pd.read_csv(file_path, delim_whitespace=True, header=0)\n",
            "<ipython-input-5-4d9a30422eb1>:88: FutureWarning: DataFrame.applymap has been deprecated. Use DataFrame.map instead.\n",
            "  df = df.applymap(lambda x: str(x).strip().rstrip(','))\n",
            "<ipython-input-5-4d9a30422eb1>:88: FutureWarning: DataFrame.applymap has been deprecated. Use DataFrame.map instead.\n",
            "  df = df.applymap(lambda x: str(x).strip().rstrip(','))\n",
            "<ipython-input-5-4d9a30422eb1>:86: FutureWarning: The 'delim_whitespace' keyword in pd.read_csv is deprecated and will be removed in a future version. Use ``sep='\\s+'`` instead\n",
            "  df = pd.read_csv(file_path, delim_whitespace=True, header=0)\n"
          ]
        },
        {
          "output_type": "stream",
          "name": "stdout",
          "text": [
            "✔ Successfully loaded data for participant 302\n",
            "\n",
            "Processing participant 307\n",
            "Loading transcript...\n",
            "Transcript loaded successfully\n"
          ]
        },
        {
          "output_type": "stream",
          "name": "stderr",
          "text": [
            "<ipython-input-5-4d9a30422eb1>:86: FutureWarning: The 'delim_whitespace' keyword in pd.read_csv is deprecated and will be removed in a future version. Use ``sep='\\s+'`` instead\n",
            "  df = pd.read_csv(file_path, delim_whitespace=True, header=0)\n",
            "<ipython-input-5-4d9a30422eb1>:88: FutureWarning: DataFrame.applymap has been deprecated. Use DataFrame.map instead.\n",
            "  df = df.applymap(lambda x: str(x).strip().rstrip(','))\n",
            "<ipython-input-5-4d9a30422eb1>:86: FutureWarning: The 'delim_whitespace' keyword in pd.read_csv is deprecated and will be removed in a future version. Use ``sep='\\s+'`` instead\n",
            "  df = pd.read_csv(file_path, delim_whitespace=True, header=0)\n",
            "<ipython-input-5-4d9a30422eb1>:86: FutureWarning: The 'delim_whitespace' keyword in pd.read_csv is deprecated and will be removed in a future version. Use ``sep='\\s+'`` instead\n",
            "  df = pd.read_csv(file_path, delim_whitespace=True, header=0)\n",
            "<ipython-input-5-4d9a30422eb1>:88: FutureWarning: DataFrame.applymap has been deprecated. Use DataFrame.map instead.\n",
            "  df = df.applymap(lambda x: str(x).strip().rstrip(','))\n"
          ]
        },
        {
          "output_type": "stream",
          "name": "stdout",
          "text": [
            "✔ Successfully loaded data for participant 307\n",
            "\n",
            "Processing participant 331\n",
            "Loading transcript...\n",
            "Transcript loaded successfully\n"
          ]
        },
        {
          "output_type": "stream",
          "name": "stderr",
          "text": [
            "<ipython-input-5-4d9a30422eb1>:86: FutureWarning: The 'delim_whitespace' keyword in pd.read_csv is deprecated and will be removed in a future version. Use ``sep='\\s+'`` instead\n",
            "  df = pd.read_csv(file_path, delim_whitespace=True, header=0)\n",
            "<ipython-input-5-4d9a30422eb1>:88: FutureWarning: DataFrame.applymap has been deprecated. Use DataFrame.map instead.\n",
            "  df = df.applymap(lambda x: str(x).strip().rstrip(','))\n",
            "<ipython-input-5-4d9a30422eb1>:86: FutureWarning: The 'delim_whitespace' keyword in pd.read_csv is deprecated and will be removed in a future version. Use ``sep='\\s+'`` instead\n",
            "  df = pd.read_csv(file_path, delim_whitespace=True, header=0)\n",
            "<ipython-input-5-4d9a30422eb1>:88: FutureWarning: DataFrame.applymap has been deprecated. Use DataFrame.map instead.\n",
            "  df = df.applymap(lambda x: str(x).strip().rstrip(','))\n",
            "<ipython-input-5-4d9a30422eb1>:86: FutureWarning: The 'delim_whitespace' keyword in pd.read_csv is deprecated and will be removed in a future version. Use ``sep='\\s+'`` instead\n",
            "  df = pd.read_csv(file_path, delim_whitespace=True, header=0)\n",
            "<ipython-input-5-4d9a30422eb1>:88: FutureWarning: DataFrame.applymap has been deprecated. Use DataFrame.map instead.\n",
            "  df = df.applymap(lambda x: str(x).strip().rstrip(','))\n"
          ]
        },
        {
          "output_type": "stream",
          "name": "stdout",
          "text": [
            "✔ Successfully loaded data for participant 331\n",
            "\n",
            "Processing participant 335\n",
            "Loading transcript...\n",
            "Transcript loaded successfully\n"
          ]
        },
        {
          "output_type": "stream",
          "name": "stderr",
          "text": [
            "<ipython-input-5-4d9a30422eb1>:86: FutureWarning: The 'delim_whitespace' keyword in pd.read_csv is deprecated and will be removed in a future version. Use ``sep='\\s+'`` instead\n",
            "  df = pd.read_csv(file_path, delim_whitespace=True, header=0)\n",
            "<ipython-input-5-4d9a30422eb1>:88: FutureWarning: DataFrame.applymap has been deprecated. Use DataFrame.map instead.\n",
            "  df = df.applymap(lambda x: str(x).strip().rstrip(','))\n",
            "<ipython-input-5-4d9a30422eb1>:86: FutureWarning: The 'delim_whitespace' keyword in pd.read_csv is deprecated and will be removed in a future version. Use ``sep='\\s+'`` instead\n",
            "  df = pd.read_csv(file_path, delim_whitespace=True, header=0)\n",
            "<ipython-input-5-4d9a30422eb1>:88: FutureWarning: DataFrame.applymap has been deprecated. Use DataFrame.map instead.\n",
            "  df = df.applymap(lambda x: str(x).strip().rstrip(','))\n",
            "<ipython-input-5-4d9a30422eb1>:86: FutureWarning: The 'delim_whitespace' keyword in pd.read_csv is deprecated and will be removed in a future version. Use ``sep='\\s+'`` instead\n",
            "  df = pd.read_csv(file_path, delim_whitespace=True, header=0)\n",
            "<ipython-input-5-4d9a30422eb1>:88: FutureWarning: DataFrame.applymap has been deprecated. Use DataFrame.map instead.\n",
            "  df = df.applymap(lambda x: str(x).strip().rstrip(','))\n"
          ]
        },
        {
          "output_type": "stream",
          "name": "stdout",
          "text": [
            "✔ Successfully loaded data for participant 335\n",
            "\n",
            "Processing participant 346\n",
            "Loading transcript...\n",
            "Transcript loaded successfully\n"
          ]
        },
        {
          "output_type": "stream",
          "name": "stderr",
          "text": [
            "<ipython-input-5-4d9a30422eb1>:86: FutureWarning: The 'delim_whitespace' keyword in pd.read_csv is deprecated and will be removed in a future version. Use ``sep='\\s+'`` instead\n",
            "  df = pd.read_csv(file_path, delim_whitespace=True, header=0)\n",
            "<ipython-input-5-4d9a30422eb1>:88: FutureWarning: DataFrame.applymap has been deprecated. Use DataFrame.map instead.\n",
            "  df = df.applymap(lambda x: str(x).strip().rstrip(','))\n",
            "<ipython-input-5-4d9a30422eb1>:86: FutureWarning: The 'delim_whitespace' keyword in pd.read_csv is deprecated and will be removed in a future version. Use ``sep='\\s+'`` instead\n",
            "  df = pd.read_csv(file_path, delim_whitespace=True, header=0)\n",
            "<ipython-input-5-4d9a30422eb1>:88: FutureWarning: DataFrame.applymap has been deprecated. Use DataFrame.map instead.\n",
            "  df = df.applymap(lambda x: str(x).strip().rstrip(','))\n",
            "<ipython-input-5-4d9a30422eb1>:86: FutureWarning: The 'delim_whitespace' keyword in pd.read_csv is deprecated and will be removed in a future version. Use ``sep='\\s+'`` instead\n",
            "  df = pd.read_csv(file_path, delim_whitespace=True, header=0)\n",
            "<ipython-input-5-4d9a30422eb1>:88: FutureWarning: DataFrame.applymap has been deprecated. Use DataFrame.map instead.\n",
            "  df = df.applymap(lambda x: str(x).strip().rstrip(','))\n"
          ]
        },
        {
          "output_type": "stream",
          "name": "stdout",
          "text": [
            "✔ Successfully loaded data for participant 346\n",
            "\n",
            "Processing participant 367\n",
            "Loading transcript...\n",
            "Transcript loaded successfully\n"
          ]
        },
        {
          "output_type": "stream",
          "name": "stderr",
          "text": [
            "<ipython-input-5-4d9a30422eb1>:86: FutureWarning: The 'delim_whitespace' keyword in pd.read_csv is deprecated and will be removed in a future version. Use ``sep='\\s+'`` instead\n",
            "  df = pd.read_csv(file_path, delim_whitespace=True, header=0)\n",
            "<ipython-input-5-4d9a30422eb1>:88: FutureWarning: DataFrame.applymap has been deprecated. Use DataFrame.map instead.\n",
            "  df = df.applymap(lambda x: str(x).strip().rstrip(','))\n",
            "<ipython-input-5-4d9a30422eb1>:86: FutureWarning: The 'delim_whitespace' keyword in pd.read_csv is deprecated and will be removed in a future version. Use ``sep='\\s+'`` instead\n",
            "  df = pd.read_csv(file_path, delim_whitespace=True, header=0)\n",
            "<ipython-input-5-4d9a30422eb1>:88: FutureWarning: DataFrame.applymap has been deprecated. Use DataFrame.map instead.\n",
            "  df = df.applymap(lambda x: str(x).strip().rstrip(','))\n"
          ]
        },
        {
          "output_type": "stream",
          "name": "stdout",
          "text": [
            "✔ Successfully loaded data for participant 367\n",
            "\n",
            "Processing participant 377\n",
            "Loading transcript...\n",
            "Transcript loaded successfully\n"
          ]
        },
        {
          "output_type": "stream",
          "name": "stderr",
          "text": [
            "<ipython-input-5-4d9a30422eb1>:86: FutureWarning: The 'delim_whitespace' keyword in pd.read_csv is deprecated and will be removed in a future version. Use ``sep='\\s+'`` instead\n",
            "  df = pd.read_csv(file_path, delim_whitespace=True, header=0)\n",
            "<ipython-input-5-4d9a30422eb1>:88: FutureWarning: DataFrame.applymap has been deprecated. Use DataFrame.map instead.\n",
            "  df = df.applymap(lambda x: str(x).strip().rstrip(','))\n",
            "<ipython-input-5-4d9a30422eb1>:86: FutureWarning: The 'delim_whitespace' keyword in pd.read_csv is deprecated and will be removed in a future version. Use ``sep='\\s+'`` instead\n",
            "  df = pd.read_csv(file_path, delim_whitespace=True, header=0)\n",
            "<ipython-input-5-4d9a30422eb1>:88: FutureWarning: DataFrame.applymap has been deprecated. Use DataFrame.map instead.\n",
            "  df = df.applymap(lambda x: str(x).strip().rstrip(','))\n",
            "<ipython-input-5-4d9a30422eb1>:86: FutureWarning: The 'delim_whitespace' keyword in pd.read_csv is deprecated and will be removed in a future version. Use ``sep='\\s+'`` instead\n",
            "  df = pd.read_csv(file_path, delim_whitespace=True, header=0)\n",
            "<ipython-input-5-4d9a30422eb1>:88: FutureWarning: DataFrame.applymap has been deprecated. Use DataFrame.map instead.\n",
            "  df = df.applymap(lambda x: str(x).strip().rstrip(','))\n"
          ]
        },
        {
          "output_type": "stream",
          "name": "stdout",
          "text": [
            "✔ Successfully loaded data for participant 377\n",
            "\n",
            "Processing participant 381\n",
            "Loading transcript...\n",
            "Transcript loaded successfully\n"
          ]
        },
        {
          "output_type": "stream",
          "name": "stderr",
          "text": [
            "<ipython-input-5-4d9a30422eb1>:86: FutureWarning: The 'delim_whitespace' keyword in pd.read_csv is deprecated and will be removed in a future version. Use ``sep='\\s+'`` instead\n",
            "  df = pd.read_csv(file_path, delim_whitespace=True, header=0)\n",
            "<ipython-input-5-4d9a30422eb1>:88: FutureWarning: DataFrame.applymap has been deprecated. Use DataFrame.map instead.\n",
            "  df = df.applymap(lambda x: str(x).strip().rstrip(','))\n",
            "<ipython-input-5-4d9a30422eb1>:86: FutureWarning: The 'delim_whitespace' keyword in pd.read_csv is deprecated and will be removed in a future version. Use ``sep='\\s+'`` instead\n",
            "  df = pd.read_csv(file_path, delim_whitespace=True, header=0)\n",
            "<ipython-input-5-4d9a30422eb1>:88: FutureWarning: DataFrame.applymap has been deprecated. Use DataFrame.map instead.\n",
            "  df = df.applymap(lambda x: str(x).strip().rstrip(','))\n",
            "<ipython-input-5-4d9a30422eb1>:86: FutureWarning: The 'delim_whitespace' keyword in pd.read_csv is deprecated and will be removed in a future version. Use ``sep='\\s+'`` instead\n",
            "  df = pd.read_csv(file_path, delim_whitespace=True, header=0)\n",
            "<ipython-input-5-4d9a30422eb1>:88: FutureWarning: DataFrame.applymap has been deprecated. Use DataFrame.map instead.\n",
            "  df = df.applymap(lambda x: str(x).strip().rstrip(','))\n"
          ]
        },
        {
          "output_type": "stream",
          "name": "stdout",
          "text": [
            "✔ Successfully loaded data for participant 381\n",
            "\n",
            "Attempted to load data for 8 participants. Loaded structures for 8.\n",
            "\n",
            "Starting data loading process...\n",
            "Found 8 participants in CSV\n",
            "\n",
            "Processing participant 382\n",
            "Loading transcript...\n",
            "Transcript loaded successfully\n"
          ]
        },
        {
          "output_type": "stream",
          "name": "stderr",
          "text": [
            "<ipython-input-5-4d9a30422eb1>:86: FutureWarning: The 'delim_whitespace' keyword in pd.read_csv is deprecated and will be removed in a future version. Use ``sep='\\s+'`` instead\n",
            "  df = pd.read_csv(file_path, delim_whitespace=True, header=0)\n",
            "<ipython-input-5-4d9a30422eb1>:88: FutureWarning: DataFrame.applymap has been deprecated. Use DataFrame.map instead.\n",
            "  df = df.applymap(lambda x: str(x).strip().rstrip(','))\n",
            "<ipython-input-5-4d9a30422eb1>:86: FutureWarning: The 'delim_whitespace' keyword in pd.read_csv is deprecated and will be removed in a future version. Use ``sep='\\s+'`` instead\n",
            "  df = pd.read_csv(file_path, delim_whitespace=True, header=0)\n",
            "<ipython-input-5-4d9a30422eb1>:88: FutureWarning: DataFrame.applymap has been deprecated. Use DataFrame.map instead.\n",
            "  df = df.applymap(lambda x: str(x).strip().rstrip(','))\n",
            "<ipython-input-5-4d9a30422eb1>:86: FutureWarning: The 'delim_whitespace' keyword in pd.read_csv is deprecated and will be removed in a future version. Use ``sep='\\s+'`` instead\n",
            "  df = pd.read_csv(file_path, delim_whitespace=True, header=0)\n",
            "<ipython-input-5-4d9a30422eb1>:88: FutureWarning: DataFrame.applymap has been deprecated. Use DataFrame.map instead.\n",
            "  df = df.applymap(lambda x: str(x).strip().rstrip(','))\n"
          ]
        },
        {
          "output_type": "stream",
          "name": "stdout",
          "text": [
            "✔ Successfully loaded data for participant 382\n",
            "\n",
            "Processing participant 388\n",
            "Loading transcript...\n",
            "Transcript loaded successfully\n"
          ]
        },
        {
          "output_type": "stream",
          "name": "stderr",
          "text": [
            "<ipython-input-5-4d9a30422eb1>:86: FutureWarning: The 'delim_whitespace' keyword in pd.read_csv is deprecated and will be removed in a future version. Use ``sep='\\s+'`` instead\n",
            "  df = pd.read_csv(file_path, delim_whitespace=True, header=0)\n",
            "<ipython-input-5-4d9a30422eb1>:88: FutureWarning: DataFrame.applymap has been deprecated. Use DataFrame.map instead.\n",
            "  df = df.applymap(lambda x: str(x).strip().rstrip(','))\n",
            "<ipython-input-5-4d9a30422eb1>:88: FutureWarning: DataFrame.applymap has been deprecated. Use DataFrame.map instead.\n",
            "  df = df.applymap(lambda x: str(x).strip().rstrip(','))\n",
            "<ipython-input-5-4d9a30422eb1>:86: FutureWarning: The 'delim_whitespace' keyword in pd.read_csv is deprecated and will be removed in a future version. Use ``sep='\\s+'`` instead\n",
            "  df = pd.read_csv(file_path, delim_whitespace=True, header=0)\n",
            "<ipython-input-5-4d9a30422eb1>:88: FutureWarning: DataFrame.applymap has been deprecated. Use DataFrame.map instead.\n",
            "  df = df.applymap(lambda x: str(x).strip().rstrip(','))\n"
          ]
        },
        {
          "output_type": "stream",
          "name": "stdout",
          "text": [
            "✔ Successfully loaded data for participant 388\n",
            "\n",
            "Processing participant 389\n",
            "Loading transcript...\n",
            "Transcript loaded successfully\n"
          ]
        },
        {
          "output_type": "stream",
          "name": "stderr",
          "text": [
            "<ipython-input-5-4d9a30422eb1>:86: FutureWarning: The 'delim_whitespace' keyword in pd.read_csv is deprecated and will be removed in a future version. Use ``sep='\\s+'`` instead\n",
            "  df = pd.read_csv(file_path, delim_whitespace=True, header=0)\n",
            "<ipython-input-5-4d9a30422eb1>:88: FutureWarning: DataFrame.applymap has been deprecated. Use DataFrame.map instead.\n",
            "  df = df.applymap(lambda x: str(x).strip().rstrip(','))\n",
            "<ipython-input-5-4d9a30422eb1>:86: FutureWarning: The 'delim_whitespace' keyword in pd.read_csv is deprecated and will be removed in a future version. Use ``sep='\\s+'`` instead\n",
            "  df = pd.read_csv(file_path, delim_whitespace=True, header=0)\n",
            "<ipython-input-5-4d9a30422eb1>:88: FutureWarning: DataFrame.applymap has been deprecated. Use DataFrame.map instead.\n",
            "  df = df.applymap(lambda x: str(x).strip().rstrip(','))\n",
            "<ipython-input-5-4d9a30422eb1>:86: FutureWarning: The 'delim_whitespace' keyword in pd.read_csv is deprecated and will be removed in a future version. Use ``sep='\\s+'`` instead\n",
            "  df = pd.read_csv(file_path, delim_whitespace=True, header=0)\n",
            "<ipython-input-5-4d9a30422eb1>:88: FutureWarning: DataFrame.applymap has been deprecated. Use DataFrame.map instead.\n",
            "  df = df.applymap(lambda x: str(x).strip().rstrip(','))\n"
          ]
        },
        {
          "output_type": "stream",
          "name": "stdout",
          "text": [
            "✔ Successfully loaded data for participant 389\n",
            "\n",
            "Processing participant 390\n",
            "Loading transcript...\n",
            "Transcript loaded successfully\n"
          ]
        },
        {
          "output_type": "stream",
          "name": "stderr",
          "text": [
            "<ipython-input-5-4d9a30422eb1>:86: FutureWarning: The 'delim_whitespace' keyword in pd.read_csv is deprecated and will be removed in a future version. Use ``sep='\\s+'`` instead\n",
            "  df = pd.read_csv(file_path, delim_whitespace=True, header=0)\n",
            "<ipython-input-5-4d9a30422eb1>:88: FutureWarning: DataFrame.applymap has been deprecated. Use DataFrame.map instead.\n",
            "  df = df.applymap(lambda x: str(x).strip().rstrip(','))\n",
            "<ipython-input-5-4d9a30422eb1>:86: FutureWarning: The 'delim_whitespace' keyword in pd.read_csv is deprecated and will be removed in a future version. Use ``sep='\\s+'`` instead\n",
            "  df = pd.read_csv(file_path, delim_whitespace=True, header=0)\n",
            "<ipython-input-5-4d9a30422eb1>:88: FutureWarning: DataFrame.applymap has been deprecated. Use DataFrame.map instead.\n",
            "  df = df.applymap(lambda x: str(x).strip().rstrip(','))\n",
            "<ipython-input-5-4d9a30422eb1>:86: FutureWarning: The 'delim_whitespace' keyword in pd.read_csv is deprecated and will be removed in a future version. Use ``sep='\\s+'`` instead\n",
            "  df = pd.read_csv(file_path, delim_whitespace=True, header=0)\n",
            "<ipython-input-5-4d9a30422eb1>:88: FutureWarning: DataFrame.applymap has been deprecated. Use DataFrame.map instead.\n",
            "  df = df.applymap(lambda x: str(x).strip().rstrip(','))\n"
          ]
        },
        {
          "output_type": "stream",
          "name": "stdout",
          "text": [
            "✔ Successfully loaded data for participant 390\n",
            "\n",
            "Processing participant 395\n",
            "Loading transcript...\n",
            "Transcript loaded successfully\n"
          ]
        },
        {
          "output_type": "stream",
          "name": "stderr",
          "text": [
            "<ipython-input-5-4d9a30422eb1>:86: FutureWarning: The 'delim_whitespace' keyword in pd.read_csv is deprecated and will be removed in a future version. Use ``sep='\\s+'`` instead\n",
            "  df = pd.read_csv(file_path, delim_whitespace=True, header=0)\n",
            "<ipython-input-5-4d9a30422eb1>:88: FutureWarning: DataFrame.applymap has been deprecated. Use DataFrame.map instead.\n",
            "  df = df.applymap(lambda x: str(x).strip().rstrip(','))\n",
            "<ipython-input-5-4d9a30422eb1>:86: FutureWarning: The 'delim_whitespace' keyword in pd.read_csv is deprecated and will be removed in a future version. Use ``sep='\\s+'`` instead\n",
            "  df = pd.read_csv(file_path, delim_whitespace=True, header=0)\n",
            "<ipython-input-5-4d9a30422eb1>:88: FutureWarning: DataFrame.applymap has been deprecated. Use DataFrame.map instead.\n",
            "  df = df.applymap(lambda x: str(x).strip().rstrip(','))\n",
            "<ipython-input-5-4d9a30422eb1>:86: FutureWarning: The 'delim_whitespace' keyword in pd.read_csv is deprecated and will be removed in a future version. Use ``sep='\\s+'`` instead\n",
            "  df = pd.read_csv(file_path, delim_whitespace=True, header=0)\n",
            "<ipython-input-5-4d9a30422eb1>:88: FutureWarning: DataFrame.applymap has been deprecated. Use DataFrame.map instead.\n",
            "  df = df.applymap(lambda x: str(x).strip().rstrip(','))\n"
          ]
        },
        {
          "output_type": "stream",
          "name": "stdout",
          "text": [
            "✔ Successfully loaded data for participant 395\n",
            "\n",
            "Processing participant 403\n",
            "Loading transcript...\n",
            "Transcript loaded successfully\n"
          ]
        },
        {
          "output_type": "stream",
          "name": "stderr",
          "text": [
            "<ipython-input-5-4d9a30422eb1>:86: FutureWarning: The 'delim_whitespace' keyword in pd.read_csv is deprecated and will be removed in a future version. Use ``sep='\\s+'`` instead\n",
            "  df = pd.read_csv(file_path, delim_whitespace=True, header=0)\n",
            "<ipython-input-5-4d9a30422eb1>:88: FutureWarning: DataFrame.applymap has been deprecated. Use DataFrame.map instead.\n",
            "  df = df.applymap(lambda x: str(x).strip().rstrip(','))\n",
            "<ipython-input-5-4d9a30422eb1>:86: FutureWarning: The 'delim_whitespace' keyword in pd.read_csv is deprecated and will be removed in a future version. Use ``sep='\\s+'`` instead\n",
            "  df = pd.read_csv(file_path, delim_whitespace=True, header=0)\n",
            "<ipython-input-5-4d9a30422eb1>:88: FutureWarning: DataFrame.applymap has been deprecated. Use DataFrame.map instead.\n",
            "  df = df.applymap(lambda x: str(x).strip().rstrip(','))\n"
          ]
        },
        {
          "output_type": "stream",
          "name": "stdout",
          "text": [
            "✔ Successfully loaded data for participant 403\n",
            "\n",
            "Processing participant 404\n",
            "Loading transcript...\n",
            "Transcript loaded successfully\n"
          ]
        },
        {
          "output_type": "stream",
          "name": "stderr",
          "text": [
            "<ipython-input-5-4d9a30422eb1>:86: FutureWarning: The 'delim_whitespace' keyword in pd.read_csv is deprecated and will be removed in a future version. Use ``sep='\\s+'`` instead\n",
            "  df = pd.read_csv(file_path, delim_whitespace=True, header=0)\n",
            "<ipython-input-5-4d9a30422eb1>:88: FutureWarning: DataFrame.applymap has been deprecated. Use DataFrame.map instead.\n",
            "  df = df.applymap(lambda x: str(x).strip().rstrip(','))\n",
            "<ipython-input-5-4d9a30422eb1>:86: FutureWarning: The 'delim_whitespace' keyword in pd.read_csv is deprecated and will be removed in a future version. Use ``sep='\\s+'`` instead\n",
            "  df = pd.read_csv(file_path, delim_whitespace=True, header=0)\n",
            "<ipython-input-5-4d9a30422eb1>:88: FutureWarning: DataFrame.applymap has been deprecated. Use DataFrame.map instead.\n",
            "  df = df.applymap(lambda x: str(x).strip().rstrip(','))\n",
            "<ipython-input-5-4d9a30422eb1>:86: FutureWarning: The 'delim_whitespace' keyword in pd.read_csv is deprecated and will be removed in a future version. Use ``sep='\\s+'`` instead\n",
            "  df = pd.read_csv(file_path, delim_whitespace=True, header=0)\n",
            "<ipython-input-5-4d9a30422eb1>:88: FutureWarning: DataFrame.applymap has been deprecated. Use DataFrame.map instead.\n",
            "  df = df.applymap(lambda x: str(x).strip().rstrip(','))\n"
          ]
        },
        {
          "output_type": "stream",
          "name": "stdout",
          "text": [
            "✔ Successfully loaded data for participant 404\n",
            "\n",
            "Processing participant 406\n",
            "Loading transcript...\n",
            "Transcript loaded successfully\n"
          ]
        },
        {
          "output_type": "stream",
          "name": "stderr",
          "text": [
            "<ipython-input-5-4d9a30422eb1>:86: FutureWarning: The 'delim_whitespace' keyword in pd.read_csv is deprecated and will be removed in a future version. Use ``sep='\\s+'`` instead\n",
            "  df = pd.read_csv(file_path, delim_whitespace=True, header=0)\n",
            "<ipython-input-5-4d9a30422eb1>:88: FutureWarning: DataFrame.applymap has been deprecated. Use DataFrame.map instead.\n",
            "  df = df.applymap(lambda x: str(x).strip().rstrip(','))\n",
            "<ipython-input-5-4d9a30422eb1>:88: FutureWarning: DataFrame.applymap has been deprecated. Use DataFrame.map instead.\n",
            "  df = df.applymap(lambda x: str(x).strip().rstrip(','))\n",
            "<ipython-input-5-4d9a30422eb1>:86: FutureWarning: The 'delim_whitespace' keyword in pd.read_csv is deprecated and will be removed in a future version. Use ``sep='\\s+'`` instead\n",
            "  df = pd.read_csv(file_path, delim_whitespace=True, header=0)\n",
            "<ipython-input-5-4d9a30422eb1>:88: FutureWarning: DataFrame.applymap has been deprecated. Use DataFrame.map instead.\n",
            "  df = df.applymap(lambda x: str(x).strip().rstrip(','))\n"
          ]
        },
        {
          "output_type": "stream",
          "name": "stdout",
          "text": [
            "✔ Successfully loaded data for participant 406\n",
            "\n",
            "Attempted to load data for 8 participants. Loaded structures for 8.\n",
            "\n",
            "Starting data loading process...\n",
            "Found 3 participants in CSV\n",
            "\n",
            "Processing participant 413\n",
            "Loading transcript...\n",
            "Transcript loaded successfully\n"
          ]
        },
        {
          "output_type": "stream",
          "name": "stderr",
          "text": [
            "<ipython-input-5-4d9a30422eb1>:86: FutureWarning: The 'delim_whitespace' keyword in pd.read_csv is deprecated and will be removed in a future version. Use ``sep='\\s+'`` instead\n",
            "  df = pd.read_csv(file_path, delim_whitespace=True, header=0)\n",
            "<ipython-input-5-4d9a30422eb1>:88: FutureWarning: DataFrame.applymap has been deprecated. Use DataFrame.map instead.\n",
            "  df = df.applymap(lambda x: str(x).strip().rstrip(','))\n",
            "<ipython-input-5-4d9a30422eb1>:88: FutureWarning: DataFrame.applymap has been deprecated. Use DataFrame.map instead.\n",
            "  df = df.applymap(lambda x: str(x).strip().rstrip(','))\n",
            "<ipython-input-5-4d9a30422eb1>:86: FutureWarning: The 'delim_whitespace' keyword in pd.read_csv is deprecated and will be removed in a future version. Use ``sep='\\s+'`` instead\n",
            "  df = pd.read_csv(file_path, delim_whitespace=True, header=0)\n",
            "<ipython-input-5-4d9a30422eb1>:88: FutureWarning: DataFrame.applymap has been deprecated. Use DataFrame.map instead.\n",
            "  df = df.applymap(lambda x: str(x).strip().rstrip(','))\n"
          ]
        },
        {
          "output_type": "stream",
          "name": "stdout",
          "text": [
            "✔ Successfully loaded data for participant 413\n",
            "\n",
            "Processing participant 417\n",
            "Loading transcript...\n",
            "Transcript loaded successfully\n"
          ]
        },
        {
          "output_type": "stream",
          "name": "stderr",
          "text": [
            "<ipython-input-5-4d9a30422eb1>:86: FutureWarning: The 'delim_whitespace' keyword in pd.read_csv is deprecated and will be removed in a future version. Use ``sep='\\s+'`` instead\n",
            "  df = pd.read_csv(file_path, delim_whitespace=True, header=0)\n",
            "<ipython-input-5-4d9a30422eb1>:88: FutureWarning: DataFrame.applymap has been deprecated. Use DataFrame.map instead.\n",
            "  df = df.applymap(lambda x: str(x).strip().rstrip(','))\n",
            "<ipython-input-5-4d9a30422eb1>:86: FutureWarning: The 'delim_whitespace' keyword in pd.read_csv is deprecated and will be removed in a future version. Use ``sep='\\s+'`` instead\n",
            "  df = pd.read_csv(file_path, delim_whitespace=True, header=0)\n",
            "<ipython-input-5-4d9a30422eb1>:88: FutureWarning: DataFrame.applymap has been deprecated. Use DataFrame.map instead.\n",
            "  df = df.applymap(lambda x: str(x).strip().rstrip(','))\n",
            "<ipython-input-5-4d9a30422eb1>:86: FutureWarning: The 'delim_whitespace' keyword in pd.read_csv is deprecated and will be removed in a future version. Use ``sep='\\s+'`` instead\n",
            "  df = pd.read_csv(file_path, delim_whitespace=True, header=0)\n",
            "<ipython-input-5-4d9a30422eb1>:88: FutureWarning: DataFrame.applymap has been deprecated. Use DataFrame.map instead.\n",
            "  df = df.applymap(lambda x: str(x).strip().rstrip(','))\n"
          ]
        },
        {
          "output_type": "stream",
          "name": "stdout",
          "text": [
            "✔ Successfully loaded data for participant 417\n",
            "\n",
            "Processing participant 418\n",
            "Loading transcript...\n",
            "Transcript loaded successfully\n"
          ]
        },
        {
          "output_type": "stream",
          "name": "stderr",
          "text": [
            "<ipython-input-5-4d9a30422eb1>:86: FutureWarning: The 'delim_whitespace' keyword in pd.read_csv is deprecated and will be removed in a future version. Use ``sep='\\s+'`` instead\n",
            "  df = pd.read_csv(file_path, delim_whitespace=True, header=0)\n",
            "<ipython-input-5-4d9a30422eb1>:88: FutureWarning: DataFrame.applymap has been deprecated. Use DataFrame.map instead.\n",
            "  df = df.applymap(lambda x: str(x).strip().rstrip(','))\n",
            "<ipython-input-5-4d9a30422eb1>:86: FutureWarning: The 'delim_whitespace' keyword in pd.read_csv is deprecated and will be removed in a future version. Use ``sep='\\s+'`` instead\n",
            "  df = pd.read_csv(file_path, delim_whitespace=True, header=0)\n",
            "<ipython-input-5-4d9a30422eb1>:88: FutureWarning: DataFrame.applymap has been deprecated. Use DataFrame.map instead.\n",
            "  df = df.applymap(lambda x: str(x).strip().rstrip(','))\n",
            "<ipython-input-5-4d9a30422eb1>:86: FutureWarning: The 'delim_whitespace' keyword in pd.read_csv is deprecated and will be removed in a future version. Use ``sep='\\s+'`` instead\n",
            "  df = pd.read_csv(file_path, delim_whitespace=True, header=0)\n",
            "<ipython-input-5-4d9a30422eb1>:88: FutureWarning: DataFrame.applymap has been deprecated. Use DataFrame.map instead.\n",
            "  df = df.applymap(lambda x: str(x).strip().rstrip(','))\n"
          ]
        },
        {
          "output_type": "stream",
          "name": "stdout",
          "text": [
            "✔ Successfully loaded data for participant 418\n",
            "\n",
            "Attempted to load data for 3 participants. Loaded structures for 3.\n",
            "Processing test data in batches...\n",
            "\n",
            "Starting data loading process...\n",
            "Found 8 participants in CSV\n",
            "\n",
            "Processing participant 300\n",
            "Loading transcript...\n",
            "Transcript loaded successfully\n"
          ]
        },
        {
          "output_type": "stream",
          "name": "stderr",
          "text": [
            "<ipython-input-5-4d9a30422eb1>:86: FutureWarning: The 'delim_whitespace' keyword in pd.read_csv is deprecated and will be removed in a future version. Use ``sep='\\s+'`` instead\n",
            "  df = pd.read_csv(file_path, delim_whitespace=True, header=0)\n",
            "<ipython-input-5-4d9a30422eb1>:88: FutureWarning: DataFrame.applymap has been deprecated. Use DataFrame.map instead.\n",
            "  df = df.applymap(lambda x: str(x).strip().rstrip(','))\n",
            "<ipython-input-5-4d9a30422eb1>:86: FutureWarning: The 'delim_whitespace' keyword in pd.read_csv is deprecated and will be removed in a future version. Use ``sep='\\s+'`` instead\n",
            "  df = pd.read_csv(file_path, delim_whitespace=True, header=0)\n",
            "<ipython-input-5-4d9a30422eb1>:86: FutureWarning: The 'delim_whitespace' keyword in pd.read_csv is deprecated and will be removed in a future version. Use ``sep='\\s+'`` instead\n",
            "  df = pd.read_csv(file_path, delim_whitespace=True, header=0)\n",
            "<ipython-input-5-4d9a30422eb1>:88: FutureWarning: DataFrame.applymap has been deprecated. Use DataFrame.map instead.\n",
            "  df = df.applymap(lambda x: str(x).strip().rstrip(','))\n"
          ]
        },
        {
          "output_type": "stream",
          "name": "stdout",
          "text": [
            "✔ Successfully loaded data for participant 300\n",
            "\n",
            "Processing participant 301\n",
            "Loading transcript...\n",
            "Transcript loaded successfully\n"
          ]
        },
        {
          "output_type": "stream",
          "name": "stderr",
          "text": [
            "<ipython-input-5-4d9a30422eb1>:86: FutureWarning: The 'delim_whitespace' keyword in pd.read_csv is deprecated and will be removed in a future version. Use ``sep='\\s+'`` instead\n",
            "  df = pd.read_csv(file_path, delim_whitespace=True, header=0)\n",
            "<ipython-input-5-4d9a30422eb1>:88: FutureWarning: DataFrame.applymap has been deprecated. Use DataFrame.map instead.\n",
            "  df = df.applymap(lambda x: str(x).strip().rstrip(','))\n",
            "<ipython-input-5-4d9a30422eb1>:86: FutureWarning: The 'delim_whitespace' keyword in pd.read_csv is deprecated and will be removed in a future version. Use ``sep='\\s+'`` instead\n",
            "  df = pd.read_csv(file_path, delim_whitespace=True, header=0)\n",
            "<ipython-input-5-4d9a30422eb1>:88: FutureWarning: DataFrame.applymap has been deprecated. Use DataFrame.map instead.\n",
            "  df = df.applymap(lambda x: str(x).strip().rstrip(','))\n",
            "<ipython-input-5-4d9a30422eb1>:86: FutureWarning: The 'delim_whitespace' keyword in pd.read_csv is deprecated and will be removed in a future version. Use ``sep='\\s+'`` instead\n",
            "  df = pd.read_csv(file_path, delim_whitespace=True, header=0)\n",
            "<ipython-input-5-4d9a30422eb1>:88: FutureWarning: DataFrame.applymap has been deprecated. Use DataFrame.map instead.\n",
            "  df = df.applymap(lambda x: str(x).strip().rstrip(','))\n"
          ]
        },
        {
          "output_type": "stream",
          "name": "stdout",
          "text": [
            "✔ Successfully loaded data for participant 301\n",
            "\n",
            "Processing participant 306\n",
            "Loading transcript...\n",
            "Transcript loaded successfully\n"
          ]
        },
        {
          "output_type": "stream",
          "name": "stderr",
          "text": [
            "<ipython-input-5-4d9a30422eb1>:86: FutureWarning: The 'delim_whitespace' keyword in pd.read_csv is deprecated and will be removed in a future version. Use ``sep='\\s+'`` instead\n",
            "  df = pd.read_csv(file_path, delim_whitespace=True, header=0)\n",
            "<ipython-input-5-4d9a30422eb1>:88: FutureWarning: DataFrame.applymap has been deprecated. Use DataFrame.map instead.\n",
            "  df = df.applymap(lambda x: str(x).strip().rstrip(','))\n",
            "<ipython-input-5-4d9a30422eb1>:86: FutureWarning: The 'delim_whitespace' keyword in pd.read_csv is deprecated and will be removed in a future version. Use ``sep='\\s+'`` instead\n",
            "  df = pd.read_csv(file_path, delim_whitespace=True, header=0)\n",
            "<ipython-input-5-4d9a30422eb1>:86: FutureWarning: The 'delim_whitespace' keyword in pd.read_csv is deprecated and will be removed in a future version. Use ``sep='\\s+'`` instead\n",
            "  df = pd.read_csv(file_path, delim_whitespace=True, header=0)\n",
            "<ipython-input-5-4d9a30422eb1>:88: FutureWarning: DataFrame.applymap has been deprecated. Use DataFrame.map instead.\n",
            "  df = df.applymap(lambda x: str(x).strip().rstrip(','))\n"
          ]
        },
        {
          "output_type": "stream",
          "name": "stdout",
          "text": [
            "✔ Successfully loaded data for participant 306\n",
            "\n",
            "Processing participant 308\n",
            "Loading transcript...\n",
            "Transcript loaded successfully\n"
          ]
        },
        {
          "output_type": "stream",
          "name": "stderr",
          "text": [
            "<ipython-input-5-4d9a30422eb1>:86: FutureWarning: The 'delim_whitespace' keyword in pd.read_csv is deprecated and will be removed in a future version. Use ``sep='\\s+'`` instead\n",
            "  df = pd.read_csv(file_path, delim_whitespace=True, header=0)\n",
            "<ipython-input-5-4d9a30422eb1>:88: FutureWarning: DataFrame.applymap has been deprecated. Use DataFrame.map instead.\n",
            "  df = df.applymap(lambda x: str(x).strip().rstrip(','))\n",
            "<ipython-input-5-4d9a30422eb1>:86: FutureWarning: The 'delim_whitespace' keyword in pd.read_csv is deprecated and will be removed in a future version. Use ``sep='\\s+'`` instead\n",
            "  df = pd.read_csv(file_path, delim_whitespace=True, header=0)\n",
            "<ipython-input-5-4d9a30422eb1>:88: FutureWarning: DataFrame.applymap has been deprecated. Use DataFrame.map instead.\n",
            "  df = df.applymap(lambda x: str(x).strip().rstrip(','))\n",
            "<ipython-input-5-4d9a30422eb1>:86: FutureWarning: The 'delim_whitespace' keyword in pd.read_csv is deprecated and will be removed in a future version. Use ``sep='\\s+'`` instead\n",
            "  df = pd.read_csv(file_path, delim_whitespace=True, header=0)\n",
            "<ipython-input-5-4d9a30422eb1>:88: FutureWarning: DataFrame.applymap has been deprecated. Use DataFrame.map instead.\n",
            "  df = df.applymap(lambda x: str(x).strip().rstrip(','))\n"
          ]
        },
        {
          "output_type": "stream",
          "name": "stdout",
          "text": [
            "✔ Successfully loaded data for participant 308\n",
            "\n",
            "Processing participant 309\n",
            "Loading transcript...\n",
            "Transcript loaded successfully\n"
          ]
        },
        {
          "output_type": "stream",
          "name": "stderr",
          "text": [
            "<ipython-input-5-4d9a30422eb1>:86: FutureWarning: The 'delim_whitespace' keyword in pd.read_csv is deprecated and will be removed in a future version. Use ``sep='\\s+'`` instead\n",
            "  df = pd.read_csv(file_path, delim_whitespace=True, header=0)\n",
            "<ipython-input-5-4d9a30422eb1>:88: FutureWarning: DataFrame.applymap has been deprecated. Use DataFrame.map instead.\n",
            "  df = df.applymap(lambda x: str(x).strip().rstrip(','))\n",
            "<ipython-input-5-4d9a30422eb1>:88: FutureWarning: DataFrame.applymap has been deprecated. Use DataFrame.map instead.\n",
            "  df = df.applymap(lambda x: str(x).strip().rstrip(','))\n",
            "<ipython-input-5-4d9a30422eb1>:86: FutureWarning: The 'delim_whitespace' keyword in pd.read_csv is deprecated and will be removed in a future version. Use ``sep='\\s+'`` instead\n",
            "  df = pd.read_csv(file_path, delim_whitespace=True, header=0)\n",
            "<ipython-input-5-4d9a30422eb1>:88: FutureWarning: DataFrame.applymap has been deprecated. Use DataFrame.map instead.\n",
            "  df = df.applymap(lambda x: str(x).strip().rstrip(','))\n"
          ]
        },
        {
          "output_type": "stream",
          "name": "stdout",
          "text": [
            "✔ Successfully loaded data for participant 309\n",
            "\n",
            "Processing participant 311\n",
            "Loading transcript...\n",
            "Transcript loaded successfully\n"
          ]
        },
        {
          "output_type": "stream",
          "name": "stderr",
          "text": [
            "<ipython-input-5-4d9a30422eb1>:86: FutureWarning: The 'delim_whitespace' keyword in pd.read_csv is deprecated and will be removed in a future version. Use ``sep='\\s+'`` instead\n",
            "  df = pd.read_csv(file_path, delim_whitespace=True, header=0)\n",
            "<ipython-input-5-4d9a30422eb1>:88: FutureWarning: DataFrame.applymap has been deprecated. Use DataFrame.map instead.\n",
            "  df = df.applymap(lambda x: str(x).strip().rstrip(','))\n",
            "<ipython-input-5-4d9a30422eb1>:86: FutureWarning: The 'delim_whitespace' keyword in pd.read_csv is deprecated and will be removed in a future version. Use ``sep='\\s+'`` instead\n",
            "  df = pd.read_csv(file_path, delim_whitespace=True, header=0)\n",
            "<ipython-input-5-4d9a30422eb1>:88: FutureWarning: DataFrame.applymap has been deprecated. Use DataFrame.map instead.\n",
            "  df = df.applymap(lambda x: str(x).strip().rstrip(','))\n"
          ]
        },
        {
          "output_type": "stream",
          "name": "stdout",
          "text": [
            "✔ Successfully loaded data for participant 311\n",
            "\n",
            "Processing participant 314\n",
            "Loading transcript...\n",
            "Transcript loaded successfully\n"
          ]
        },
        {
          "output_type": "stream",
          "name": "stderr",
          "text": [
            "<ipython-input-5-4d9a30422eb1>:86: FutureWarning: The 'delim_whitespace' keyword in pd.read_csv is deprecated and will be removed in a future version. Use ``sep='\\s+'`` instead\n",
            "  df = pd.read_csv(file_path, delim_whitespace=True, header=0)\n",
            "<ipython-input-5-4d9a30422eb1>:88: FutureWarning: DataFrame.applymap has been deprecated. Use DataFrame.map instead.\n",
            "  df = df.applymap(lambda x: str(x).strip().rstrip(','))\n",
            "<ipython-input-5-4d9a30422eb1>:86: FutureWarning: The 'delim_whitespace' keyword in pd.read_csv is deprecated and will be removed in a future version. Use ``sep='\\s+'`` instead\n",
            "  df = pd.read_csv(file_path, delim_whitespace=True, header=0)\n",
            "<ipython-input-5-4d9a30422eb1>:88: FutureWarning: DataFrame.applymap has been deprecated. Use DataFrame.map instead.\n",
            "  df = df.applymap(lambda x: str(x).strip().rstrip(','))\n",
            "<ipython-input-5-4d9a30422eb1>:86: FutureWarning: The 'delim_whitespace' keyword in pd.read_csv is deprecated and will be removed in a future version. Use ``sep='\\s+'`` instead\n",
            "  df = pd.read_csv(file_path, delim_whitespace=True, header=0)\n"
          ]
        },
        {
          "output_type": "stream",
          "name": "stdout",
          "text": [
            "✔ Successfully loaded data for participant 314\n",
            "\n",
            "Processing participant 323\n",
            "Loading transcript...\n",
            "Transcript loaded successfully\n"
          ]
        },
        {
          "output_type": "stream",
          "name": "stderr",
          "text": [
            "<ipython-input-5-4d9a30422eb1>:86: FutureWarning: The 'delim_whitespace' keyword in pd.read_csv is deprecated and will be removed in a future version. Use ``sep='\\s+'`` instead\n",
            "  df = pd.read_csv(file_path, delim_whitespace=True, header=0)\n",
            "<ipython-input-5-4d9a30422eb1>:88: FutureWarning: DataFrame.applymap has been deprecated. Use DataFrame.map instead.\n",
            "  df = df.applymap(lambda x: str(x).strip().rstrip(','))\n",
            "<ipython-input-5-4d9a30422eb1>:88: FutureWarning: DataFrame.applymap has been deprecated. Use DataFrame.map instead.\n",
            "  df = df.applymap(lambda x: str(x).strip().rstrip(','))\n",
            "<ipython-input-5-4d9a30422eb1>:86: FutureWarning: The 'delim_whitespace' keyword in pd.read_csv is deprecated and will be removed in a future version. Use ``sep='\\s+'`` instead\n",
            "  df = pd.read_csv(file_path, delim_whitespace=True, header=0)\n",
            "<ipython-input-5-4d9a30422eb1>:88: FutureWarning: DataFrame.applymap has been deprecated. Use DataFrame.map instead.\n",
            "  df = df.applymap(lambda x: str(x).strip().rstrip(','))\n"
          ]
        },
        {
          "output_type": "stream",
          "name": "stdout",
          "text": [
            "✔ Successfully loaded data for participant 323\n",
            "\n",
            "Attempted to load data for 8 participants. Loaded structures for 8.\n",
            "\n",
            "Starting data loading process...\n",
            "Found 2 participants in CSV\n",
            "\n",
            "Processing participant 329\n",
            "Loading transcript...\n",
            "Transcript loaded successfully\n"
          ]
        },
        {
          "output_type": "stream",
          "name": "stderr",
          "text": [
            "<ipython-input-5-4d9a30422eb1>:86: FutureWarning: The 'delim_whitespace' keyword in pd.read_csv is deprecated and will be removed in a future version. Use ``sep='\\s+'`` instead\n",
            "  df = pd.read_csv(file_path, delim_whitespace=True, header=0)\n",
            "<ipython-input-5-4d9a30422eb1>:88: FutureWarning: DataFrame.applymap has been deprecated. Use DataFrame.map instead.\n",
            "  df = df.applymap(lambda x: str(x).strip().rstrip(','))\n",
            "<ipython-input-5-4d9a30422eb1>:86: FutureWarning: The 'delim_whitespace' keyword in pd.read_csv is deprecated and will be removed in a future version. Use ``sep='\\s+'`` instead\n",
            "  df = pd.read_csv(file_path, delim_whitespace=True, header=0)\n",
            "<ipython-input-5-4d9a30422eb1>:88: FutureWarning: DataFrame.applymap has been deprecated. Use DataFrame.map instead.\n",
            "  df = df.applymap(lambda x: str(x).strip().rstrip(','))\n",
            "<ipython-input-5-4d9a30422eb1>:86: FutureWarning: The 'delim_whitespace' keyword in pd.read_csv is deprecated and will be removed in a future version. Use ``sep='\\s+'`` instead\n",
            "  df = pd.read_csv(file_path, delim_whitespace=True, header=0)\n",
            "<ipython-input-5-4d9a30422eb1>:88: FutureWarning: DataFrame.applymap has been deprecated. Use DataFrame.map instead.\n",
            "  df = df.applymap(lambda x: str(x).strip().rstrip(','))\n"
          ]
        },
        {
          "output_type": "stream",
          "name": "stdout",
          "text": [
            "✔ Successfully loaded data for participant 329\n",
            "\n",
            "Processing participant 332\n",
            "Loading transcript...\n",
            "Transcript loaded successfully\n"
          ]
        },
        {
          "output_type": "stream",
          "name": "stderr",
          "text": [
            "<ipython-input-5-4d9a30422eb1>:86: FutureWarning: The 'delim_whitespace' keyword in pd.read_csv is deprecated and will be removed in a future version. Use ``sep='\\s+'`` instead\n",
            "  df = pd.read_csv(file_path, delim_whitespace=True, header=0)\n",
            "<ipython-input-5-4d9a30422eb1>:88: FutureWarning: DataFrame.applymap has been deprecated. Use DataFrame.map instead.\n",
            "  df = df.applymap(lambda x: str(x).strip().rstrip(','))\n",
            "<ipython-input-5-4d9a30422eb1>:86: FutureWarning: The 'delim_whitespace' keyword in pd.read_csv is deprecated and will be removed in a future version. Use ``sep='\\s+'`` instead\n",
            "  df = pd.read_csv(file_path, delim_whitespace=True, header=0)\n",
            "<ipython-input-5-4d9a30422eb1>:88: FutureWarning: DataFrame.applymap has been deprecated. Use DataFrame.map instead.\n",
            "  df = df.applymap(lambda x: str(x).strip().rstrip(','))\n",
            "<ipython-input-5-4d9a30422eb1>:86: FutureWarning: The 'delim_whitespace' keyword in pd.read_csv is deprecated and will be removed in a future version. Use ``sep='\\s+'`` instead\n",
            "  df = pd.read_csv(file_path, delim_whitespace=True, header=0)\n"
          ]
        },
        {
          "output_type": "stream",
          "name": "stdout",
          "text": [
            "✔ Successfully loaded data for participant 332\n",
            "\n",
            "Attempted to load data for 2 participants. Loaded structures for 2.\n"
          ]
        }
      ],
      "source": [
        "def create_feature_pipeline(multimodal_data_batch):\n",
        "\n",
        "    # 1. Extract features from each modality\n",
        "    text_features = process_text_features(multimodal_data_batch['text'])       # shape: (B, 256)\n",
        "    audio_features = process_audio_features(multimodal_data_batch['audio'])    # shape: (B, 256)\n",
        "    visual_features = process_visual_features(multimodal_data_batch['visual']) # shape: (B, 256)\n",
        "\n",
        "    return  visual_features, audio_features, text_features\n",
        "\n",
        "\n",
        "\n",
        "\n",
        "\n",
        "\n",
        "\n",
        "def batched_data_processor(\n",
        "    data_dir,\n",
        "    split_df,\n",
        "    batch_size=16,\n",
        "    replace_none_with_mean=True\n",
        "):\n",
        "    \"\"\"\n",
        "    Processes multimodal data in batches and returns concatenated tensors for each modality\n",
        "    and the labels (if available).\n",
        "    \"\"\"\n",
        "    all_visual_features = []\n",
        "    all_audio_features = []\n",
        "    all_text_features = []\n",
        "    all_labels = []\n",
        "    all_binary_labels = []\n",
        "    valid_scores = []  # To track all valid scores for mean calculation\n",
        "\n",
        "    num_samples = len(split_df)\n",
        "    for start_idx in range(0, num_samples, batch_size):\n",
        "        end_idx = min(start_idx + batch_size, num_samples)\n",
        "        batch_df = split_df.iloc[start_idx:end_idx].reset_index(drop=True)\n",
        "\n",
        "        # Prepare an empty dict to fill with multimodal data for the batch\n",
        "        multimodal_data_batch = {}\n",
        "\n",
        "        # Load data into the dict using your existing loader (for this batch only)\n",
        "        data_loader(data_dir, batch_df, multimodal_data_batch)\n",
        "\n",
        "        # Extract and process features\n",
        "        visual_feats, audio_feats, text_feats = create_feature_pipeline(multimodal_data_batch)\n",
        "\n",
        "        all_visual_features.append(visual_feats)\n",
        "        all_audio_features.append(audio_feats)\n",
        "        all_text_features.append(text_feats)\n",
        "\n",
        "        # Handle PHQ-8 scores\n",
        "        if 'phq8_scores' in multimodal_data_batch:\n",
        "            batch_scores = multimodal_data_batch['phq8_scores']\n",
        "\n",
        "            # Convert to numpy array for NaN handling\n",
        "            scores = np.array(batch_scores, dtype=np.float32)\n",
        "\n",
        "            # Track valid scores for mean calculation\n",
        "            valid_mask = ~np.isnan(scores)\n",
        "            current_valid = scores[valid_mask].tolist()\n",
        "            valid_scores.extend(current_valid)\n",
        "\n",
        "            # Process labels for this batch\n",
        "            if replace_none_with_mean and len(valid_scores) > 0:\n",
        "                # Calculate current mean of all valid scores we've seen so far\n",
        "                current_mean = np.mean(valid_scores)\n",
        "                # Replace NaN values with current mean\n",
        "                scores[np.isnan(scores)] = current_mean\n",
        "\n",
        "            scores_binary = (scores >= 10).astype(np.float32)\n",
        "\n",
        "            # Scale scores to range [0, 1]\n",
        "            scores = scores / 24.0\n",
        "\n",
        "        # Convert to tensor (scaled values)\n",
        "        labels = torch.tensor(scores, dtype=torch.float32, device=device)\n",
        "        all_labels.append(labels)\n",
        "        all_binary_labels.append(torch.tensor(scores_binary, dtype=torch.float32, device=device))\n",
        "\n",
        "        # Clear memory\n",
        "        del multimodal_data_batch\n",
        "        gc.collect()\n",
        "\n",
        "    # Concatenate all batches into a single tensor\n",
        "    visual_tensor = torch.cat(all_visual_features, dim=0)\n",
        "    audio_tensor = torch.cat(all_audio_features, dim=0)\n",
        "    text_tensor = torch.cat(all_text_features, dim=0)\n",
        "    labels_tensor = torch.cat(all_labels, dim=0) if all_labels else None\n",
        "    binary_labels_tensor = torch.cat(all_binary_labels, dim=0) if all_binary_labels else None\n",
        "\n",
        "    return visual_tensor, audio_tensor, text_tensor, labels_tensor, binary_labels_tensor\n",
        "\n",
        "\n",
        "\n",
        "\n",
        "\n",
        "\n",
        "\n",
        "print(\"Processing train data in batches...\")\n",
        "train_processed_visual_features, train_processed_audio_features, train_processed_text_features, train_labels, train_binary_labels = batched_data_processor(\n",
        "    train_dir, train_split_df, batch_size=8\n",
        ")\n",
        "\n",
        "print(\"Processing validation data in batches...\")\n",
        "validation_processed_visual_features, validation_processed_audio_features, validation_processed_text_features, validation_labels, validation_binary_labels = batched_data_processor(\n",
        "    validation_or_development_dir, validation_or_development_split_df, batch_size=8\n",
        ")\n",
        "\n",
        "print(\"Processing test data in batches...\")\n",
        "test_processed_visual_features, test_processed_audio_features, test_processed_text_features, _ , _ = batched_data_processor(\n",
        "    test_dir, test_split_df, batch_size=8\n",
        ")"
      ]
    },
    {
      "cell_type": "code",
      "execution_count": 11,
      "id": "302DW6GI2SVV",
      "metadata": {
        "id": "302DW6GI2SVV",
        "colab": {
          "base_uri": "https://localhost:8080/"
        },
        "outputId": "14512c56-e81b-4ce4-fd01-ad8ea6e46c5a"
      },
      "outputs": [
        {
          "output_type": "stream",
          "name": "stdout",
          "text": [
            "torch.Size([107, 256])\n",
            "torch.Size([19, 256])\n"
          ]
        }
      ],
      "source": [
        "print(train_processed_visual_features.shape)\n",
        "# print(test_processed_visual_features.shape)\n",
        "print(validation_processed_visual_features.shape)\n"
      ]
    },
    {
      "cell_type": "code",
      "execution_count": 12,
      "id": "e1dda678-32f2-4a41-89bb-97eb10e38a76",
      "metadata": {
        "id": "e1dda678-32f2-4a41-89bb-97eb10e38a76",
        "scrolled": true
      },
      "outputs": [],
      "source": [
        "# class MultimodalDataset(Dataset):\n",
        "#     def __init__(self, data_dir, split_df, batch_size=32):\n",
        "#         \"\"\"\n",
        "#         Initialize the dataset with directory, split dataframe and batch size\n",
        "#         \"\"\"\n",
        "#         self.data_dir = data_dir\n",
        "#         self.split_df = split_df\n",
        "#         self.batch_size = batch_size\n",
        "#         self.participant_ids = split_df['Participant_ID'].tolist()\n",
        "#         self.labels = split_df['PHQ8_Score'].tolist()\n",
        "\n",
        "#     def __len__(self):\n",
        "#         return len(self.participant_ids)\n",
        "\n",
        "#     def __getitem__(self, idx):\n",
        "#         \"\"\"\n",
        "#         Load and process a single sample (not used in batch processing mode)\n",
        "#         \"\"\"\n",
        "#         participant_id = self.participant_ids[idx]\n",
        "#         label = self.labels[idx]\n",
        "\n",
        "#         # Load single sample data\n",
        "#         sample_data = {}\n",
        "#         data_loader(self.data_dir, self.split_df[self.split_df['Participant_ID'] == participant_id], sample_data)\n",
        "\n",
        "#         # Process features\n",
        "#         visual_feat, audio_feat, text_feat = create_feature_pipeline(sample_data)\n",
        "\n",
        "#         return {\n",
        "#             'visual': visual_feat,\n",
        "#             'audio': audio_feat,\n",
        "#             'text': text_feat,\n",
        "#             'label': torch.tensor(label, dtype=torch.float32)\n",
        "#         }\n",
        "\n",
        "# def create_feature_pipeline(multimodal_dict):\n",
        "#     \"\"\"Process all modalities and return ready-to-model features\"\"\"\n",
        "#     # Process each modality\n",
        "#     processed_visual_features = process_visual_features(multimodal_dict['visual'])\n",
        "#     del multimodal_dict['visual']\n",
        "#     gc.collect()\n",
        "#     processed_audio_features = process_audio_features(multimodal_dict['audio'])\n",
        "#     del multimodal_dict['audio']\n",
        "#     gc.collect()\n",
        "#     processed_text_features = process_text_features(multimodal_dict['text'])\n",
        "#     del multimodal_dict['text']\n",
        "#     gc.collect()\n",
        "\n",
        "#     print(processed_visual_features.shape)\n",
        "#     print(processed_audio_features.shape)\n",
        "#     print(processed_text_features.shape)\n",
        "\n",
        "#     return processed_visual_features,  processed_audio_features,  processed_text_features\n",
        "\n",
        "\n",
        "# def batch_data_loader(data_dir, split_df, batch_size=32):\n",
        "#     \"\"\"\n",
        "#     Generator function that loads and processes data in batches\n",
        "#     \"\"\"\n",
        "#     participant_ids = split_df['Participant_ID'].tolist()\n",
        "\n",
        "#     # Check if 'PHQ8_Score' column exists\n",
        "#     if 'PHQ8_Score' in split_df.columns:\n",
        "#         labels = split_df['PHQ8_Score'].tolist()\n",
        "#     else:\n",
        "#         # If not, create a list of None or a placeholder\n",
        "#         labels = [None] * len(participant_ids)\n",
        "\n",
        "\n",
        "#     for i in range(0, len(participant_ids), batch_size):\n",
        "#         batch_ids = participant_ids[i:i+batch_size]\n",
        "#         batch_labels = labels[i:i+batch_size]\n",
        "\n",
        "#         # Initialize batch data dictionary with all required keys\n",
        "#         batch_data = {\n",
        "#             'participants': [],\n",
        "#             'text': [],\n",
        "#             'audio': [],\n",
        "#             'visual': [],\n",
        "#             'phq8_scores': batch_labels\n",
        "#         }\n",
        "\n",
        "#         # Load batch data\n",
        "#         batch_split_df = split_df[split_df['Participant_ID'].isin(batch_ids)]\n",
        "#         data_loader(data_dir, batch_split_df, batch_data)\n",
        "\n",
        "#         # Process features for the batch\n",
        "#         visual_feats, audio_feats, text_feats = create_feature_pipeline(batch_data)\n",
        "\n",
        "#         # Convert labels to tensor if not None\n",
        "#         if any(batch_labels):\n",
        "#           batch_labels_tensor = torch.tensor(batch_labels, dtype=torch.float32)\n",
        "#         else:\n",
        "#           batch_labels_tensor = None # Handle case with no labels\n",
        "\n",
        "\n",
        "#         # Clear memory\n",
        "#         del batch_data\n",
        "#         gc.collect()\n",
        "\n",
        "#         yield visual_feats, audio_feats, text_feats, batch_labels_tensor\n",
        "\n",
        "# def process_entire_dataset(data_dir, split_df, batch_size=32):\n",
        "#     \"\"\"\n",
        "#     Process entire dataset in batches and return concatenated features\n",
        "#     \"\"\"\n",
        "#     visual_features_list = []\n",
        "#     audio_features_list = []\n",
        "#     text_features_list = []\n",
        "#     labels_list = []\n",
        "\n",
        "#     for visual_feats, audio_feats, text_feats, labels in batch_data_loader(data_dir, split_df, batch_size):\n",
        "#         visual_features_list.append(visual_feats)\n",
        "#         audio_features_list.append(audio_feats)\n",
        "#         text_features_list.append(text_feats)\n",
        "#         if labels is not None:\n",
        "#             labels_list.append(labels)\n",
        "\n",
        "\n",
        "#         # Clear memory\n",
        "#         gc.collect()\n",
        "\n",
        "#     # Concatenate all batches\n",
        "#     visual_features = torch.cat(visual_features_list, dim=0)\n",
        "#     audio_features = torch.cat(audio_features_list, dim=0)\n",
        "#     text_features = torch.cat(text_features_list, dim=0)\n",
        "#     all_labels = torch.cat(labels_list, dim=0) if labels_list else None\n",
        "\n",
        "#     return visual_features, audio_features, text_features, all_labels\n",
        "\n",
        "# # Usage example:\n",
        "# batch_size = 8  # Adjust based on your memory capacity\n",
        "\n",
        "# # Process training data\n",
        "# print(\"Processing training data...\")\n",
        "# train_processed_visual_features, train_processed_audio_features, train_processed_text_features, train_labels = process_entire_dataset(\n",
        "#     train_dir, train_split_df, batch_size)\n",
        "\n",
        "# # Process validation data\n",
        "# print(\"Processing validation data...\")\n",
        "# validation_or_development_processed_visual_features, validation_or_development_processed_audio_features, validation_or_development_processed_text_features, validation_or_development_labels = process_entire_dataset(\n",
        "#     validation_or_development_dir, validation_or_development_split_df, batch_size)\n",
        "\n",
        "# # Process test data\n",
        "# print(\"Processing test data...\")\n",
        "# test_processed_visual_features, test_processed_audio_features, test_processed_text_features, _ = process_entire_dataset(\n",
        "#     test_dir, test_split_df, batch_size)"
      ]
    },
    {
      "cell_type": "code",
      "execution_count": 12,
      "id": "VgB8fj70mont",
      "metadata": {
        "id": "VgB8fj70mont"
      },
      "outputs": [],
      "source": []
    },
    {
      "cell_type": "code",
      "execution_count": 12,
      "id": "Y_MRZJfqBd2H",
      "metadata": {
        "id": "Y_MRZJfqBd2H"
      },
      "outputs": [],
      "source": [
        "\n"
      ]
    },
    {
      "cell_type": "code",
      "execution_count": 12,
      "id": "HsTKavIaBdtA",
      "metadata": {
        "id": "HsTKavIaBdtA"
      },
      "outputs": [],
      "source": [
        "\n"
      ]
    },
    {
      "cell_type": "code",
      "execution_count": 12,
      "id": "0p1mFs13BdfY",
      "metadata": {
        "id": "0p1mFs13BdfY"
      },
      "outputs": [],
      "source": []
    },
    {
      "cell_type": "markdown",
      "id": "veu9-vHwB4lf",
      "metadata": {
        "id": "veu9-vHwB4lf"
      },
      "source": [
        "#Model is being train by using corr matrics -> cnn"
      ]
    },
    {
      "cell_type": "code",
      "execution_count": 13,
      "id": "fcfa2200-ed94-4b9e-8860-d18737af6d5d",
      "metadata": {
        "id": "fcfa2200-ed94-4b9e-8860-d18737af6d5d"
      },
      "outputs": [],
      "source": [
        "def compute_correlation_matrix(visual, audio, text):\n",
        "    \"\"\"\n",
        "    visual, audio, text: torch tensors of shape (batch, feature_size)\n",
        "    Returns: (batch, 3, 3) correlation matrix for each sample\n",
        "    \"\"\"\n",
        "    batch_size = visual.size(0)\n",
        "\n",
        "    # Stack: (batch, 3, feature_size)\n",
        "    features = torch.stack([visual, audio, text], dim=1)\n",
        "\n",
        "    # Center the features\n",
        "    features_centered = features - features.mean(dim=2, keepdim=True)\n",
        "\n",
        "    # Compute covariance: (batch, 3, 3)\n",
        "    cov = torch.matmul(features_centered, features_centered.transpose(1, 2)) / (features.size(2) - 1)\n",
        "\n",
        "    # Compute std dev\n",
        "    std = features_centered.std(dim=2, keepdim=True)\n",
        "    std_matrix = torch.matmul(std, std.transpose(1, 2)) + 1e-8  # Avoid division by 0\n",
        "\n",
        "    # Pearson correlation\n",
        "    corr = cov / std_matrix\n",
        "    return corr  # (batch, 3, 3)\n"
      ]
    },
    {
      "cell_type": "code",
      "execution_count": 14,
      "id": "5930f213-ce03-4580-8e3e-7d097a2b6c43",
      "metadata": {
        "id": "5930f213-ce03-4580-8e3e-7d097a2b6c43"
      },
      "outputs": [],
      "source": [
        "import torch.nn as nn\n",
        "import torch.nn.functional as F\n",
        "\n",
        "class CorrelationCNN(nn.Module):\n",
        "    def __init__(self):\n",
        "        super(CorrelationCNN, self).__init__()\n",
        "        self.conv1 = nn.Conv2d(1, 16, kernel_size=2)  # Input: (batch, 1, 3, 3) → Output: (batch, 16, 2, 2)\n",
        "        self.fc1 = nn.Linear(16 * 2 * 2, 32)\n",
        "        self.out = nn.Linear(32, 1)  # Output: PHQ-8 score (regression)\n",
        "\n",
        "    def forward(self, x):\n",
        "        x = F.relu(self.conv1(x))  # (batch, 16, 2, 2)\n",
        "        x = x.view(x.size(0), -1)  # Flatten\n",
        "        x = F.relu(self.fc1(x))\n",
        "        return self.out(x)  # (batch, 1)\n"
      ]
    },
    {
      "cell_type": "markdown",
      "id": "7BDcG9G8J1HY",
      "metadata": {
        "id": "7BDcG9G8J1HY"
      },
      "source": []
    },
    {
      "cell_type": "code",
      "execution_count": 15,
      "id": "b4035006-47fe-4670-afae-7201eed42da0",
      "metadata": {
        "id": "b4035006-47fe-4670-afae-7201eed42da0",
        "colab": {
          "base_uri": "https://localhost:8080/"
        },
        "outputId": "d7b2edde-cf7d-454d-abbe-846da5e32146"
      },
      "outputs": [
        {
          "output_type": "stream",
          "name": "stdout",
          "text": [
            "Epoch 1/15, Loss: 0.6456\n",
            "Epoch 2/15, Loss: 0.3987\n",
            "Epoch 3/15, Loss: 0.3699\n",
            "Epoch 4/15, Loss: 0.3780\n",
            "Epoch 5/15, Loss: 0.3709\n",
            "Epoch 6/15, Loss: 0.3573\n",
            "Epoch 7/15, Loss: 0.3600\n",
            "Epoch 8/15, Loss: 0.3744\n",
            "Epoch 9/15, Loss: 0.3538\n",
            "Epoch 10/15, Loss: 0.3640\n",
            "Epoch 11/15, Loss: 0.3572\n",
            "Epoch 12/15, Loss: 0.3644\n",
            "Epoch 13/15, Loss: 0.3564\n",
            "Epoch 14/15, Loss: 0.3594\n",
            "Epoch 15/15, Loss: 0.3679\n"
          ]
        }
      ],
      "source": [
        "from torch.utils.data import TensorDataset, DataLoader\n",
        "\n",
        "# Compute correlation matrices\n",
        "train_corr = compute_correlation_matrix(train_processed_visual_features,\n",
        "                                        train_processed_audio_features,\n",
        "                                        train_processed_text_features)  # (batch, 3, 3)\n",
        "\n",
        "test_corr = compute_correlation_matrix(test_processed_visual_features,\n",
        "                                       test_processed_audio_features,\n",
        "                                       test_processed_text_features)\n",
        "\n",
        "# CNN expects 4D input: (batch, channels=1, 3, 3)\n",
        "train_corr = train_corr.unsqueeze(1)\n",
        "test_corr = test_corr.unsqueeze(1)\n",
        "\n",
        "\n",
        "train_corr = train_corr.to(device)\n",
        "test_corr = test_corr.to(device)\n",
        "\n",
        "# Datasets\n",
        "train_dataset = TensorDataset(train_corr, train_labels.unsqueeze(1))\n",
        "train_loader = DataLoader(train_dataset, batch_size=16, shuffle=True)\n",
        "\n",
        "# Initialize model\n",
        "model = CorrelationCNN().to(device)\n",
        "criterion = nn.MSELoss()\n",
        "optimizer = torch.optim.Adam(model.parameters(), lr=0.001)\n",
        "\n",
        "# Training loop\n",
        "epochs = 15\n",
        "for epoch in range(epochs):\n",
        "    model.train()\n",
        "    total_loss = 0\n",
        "    for x_batch, y_batch in train_loader:\n",
        "        x_batch, y_batch = x_batch.to(device), y_batch.to(device)\n",
        "        pred = model(x_batch)\n",
        "        loss = criterion(pred, y_batch)\n",
        "\n",
        "        optimizer.zero_grad()\n",
        "        loss.backward()\n",
        "        optimizer.step()\n",
        "\n",
        "        total_loss += loss.item()\n",
        "\n",
        "    print(f\"Epoch {epoch+1}/{epochs}, Loss: {total_loss:.4f}\")\n"
      ]
    },
    {
      "cell_type": "markdown",
      "id": "mc-R9ubE28oy",
      "metadata": {
        "id": "mc-R9ubE28oy"
      },
      "source": []
    },
    {
      "cell_type": "code",
      "execution_count": 16,
      "id": "10b477c7-87c4-48e7-a721-67824d44ff0f",
      "metadata": {
        "id": "10b477c7-87c4-48e7-a721-67824d44ff0f",
        "colab": {
          "base_uri": "https://localhost:8080/"
        },
        "outputId": "f3abe46e-db5c-45ca-9ffd-ed0d4415f502"
      },
      "outputs": [
        {
          "output_type": "stream",
          "name": "stdout",
          "text": [
            "tensor([0.2791, 0.2740, 0.2769, 0.2664, 0.2720, 0.2707, 0.2778, 0.2803, 0.2770,\n",
            "        0.2745])\n"
          ]
        }
      ],
      "source": [
        "\n",
        "model.eval()\n",
        "with torch.no_grad():\n",
        "    test_preds = model(test_corr).squeeze()  # (batch,)\n",
        "print(test_preds)\n"
      ]
    },
    {
      "cell_type": "markdown",
      "id": "ai9SumQUVDFg",
      "metadata": {
        "id": "ai9SumQUVDFg"
      },
      "source": [
        "#Multimodal Transformer Fusion Module"
      ]
    },
    {
      "cell_type": "code",
      "execution_count": 16,
      "id": "99a2764c-ad64-4804-be29-69e83e26551c",
      "metadata": {
        "id": "99a2764c-ad64-4804-be29-69e83e26551c"
      },
      "outputs": [],
      "source": []
    },
    {
      "cell_type": "code",
      "execution_count": 69,
      "id": "e9f37e7e-f44d-4858-85f0-b7c736581183",
      "metadata": {
        "id": "e9f37e7e-f44d-4858-85f0-b7c736581183"
      },
      "outputs": [],
      "source": [
        "class MultimodalDataset(torch.utils.data.Dataset):\n",
        "    def __init__(self, visual, audio, text, labels=None, binary_labels=None):  # labels can be None for test set\n",
        "        self.visual = visual\n",
        "        self.audio = audio\n",
        "        self.text = text\n",
        "        self.labels = labels\n",
        "        self.binary_labels = binary_labels\n",
        "\n",
        "\n",
        "    def __len__(self):\n",
        "        return self.visual.size(0)\n",
        "\n",
        "    def __getitem__(self, idx):\n",
        "        sample = {\n",
        "            'visual': self.visual[idx],\n",
        "            'audio': self.audio[idx],\n",
        "            'text': self.text[idx],\n",
        "        }\n",
        "        if self.labels is not None:\n",
        "            sample['label'] = self.labels[idx]\n",
        "            sample['binary_labels'] = self.binary_labels[idx]\n",
        "\n",
        "\n",
        "        return sample\n",
        "\n",
        "\n",
        "\n",
        "\n",
        "\n",
        "\n",
        "\n",
        "train_dataset_fusion = MultimodalDataset(\n",
        "    train_processed_visual_features,\n",
        "    train_processed_audio_features,\n",
        "    train_processed_text_features,\n",
        "    train_labels,\n",
        "    train_binary_labels\n",
        "\n",
        ")\n",
        "\n",
        "\n",
        "validation_dataset_fusion = MultimodalDataset(\n",
        "    validation_processed_visual_features,\n",
        "    validation_processed_audio_features,\n",
        "    validation_processed_text_features,\n",
        "    validation_labels,\n",
        "    validation_binary_labels\n",
        "\n",
        ")\n",
        "\n",
        "\n",
        "test_dataset_fusion = MultimodalDataset(\n",
        "    test_processed_visual_features,\n",
        "    test_processed_audio_features,\n",
        "    test_processed_text_features,  # correct input!\n",
        "    labels=None,\n",
        "    binary_labels=None\n",
        "\n",
        "    # No labels for test\n",
        ")\n",
        "\n",
        "\n",
        "train_loader_fusion = torch.utils.data.DataLoader(train_dataset_fusion, batch_size=8, shuffle=True)\n",
        "validation_loader_fusion = torch.utils.data.DataLoader(validation_dataset_fusion, batch_size=8, shuffle=False)\n",
        "test_loader_fusion = torch.utils.data.DataLoader(test_dataset_fusion, batch_size=8, shuffle=False)\n",
        "\n",
        "\n",
        "\n"
      ]
    },
    {
      "cell_type": "code",
      "execution_count": 70,
      "id": "V0jV6oWkVLNI",
      "metadata": {
        "id": "V0jV6oWkVLNI"
      },
      "outputs": [],
      "source": [
        "class MultimodalTransformerFusion(nn.Module):\n",
        "    def __init__(self, input_dim=256, n_heads=4, hidden_dim=256, num_layers=1, dropout=0.4):\n",
        "        super().__init__()\n",
        "\n",
        "        self.visual_proj = nn.Linear(input_dim, input_dim)\n",
        "        self.audio_proj = nn.Linear(input_dim, input_dim)\n",
        "        self.text_proj = nn.Linear(input_dim, input_dim)\n",
        "        self.dropout = nn.Dropout(dropout)  # Add this in __init__\n",
        "\n",
        "        # ✅ Fix here\n",
        "        encoder_layer = nn.TransformerEncoderLayer(d_model=input_dim, nhead=n_heads, dim_feedforward=hidden_dim, dropout=dropout)\n",
        "        self.transformer_encoder = nn.TransformerEncoder(encoder_layer, num_layers=num_layers)\n",
        "\n",
        "        # ✅ Output shape fix\n",
        "        self.output_layer = nn.Linear(input_dim, 1)\n",
        "\n",
        "\n",
        "\n",
        "    def forward(self, visual_feat, audio_feat, text_feat):\n",
        "        visual = self.dropout(self.visual_proj(visual_feat))\n",
        "        audio = self.dropout(self.audio_proj(audio_feat))\n",
        "        text = self.dropout(self.text_proj(text_feat))\n",
        "\n",
        "        fused = torch.stack([visual, audio, text], dim=1)  # (batch, 3, 256)\n",
        "        fused = fused.permute(1, 0, 2)  # (seq_len=3, batch, 256)\n",
        "\n",
        "        encoded = self.transformer_encoder(fused)  # (seq_len=3, batch, 256)\n",
        "        encoded = encoded.permute(1, 0, 2).mean(dim=1)  # (batch, 256)\n",
        "        encoded = self.dropout(encoded)  # Apply dropout after fusion\n",
        "\n",
        "        return self.output_layer(encoded).squeeze(1)  # (batch,)\n",
        "\n"
      ]
    },
    {
      "cell_type": "code",
      "execution_count": 71,
      "id": "EXqWIcHr0e0z",
      "metadata": {
        "id": "EXqWIcHr0e0z",
        "colab": {
          "base_uri": "https://localhost:8080/"
        },
        "outputId": "1bb0c210-14d7-4212-a218-d8dd51f4f2e5"
      },
      "outputs": [
        {
          "output_type": "stream",
          "name": "stderr",
          "text": [
            "/usr/local/lib/python3.11/dist-packages/torch/nn/modules/transformer.py:385: UserWarning: enable_nested_tensor is True, but self.use_nested_tensor is False because encoder_layer.self_attn.batch_first was not True(use batch_first for better inference performance)\n",
            "  warnings.warn(\n"
          ]
        }
      ],
      "source": [
        "model_fusion = MultimodalTransformerFusion().to(device)\n",
        "criterion_fusion = nn.MSELoss()\n",
        "optimizer_fusion = torch.optim.Adam(model_fusion.parameters(), lr=1e-3)\n",
        "# scheduler = StepLR(optimizer_fusion, step_size=10, gamma=0.5)  # Reduce LR every 10 epochs by half\n",
        "scheduler = ReduceLROnPlateau(optimizer_fusion, mode='min', factor=0.5, patience=5, verbose=True)\n"
      ]
    },
    {
      "cell_type": "code",
      "execution_count": 72,
      "id": "UUYGUSzlVPnb",
      "metadata": {
        "id": "UUYGUSzlVPnb"
      },
      "outputs": [],
      "source": [
        "def train_model_fusion(model, train_loader, val_loader, criterion, optimizer, scheduler, num_epochs=50, patience=10):\n",
        "    best_val_loss = float('inf')\n",
        "    trigger_times = 0\n",
        "\n",
        "    for epoch in range(num_epochs):\n",
        "        model.train()\n",
        "        total_train_loss = 0.0\n",
        "\n",
        "        for batch in train_loader:\n",
        "            visual = batch['visual'].to(device)\n",
        "            audio = batch['audio'].to(device)\n",
        "            text = batch['text'].to(device)\n",
        "            labels = batch['label'].to(device)\n",
        "\n",
        "            preds = model(visual, audio, text)\n",
        "            loss = criterion(preds, labels)\n",
        "\n",
        "            optimizer.zero_grad()\n",
        "            loss.backward()\n",
        "            optimizer.step()\n",
        "\n",
        "            total_train_loss += loss.item()\n",
        "\n",
        "        avg_train_loss = total_train_loss / len(train_loader)\n",
        "\n",
        "        # 🔍 Validation\n",
        "        model.eval()\n",
        "        total_val_loss = 0.0\n",
        "\n",
        "        with torch.no_grad():\n",
        "            for batch in val_loader:\n",
        "                visual = batch['visual'].to(device)\n",
        "                audio = batch['audio'].to(device)\n",
        "                text = batch['text'].to(device)\n",
        "                labels = batch['label'].to(device)\n",
        "\n",
        "                preds = model(visual, audio, text)\n",
        "                loss = criterion(preds, labels)\n",
        "                total_val_loss += loss.item()\n",
        "\n",
        "        avg_val_loss = total_val_loss / len(val_loader)\n",
        "\n",
        "        # Early stopping logic\n",
        "        if avg_val_loss < best_val_loss:\n",
        "            best_val_loss = avg_val_loss\n",
        "            trigger_times = 0\n",
        "            torch.save(model.state_dict(), 'best_model_fusion.pth')\n",
        "        else:\n",
        "            trigger_times += 1\n",
        "            if trigger_times >= patience:\n",
        "                print(f\"⏹️ Early stopping triggered at epoch {epoch+1}. Best Val Loss: {best_val_loss:.4f}\")\n",
        "                break\n",
        "\n",
        "        # Scheduler step (for ReduceLROnPlateau)\n",
        "        scheduler.step(avg_val_loss)\n",
        "\n",
        "        # 📢 Logging\n",
        "        current_lr = optimizer.param_groups[0]['lr']\n",
        "        print(f\"[Epoch {epoch+1}] Train Loss: {avg_train_loss:.4f} | Val Loss: {avg_val_loss:.4f}, LR: {current_lr:.6f}\")\n"
      ]
    },
    {
      "cell_type": "code",
      "source": [
        "for param_group in optimizer.param_groups:\n",
        "    print(\"Current LR:\", param_group['lr'])\n"
      ],
      "metadata": {
        "colab": {
          "base_uri": "https://localhost:8080/"
        },
        "id": "qNop3srEKVqq",
        "outputId": "2d25760d-252c-4775-bd43-4f99af1fb7e9"
      },
      "id": "qNop3srEKVqq",
      "execution_count": 73,
      "outputs": [
        {
          "output_type": "stream",
          "name": "stdout",
          "text": [
            "Current LR: 0.001\n"
          ]
        }
      ]
    },
    {
      "cell_type": "code",
      "execution_count": 74,
      "id": "IAtOhoEnVVYY",
      "metadata": {
        "id": "IAtOhoEnVVYY",
        "colab": {
          "base_uri": "https://localhost:8080/"
        },
        "outputId": "1a7a2f5e-f21b-431e-85ee-f88fe5e9b117"
      },
      "outputs": [
        {
          "output_type": "stream",
          "name": "stdout",
          "text": [
            "[Epoch 1] Train Loss: 0.3369 | Val Loss: 0.2700, LR: 0.001000\n",
            "[Epoch 2] Train Loss: 0.2518 | Val Loss: 0.1762, LR: 0.001000\n",
            "[Epoch 3] Train Loss: 0.1796 | Val Loss: 0.1220, LR: 0.001000\n",
            "[Epoch 4] Train Loss: 0.1244 | Val Loss: 0.0920, LR: 0.001000\n",
            "[Epoch 5] Train Loss: 0.1117 | Val Loss: 0.1664, LR: 0.001000\n",
            "[Epoch 6] Train Loss: 0.0715 | Val Loss: 0.1583, LR: 0.001000\n",
            "[Epoch 7] Train Loss: 0.0679 | Val Loss: 0.1041, LR: 0.001000\n",
            "[Epoch 8] Train Loss: 0.0864 | Val Loss: 0.0971, LR: 0.001000\n",
            "[Epoch 9] Train Loss: 0.0469 | Val Loss: 0.1367, LR: 0.001000\n",
            "[Epoch 10] Train Loss: 0.0647 | Val Loss: 0.0963, LR: 0.000500\n",
            "[Epoch 11] Train Loss: 0.0601 | Val Loss: 0.1284, LR: 0.000500\n",
            "[Epoch 12] Train Loss: 0.0472 | Val Loss: 0.1073, LR: 0.000500\n",
            "[Epoch 13] Train Loss: 0.0374 | Val Loss: 0.1140, LR: 0.000500\n",
            "[Epoch 14] Train Loss: 0.0413 | Val Loss: 0.1061, LR: 0.000500\n",
            "[Epoch 15] Train Loss: 0.0418 | Val Loss: 0.1094, LR: 0.000500\n",
            "[Epoch 16] Train Loss: 0.0356 | Val Loss: 0.1073, LR: 0.000250\n",
            "[Epoch 17] Train Loss: 0.0285 | Val Loss: 0.1017, LR: 0.000250\n",
            "[Epoch 18] Train Loss: 0.0302 | Val Loss: 0.1083, LR: 0.000250\n",
            "⏹️ Early stopping triggered at epoch 19. Best Val Loss: 0.0920\n"
          ]
        }
      ],
      "source": [
        "train_model_fusion(model_fusion, train_loader_fusion, validation_loader_fusion, criterion_fusion, optimizer_fusion,scheduler, num_epochs = 200,  patience=15)\n"
      ]
    },
    {
      "cell_type": "code",
      "source": [
        "for param_group in optimizer.param_groups:\n",
        "    print(\"Current LR:\", param_group['lr'])\n"
      ],
      "metadata": {
        "colab": {
          "base_uri": "https://localhost:8080/"
        },
        "id": "6jJL0obWKRS8",
        "outputId": "0c4814ad-85eb-4ffb-c689-28255912db5e"
      },
      "id": "6jJL0obWKRS8",
      "execution_count": 75,
      "outputs": [
        {
          "output_type": "stream",
          "name": "stdout",
          "text": [
            "Current LR: 0.001\n"
          ]
        }
      ]
    },
    {
      "cell_type": "code",
      "execution_count": 76,
      "id": "1f10fa96",
      "metadata": {
        "id": "1f10fa96"
      },
      "outputs": [],
      "source": [
        "def predict_model_fusion(model, dataloader):\n",
        "    model.eval()\n",
        "    all_preds = []\n",
        "\n",
        "    with torch.no_grad():\n",
        "        for batch in dataloader:\n",
        "            visual = batch['visual'].to(device)\n",
        "            audio = batch['audio'].to(device)\n",
        "            text = batch['text'].to(device)\n",
        "\n",
        "            preds = model(visual, audio, text)  # (batch_size,)\n",
        "            all_preds.extend(preds.cpu().numpy())  # Convert to NumPy list\n",
        "\n",
        "    return np.array(all_preds)"
      ]
    },
    {
      "cell_type": "code",
      "execution_count": 77,
      "id": "76e02d30",
      "metadata": {
        "id": "76e02d30",
        "colab": {
          "base_uri": "https://localhost:8080/"
        },
        "outputId": "4464c969-2a83-446a-eea6-6990cb4d82ed"
      },
      "outputs": [
        {
          "output_type": "stream",
          "name": "stdout",
          "text": [
            "Evaluating fusion model on the test set...\n",
            "\n",
            "Test Predictions (first 10):\n",
            "[5.7031193 6.8835883 9.064289  7.966008  7.515954  9.137443  8.938904\n",
            " 6.8875027 8.649598  8.872978 ]\n"
          ]
        }
      ],
      "source": [
        "# Evaluate the fusion model on the test set\n",
        "print(\"Evaluating fusion model on the test set...\")\n",
        "test_preds_fusion = predict_model_fusion(model_fusion, test_loader_fusion)*24\n",
        "\n",
        "print(\"\\nTest Predictions (first 10):\")\n",
        "print(test_preds_fusion[:10]) # Print first 10 predictions"
      ]
    },
    {
      "cell_type": "code",
      "execution_count": 78,
      "id": "wZtKGbtYMNSo",
      "metadata": {
        "id": "wZtKGbtYMNSo",
        "colab": {
          "base_uri": "https://localhost:8080/"
        },
        "outputId": "af680c92-26be-4426-fa39-483be4643b2e"
      },
      "outputs": [
        {
          "output_type": "stream",
          "name": "stdout",
          "text": [
            "tensor([0.1667, 0.1667, 0.3333, 0.5000, 0.9583, 0.7917, 0.6667, 0.6667, 0.0000,\n",
            "        0.7083, 0.5833, 0.3750, 0.2917, 0.0000, 0.0000, 0.0833, 0.4167, 0.2917,\n",
            "        0.4167])\n",
            "tensor([0.0000, 0.2500, 0.2917, 0.1667, 0.0833, 0.2917, 0.0833, 0.2500, 0.3333,\n",
            "        0.1250, 0.5417, 0.4583, 0.8333, 0.2083, 0.2083, 0.4167, 0.0833, 0.1667,\n",
            "        0.1667, 0.5000, 0.2083, 0.2917, 0.6250, 0.4583, 0.0417, 0.2917, 0.3750,\n",
            "        0.4583, 0.6250, 0.6667, 0.8333, 0.4583, 0.5833, 0.4167, 0.4583, 0.4167,\n",
            "        0.4167, 0.2917, 0.2917, 0.1667, 0.8333, 0.0000, 0.0000, 0.0000, 0.2917,\n",
            "        0.0000, 0.0000, 0.3750, 0.5417, 0.0833, 0.2083, 0.5000, 0.0833, 0.4167,\n",
            "        0.2917, 0.3333, 0.4583, 0.3750, 0.0417, 0.0833, 0.2083, 0.2917, 0.3750,\n",
            "        0.4583, 0.4167, 0.5000, 0.6667, 0.1250, 0.1250, 0.1250, 0.0000, 0.2500,\n",
            "        0.8333, 0.2083, 0.0000, 0.0417, 0.1250, 0.4167, 0.0833, 0.0000, 0.7500,\n",
            "        0.0417, 0.2917, 0.0417, 0.0000, 0.0417, 0.7500, 0.0833, 0.0417, 0.0417,\n",
            "        0.2500, 0.1250, 0.6667, 0.0000, 0.0000, 0.1667, 0.0000, 0.0000, 0.1667,\n",
            "        0.2500, 0.0417, 0.2917, 0.0833, 0.1667, 0.0000, 0.0000, 0.3333])\n",
            "tensor([0., 0., 0., 0., 0., 0., 0., 0., 0., 0.])\n"
          ]
        }
      ],
      "source": [
        "print(validation_labels)\n",
        "print(train_labels)\n",
        "print(_)"
      ]
    },
    {
      "cell_type": "code",
      "execution_count": 78,
      "id": "t3BMqMYWrZgj",
      "metadata": {
        "id": "t3BMqMYWrZgj"
      },
      "outputs": [],
      "source": []
    },
    {
      "cell_type": "markdown",
      "source": [
        "#Multimodal Model for Binary Classifier"
      ],
      "metadata": {
        "id": "FqcOgXbKd0M-"
      },
      "id": "FqcOgXbKd0M-"
    },
    {
      "cell_type": "code",
      "source": [
        "class MultimodalBinaryClassifier(nn.Module):\n",
        "    def __init__(self, input_dim_per_modality=256, hidden_dim=128):\n",
        "        super().__init__()\n",
        "        total_input_dim = input_dim_per_modality * 3\n",
        "\n",
        "        self.classifier = nn.Sequential(\n",
        "            nn.Linear(total_input_dim, hidden_dim),\n",
        "            nn.ReLU(),\n",
        "            nn.Dropout(0.5),  # Increased dropout to fight overfitting\n",
        "            nn.Linear(hidden_dim, 1),\n",
        "            nn.Sigmoid()\n",
        "        )\n",
        "\n",
        "    def forward(self, visual_feat, audio_feat, text_feat):\n",
        "        x = torch.cat([visual_feat, audio_feat, text_feat], dim=1)\n",
        "        return self.classifier(x).squeeze(1)\n"
      ],
      "metadata": {
        "id": "KJZ4TK3depzs"
      },
      "id": "KJZ4TK3depzs",
      "execution_count": 79,
      "outputs": []
    },
    {
      "cell_type": "code",
      "source": [
        "import torch.nn as nn\n",
        "import torch.optim as optim\n",
        "from sklearn.metrics import accuracy_score\n",
        "import copy\n",
        "\n",
        "def train_binary_classifier_with_early_stopping(model, train_loader, val_loader,\n",
        "                                                num_epochs=100, patience=10,\n",
        "                                                lr=1e-4, weight_decay=1e-4,\n",
        "                                                scheduler_patience=3):\n",
        "    model = model.to(device)\n",
        "    criterion = nn.BCELoss()\n",
        "    optimizer = optim.Adam(model.parameters(), lr=lr, weight_decay=weight_decay)\n",
        "\n",
        "    # Scheduler (Reduce LR if val_loss plateaus)\n",
        "    scheduler = optim.lr_scheduler.ReduceLROnPlateau(\n",
        "        optimizer, mode='min', factor=0.5, patience=scheduler_patience, verbose=True\n",
        "    )\n",
        "\n",
        "    best_val_loss = float('inf')\n",
        "    best_model_wts = copy.deepcopy(model.state_dict())\n",
        "    epochs_no_improve = 0\n",
        "\n",
        "    for epoch in range(num_epochs):\n",
        "        model.train()\n",
        "        train_losses, train_preds, train_targets = [], [], []\n",
        "\n",
        "        for batch in train_loader:\n",
        "            vis = batch['visual'].to(device)\n",
        "            aud = batch['audio'].to(device)\n",
        "            txt = batch['text'].to(device)\n",
        "            labels = batch['binary_labels'].float().to(device)\n",
        "\n",
        "            optimizer.zero_grad()\n",
        "            outputs = model(vis, aud, txt)\n",
        "            loss = criterion(outputs, labels)\n",
        "            loss.backward()\n",
        "            optimizer.step()\n",
        "\n",
        "            train_losses.append(loss.item())\n",
        "            train_preds.extend((outputs > 0.5).cpu().numpy())\n",
        "            train_targets.extend(labels.cpu().numpy())\n",
        "\n",
        "        train_acc = accuracy_score(train_targets, train_preds)\n",
        "\n",
        "        # -------- Validation --------\n",
        "        model.eval()\n",
        "        val_losses, val_preds, val_targets = [], [], []\n",
        "\n",
        "        with torch.no_grad():\n",
        "            for batch in val_loader:\n",
        "                vis = batch['visual'].to(device)\n",
        "                aud = batch['audio'].to(device)\n",
        "                txt = batch['text'].to(device)\n",
        "                labels = batch['binary_labels'].float().to(device)\n",
        "\n",
        "                outputs = model(vis, aud, txt)\n",
        "                loss = criterion(outputs, labels)\n",
        "\n",
        "                val_losses.append(loss.item())\n",
        "                val_preds.extend((outputs > 0.5).cpu().numpy())\n",
        "                val_targets.extend(labels.cpu().numpy())\n",
        "\n",
        "        val_loss = sum(val_losses) / len(val_losses)\n",
        "        val_acc = accuracy_score(val_targets, val_preds)\n",
        "\n",
        "        # 🔁 Step scheduler\n",
        "        scheduler.step(val_loss)\n",
        "\n",
        "        print(f\"[Epoch {epoch+1}] Train Loss: {sum(train_losses)/len(train_losses):.4f}, \"\n",
        "              f\"Train Acc: {train_acc:.4f}, Val Loss: {val_loss:.4f}, Val Acc: {val_acc:.4f}, \"\n",
        "              f\"LR: {optimizer.param_groups[0]['lr']:.6f}\")\n",
        "\n",
        "        # 🛑 Early stopping logic\n",
        "        if val_loss < best_val_loss:\n",
        "            best_val_loss = val_loss\n",
        "            best_model_wts = copy.deepcopy(model.state_dict())\n",
        "            epochs_no_improve = 0\n",
        "        else:\n",
        "            epochs_no_improve += 1\n",
        "\n",
        "        if epochs_no_improve >= patience:\n",
        "            print(\"Early stopping triggered.\")\n",
        "            break\n",
        "\n",
        "    # Load best model weights\n",
        "    model.load_state_dict(best_model_wts)\n",
        "    return model\n"
      ],
      "metadata": {
        "id": "TwKoh9RSez2M"
      },
      "id": "TwKoh9RSez2M",
      "execution_count": 80,
      "outputs": []
    },
    {
      "cell_type": "code",
      "source": [
        "model = MultimodalBinaryClassifier()\n",
        "model = train_binary_classifier_with_early_stopping(\n",
        "    model,\n",
        "    train_loader_fusion,\n",
        "    validation_loader_fusion,\n",
        "    num_epochs=100,\n",
        "    patience=10,\n",
        "    lr=1e-4,\n",
        "    weight_decay=1e-5\n",
        ")\n"
      ],
      "metadata": {
        "id": "pc6fL4ANm1wf",
        "colab": {
          "base_uri": "https://localhost:8080/"
        },
        "outputId": "a1bcf8da-0556-4e7d-92ab-ffc00c10c7da"
      },
      "id": "pc6fL4ANm1wf",
      "execution_count": 81,
      "outputs": [
        {
          "output_type": "stream",
          "name": "stdout",
          "text": [
            "[Epoch 1] Train Loss: 0.6757, Train Acc: 0.7196, Val Loss: 0.6973, Val Acc: 0.5263, LR: 0.000100\n",
            "[Epoch 2] Train Loss: 0.6669, Train Acc: 0.7196, Val Loss: 0.6978, Val Acc: 0.5263, LR: 0.000100\n",
            "[Epoch 3] Train Loss: 0.6616, Train Acc: 0.7103, Val Loss: 0.6981, Val Acc: 0.5263, LR: 0.000100\n",
            "[Epoch 4] Train Loss: 0.6583, Train Acc: 0.7196, Val Loss: 0.6984, Val Acc: 0.5263, LR: 0.000100\n",
            "[Epoch 5] Train Loss: 0.6530, Train Acc: 0.7290, Val Loss: 0.6987, Val Acc: 0.5263, LR: 0.000050\n",
            "[Epoch 6] Train Loss: 0.6461, Train Acc: 0.7196, Val Loss: 0.6988, Val Acc: 0.5263, LR: 0.000050\n",
            "[Epoch 7] Train Loss: 0.6420, Train Acc: 0.7290, Val Loss: 0.6989, Val Acc: 0.5263, LR: 0.000050\n",
            "[Epoch 8] Train Loss: 0.6418, Train Acc: 0.7290, Val Loss: 0.6992, Val Acc: 0.5263, LR: 0.000050\n",
            "[Epoch 9] Train Loss: 0.6356, Train Acc: 0.7196, Val Loss: 0.6994, Val Acc: 0.5263, LR: 0.000025\n",
            "[Epoch 10] Train Loss: 0.6338, Train Acc: 0.7383, Val Loss: 0.6995, Val Acc: 0.5263, LR: 0.000025\n",
            "[Epoch 11] Train Loss: 0.6328, Train Acc: 0.7477, Val Loss: 0.6995, Val Acc: 0.5263, LR: 0.000025\n",
            "Early stopping triggered.\n"
          ]
        }
      ]
    },
    {
      "cell_type": "code",
      "source": [
        "\n"
      ],
      "metadata": {
        "id": "GC5U3FdsoFui"
      },
      "id": "GC5U3FdsoFui",
      "execution_count": 81,
      "outputs": []
    },
    {
      "cell_type": "code",
      "source": [],
      "metadata": {
        "id": "V0JB2Ve3p5uF"
      },
      "id": "V0JB2Ve3p5uF",
      "execution_count": 81,
      "outputs": []
    }
  ],
  "metadata": {
    "accelerator": "GPU",
    "colab": {
      "gpuType": "T4",
      "provenance": [],
      "include_colab_link": true
    },
    "kernelspec": {
      "display_name": "Python 3",
      "name": "python3"
    },
    "language_info": {
      "codemirror_mode": {
        "name": "ipython",
        "version": 3
      },
      "file_extension": ".py",
      "mimetype": "text/x-python",
      "name": "python",
      "nbconvert_exporter": "python",
      "pygments_lexer": "ipython3",
      "version": "3.11.10"
    },
    "widgets": {
      "application/vnd.jupyter.widget-state+json": {
        "0bfb92c5fa7248c6b3c53429a4dcc995": {
          "model_module": "@jupyter-widgets/controls",
          "model_name": "HBoxModel",
          "model_module_version": "1.5.0",
          "state": {
            "_dom_classes": [],
            "_model_module": "@jupyter-widgets/controls",
            "_model_module_version": "1.5.0",
            "_model_name": "HBoxModel",
            "_view_count": null,
            "_view_module": "@jupyter-widgets/controls",
            "_view_module_version": "1.5.0",
            "_view_name": "HBoxView",
            "box_style": "",
            "children": [
              "IPY_MODEL_90b081db13b94ffc9a3ca409a5dfd79c",
              "IPY_MODEL_85ccc12f047749aa97e9d86688d42ee3",
              "IPY_MODEL_db3a460def9749fa829146929f74cbe1"
            ],
            "layout": "IPY_MODEL_1030f3e8c7a44e6cb7affc6c6093cd82"
          }
        },
        "90b081db13b94ffc9a3ca409a5dfd79c": {
          "model_module": "@jupyter-widgets/controls",
          "model_name": "HTMLModel",
          "model_module_version": "1.5.0",
          "state": {
            "_dom_classes": [],
            "_model_module": "@jupyter-widgets/controls",
            "_model_module_version": "1.5.0",
            "_model_name": "HTMLModel",
            "_view_count": null,
            "_view_module": "@jupyter-widgets/controls",
            "_view_module_version": "1.5.0",
            "_view_name": "HTMLView",
            "description": "",
            "description_tooltip": null,
            "layout": "IPY_MODEL_f403ed5dd9fc4064b5fd92026583e3ac",
            "placeholder": "​",
            "style": "IPY_MODEL_1d369a48c8de4ce39fe610b357cf986f",
            "value": "tokenizer_config.json: 100%"
          }
        },
        "85ccc12f047749aa97e9d86688d42ee3": {
          "model_module": "@jupyter-widgets/controls",
          "model_name": "FloatProgressModel",
          "model_module_version": "1.5.0",
          "state": {
            "_dom_classes": [],
            "_model_module": "@jupyter-widgets/controls",
            "_model_module_version": "1.5.0",
            "_model_name": "FloatProgressModel",
            "_view_count": null,
            "_view_module": "@jupyter-widgets/controls",
            "_view_module_version": "1.5.0",
            "_view_name": "ProgressView",
            "bar_style": "success",
            "description": "",
            "description_tooltip": null,
            "layout": "IPY_MODEL_efc073a14e614bbb974890be8b921fba",
            "max": 48,
            "min": 0,
            "orientation": "horizontal",
            "style": "IPY_MODEL_009d8508c2d24773bc9db10730c63639",
            "value": 48
          }
        },
        "db3a460def9749fa829146929f74cbe1": {
          "model_module": "@jupyter-widgets/controls",
          "model_name": "HTMLModel",
          "model_module_version": "1.5.0",
          "state": {
            "_dom_classes": [],
            "_model_module": "@jupyter-widgets/controls",
            "_model_module_version": "1.5.0",
            "_model_name": "HTMLModel",
            "_view_count": null,
            "_view_module": "@jupyter-widgets/controls",
            "_view_module_version": "1.5.0",
            "_view_name": "HTMLView",
            "description": "",
            "description_tooltip": null,
            "layout": "IPY_MODEL_3e2d8d7f4db54d6fb3d2b691c4b20a4c",
            "placeholder": "​",
            "style": "IPY_MODEL_b23990956aa340f68cbfacf8cd3e8c5d",
            "value": " 48.0/48.0 [00:00&lt;00:00, 1.47kB/s]"
          }
        },
        "1030f3e8c7a44e6cb7affc6c6093cd82": {
          "model_module": "@jupyter-widgets/base",
          "model_name": "LayoutModel",
          "model_module_version": "1.2.0",
          "state": {
            "_model_module": "@jupyter-widgets/base",
            "_model_module_version": "1.2.0",
            "_model_name": "LayoutModel",
            "_view_count": null,
            "_view_module": "@jupyter-widgets/base",
            "_view_module_version": "1.2.0",
            "_view_name": "LayoutView",
            "align_content": null,
            "align_items": null,
            "align_self": null,
            "border": null,
            "bottom": null,
            "display": null,
            "flex": null,
            "flex_flow": null,
            "grid_area": null,
            "grid_auto_columns": null,
            "grid_auto_flow": null,
            "grid_auto_rows": null,
            "grid_column": null,
            "grid_gap": null,
            "grid_row": null,
            "grid_template_areas": null,
            "grid_template_columns": null,
            "grid_template_rows": null,
            "height": null,
            "justify_content": null,
            "justify_items": null,
            "left": null,
            "margin": null,
            "max_height": null,
            "max_width": null,
            "min_height": null,
            "min_width": null,
            "object_fit": null,
            "object_position": null,
            "order": null,
            "overflow": null,
            "overflow_x": null,
            "overflow_y": null,
            "padding": null,
            "right": null,
            "top": null,
            "visibility": null,
            "width": null
          }
        },
        "f403ed5dd9fc4064b5fd92026583e3ac": {
          "model_module": "@jupyter-widgets/base",
          "model_name": "LayoutModel",
          "model_module_version": "1.2.0",
          "state": {
            "_model_module": "@jupyter-widgets/base",
            "_model_module_version": "1.2.0",
            "_model_name": "LayoutModel",
            "_view_count": null,
            "_view_module": "@jupyter-widgets/base",
            "_view_module_version": "1.2.0",
            "_view_name": "LayoutView",
            "align_content": null,
            "align_items": null,
            "align_self": null,
            "border": null,
            "bottom": null,
            "display": null,
            "flex": null,
            "flex_flow": null,
            "grid_area": null,
            "grid_auto_columns": null,
            "grid_auto_flow": null,
            "grid_auto_rows": null,
            "grid_column": null,
            "grid_gap": null,
            "grid_row": null,
            "grid_template_areas": null,
            "grid_template_columns": null,
            "grid_template_rows": null,
            "height": null,
            "justify_content": null,
            "justify_items": null,
            "left": null,
            "margin": null,
            "max_height": null,
            "max_width": null,
            "min_height": null,
            "min_width": null,
            "object_fit": null,
            "object_position": null,
            "order": null,
            "overflow": null,
            "overflow_x": null,
            "overflow_y": null,
            "padding": null,
            "right": null,
            "top": null,
            "visibility": null,
            "width": null
          }
        },
        "1d369a48c8de4ce39fe610b357cf986f": {
          "model_module": "@jupyter-widgets/controls",
          "model_name": "DescriptionStyleModel",
          "model_module_version": "1.5.0",
          "state": {
            "_model_module": "@jupyter-widgets/controls",
            "_model_module_version": "1.5.0",
            "_model_name": "DescriptionStyleModel",
            "_view_count": null,
            "_view_module": "@jupyter-widgets/base",
            "_view_module_version": "1.2.0",
            "_view_name": "StyleView",
            "description_width": ""
          }
        },
        "efc073a14e614bbb974890be8b921fba": {
          "model_module": "@jupyter-widgets/base",
          "model_name": "LayoutModel",
          "model_module_version": "1.2.0",
          "state": {
            "_model_module": "@jupyter-widgets/base",
            "_model_module_version": "1.2.0",
            "_model_name": "LayoutModel",
            "_view_count": null,
            "_view_module": "@jupyter-widgets/base",
            "_view_module_version": "1.2.0",
            "_view_name": "LayoutView",
            "align_content": null,
            "align_items": null,
            "align_self": null,
            "border": null,
            "bottom": null,
            "display": null,
            "flex": null,
            "flex_flow": null,
            "grid_area": null,
            "grid_auto_columns": null,
            "grid_auto_flow": null,
            "grid_auto_rows": null,
            "grid_column": null,
            "grid_gap": null,
            "grid_row": null,
            "grid_template_areas": null,
            "grid_template_columns": null,
            "grid_template_rows": null,
            "height": null,
            "justify_content": null,
            "justify_items": null,
            "left": null,
            "margin": null,
            "max_height": null,
            "max_width": null,
            "min_height": null,
            "min_width": null,
            "object_fit": null,
            "object_position": null,
            "order": null,
            "overflow": null,
            "overflow_x": null,
            "overflow_y": null,
            "padding": null,
            "right": null,
            "top": null,
            "visibility": null,
            "width": null
          }
        },
        "009d8508c2d24773bc9db10730c63639": {
          "model_module": "@jupyter-widgets/controls",
          "model_name": "ProgressStyleModel",
          "model_module_version": "1.5.0",
          "state": {
            "_model_module": "@jupyter-widgets/controls",
            "_model_module_version": "1.5.0",
            "_model_name": "ProgressStyleModel",
            "_view_count": null,
            "_view_module": "@jupyter-widgets/base",
            "_view_module_version": "1.2.0",
            "_view_name": "StyleView",
            "bar_color": null,
            "description_width": ""
          }
        },
        "3e2d8d7f4db54d6fb3d2b691c4b20a4c": {
          "model_module": "@jupyter-widgets/base",
          "model_name": "LayoutModel",
          "model_module_version": "1.2.0",
          "state": {
            "_model_module": "@jupyter-widgets/base",
            "_model_module_version": "1.2.0",
            "_model_name": "LayoutModel",
            "_view_count": null,
            "_view_module": "@jupyter-widgets/base",
            "_view_module_version": "1.2.0",
            "_view_name": "LayoutView",
            "align_content": null,
            "align_items": null,
            "align_self": null,
            "border": null,
            "bottom": null,
            "display": null,
            "flex": null,
            "flex_flow": null,
            "grid_area": null,
            "grid_auto_columns": null,
            "grid_auto_flow": null,
            "grid_auto_rows": null,
            "grid_column": null,
            "grid_gap": null,
            "grid_row": null,
            "grid_template_areas": null,
            "grid_template_columns": null,
            "grid_template_rows": null,
            "height": null,
            "justify_content": null,
            "justify_items": null,
            "left": null,
            "margin": null,
            "max_height": null,
            "max_width": null,
            "min_height": null,
            "min_width": null,
            "object_fit": null,
            "object_position": null,
            "order": null,
            "overflow": null,
            "overflow_x": null,
            "overflow_y": null,
            "padding": null,
            "right": null,
            "top": null,
            "visibility": null,
            "width": null
          }
        },
        "b23990956aa340f68cbfacf8cd3e8c5d": {
          "model_module": "@jupyter-widgets/controls",
          "model_name": "DescriptionStyleModel",
          "model_module_version": "1.5.0",
          "state": {
            "_model_module": "@jupyter-widgets/controls",
            "_model_module_version": "1.5.0",
            "_model_name": "DescriptionStyleModel",
            "_view_count": null,
            "_view_module": "@jupyter-widgets/base",
            "_view_module_version": "1.2.0",
            "_view_name": "StyleView",
            "description_width": ""
          }
        },
        "2cc3aed964f64e22b9eb03124fda815d": {
          "model_module": "@jupyter-widgets/controls",
          "model_name": "HBoxModel",
          "model_module_version": "1.5.0",
          "state": {
            "_dom_classes": [],
            "_model_module": "@jupyter-widgets/controls",
            "_model_module_version": "1.5.0",
            "_model_name": "HBoxModel",
            "_view_count": null,
            "_view_module": "@jupyter-widgets/controls",
            "_view_module_version": "1.5.0",
            "_view_name": "HBoxView",
            "box_style": "",
            "children": [
              "IPY_MODEL_ac9c12b2d666419691fb2a241a030b55",
              "IPY_MODEL_ff939a9e35e24818a4d9e76a4a17205b",
              "IPY_MODEL_eac6bb43d16946f09ff723e24f87646f"
            ],
            "layout": "IPY_MODEL_a053046e6e194dd3b85c18627635c46f"
          }
        },
        "ac9c12b2d666419691fb2a241a030b55": {
          "model_module": "@jupyter-widgets/controls",
          "model_name": "HTMLModel",
          "model_module_version": "1.5.0",
          "state": {
            "_dom_classes": [],
            "_model_module": "@jupyter-widgets/controls",
            "_model_module_version": "1.5.0",
            "_model_name": "HTMLModel",
            "_view_count": null,
            "_view_module": "@jupyter-widgets/controls",
            "_view_module_version": "1.5.0",
            "_view_name": "HTMLView",
            "description": "",
            "description_tooltip": null,
            "layout": "IPY_MODEL_af020875ac664238bea848818e19a38b",
            "placeholder": "​",
            "style": "IPY_MODEL_ac62ad60fffe42dfbe7156f5d93b587b",
            "value": "config.json: 100%"
          }
        },
        "ff939a9e35e24818a4d9e76a4a17205b": {
          "model_module": "@jupyter-widgets/controls",
          "model_name": "FloatProgressModel",
          "model_module_version": "1.5.0",
          "state": {
            "_dom_classes": [],
            "_model_module": "@jupyter-widgets/controls",
            "_model_module_version": "1.5.0",
            "_model_name": "FloatProgressModel",
            "_view_count": null,
            "_view_module": "@jupyter-widgets/controls",
            "_view_module_version": "1.5.0",
            "_view_name": "ProgressView",
            "bar_style": "success",
            "description": "",
            "description_tooltip": null,
            "layout": "IPY_MODEL_80769b795f7b4176b6ad548f0f05e0a3",
            "max": 570,
            "min": 0,
            "orientation": "horizontal",
            "style": "IPY_MODEL_a4bd359951674416be123e5941cc90fb",
            "value": 570
          }
        },
        "eac6bb43d16946f09ff723e24f87646f": {
          "model_module": "@jupyter-widgets/controls",
          "model_name": "HTMLModel",
          "model_module_version": "1.5.0",
          "state": {
            "_dom_classes": [],
            "_model_module": "@jupyter-widgets/controls",
            "_model_module_version": "1.5.0",
            "_model_name": "HTMLModel",
            "_view_count": null,
            "_view_module": "@jupyter-widgets/controls",
            "_view_module_version": "1.5.0",
            "_view_name": "HTMLView",
            "description": "",
            "description_tooltip": null,
            "layout": "IPY_MODEL_ff3929fb1bef45b5a508226d1f804024",
            "placeholder": "​",
            "style": "IPY_MODEL_fcd04c2b579f40e389a1ed19842c2273",
            "value": " 570/570 [00:00&lt;00:00, 15.5kB/s]"
          }
        },
        "a053046e6e194dd3b85c18627635c46f": {
          "model_module": "@jupyter-widgets/base",
          "model_name": "LayoutModel",
          "model_module_version": "1.2.0",
          "state": {
            "_model_module": "@jupyter-widgets/base",
            "_model_module_version": "1.2.0",
            "_model_name": "LayoutModel",
            "_view_count": null,
            "_view_module": "@jupyter-widgets/base",
            "_view_module_version": "1.2.0",
            "_view_name": "LayoutView",
            "align_content": null,
            "align_items": null,
            "align_self": null,
            "border": null,
            "bottom": null,
            "display": null,
            "flex": null,
            "flex_flow": null,
            "grid_area": null,
            "grid_auto_columns": null,
            "grid_auto_flow": null,
            "grid_auto_rows": null,
            "grid_column": null,
            "grid_gap": null,
            "grid_row": null,
            "grid_template_areas": null,
            "grid_template_columns": null,
            "grid_template_rows": null,
            "height": null,
            "justify_content": null,
            "justify_items": null,
            "left": null,
            "margin": null,
            "max_height": null,
            "max_width": null,
            "min_height": null,
            "min_width": null,
            "object_fit": null,
            "object_position": null,
            "order": null,
            "overflow": null,
            "overflow_x": null,
            "overflow_y": null,
            "padding": null,
            "right": null,
            "top": null,
            "visibility": null,
            "width": null
          }
        },
        "af020875ac664238bea848818e19a38b": {
          "model_module": "@jupyter-widgets/base",
          "model_name": "LayoutModel",
          "model_module_version": "1.2.0",
          "state": {
            "_model_module": "@jupyter-widgets/base",
            "_model_module_version": "1.2.0",
            "_model_name": "LayoutModel",
            "_view_count": null,
            "_view_module": "@jupyter-widgets/base",
            "_view_module_version": "1.2.0",
            "_view_name": "LayoutView",
            "align_content": null,
            "align_items": null,
            "align_self": null,
            "border": null,
            "bottom": null,
            "display": null,
            "flex": null,
            "flex_flow": null,
            "grid_area": null,
            "grid_auto_columns": null,
            "grid_auto_flow": null,
            "grid_auto_rows": null,
            "grid_column": null,
            "grid_gap": null,
            "grid_row": null,
            "grid_template_areas": null,
            "grid_template_columns": null,
            "grid_template_rows": null,
            "height": null,
            "justify_content": null,
            "justify_items": null,
            "left": null,
            "margin": null,
            "max_height": null,
            "max_width": null,
            "min_height": null,
            "min_width": null,
            "object_fit": null,
            "object_position": null,
            "order": null,
            "overflow": null,
            "overflow_x": null,
            "overflow_y": null,
            "padding": null,
            "right": null,
            "top": null,
            "visibility": null,
            "width": null
          }
        },
        "ac62ad60fffe42dfbe7156f5d93b587b": {
          "model_module": "@jupyter-widgets/controls",
          "model_name": "DescriptionStyleModel",
          "model_module_version": "1.5.0",
          "state": {
            "_model_module": "@jupyter-widgets/controls",
            "_model_module_version": "1.5.0",
            "_model_name": "DescriptionStyleModel",
            "_view_count": null,
            "_view_module": "@jupyter-widgets/base",
            "_view_module_version": "1.2.0",
            "_view_name": "StyleView",
            "description_width": ""
          }
        },
        "80769b795f7b4176b6ad548f0f05e0a3": {
          "model_module": "@jupyter-widgets/base",
          "model_name": "LayoutModel",
          "model_module_version": "1.2.0",
          "state": {
            "_model_module": "@jupyter-widgets/base",
            "_model_module_version": "1.2.0",
            "_model_name": "LayoutModel",
            "_view_count": null,
            "_view_module": "@jupyter-widgets/base",
            "_view_module_version": "1.2.0",
            "_view_name": "LayoutView",
            "align_content": null,
            "align_items": null,
            "align_self": null,
            "border": null,
            "bottom": null,
            "display": null,
            "flex": null,
            "flex_flow": null,
            "grid_area": null,
            "grid_auto_columns": null,
            "grid_auto_flow": null,
            "grid_auto_rows": null,
            "grid_column": null,
            "grid_gap": null,
            "grid_row": null,
            "grid_template_areas": null,
            "grid_template_columns": null,
            "grid_template_rows": null,
            "height": null,
            "justify_content": null,
            "justify_items": null,
            "left": null,
            "margin": null,
            "max_height": null,
            "max_width": null,
            "min_height": null,
            "min_width": null,
            "object_fit": null,
            "object_position": null,
            "order": null,
            "overflow": null,
            "overflow_x": null,
            "overflow_y": null,
            "padding": null,
            "right": null,
            "top": null,
            "visibility": null,
            "width": null
          }
        },
        "a4bd359951674416be123e5941cc90fb": {
          "model_module": "@jupyter-widgets/controls",
          "model_name": "ProgressStyleModel",
          "model_module_version": "1.5.0",
          "state": {
            "_model_module": "@jupyter-widgets/controls",
            "_model_module_version": "1.5.0",
            "_model_name": "ProgressStyleModel",
            "_view_count": null,
            "_view_module": "@jupyter-widgets/base",
            "_view_module_version": "1.2.0",
            "_view_name": "StyleView",
            "bar_color": null,
            "description_width": ""
          }
        },
        "ff3929fb1bef45b5a508226d1f804024": {
          "model_module": "@jupyter-widgets/base",
          "model_name": "LayoutModel",
          "model_module_version": "1.2.0",
          "state": {
            "_model_module": "@jupyter-widgets/base",
            "_model_module_version": "1.2.0",
            "_model_name": "LayoutModel",
            "_view_count": null,
            "_view_module": "@jupyter-widgets/base",
            "_view_module_version": "1.2.0",
            "_view_name": "LayoutView",
            "align_content": null,
            "align_items": null,
            "align_self": null,
            "border": null,
            "bottom": null,
            "display": null,
            "flex": null,
            "flex_flow": null,
            "grid_area": null,
            "grid_auto_columns": null,
            "grid_auto_flow": null,
            "grid_auto_rows": null,
            "grid_column": null,
            "grid_gap": null,
            "grid_row": null,
            "grid_template_areas": null,
            "grid_template_columns": null,
            "grid_template_rows": null,
            "height": null,
            "justify_content": null,
            "justify_items": null,
            "left": null,
            "margin": null,
            "max_height": null,
            "max_width": null,
            "min_height": null,
            "min_width": null,
            "object_fit": null,
            "object_position": null,
            "order": null,
            "overflow": null,
            "overflow_x": null,
            "overflow_y": null,
            "padding": null,
            "right": null,
            "top": null,
            "visibility": null,
            "width": null
          }
        },
        "fcd04c2b579f40e389a1ed19842c2273": {
          "model_module": "@jupyter-widgets/controls",
          "model_name": "DescriptionStyleModel",
          "model_module_version": "1.5.0",
          "state": {
            "_model_module": "@jupyter-widgets/controls",
            "_model_module_version": "1.5.0",
            "_model_name": "DescriptionStyleModel",
            "_view_count": null,
            "_view_module": "@jupyter-widgets/base",
            "_view_module_version": "1.2.0",
            "_view_name": "StyleView",
            "description_width": ""
          }
        },
        "917e538b6b9b4ea1b189e066784195bb": {
          "model_module": "@jupyter-widgets/controls",
          "model_name": "HBoxModel",
          "model_module_version": "1.5.0",
          "state": {
            "_dom_classes": [],
            "_model_module": "@jupyter-widgets/controls",
            "_model_module_version": "1.5.0",
            "_model_name": "HBoxModel",
            "_view_count": null,
            "_view_module": "@jupyter-widgets/controls",
            "_view_module_version": "1.5.0",
            "_view_name": "HBoxView",
            "box_style": "",
            "children": [
              "IPY_MODEL_2f06c775acbd4e4fafdd8ed0cdab31c6",
              "IPY_MODEL_1352a53c281d4aa38bc2a6100f37cf28",
              "IPY_MODEL_14bced7b52ff4a60b47808fa26289e3d"
            ],
            "layout": "IPY_MODEL_9e77bda42bdd40669281c3ab5f2d048c"
          }
        },
        "2f06c775acbd4e4fafdd8ed0cdab31c6": {
          "model_module": "@jupyter-widgets/controls",
          "model_name": "HTMLModel",
          "model_module_version": "1.5.0",
          "state": {
            "_dom_classes": [],
            "_model_module": "@jupyter-widgets/controls",
            "_model_module_version": "1.5.0",
            "_model_name": "HTMLModel",
            "_view_count": null,
            "_view_module": "@jupyter-widgets/controls",
            "_view_module_version": "1.5.0",
            "_view_name": "HTMLView",
            "description": "",
            "description_tooltip": null,
            "layout": "IPY_MODEL_733eec62afe143978de3f656b5f11df0",
            "placeholder": "​",
            "style": "IPY_MODEL_7e292b95029947ac887f1759e1215ecb",
            "value": "vocab.txt: 100%"
          }
        },
        "1352a53c281d4aa38bc2a6100f37cf28": {
          "model_module": "@jupyter-widgets/controls",
          "model_name": "FloatProgressModel",
          "model_module_version": "1.5.0",
          "state": {
            "_dom_classes": [],
            "_model_module": "@jupyter-widgets/controls",
            "_model_module_version": "1.5.0",
            "_model_name": "FloatProgressModel",
            "_view_count": null,
            "_view_module": "@jupyter-widgets/controls",
            "_view_module_version": "1.5.0",
            "_view_name": "ProgressView",
            "bar_style": "success",
            "description": "",
            "description_tooltip": null,
            "layout": "IPY_MODEL_530c703689224bafaf073064fbb0420d",
            "max": 231508,
            "min": 0,
            "orientation": "horizontal",
            "style": "IPY_MODEL_bc82bf9421804d4c8a0ea1dc7c3505a7",
            "value": 231508
          }
        },
        "14bced7b52ff4a60b47808fa26289e3d": {
          "model_module": "@jupyter-widgets/controls",
          "model_name": "HTMLModel",
          "model_module_version": "1.5.0",
          "state": {
            "_dom_classes": [],
            "_model_module": "@jupyter-widgets/controls",
            "_model_module_version": "1.5.0",
            "_model_name": "HTMLModel",
            "_view_count": null,
            "_view_module": "@jupyter-widgets/controls",
            "_view_module_version": "1.5.0",
            "_view_name": "HTMLView",
            "description": "",
            "description_tooltip": null,
            "layout": "IPY_MODEL_b24a5041b38c4db982455ac4d0f0d361",
            "placeholder": "​",
            "style": "IPY_MODEL_3dff08cfaaac472e9d784090d0a5a73f",
            "value": " 232k/232k [00:00&lt;00:00, 3.19MB/s]"
          }
        },
        "9e77bda42bdd40669281c3ab5f2d048c": {
          "model_module": "@jupyter-widgets/base",
          "model_name": "LayoutModel",
          "model_module_version": "1.2.0",
          "state": {
            "_model_module": "@jupyter-widgets/base",
            "_model_module_version": "1.2.0",
            "_model_name": "LayoutModel",
            "_view_count": null,
            "_view_module": "@jupyter-widgets/base",
            "_view_module_version": "1.2.0",
            "_view_name": "LayoutView",
            "align_content": null,
            "align_items": null,
            "align_self": null,
            "border": null,
            "bottom": null,
            "display": null,
            "flex": null,
            "flex_flow": null,
            "grid_area": null,
            "grid_auto_columns": null,
            "grid_auto_flow": null,
            "grid_auto_rows": null,
            "grid_column": null,
            "grid_gap": null,
            "grid_row": null,
            "grid_template_areas": null,
            "grid_template_columns": null,
            "grid_template_rows": null,
            "height": null,
            "justify_content": null,
            "justify_items": null,
            "left": null,
            "margin": null,
            "max_height": null,
            "max_width": null,
            "min_height": null,
            "min_width": null,
            "object_fit": null,
            "object_position": null,
            "order": null,
            "overflow": null,
            "overflow_x": null,
            "overflow_y": null,
            "padding": null,
            "right": null,
            "top": null,
            "visibility": null,
            "width": null
          }
        },
        "733eec62afe143978de3f656b5f11df0": {
          "model_module": "@jupyter-widgets/base",
          "model_name": "LayoutModel",
          "model_module_version": "1.2.0",
          "state": {
            "_model_module": "@jupyter-widgets/base",
            "_model_module_version": "1.2.0",
            "_model_name": "LayoutModel",
            "_view_count": null,
            "_view_module": "@jupyter-widgets/base",
            "_view_module_version": "1.2.0",
            "_view_name": "LayoutView",
            "align_content": null,
            "align_items": null,
            "align_self": null,
            "border": null,
            "bottom": null,
            "display": null,
            "flex": null,
            "flex_flow": null,
            "grid_area": null,
            "grid_auto_columns": null,
            "grid_auto_flow": null,
            "grid_auto_rows": null,
            "grid_column": null,
            "grid_gap": null,
            "grid_row": null,
            "grid_template_areas": null,
            "grid_template_columns": null,
            "grid_template_rows": null,
            "height": null,
            "justify_content": null,
            "justify_items": null,
            "left": null,
            "margin": null,
            "max_height": null,
            "max_width": null,
            "min_height": null,
            "min_width": null,
            "object_fit": null,
            "object_position": null,
            "order": null,
            "overflow": null,
            "overflow_x": null,
            "overflow_y": null,
            "padding": null,
            "right": null,
            "top": null,
            "visibility": null,
            "width": null
          }
        },
        "7e292b95029947ac887f1759e1215ecb": {
          "model_module": "@jupyter-widgets/controls",
          "model_name": "DescriptionStyleModel",
          "model_module_version": "1.5.0",
          "state": {
            "_model_module": "@jupyter-widgets/controls",
            "_model_module_version": "1.5.0",
            "_model_name": "DescriptionStyleModel",
            "_view_count": null,
            "_view_module": "@jupyter-widgets/base",
            "_view_module_version": "1.2.0",
            "_view_name": "StyleView",
            "description_width": ""
          }
        },
        "530c703689224bafaf073064fbb0420d": {
          "model_module": "@jupyter-widgets/base",
          "model_name": "LayoutModel",
          "model_module_version": "1.2.0",
          "state": {
            "_model_module": "@jupyter-widgets/base",
            "_model_module_version": "1.2.0",
            "_model_name": "LayoutModel",
            "_view_count": null,
            "_view_module": "@jupyter-widgets/base",
            "_view_module_version": "1.2.0",
            "_view_name": "LayoutView",
            "align_content": null,
            "align_items": null,
            "align_self": null,
            "border": null,
            "bottom": null,
            "display": null,
            "flex": null,
            "flex_flow": null,
            "grid_area": null,
            "grid_auto_columns": null,
            "grid_auto_flow": null,
            "grid_auto_rows": null,
            "grid_column": null,
            "grid_gap": null,
            "grid_row": null,
            "grid_template_areas": null,
            "grid_template_columns": null,
            "grid_template_rows": null,
            "height": null,
            "justify_content": null,
            "justify_items": null,
            "left": null,
            "margin": null,
            "max_height": null,
            "max_width": null,
            "min_height": null,
            "min_width": null,
            "object_fit": null,
            "object_position": null,
            "order": null,
            "overflow": null,
            "overflow_x": null,
            "overflow_y": null,
            "padding": null,
            "right": null,
            "top": null,
            "visibility": null,
            "width": null
          }
        },
        "bc82bf9421804d4c8a0ea1dc7c3505a7": {
          "model_module": "@jupyter-widgets/controls",
          "model_name": "ProgressStyleModel",
          "model_module_version": "1.5.0",
          "state": {
            "_model_module": "@jupyter-widgets/controls",
            "_model_module_version": "1.5.0",
            "_model_name": "ProgressStyleModel",
            "_view_count": null,
            "_view_module": "@jupyter-widgets/base",
            "_view_module_version": "1.2.0",
            "_view_name": "StyleView",
            "bar_color": null,
            "description_width": ""
          }
        },
        "b24a5041b38c4db982455ac4d0f0d361": {
          "model_module": "@jupyter-widgets/base",
          "model_name": "LayoutModel",
          "model_module_version": "1.2.0",
          "state": {
            "_model_module": "@jupyter-widgets/base",
            "_model_module_version": "1.2.0",
            "_model_name": "LayoutModel",
            "_view_count": null,
            "_view_module": "@jupyter-widgets/base",
            "_view_module_version": "1.2.0",
            "_view_name": "LayoutView",
            "align_content": null,
            "align_items": null,
            "align_self": null,
            "border": null,
            "bottom": null,
            "display": null,
            "flex": null,
            "flex_flow": null,
            "grid_area": null,
            "grid_auto_columns": null,
            "grid_auto_flow": null,
            "grid_auto_rows": null,
            "grid_column": null,
            "grid_gap": null,
            "grid_row": null,
            "grid_template_areas": null,
            "grid_template_columns": null,
            "grid_template_rows": null,
            "height": null,
            "justify_content": null,
            "justify_items": null,
            "left": null,
            "margin": null,
            "max_height": null,
            "max_width": null,
            "min_height": null,
            "min_width": null,
            "object_fit": null,
            "object_position": null,
            "order": null,
            "overflow": null,
            "overflow_x": null,
            "overflow_y": null,
            "padding": null,
            "right": null,
            "top": null,
            "visibility": null,
            "width": null
          }
        },
        "3dff08cfaaac472e9d784090d0a5a73f": {
          "model_module": "@jupyter-widgets/controls",
          "model_name": "DescriptionStyleModel",
          "model_module_version": "1.5.0",
          "state": {
            "_model_module": "@jupyter-widgets/controls",
            "_model_module_version": "1.5.0",
            "_model_name": "DescriptionStyleModel",
            "_view_count": null,
            "_view_module": "@jupyter-widgets/base",
            "_view_module_version": "1.2.0",
            "_view_name": "StyleView",
            "description_width": ""
          }
        },
        "26b078c633974740b7dfee1ca00024f2": {
          "model_module": "@jupyter-widgets/controls",
          "model_name": "HBoxModel",
          "model_module_version": "1.5.0",
          "state": {
            "_dom_classes": [],
            "_model_module": "@jupyter-widgets/controls",
            "_model_module_version": "1.5.0",
            "_model_name": "HBoxModel",
            "_view_count": null,
            "_view_module": "@jupyter-widgets/controls",
            "_view_module_version": "1.5.0",
            "_view_name": "HBoxView",
            "box_style": "",
            "children": [
              "IPY_MODEL_823545b34298432d8a57d45a91316316",
              "IPY_MODEL_4c12c0b7768f493592145dc638768dcb",
              "IPY_MODEL_1f55f08f0e644ad7a05ff2329c472e35"
            ],
            "layout": "IPY_MODEL_0d96b59f365e42978e976e73bedf874f"
          }
        },
        "823545b34298432d8a57d45a91316316": {
          "model_module": "@jupyter-widgets/controls",
          "model_name": "HTMLModel",
          "model_module_version": "1.5.0",
          "state": {
            "_dom_classes": [],
            "_model_module": "@jupyter-widgets/controls",
            "_model_module_version": "1.5.0",
            "_model_name": "HTMLModel",
            "_view_count": null,
            "_view_module": "@jupyter-widgets/controls",
            "_view_module_version": "1.5.0",
            "_view_name": "HTMLView",
            "description": "",
            "description_tooltip": null,
            "layout": "IPY_MODEL_b65652d5d33b47aebb5ffcdbe9336a87",
            "placeholder": "​",
            "style": "IPY_MODEL_f30bd0f1d680456287b3a67eab120554",
            "value": "tokenizer.json: 100%"
          }
        },
        "4c12c0b7768f493592145dc638768dcb": {
          "model_module": "@jupyter-widgets/controls",
          "model_name": "FloatProgressModel",
          "model_module_version": "1.5.0",
          "state": {
            "_dom_classes": [],
            "_model_module": "@jupyter-widgets/controls",
            "_model_module_version": "1.5.0",
            "_model_name": "FloatProgressModel",
            "_view_count": null,
            "_view_module": "@jupyter-widgets/controls",
            "_view_module_version": "1.5.0",
            "_view_name": "ProgressView",
            "bar_style": "success",
            "description": "",
            "description_tooltip": null,
            "layout": "IPY_MODEL_ff1be170b1424afc887cb7a03e988ba5",
            "max": 466062,
            "min": 0,
            "orientation": "horizontal",
            "style": "IPY_MODEL_2e6ed1340ca348448b7366573a046070",
            "value": 466062
          }
        },
        "1f55f08f0e644ad7a05ff2329c472e35": {
          "model_module": "@jupyter-widgets/controls",
          "model_name": "HTMLModel",
          "model_module_version": "1.5.0",
          "state": {
            "_dom_classes": [],
            "_model_module": "@jupyter-widgets/controls",
            "_model_module_version": "1.5.0",
            "_model_name": "HTMLModel",
            "_view_count": null,
            "_view_module": "@jupyter-widgets/controls",
            "_view_module_version": "1.5.0",
            "_view_name": "HTMLView",
            "description": "",
            "description_tooltip": null,
            "layout": "IPY_MODEL_4e8ddf0ed7f845969685c3420f5a9181",
            "placeholder": "​",
            "style": "IPY_MODEL_f56d5e8d79a24827bbcc3bee3a2f7f7e",
            "value": " 466k/466k [00:00&lt;00:00, 9.99MB/s]"
          }
        },
        "0d96b59f365e42978e976e73bedf874f": {
          "model_module": "@jupyter-widgets/base",
          "model_name": "LayoutModel",
          "model_module_version": "1.2.0",
          "state": {
            "_model_module": "@jupyter-widgets/base",
            "_model_module_version": "1.2.0",
            "_model_name": "LayoutModel",
            "_view_count": null,
            "_view_module": "@jupyter-widgets/base",
            "_view_module_version": "1.2.0",
            "_view_name": "LayoutView",
            "align_content": null,
            "align_items": null,
            "align_self": null,
            "border": null,
            "bottom": null,
            "display": null,
            "flex": null,
            "flex_flow": null,
            "grid_area": null,
            "grid_auto_columns": null,
            "grid_auto_flow": null,
            "grid_auto_rows": null,
            "grid_column": null,
            "grid_gap": null,
            "grid_row": null,
            "grid_template_areas": null,
            "grid_template_columns": null,
            "grid_template_rows": null,
            "height": null,
            "justify_content": null,
            "justify_items": null,
            "left": null,
            "margin": null,
            "max_height": null,
            "max_width": null,
            "min_height": null,
            "min_width": null,
            "object_fit": null,
            "object_position": null,
            "order": null,
            "overflow": null,
            "overflow_x": null,
            "overflow_y": null,
            "padding": null,
            "right": null,
            "top": null,
            "visibility": null,
            "width": null
          }
        },
        "b65652d5d33b47aebb5ffcdbe9336a87": {
          "model_module": "@jupyter-widgets/base",
          "model_name": "LayoutModel",
          "model_module_version": "1.2.0",
          "state": {
            "_model_module": "@jupyter-widgets/base",
            "_model_module_version": "1.2.0",
            "_model_name": "LayoutModel",
            "_view_count": null,
            "_view_module": "@jupyter-widgets/base",
            "_view_module_version": "1.2.0",
            "_view_name": "LayoutView",
            "align_content": null,
            "align_items": null,
            "align_self": null,
            "border": null,
            "bottom": null,
            "display": null,
            "flex": null,
            "flex_flow": null,
            "grid_area": null,
            "grid_auto_columns": null,
            "grid_auto_flow": null,
            "grid_auto_rows": null,
            "grid_column": null,
            "grid_gap": null,
            "grid_row": null,
            "grid_template_areas": null,
            "grid_template_columns": null,
            "grid_template_rows": null,
            "height": null,
            "justify_content": null,
            "justify_items": null,
            "left": null,
            "margin": null,
            "max_height": null,
            "max_width": null,
            "min_height": null,
            "min_width": null,
            "object_fit": null,
            "object_position": null,
            "order": null,
            "overflow": null,
            "overflow_x": null,
            "overflow_y": null,
            "padding": null,
            "right": null,
            "top": null,
            "visibility": null,
            "width": null
          }
        },
        "f30bd0f1d680456287b3a67eab120554": {
          "model_module": "@jupyter-widgets/controls",
          "model_name": "DescriptionStyleModel",
          "model_module_version": "1.5.0",
          "state": {
            "_model_module": "@jupyter-widgets/controls",
            "_model_module_version": "1.5.0",
            "_model_name": "DescriptionStyleModel",
            "_view_count": null,
            "_view_module": "@jupyter-widgets/base",
            "_view_module_version": "1.2.0",
            "_view_name": "StyleView",
            "description_width": ""
          }
        },
        "ff1be170b1424afc887cb7a03e988ba5": {
          "model_module": "@jupyter-widgets/base",
          "model_name": "LayoutModel",
          "model_module_version": "1.2.0",
          "state": {
            "_model_module": "@jupyter-widgets/base",
            "_model_module_version": "1.2.0",
            "_model_name": "LayoutModel",
            "_view_count": null,
            "_view_module": "@jupyter-widgets/base",
            "_view_module_version": "1.2.0",
            "_view_name": "LayoutView",
            "align_content": null,
            "align_items": null,
            "align_self": null,
            "border": null,
            "bottom": null,
            "display": null,
            "flex": null,
            "flex_flow": null,
            "grid_area": null,
            "grid_auto_columns": null,
            "grid_auto_flow": null,
            "grid_auto_rows": null,
            "grid_column": null,
            "grid_gap": null,
            "grid_row": null,
            "grid_template_areas": null,
            "grid_template_columns": null,
            "grid_template_rows": null,
            "height": null,
            "justify_content": null,
            "justify_items": null,
            "left": null,
            "margin": null,
            "max_height": null,
            "max_width": null,
            "min_height": null,
            "min_width": null,
            "object_fit": null,
            "object_position": null,
            "order": null,
            "overflow": null,
            "overflow_x": null,
            "overflow_y": null,
            "padding": null,
            "right": null,
            "top": null,
            "visibility": null,
            "width": null
          }
        },
        "2e6ed1340ca348448b7366573a046070": {
          "model_module": "@jupyter-widgets/controls",
          "model_name": "ProgressStyleModel",
          "model_module_version": "1.5.0",
          "state": {
            "_model_module": "@jupyter-widgets/controls",
            "_model_module_version": "1.5.0",
            "_model_name": "ProgressStyleModel",
            "_view_count": null,
            "_view_module": "@jupyter-widgets/base",
            "_view_module_version": "1.2.0",
            "_view_name": "StyleView",
            "bar_color": null,
            "description_width": ""
          }
        },
        "4e8ddf0ed7f845969685c3420f5a9181": {
          "model_module": "@jupyter-widgets/base",
          "model_name": "LayoutModel",
          "model_module_version": "1.2.0",
          "state": {
            "_model_module": "@jupyter-widgets/base",
            "_model_module_version": "1.2.0",
            "_model_name": "LayoutModel",
            "_view_count": null,
            "_view_module": "@jupyter-widgets/base",
            "_view_module_version": "1.2.0",
            "_view_name": "LayoutView",
            "align_content": null,
            "align_items": null,
            "align_self": null,
            "border": null,
            "bottom": null,
            "display": null,
            "flex": null,
            "flex_flow": null,
            "grid_area": null,
            "grid_auto_columns": null,
            "grid_auto_flow": null,
            "grid_auto_rows": null,
            "grid_column": null,
            "grid_gap": null,
            "grid_row": null,
            "grid_template_areas": null,
            "grid_template_columns": null,
            "grid_template_rows": null,
            "height": null,
            "justify_content": null,
            "justify_items": null,
            "left": null,
            "margin": null,
            "max_height": null,
            "max_width": null,
            "min_height": null,
            "min_width": null,
            "object_fit": null,
            "object_position": null,
            "order": null,
            "overflow": null,
            "overflow_x": null,
            "overflow_y": null,
            "padding": null,
            "right": null,
            "top": null,
            "visibility": null,
            "width": null
          }
        },
        "f56d5e8d79a24827bbcc3bee3a2f7f7e": {
          "model_module": "@jupyter-widgets/controls",
          "model_name": "DescriptionStyleModel",
          "model_module_version": "1.5.0",
          "state": {
            "_model_module": "@jupyter-widgets/controls",
            "_model_module_version": "1.5.0",
            "_model_name": "DescriptionStyleModel",
            "_view_count": null,
            "_view_module": "@jupyter-widgets/base",
            "_view_module_version": "1.2.0",
            "_view_name": "StyleView",
            "description_width": ""
          }
        },
        "aa3abb057459410e84d8640abec0b933": {
          "model_module": "@jupyter-widgets/controls",
          "model_name": "HBoxModel",
          "model_module_version": "1.5.0",
          "state": {
            "_dom_classes": [],
            "_model_module": "@jupyter-widgets/controls",
            "_model_module_version": "1.5.0",
            "_model_name": "HBoxModel",
            "_view_count": null,
            "_view_module": "@jupyter-widgets/controls",
            "_view_module_version": "1.5.0",
            "_view_name": "HBoxView",
            "box_style": "",
            "children": [
              "IPY_MODEL_0a704a356cb1413cb94783341ee5155c",
              "IPY_MODEL_1a50e8b5bb6348c8ac11cf705938c025",
              "IPY_MODEL_5666fab3cc42448cab90e785fe8539f0"
            ],
            "layout": "IPY_MODEL_07d6d012b71a4e4c91f532ac799f7d71"
          }
        },
        "0a704a356cb1413cb94783341ee5155c": {
          "model_module": "@jupyter-widgets/controls",
          "model_name": "HTMLModel",
          "model_module_version": "1.5.0",
          "state": {
            "_dom_classes": [],
            "_model_module": "@jupyter-widgets/controls",
            "_model_module_version": "1.5.0",
            "_model_name": "HTMLModel",
            "_view_count": null,
            "_view_module": "@jupyter-widgets/controls",
            "_view_module_version": "1.5.0",
            "_view_name": "HTMLView",
            "description": "",
            "description_tooltip": null,
            "layout": "IPY_MODEL_0e291ed3d74d4d63a8b31e423db82d2c",
            "placeholder": "​",
            "style": "IPY_MODEL_df38df3408ac45e09cc197ac6e4dded3",
            "value": "model.safetensors: 100%"
          }
        },
        "1a50e8b5bb6348c8ac11cf705938c025": {
          "model_module": "@jupyter-widgets/controls",
          "model_name": "FloatProgressModel",
          "model_module_version": "1.5.0",
          "state": {
            "_dom_classes": [],
            "_model_module": "@jupyter-widgets/controls",
            "_model_module_version": "1.5.0",
            "_model_name": "FloatProgressModel",
            "_view_count": null,
            "_view_module": "@jupyter-widgets/controls",
            "_view_module_version": "1.5.0",
            "_view_name": "ProgressView",
            "bar_style": "success",
            "description": "",
            "description_tooltip": null,
            "layout": "IPY_MODEL_b171dee079de4313b9b2ca266b468c67",
            "max": 440449768,
            "min": 0,
            "orientation": "horizontal",
            "style": "IPY_MODEL_4fd238f2561046b3ae989f7e04333c49",
            "value": 440449768
          }
        },
        "5666fab3cc42448cab90e785fe8539f0": {
          "model_module": "@jupyter-widgets/controls",
          "model_name": "HTMLModel",
          "model_module_version": "1.5.0",
          "state": {
            "_dom_classes": [],
            "_model_module": "@jupyter-widgets/controls",
            "_model_module_version": "1.5.0",
            "_model_name": "HTMLModel",
            "_view_count": null,
            "_view_module": "@jupyter-widgets/controls",
            "_view_module_version": "1.5.0",
            "_view_name": "HTMLView",
            "description": "",
            "description_tooltip": null,
            "layout": "IPY_MODEL_dcbfb834a435426eb65751e3485a46dd",
            "placeholder": "​",
            "style": "IPY_MODEL_3bb771b1b7004ceea97efe3ae8b6d300",
            "value": " 440M/440M [00:02&lt;00:00, 164MB/s]"
          }
        },
        "07d6d012b71a4e4c91f532ac799f7d71": {
          "model_module": "@jupyter-widgets/base",
          "model_name": "LayoutModel",
          "model_module_version": "1.2.0",
          "state": {
            "_model_module": "@jupyter-widgets/base",
            "_model_module_version": "1.2.0",
            "_model_name": "LayoutModel",
            "_view_count": null,
            "_view_module": "@jupyter-widgets/base",
            "_view_module_version": "1.2.0",
            "_view_name": "LayoutView",
            "align_content": null,
            "align_items": null,
            "align_self": null,
            "border": null,
            "bottom": null,
            "display": null,
            "flex": null,
            "flex_flow": null,
            "grid_area": null,
            "grid_auto_columns": null,
            "grid_auto_flow": null,
            "grid_auto_rows": null,
            "grid_column": null,
            "grid_gap": null,
            "grid_row": null,
            "grid_template_areas": null,
            "grid_template_columns": null,
            "grid_template_rows": null,
            "height": null,
            "justify_content": null,
            "justify_items": null,
            "left": null,
            "margin": null,
            "max_height": null,
            "max_width": null,
            "min_height": null,
            "min_width": null,
            "object_fit": null,
            "object_position": null,
            "order": null,
            "overflow": null,
            "overflow_x": null,
            "overflow_y": null,
            "padding": null,
            "right": null,
            "top": null,
            "visibility": null,
            "width": null
          }
        },
        "0e291ed3d74d4d63a8b31e423db82d2c": {
          "model_module": "@jupyter-widgets/base",
          "model_name": "LayoutModel",
          "model_module_version": "1.2.0",
          "state": {
            "_model_module": "@jupyter-widgets/base",
            "_model_module_version": "1.2.0",
            "_model_name": "LayoutModel",
            "_view_count": null,
            "_view_module": "@jupyter-widgets/base",
            "_view_module_version": "1.2.0",
            "_view_name": "LayoutView",
            "align_content": null,
            "align_items": null,
            "align_self": null,
            "border": null,
            "bottom": null,
            "display": null,
            "flex": null,
            "flex_flow": null,
            "grid_area": null,
            "grid_auto_columns": null,
            "grid_auto_flow": null,
            "grid_auto_rows": null,
            "grid_column": null,
            "grid_gap": null,
            "grid_row": null,
            "grid_template_areas": null,
            "grid_template_columns": null,
            "grid_template_rows": null,
            "height": null,
            "justify_content": null,
            "justify_items": null,
            "left": null,
            "margin": null,
            "max_height": null,
            "max_width": null,
            "min_height": null,
            "min_width": null,
            "object_fit": null,
            "object_position": null,
            "order": null,
            "overflow": null,
            "overflow_x": null,
            "overflow_y": null,
            "padding": null,
            "right": null,
            "top": null,
            "visibility": null,
            "width": null
          }
        },
        "df38df3408ac45e09cc197ac6e4dded3": {
          "model_module": "@jupyter-widgets/controls",
          "model_name": "DescriptionStyleModel",
          "model_module_version": "1.5.0",
          "state": {
            "_model_module": "@jupyter-widgets/controls",
            "_model_module_version": "1.5.0",
            "_model_name": "DescriptionStyleModel",
            "_view_count": null,
            "_view_module": "@jupyter-widgets/base",
            "_view_module_version": "1.2.0",
            "_view_name": "StyleView",
            "description_width": ""
          }
        },
        "b171dee079de4313b9b2ca266b468c67": {
          "model_module": "@jupyter-widgets/base",
          "model_name": "LayoutModel",
          "model_module_version": "1.2.0",
          "state": {
            "_model_module": "@jupyter-widgets/base",
            "_model_module_version": "1.2.0",
            "_model_name": "LayoutModel",
            "_view_count": null,
            "_view_module": "@jupyter-widgets/base",
            "_view_module_version": "1.2.0",
            "_view_name": "LayoutView",
            "align_content": null,
            "align_items": null,
            "align_self": null,
            "border": null,
            "bottom": null,
            "display": null,
            "flex": null,
            "flex_flow": null,
            "grid_area": null,
            "grid_auto_columns": null,
            "grid_auto_flow": null,
            "grid_auto_rows": null,
            "grid_column": null,
            "grid_gap": null,
            "grid_row": null,
            "grid_template_areas": null,
            "grid_template_columns": null,
            "grid_template_rows": null,
            "height": null,
            "justify_content": null,
            "justify_items": null,
            "left": null,
            "margin": null,
            "max_height": null,
            "max_width": null,
            "min_height": null,
            "min_width": null,
            "object_fit": null,
            "object_position": null,
            "order": null,
            "overflow": null,
            "overflow_x": null,
            "overflow_y": null,
            "padding": null,
            "right": null,
            "top": null,
            "visibility": null,
            "width": null
          }
        },
        "4fd238f2561046b3ae989f7e04333c49": {
          "model_module": "@jupyter-widgets/controls",
          "model_name": "ProgressStyleModel",
          "model_module_version": "1.5.0",
          "state": {
            "_model_module": "@jupyter-widgets/controls",
            "_model_module_version": "1.5.0",
            "_model_name": "ProgressStyleModel",
            "_view_count": null,
            "_view_module": "@jupyter-widgets/base",
            "_view_module_version": "1.2.0",
            "_view_name": "StyleView",
            "bar_color": null,
            "description_width": ""
          }
        },
        "dcbfb834a435426eb65751e3485a46dd": {
          "model_module": "@jupyter-widgets/base",
          "model_name": "LayoutModel",
          "model_module_version": "1.2.0",
          "state": {
            "_model_module": "@jupyter-widgets/base",
            "_model_module_version": "1.2.0",
            "_model_name": "LayoutModel",
            "_view_count": null,
            "_view_module": "@jupyter-widgets/base",
            "_view_module_version": "1.2.0",
            "_view_name": "LayoutView",
            "align_content": null,
            "align_items": null,
            "align_self": null,
            "border": null,
            "bottom": null,
            "display": null,
            "flex": null,
            "flex_flow": null,
            "grid_area": null,
            "grid_auto_columns": null,
            "grid_auto_flow": null,
            "grid_auto_rows": null,
            "grid_column": null,
            "grid_gap": null,
            "grid_row": null,
            "grid_template_areas": null,
            "grid_template_columns": null,
            "grid_template_rows": null,
            "height": null,
            "justify_content": null,
            "justify_items": null,
            "left": null,
            "margin": null,
            "max_height": null,
            "max_width": null,
            "min_height": null,
            "min_width": null,
            "object_fit": null,
            "object_position": null,
            "order": null,
            "overflow": null,
            "overflow_x": null,
            "overflow_y": null,
            "padding": null,
            "right": null,
            "top": null,
            "visibility": null,
            "width": null
          }
        },
        "3bb771b1b7004ceea97efe3ae8b6d300": {
          "model_module": "@jupyter-widgets/controls",
          "model_name": "DescriptionStyleModel",
          "model_module_version": "1.5.0",
          "state": {
            "_model_module": "@jupyter-widgets/controls",
            "_model_module_version": "1.5.0",
            "_model_name": "DescriptionStyleModel",
            "_view_count": null,
            "_view_module": "@jupyter-widgets/base",
            "_view_module_version": "1.2.0",
            "_view_name": "StyleView",
            "description_width": ""
          }
        }
      }
    }
  },
  "nbformat": 4,
  "nbformat_minor": 5
}